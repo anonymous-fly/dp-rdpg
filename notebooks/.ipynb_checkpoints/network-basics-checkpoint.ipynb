{
 "cells": [
  {
   "cell_type": "code",
   "execution_count": 1,
   "id": "e2a89085",
   "metadata": {},
   "outputs": [
    {
     "name": "stderr",
     "output_type": "stream",
     "text": [
      "\u001b[32m\u001b[1m  Activating\u001b[22m\u001b[39m environment at `/mnt/c/Users/Jon/Desktop/research/rdpg/github/rdpg/Project.toml`\n"
     ]
    }
   ],
   "source": [
    "import Pkg; Pkg.activate(pwd() * \"/../../\"); Pkg.instantiate();"
   ]
  },
  {
   "cell_type": "code",
   "execution_count": 2,
   "id": "84feb482",
   "metadata": {},
   "outputs": [
    {
     "data": {
      "text/plain": [
       "read_network (generic function with 1 method)"
      ]
     },
     "execution_count": 2,
     "metadata": {},
     "output_type": "execute_result"
    }
   ],
   "source": [
    "include(\"../networks.jl\")"
   ]
  },
  {
   "cell_type": "markdown",
   "id": "7ee8c0f8",
   "metadata": {},
   "source": [
    "## Reading a Network from an Edge List File\n",
    "\n",
    "`code/datasets` currently contains a few example networks in edge-list format. Each line represents an edge between a given dyad. Calling `read_network(filename)` will load these files and return the symmetric, binary network that results."
   ]
  },
  {
   "cell_type": "code",
   "execution_count": 3,
   "id": "653441c3",
   "metadata": {},
   "outputs": [
    {
     "data": {
      "text/plain": [
       "18×18 SparseArrays.SparseMatrixCSC{Int64, Int64} with 120 stored entries:\n",
       "⠮⠃⣉⢛⢀⡘⠜⠛⠾\n",
       "⣧⢘⢊⡰⣋⡡⠅⠥⠠\n",
       "⣀⠰⠏⡸⡊⠈⢲⣨⠀\n",
       "⣶⠁⠅⡅⡘⣲⠠⡢⠉\n",
       "⠚⠃⠀⠂⠀⠀⠃⠀⠊"
      ]
     },
     "execution_count": 3,
     "metadata": {},
     "output_type": "execute_result"
    }
   ],
   "source": [
    "sampson = read_network(\"../datasets/sampson.txt\")"
   ]
  },
  {
   "cell_type": "code",
   "execution_count": 4,
   "id": "be143406",
   "metadata": {},
   "outputs": [
    {
     "data": {
      "text/plain": [
       "87×87 SparseArrays.SparseMatrixCSC{Int64, Int64} with 2986 stored entries:\n",
       "⢎⠑⣘⢿⠒⢘⢝⣸⢿⡻⣓⠒⠸⢚⡓⡃⣀⠛⠸⣻⣟⡫⣟⢛⠠⠘⠠⠀⠄⠄⠠⠀⡇⠌⠀⠀⠻⠀⢀⡂\n",
       "⣶⣜⢤⡳⠪⢺⣔⢗⣶⣲⣖⠿⣶⢷⡷⡶⠭⡒⣖⣶⣖⡦⣶⣾⠀⢥⠠⠀⠀⠀⠀⠠⡂⢰⠀⠄⣲⠆⠨⠇\n",
       "⣘⢀⣪⣂⢊⠐⢅⣞⣉⡉⣈⣾⣿⣊⡺⣹⣒⡯⠏⣻⣉⠈⣘⣛⠀⠸⠧⠤⠤⠤⠤⠰⠁⠎⠠⠻⠠⠧⢔⡩\n",
       "⣓⣱⢴⢝⣡⢵⢀⠐⣛⣛⣒⠤⢜⢴⡇⡦⠤⣛⣙⣞⣳⡟⣛⣳⠉⢜⠉⠈⠁⠁⠉⠁⡋⢙⠈⠈⣋⠀⠠⡎\n",
       "⣿⡳⢸⣻⡇⠸⣿⢸⣾⡻⡷⠀⢸⢲⡇⡆⠂⣿⢸⢾⣿⢞⣿⣿⠀⢸⠀⠀⠀⠀⠀⠀⡇⢸⠀⠀⣞⠀⠐⠆\n",
       "⢹⠘⣼⡝⣢⣼⠘⡜⠙⠋⠊⡠⣨⡼⣧⣧⣤⣯⡘⢟⠛⠋⢻⣹⠀⠌⡀⠀⢀⠀⠀⢀⠃⠈⠀⣀⠉⡀⢠⡆\n",
       "⣲⢂⢼⣟⡻⢻⢒⣕⢲⣒⣂⡾⢊⡰⡿⣾⣥⡗⢛⣾⣒⡃⣳⢲⠁⠜⠋⠉⠉⠉⠃⠙⡛⠙⠘⠛⡋⠋⢠⡜\n",
       "⠽⠨⢹⡯⣞⣪⠩⡭⠩⠭⠭⣿⣻⣯⣎⠙⣽⠭⡺⡽⠭⡍⠽⢽⠀⣙⠂⠂⢀⡐⠂⠒⠕⠪⠐⡒⠭⡂⢨⡕\n",
       "⣤⠘⢣⠣⡼⡼⣤⢣⣬⣤⡤⣿⢥⠿⡗⡟⠊⡠⢤⢧⡤⣥⣤⣼⠀⢣⠀⠀⠀⠀⠀⠀⡄⢠⠀⠠⠤⠄⠘⡇\n",
       "⣶⣢⢸⣽⣯⣡⣳⢼⣲⣖⣶⢌⣻⣴⣞⡮⠤⣗⣪⣺⣷⣇⣿⣶⠁⢘⡉⠉⠉⠉⠉⠉⡏⣛⠉⠋⣟⠉⠡⡎\n",
       "⡿⡹⠸⡽⡃⠘⣽⠾⣻⢟⡿⠀⠼⠸⡇⠧⠄⣯⠽⢿⡎⠉⣿⡹⠀⢈⢀⠀⠄⠀⠀⡀⡇⢬⢀⠀⢿⠀⠀⠢\n",
       "⣿⢙⣸⣿⣶⢸⢿⣸⣿⣿⣟⣲⢹⣚⣗⣇⣀⣿⢻⣿⣟⡻⣮⡻⠀⠸⠀⠀⠀⠀⠀⠀⡇⠸⠀⠀⠛⠀⢀⡆\n",
       "⣀⠂⠄⣄⣀⡀⣃⢄⣀⣀⡀⠄⣁⠄⣄⢠⠤⣀⣁⢀⡀⢀⣀⡀⡀⠈⣙⣉⣉⣋⣛⣋⣈⣁⣉⣉⣚⣉⡡⢌\n",
       "⠀⠂⠀⠂⠉⡇⡃⠀⠀⠀⠀⠈⡏⠀⠨⠀⠀⠀⡇⠈⠀⠐⠀⠀⡗⢸⣮⡻⣿⣿⣿⣿⢸⡏⣿⣿⢸⣿⡇⢸\n",
       "⠀⠅⠀⠀⠀⡇⠅⠀⠀⠀⠀⠐⡇⠀⢀⠰⠀⠀⡇⠀⠀⠁⠀⠀⡧⢸⣿⣿⣮⡻⣿⣿⢹⡟⣿⣿⢸⣿⡇⢸\n",
       "⠀⠂⠀⡀⢀⡃⠇⠀⠀⠀⠀⢀⣍⠀⢨⠀⠀⠀⡇⠀⠀⠠⠀⠀⡿⢸⣿⣿⣿⣿⣮⡿⢸⡇⣿⣿⢸⣿⡇⢸\n",
       "⡉⠍⢈⣈⡡⠄⣏⢈⣉⣉⡉⠀⣟⠈⡱⡁⠀⣉⣯⢩⡉⣍⣉⡉⠆⢸⡶⠶⣷⠶⠶⠶⡠⡪⠲⢶⣽⠶⠆⣰\n",
       "⠀⠀⠀⠄⣤⡂⡂⠀⠀⠀⠀⢠⣶⠀⢰⠠⠀⡀⡧⠀⠀⠐⠀⠀⡇⢸⣿⣿⣿⣿⣿⣿⢸⣆⣮⡻⢼⣿⡇⢸\n",
       "⠛⠂⠸⠞⠤⡆⠋⠘⠚⠙⠃⠠⡯⠈⠣⠣⠀⠇⡟⠙⠛⠓⠛⠀⡞⢸⣶⣶⣶⣶⣶⣶⢳⡟⣶⣷⢮⡳⡆⢸\n",
       "⠠⠰⠦⠆⡔⡱⡠⠦⠰⠄⠠⠶⣀⠶⢆⠶⠶⠤⡡⠦⠠⡀⠠⠴⡁⢎⣉⣉⣉⣉⣉⣉⢈⣡⣉⣉⣈⣉⡠⠊"
      ]
     },
     "execution_count": 4,
     "metadata": {},
     "output_type": "execute_result"
    }
   ],
   "source": [
    "senate = read_network(\"../datasets/senate-070.txt\")"
   ]
  },
  {
   "cell_type": "markdown",
   "id": "ca787552",
   "metadata": {},
   "source": [
    "## Adjacency Spectral Embeddings\n",
    "\n",
    "To calculate adjacency spectral embeddings, simply use this handy function that I stole from the `cse597` repo."
   ]
  },
  {
   "cell_type": "code",
   "execution_count": 5,
   "id": "be2e4e33",
   "metadata": {},
   "outputs": [],
   "source": [
    "using Plots"
   ]
  },
  {
   "cell_type": "code",
   "execution_count": 6,
   "id": "2f95db7e",
   "metadata": {},
   "outputs": [
    {
     "data": {
      "image/svg+xml": [
       "<?xml version=\"1.0\" encoding=\"utf-8\"?>\n",
       "<svg xmlns=\"http://www.w3.org/2000/svg\" xmlns:xlink=\"http://www.w3.org/1999/xlink\" width=\"600\" height=\"400\" viewBox=\"0 0 2400 1600\">\n",
       "<defs>\n",
       "  <clipPath id=\"clip310\">\n",
       "    <rect x=\"0\" y=\"0\" width=\"2400\" height=\"1600\"/>\n",
       "  </clipPath>\n",
       "</defs>\n",
       "<path clip-path=\"url(#clip310)\" d=\"\n",
       "M0 1600 L2400 1600 L2400 0 L0 0  Z\n",
       "  \" fill=\"#ffffff\" fill-rule=\"evenodd\" fill-opacity=\"1\"/>\n",
       "<defs>\n",
       "  <clipPath id=\"clip311\">\n",
       "    <rect x=\"480\" y=\"0\" width=\"1681\" height=\"1600\"/>\n",
       "  </clipPath>\n",
       "</defs>\n",
       "<path clip-path=\"url(#clip310)\" d=\"\n",
       "M193.936 1486.45 L2352.76 1486.45 L2352.76 47.2441 L193.936 47.2441  Z\n",
       "  \" fill=\"#ffffff\" fill-rule=\"evenodd\" fill-opacity=\"1\"/>\n",
       "<defs>\n",
       "  <clipPath id=\"clip312\">\n",
       "    <rect x=\"193\" y=\"47\" width=\"2160\" height=\"1440\"/>\n",
       "  </clipPath>\n",
       "</defs>\n",
       "<polyline clip-path=\"url(#clip312)\" style=\"stroke:#000000; stroke-linecap:butt; stroke-linejoin:round; stroke-width:2; stroke-opacity:0.1; fill:none\" points=\"\n",
       "  712.462,1486.45 712.462,47.2441 \n",
       "  \"/>\n",
       "<polyline clip-path=\"url(#clip312)\" style=\"stroke:#000000; stroke-linecap:butt; stroke-linejoin:round; stroke-width:2; stroke-opacity:0.1; fill:none\" points=\"\n",
       "  1255.18,1486.45 1255.18,47.2441 \n",
       "  \"/>\n",
       "<polyline clip-path=\"url(#clip312)\" style=\"stroke:#000000; stroke-linecap:butt; stroke-linejoin:round; stroke-width:2; stroke-opacity:0.1; fill:none\" points=\"\n",
       "  1797.89,1486.45 1797.89,47.2441 \n",
       "  \"/>\n",
       "<polyline clip-path=\"url(#clip312)\" style=\"stroke:#000000; stroke-linecap:butt; stroke-linejoin:round; stroke-width:2; stroke-opacity:0.1; fill:none\" points=\"\n",
       "  2340.6,1486.45 2340.6,47.2441 \n",
       "  \"/>\n",
       "<polyline clip-path=\"url(#clip310)\" style=\"stroke:#000000; stroke-linecap:butt; stroke-linejoin:round; stroke-width:4; stroke-opacity:1; fill:none\" points=\"\n",
       "  193.936,1486.45 2352.76,1486.45 \n",
       "  \"/>\n",
       "<polyline clip-path=\"url(#clip310)\" style=\"stroke:#000000; stroke-linecap:butt; stroke-linejoin:round; stroke-width:4; stroke-opacity:1; fill:none\" points=\"\n",
       "  712.462,1486.45 712.462,1467.55 \n",
       "  \"/>\n",
       "<polyline clip-path=\"url(#clip310)\" style=\"stroke:#000000; stroke-linecap:butt; stroke-linejoin:round; stroke-width:4; stroke-opacity:1; fill:none\" points=\"\n",
       "  1255.18,1486.45 1255.18,1467.55 \n",
       "  \"/>\n",
       "<polyline clip-path=\"url(#clip310)\" style=\"stroke:#000000; stroke-linecap:butt; stroke-linejoin:round; stroke-width:4; stroke-opacity:1; fill:none\" points=\"\n",
       "  1797.89,1486.45 1797.89,1467.55 \n",
       "  \"/>\n",
       "<polyline clip-path=\"url(#clip310)\" style=\"stroke:#000000; stroke-linecap:butt; stroke-linejoin:round; stroke-width:4; stroke-opacity:1; fill:none\" points=\"\n",
       "  2340.6,1486.45 2340.6,1467.55 \n",
       "  \"/>\n",
       "<path clip-path=\"url(#clip310)\" d=\"M682.219 1530.29 L711.895 1530.29 L711.895 1534.23 L682.219 1534.23 L682.219 1530.29 Z\" fill=\"#000000\" fill-rule=\"evenodd\" fill-opacity=\"1\" /><path clip-path=\"url(#clip310)\" d=\"M722.798 1543.18 L730.436 1543.18 L730.436 1516.82 L722.126 1518.49 L722.126 1514.23 L730.39 1512.56 L735.066 1512.56 L735.066 1543.18 L742.705 1543.18 L742.705 1547.12 L722.798 1547.12 L722.798 1543.18 Z\" fill=\"#000000\" fill-rule=\"evenodd\" fill-opacity=\"1\" /><path clip-path=\"url(#clip310)\" d=\"M1255.18 1515.64 Q1251.56 1515.64 1249.74 1519.2 Q1247.93 1522.75 1247.93 1529.87 Q1247.93 1536.98 1249.74 1540.55 Q1251.56 1544.09 1255.18 1544.09 Q1258.81 1544.09 1260.62 1540.55 Q1262.44 1536.98 1262.44 1529.87 Q1262.44 1522.75 1260.62 1519.2 Q1258.81 1515.64 1255.18 1515.64 M1255.18 1511.93 Q1260.99 1511.93 1264.04 1516.54 Q1267.12 1521.12 1267.12 1529.87 Q1267.12 1538.6 1264.04 1543.21 Q1260.99 1547.79 1255.18 1547.79 Q1249.37 1547.79 1246.29 1543.21 Q1243.23 1538.6 1243.23 1529.87 Q1243.23 1521.12 1246.29 1516.54 Q1249.37 1511.93 1255.18 1511.93 Z\" fill=\"#000000\" fill-rule=\"evenodd\" fill-opacity=\"1\" /><path clip-path=\"url(#clip310)\" d=\"M1788.27 1543.18 L1795.91 1543.18 L1795.91 1516.82 L1787.6 1518.49 L1787.6 1514.23 L1795.86 1512.56 L1800.54 1512.56 L1800.54 1543.18 L1808.18 1543.18 L1808.18 1547.12 L1788.27 1547.12 L1788.27 1543.18 Z\" fill=\"#000000\" fill-rule=\"evenodd\" fill-opacity=\"1\" /><path clip-path=\"url(#clip310)\" d=\"M2335.26 1543.18 L2351.57 1543.18 L2351.57 1547.12 L2329.63 1547.12 L2329.63 1543.18 Q2332.29 1540.43 2336.88 1535.8 Q2341.48 1531.15 2342.66 1529.81 Q2344.91 1527.28 2345.79 1525.55 Q2346.69 1523.79 2346.69 1522.1 Q2346.69 1519.34 2344.75 1517.61 Q2342.82 1515.87 2339.72 1515.87 Q2337.52 1515.87 2335.07 1516.63 Q2332.64 1517.4 2329.86 1518.95 L2329.86 1514.23 Q2332.69 1513.09 2335.14 1512.51 Q2337.59 1511.93 2339.63 1511.93 Q2345 1511.93 2348.2 1514.62 Q2351.39 1517.31 2351.39 1521.8 Q2351.39 1523.93 2350.58 1525.85 Q2349.79 1527.74 2347.69 1530.34 Q2347.11 1531.01 2344.01 1534.23 Q2340.9 1537.42 2335.26 1543.18 Z\" fill=\"#000000\" fill-rule=\"evenodd\" fill-opacity=\"1\" /><polyline clip-path=\"url(#clip312)\" style=\"stroke:#000000; stroke-linecap:butt; stroke-linejoin:round; stroke-width:2; stroke-opacity:0.1; fill:none\" points=\"\n",
       "  193.936,1402.55 2352.76,1402.55 \n",
       "  \"/>\n",
       "<polyline clip-path=\"url(#clip312)\" style=\"stroke:#000000; stroke-linecap:butt; stroke-linejoin:round; stroke-width:2; stroke-opacity:0.1; fill:none\" points=\"\n",
       "  193.936,1131.25 2352.76,1131.25 \n",
       "  \"/>\n",
       "<polyline clip-path=\"url(#clip312)\" style=\"stroke:#000000; stroke-linecap:butt; stroke-linejoin:round; stroke-width:2; stroke-opacity:0.1; fill:none\" points=\"\n",
       "  193.936,859.953 2352.76,859.953 \n",
       "  \"/>\n",
       "<polyline clip-path=\"url(#clip312)\" style=\"stroke:#000000; stroke-linecap:butt; stroke-linejoin:round; stroke-width:2; stroke-opacity:0.1; fill:none\" points=\"\n",
       "  193.936,588.654 2352.76,588.654 \n",
       "  \"/>\n",
       "<polyline clip-path=\"url(#clip312)\" style=\"stroke:#000000; stroke-linecap:butt; stroke-linejoin:round; stroke-width:2; stroke-opacity:0.1; fill:none\" points=\"\n",
       "  193.936,317.355 2352.76,317.355 \n",
       "  \"/>\n",
       "<polyline clip-path=\"url(#clip310)\" style=\"stroke:#000000; stroke-linecap:butt; stroke-linejoin:round; stroke-width:4; stroke-opacity:1; fill:none\" points=\"\n",
       "  193.936,1486.45 193.936,47.2441 \n",
       "  \"/>\n",
       "<polyline clip-path=\"url(#clip310)\" style=\"stroke:#000000; stroke-linecap:butt; stroke-linejoin:round; stroke-width:4; stroke-opacity:1; fill:none\" points=\"\n",
       "  193.936,1402.55 212.834,1402.55 \n",
       "  \"/>\n",
       "<polyline clip-path=\"url(#clip310)\" style=\"stroke:#000000; stroke-linecap:butt; stroke-linejoin:round; stroke-width:4; stroke-opacity:1; fill:none\" points=\"\n",
       "  193.936,1131.25 212.834,1131.25 \n",
       "  \"/>\n",
       "<polyline clip-path=\"url(#clip310)\" style=\"stroke:#000000; stroke-linecap:butt; stroke-linejoin:round; stroke-width:4; stroke-opacity:1; fill:none\" points=\"\n",
       "  193.936,859.953 212.834,859.953 \n",
       "  \"/>\n",
       "<polyline clip-path=\"url(#clip310)\" style=\"stroke:#000000; stroke-linecap:butt; stroke-linejoin:round; stroke-width:4; stroke-opacity:1; fill:none\" points=\"\n",
       "  193.936,588.654 212.834,588.654 \n",
       "  \"/>\n",
       "<polyline clip-path=\"url(#clip310)\" style=\"stroke:#000000; stroke-linecap:butt; stroke-linejoin:round; stroke-width:4; stroke-opacity:1; fill:none\" points=\"\n",
       "  193.936,317.355 212.834,317.355 \n",
       "  \"/>\n",
       "<path clip-path=\"url(#clip310)\" d=\"M50.9921 1403 L80.6679 1403 L80.6679 1406.94 L50.9921 1406.94 L50.9921 1403 Z\" fill=\"#000000\" fill-rule=\"evenodd\" fill-opacity=\"1\" /><path clip-path=\"url(#clip310)\" d=\"M91.5706 1415.9 L99.2095 1415.9 L99.2095 1389.53 L90.8993 1391.2 L90.8993 1386.94 L99.1632 1385.27 L103.839 1385.27 L103.839 1415.9 L111.478 1415.9 L111.478 1419.83 L91.5706 1419.83 L91.5706 1415.9 Z\" fill=\"#000000\" fill-rule=\"evenodd\" fill-opacity=\"1\" /><path clip-path=\"url(#clip310)\" d=\"M120.922 1413.95 L125.807 1413.95 L125.807 1419.83 L120.922 1419.83 L120.922 1413.95 Z\" fill=\"#000000\" fill-rule=\"evenodd\" fill-opacity=\"1\" /><path clip-path=\"url(#clip310)\" d=\"M145.992 1388.35 Q142.381 1388.35 140.552 1391.91 Q138.746 1395.46 138.746 1402.59 Q138.746 1409.69 140.552 1413.26 Q142.381 1416.8 145.992 1416.8 Q149.626 1416.8 151.431 1413.26 Q153.26 1409.69 153.26 1402.59 Q153.26 1395.46 151.431 1391.91 Q149.626 1388.35 145.992 1388.35 M145.992 1384.65 Q151.802 1384.65 154.857 1389.25 Q157.936 1393.84 157.936 1402.59 Q157.936 1411.31 154.857 1415.92 Q151.802 1420.5 145.992 1420.5 Q140.181 1420.5 137.103 1415.92 Q134.047 1411.31 134.047 1402.59 Q134.047 1393.84 137.103 1389.25 Q140.181 1384.65 145.992 1384.65 Z\" fill=\"#000000\" fill-rule=\"evenodd\" fill-opacity=\"1\" /><path clip-path=\"url(#clip310)\" d=\"M51.9875 1131.7 L81.6633 1131.7 L81.6633 1135.64 L51.9875 1135.64 L51.9875 1131.7 Z\" fill=\"#000000\" fill-rule=\"evenodd\" fill-opacity=\"1\" /><path clip-path=\"url(#clip310)\" d=\"M101.756 1117.05 Q98.1447 1117.05 96.316 1120.62 Q94.5104 1124.16 94.5104 1131.29 Q94.5104 1138.39 96.316 1141.96 Q98.1447 1145.5 101.756 1145.5 Q105.39 1145.5 107.196 1141.96 Q109.024 1138.39 109.024 1131.29 Q109.024 1124.16 107.196 1120.62 Q105.39 1117.05 101.756 1117.05 M101.756 1113.35 Q107.566 1113.35 110.621 1117.95 Q113.7 1122.54 113.7 1131.29 Q113.7 1140.01 110.621 1144.62 Q107.566 1149.2 101.756 1149.2 Q95.9456 1149.2 92.8669 1144.62 Q89.8114 1140.01 89.8114 1131.29 Q89.8114 1122.54 92.8669 1117.95 Q95.9456 1113.35 101.756 1113.35 Z\" fill=\"#000000\" fill-rule=\"evenodd\" fill-opacity=\"1\" /><path clip-path=\"url(#clip310)\" d=\"M121.918 1142.65 L126.802 1142.65 L126.802 1148.53 L121.918 1148.53 L121.918 1142.65 Z\" fill=\"#000000\" fill-rule=\"evenodd\" fill-opacity=\"1\" /><path clip-path=\"url(#clip310)\" d=\"M137.033 1113.97 L155.39 1113.97 L155.39 1117.91 L141.316 1117.91 L141.316 1126.38 Q142.334 1126.03 143.353 1125.87 Q144.371 1125.69 145.39 1125.69 Q151.177 1125.69 154.556 1128.86 Q157.936 1132.03 157.936 1137.44 Q157.936 1143.02 154.464 1146.12 Q150.992 1149.2 144.672 1149.2 Q142.496 1149.2 140.228 1148.83 Q137.982 1148.46 135.575 1147.72 L135.575 1143.02 Q137.658 1144.16 139.881 1144.71 Q142.103 1145.27 144.58 1145.27 Q148.584 1145.27 150.922 1143.16 Q153.26 1141.06 153.26 1137.44 Q153.26 1133.83 150.922 1131.73 Q148.584 1129.62 144.58 1129.62 Q142.705 1129.62 140.83 1130.04 Q138.978 1130.45 137.033 1131.33 L137.033 1113.97 Z\" fill=\"#000000\" fill-rule=\"evenodd\" fill-opacity=\"1\" /><path clip-path=\"url(#clip310)\" d=\"M100.76 845.752 Q97.1493 845.752 95.3206 849.317 Q93.515 852.858 93.515 859.988 Q93.515 867.094 95.3206 870.659 Q97.1493 874.201 100.76 874.201 Q104.395 874.201 106.2 870.659 Q108.029 867.094 108.029 859.988 Q108.029 852.858 106.2 849.317 Q104.395 845.752 100.76 845.752 M100.76 842.048 Q106.571 842.048 109.626 846.655 Q112.705 851.238 112.705 859.988 Q112.705 868.715 109.626 873.321 Q106.571 877.904 100.76 877.904 Q94.9502 877.904 91.8715 873.321 Q88.816 868.715 88.816 859.988 Q88.816 851.238 91.8715 846.655 Q94.9502 842.048 100.76 842.048 Z\" fill=\"#000000\" fill-rule=\"evenodd\" fill-opacity=\"1\" /><path clip-path=\"url(#clip310)\" d=\"M120.922 871.354 L125.807 871.354 L125.807 877.233 L120.922 877.233 L120.922 871.354 Z\" fill=\"#000000\" fill-rule=\"evenodd\" fill-opacity=\"1\" /><path clip-path=\"url(#clip310)\" d=\"M145.992 845.752 Q142.381 845.752 140.552 849.317 Q138.746 852.858 138.746 859.988 Q138.746 867.094 140.552 870.659 Q142.381 874.201 145.992 874.201 Q149.626 874.201 151.431 870.659 Q153.26 867.094 153.26 859.988 Q153.26 852.858 151.431 849.317 Q149.626 845.752 145.992 845.752 M145.992 842.048 Q151.802 842.048 154.857 846.655 Q157.936 851.238 157.936 859.988 Q157.936 868.715 154.857 873.321 Q151.802 877.904 145.992 877.904 Q140.181 877.904 137.103 873.321 Q134.047 868.715 134.047 859.988 Q134.047 851.238 137.103 846.655 Q140.181 842.048 145.992 842.048 Z\" fill=\"#000000\" fill-rule=\"evenodd\" fill-opacity=\"1\" /><path clip-path=\"url(#clip310)\" d=\"M101.756 574.453 Q98.1447 574.453 96.316 578.018 Q94.5104 581.559 94.5104 588.689 Q94.5104 595.795 96.316 599.36 Q98.1447 602.902 101.756 602.902 Q105.39 602.902 107.196 599.36 Q109.024 595.795 109.024 588.689 Q109.024 581.559 107.196 578.018 Q105.39 574.453 101.756 574.453 M101.756 570.749 Q107.566 570.749 110.621 575.355 Q113.7 579.939 113.7 588.689 Q113.7 597.416 110.621 602.022 Q107.566 606.605 101.756 606.605 Q95.9456 606.605 92.8669 602.022 Q89.8114 597.416 89.8114 588.689 Q89.8114 579.939 92.8669 575.355 Q95.9456 570.749 101.756 570.749 Z\" fill=\"#000000\" fill-rule=\"evenodd\" fill-opacity=\"1\" /><path clip-path=\"url(#clip310)\" d=\"M121.918 600.054 L126.802 600.054 L126.802 605.934 L121.918 605.934 L121.918 600.054 Z\" fill=\"#000000\" fill-rule=\"evenodd\" fill-opacity=\"1\" /><path clip-path=\"url(#clip310)\" d=\"M137.033 571.374 L155.39 571.374 L155.39 575.309 L141.316 575.309 L141.316 583.781 Q142.334 583.434 143.353 583.272 Q144.371 583.087 145.39 583.087 Q151.177 583.087 154.556 586.258 Q157.936 589.429 157.936 594.846 Q157.936 600.425 154.464 603.527 Q150.992 606.605 144.672 606.605 Q142.496 606.605 140.228 606.235 Q137.982 605.865 135.575 605.124 L135.575 600.425 Q137.658 601.559 139.881 602.115 Q142.103 602.67 144.58 602.67 Q148.584 602.67 150.922 600.564 Q153.26 598.457 153.26 594.846 Q153.26 591.235 150.922 589.129 Q148.584 587.022 144.58 587.022 Q142.705 587.022 140.83 587.439 Q138.978 587.855 137.033 588.735 L137.033 571.374 Z\" fill=\"#000000\" fill-rule=\"evenodd\" fill-opacity=\"1\" /><path clip-path=\"url(#clip310)\" d=\"M91.5706 330.7 L99.2095 330.7 L99.2095 304.334 L90.8993 306.001 L90.8993 301.742 L99.1632 300.075 L103.839 300.075 L103.839 330.7 L111.478 330.7 L111.478 334.635 L91.5706 334.635 L91.5706 330.7 Z\" fill=\"#000000\" fill-rule=\"evenodd\" fill-opacity=\"1\" /><path clip-path=\"url(#clip310)\" d=\"M120.922 328.755 L125.807 328.755 L125.807 334.635 L120.922 334.635 L120.922 328.755 Z\" fill=\"#000000\" fill-rule=\"evenodd\" fill-opacity=\"1\" /><path clip-path=\"url(#clip310)\" d=\"M145.992 303.154 Q142.381 303.154 140.552 306.718 Q138.746 310.26 138.746 317.39 Q138.746 324.496 140.552 328.061 Q142.381 331.602 145.992 331.602 Q149.626 331.602 151.431 328.061 Q153.26 324.496 153.26 317.39 Q153.26 310.26 151.431 306.718 Q149.626 303.154 145.992 303.154 M145.992 299.45 Q151.802 299.45 154.857 304.056 Q157.936 308.64 157.936 317.39 Q157.936 326.116 154.857 330.723 Q151.802 335.306 145.992 335.306 Q140.181 335.306 137.103 330.723 Q134.047 326.116 134.047 317.39 Q134.047 308.64 137.103 304.056 Q140.181 299.45 145.992 299.45 Z\" fill=\"#000000\" fill-rule=\"evenodd\" fill-opacity=\"1\" /><circle clip-path=\"url(#clip312)\" cx=\"739.25\" cy=\"1398.74\" r=\"14\" fill=\"#009af9\" fill-rule=\"evenodd\" fill-opacity=\"1\" stroke=\"#000000\" stroke-opacity=\"1\" stroke-width=\"3.2\"/>\n",
       "<circle clip-path=\"url(#clip312)\" cx=\"554.558\" cy=\"1427.41\" r=\"14\" fill=\"#009af9\" fill-rule=\"evenodd\" fill-opacity=\"1\" stroke=\"#000000\" stroke-opacity=\"1\" stroke-width=\"3.2\"/>\n",
       "<circle clip-path=\"url(#clip312)\" cx=\"1613.24\" cy=\"994.584\" r=\"14\" fill=\"#009af9\" fill-rule=\"evenodd\" fill-opacity=\"1\" stroke=\"#000000\" stroke-opacity=\"1\" stroke-width=\"3.2\"/>\n",
       "<circle clip-path=\"url(#clip312)\" cx=\"1232.06\" cy=\"1361.32\" r=\"14\" fill=\"#009af9\" fill-rule=\"evenodd\" fill-opacity=\"1\" stroke=\"#000000\" stroke-opacity=\"1\" stroke-width=\"3.2\"/>\n",
       "<circle clip-path=\"url(#clip312)\" cx=\"2095.96\" cy=\"1089.54\" r=\"14\" fill=\"#009af9\" fill-rule=\"evenodd\" fill-opacity=\"1\" stroke=\"#000000\" stroke-opacity=\"1\" stroke-width=\"3.2\"/>\n",
       "<circle clip-path=\"url(#clip312)\" cx=\"400.272\" cy=\"1315.29\" r=\"14\" fill=\"#009af9\" fill-rule=\"evenodd\" fill-opacity=\"1\" stroke=\"#000000\" stroke-opacity=\"1\" stroke-width=\"3.2\"/>\n",
       "<circle clip-path=\"url(#clip312)\" cx=\"1755.73\" cy=\"1088.52\" r=\"14\" fill=\"#009af9\" fill-rule=\"evenodd\" fill-opacity=\"1\" stroke=\"#000000\" stroke-opacity=\"1\" stroke-width=\"3.2\"/>\n",
       "<circle clip-path=\"url(#clip312)\" cx=\"1350.77\" cy=\"993.893\" r=\"14\" fill=\"#009af9\" fill-rule=\"evenodd\" fill-opacity=\"1\" stroke=\"#000000\" stroke-opacity=\"1\" stroke-width=\"3.2\"/>\n",
       "<circle clip-path=\"url(#clip312)\" cx=\"658.677\" cy=\"1357.11\" r=\"14\" fill=\"#009af9\" fill-rule=\"evenodd\" fill-opacity=\"1\" stroke=\"#000000\" stroke-opacity=\"1\" stroke-width=\"3.2\"/>\n",
       "<circle clip-path=\"url(#clip312)\" cx=\"847.021\" cy=\"1053.05\" r=\"14\" fill=\"#009af9\" fill-rule=\"evenodd\" fill-opacity=\"1\" stroke=\"#000000\" stroke-opacity=\"1\" stroke-width=\"3.2\"/>\n",
       "<circle clip-path=\"url(#clip312)\" cx=\"1412.33\" cy=\"851.304\" r=\"14\" fill=\"#009af9\" fill-rule=\"evenodd\" fill-opacity=\"1\" stroke=\"#000000\" stroke-opacity=\"1\" stroke-width=\"3.2\"/>\n",
       "<circle clip-path=\"url(#clip312)\" cx=\"1578.22\" cy=\"315.49\" r=\"14\" fill=\"#009af9\" fill-rule=\"evenodd\" fill-opacity=\"1\" stroke=\"#000000\" stroke-opacity=\"1\" stroke-width=\"3.2\"/>\n",
       "<circle clip-path=\"url(#clip312)\" cx=\"876.065\" cy=\"1349.62\" r=\"14\" fill=\"#009af9\" fill-rule=\"evenodd\" fill-opacity=\"1\" stroke=\"#000000\" stroke-opacity=\"1\" stroke-width=\"3.2\"/>\n",
       "<circle clip-path=\"url(#clip312)\" cx=\"887.222\" cy=\"634.247\" r=\"14\" fill=\"#009af9\" fill-rule=\"evenodd\" fill-opacity=\"1\" stroke=\"#000000\" stroke-opacity=\"1\" stroke-width=\"3.2\"/>\n",
       "<circle clip-path=\"url(#clip312)\" cx=\"753.612\" cy=\"1439.08\" r=\"14\" fill=\"#009af9\" fill-rule=\"evenodd\" fill-opacity=\"1\" stroke=\"#000000\" stroke-opacity=\"1\" stroke-width=\"3.2\"/>\n",
       "<circle clip-path=\"url(#clip312)\" cx=\"1722.49\" cy=\"1107.15\" r=\"14\" fill=\"#009af9\" fill-rule=\"evenodd\" fill-opacity=\"1\" stroke=\"#000000\" stroke-opacity=\"1\" stroke-width=\"3.2\"/>\n",
       "<circle clip-path=\"url(#clip312)\" cx=\"608.708\" cy=\"1408.07\" r=\"14\" fill=\"#009af9\" fill-rule=\"evenodd\" fill-opacity=\"1\" stroke=\"#000000\" stroke-opacity=\"1\" stroke-width=\"3.2\"/>\n",
       "<circle clip-path=\"url(#clip312)\" cx=\"929.287\" cy=\"1346.82\" r=\"14\" fill=\"#009af9\" fill-rule=\"evenodd\" fill-opacity=\"1\" stroke=\"#000000\" stroke-opacity=\"1\" stroke-width=\"3.2\"/>\n",
       "<circle clip-path=\"url(#clip312)\" cx=\"689.056\" cy=\"1409.93\" r=\"14\" fill=\"#009af9\" fill-rule=\"evenodd\" fill-opacity=\"1\" stroke=\"#000000\" stroke-opacity=\"1\" stroke-width=\"3.2\"/>\n",
       "<circle clip-path=\"url(#clip312)\" cx=\"839.025\" cy=\"1425.24\" r=\"14\" fill=\"#009af9\" fill-rule=\"evenodd\" fill-opacity=\"1\" stroke=\"#000000\" stroke-opacity=\"1\" stroke-width=\"3.2\"/>\n",
       "<circle clip-path=\"url(#clip312)\" cx=\"695.175\" cy=\"1423.31\" r=\"14\" fill=\"#009af9\" fill-rule=\"evenodd\" fill-opacity=\"1\" stroke=\"#000000\" stroke-opacity=\"1\" stroke-width=\"3.2\"/>\n",
       "<circle clip-path=\"url(#clip312)\" cx=\"831.831\" cy=\"1368.44\" r=\"14\" fill=\"#009af9\" fill-rule=\"evenodd\" fill-opacity=\"1\" stroke=\"#000000\" stroke-opacity=\"1\" stroke-width=\"3.2\"/>\n",
       "<circle clip-path=\"url(#clip312)\" cx=\"735.844\" cy=\"1437.09\" r=\"14\" fill=\"#009af9\" fill-rule=\"evenodd\" fill-opacity=\"1\" stroke=\"#000000\" stroke-opacity=\"1\" stroke-width=\"3.2\"/>\n",
       "<circle clip-path=\"url(#clip312)\" cx=\"1137.49\" cy=\"1366.28\" r=\"14\" fill=\"#009af9\" fill-rule=\"evenodd\" fill-opacity=\"1\" stroke=\"#000000\" stroke-opacity=\"1\" stroke-width=\"3.2\"/>\n",
       "<circle clip-path=\"url(#clip312)\" cx=\"1595.93\" cy=\"1126.21\" r=\"14\" fill=\"#009af9\" fill-rule=\"evenodd\" fill-opacity=\"1\" stroke=\"#000000\" stroke-opacity=\"1\" stroke-width=\"3.2\"/>\n",
       "<circle clip-path=\"url(#clip312)\" cx=\"1333.04\" cy=\"875.796\" r=\"14\" fill=\"#009af9\" fill-rule=\"evenodd\" fill-opacity=\"1\" stroke=\"#000000\" stroke-opacity=\"1\" stroke-width=\"3.2\"/>\n",
       "<circle clip-path=\"url(#clip312)\" cx=\"1090.82\" cy=\"321.072\" r=\"14\" fill=\"#009af9\" fill-rule=\"evenodd\" fill-opacity=\"1\" stroke=\"#000000\" stroke-opacity=\"1\" stroke-width=\"3.2\"/>\n",
       "<circle clip-path=\"url(#clip312)\" cx=\"255.035\" cy=\"965.23\" r=\"14\" fill=\"#009af9\" fill-rule=\"evenodd\" fill-opacity=\"1\" stroke=\"#000000\" stroke-opacity=\"1\" stroke-width=\"3.2\"/>\n",
       "<circle clip-path=\"url(#clip312)\" cx=\"1575.24\" cy=\"1184.66\" r=\"14\" fill=\"#009af9\" fill-rule=\"evenodd\" fill-opacity=\"1\" stroke=\"#000000\" stroke-opacity=\"1\" stroke-width=\"3.2\"/>\n",
       "<circle clip-path=\"url(#clip312)\" cx=\"743.496\" cy=\"1415.64\" r=\"14\" fill=\"#009af9\" fill-rule=\"evenodd\" fill-opacity=\"1\" stroke=\"#000000\" stroke-opacity=\"1\" stroke-width=\"3.2\"/>\n",
       "<circle clip-path=\"url(#clip312)\" cx=\"651.93\" cy=\"1437.58\" r=\"14\" fill=\"#009af9\" fill-rule=\"evenodd\" fill-opacity=\"1\" stroke=\"#000000\" stroke-opacity=\"1\" stroke-width=\"3.2\"/>\n",
       "<circle clip-path=\"url(#clip312)\" cx=\"1460.3\" cy=\"1172.57\" r=\"14\" fill=\"#009af9\" fill-rule=\"evenodd\" fill-opacity=\"1\" stroke=\"#000000\" stroke-opacity=\"1\" stroke-width=\"3.2\"/>\n",
       "<circle clip-path=\"url(#clip312)\" cx=\"1453.11\" cy=\"550.59\" r=\"14\" fill=\"#009af9\" fill-rule=\"evenodd\" fill-opacity=\"1\" stroke=\"#000000\" stroke-opacity=\"1\" stroke-width=\"3.2\"/>\n",
       "<circle clip-path=\"url(#clip312)\" cx=\"571.952\" cy=\"1445.72\" r=\"14\" fill=\"#009af9\" fill-rule=\"evenodd\" fill-opacity=\"1\" stroke=\"#000000\" stroke-opacity=\"1\" stroke-width=\"3.2\"/>\n",
       "<circle clip-path=\"url(#clip312)\" cx=\"1578.38\" cy=\"859.863\" r=\"14\" fill=\"#009af9\" fill-rule=\"evenodd\" fill-opacity=\"1\" stroke=\"#000000\" stroke-opacity=\"1\" stroke-width=\"3.2\"/>\n",
       "<circle clip-path=\"url(#clip312)\" cx=\"1801.08\" cy=\"1121.97\" r=\"14\" fill=\"#009af9\" fill-rule=\"evenodd\" fill-opacity=\"1\" stroke=\"#000000\" stroke-opacity=\"1\" stroke-width=\"3.2\"/>\n",
       "<circle clip-path=\"url(#clip312)\" cx=\"1900.58\" cy=\"1109.48\" r=\"14\" fill=\"#009af9\" fill-rule=\"evenodd\" fill-opacity=\"1\" stroke=\"#000000\" stroke-opacity=\"1\" stroke-width=\"3.2\"/>\n",
       "<circle clip-path=\"url(#clip312)\" cx=\"448.289\" cy=\"1264\" r=\"14\" fill=\"#009af9\" fill-rule=\"evenodd\" fill-opacity=\"1\" stroke=\"#000000\" stroke-opacity=\"1\" stroke-width=\"3.2\"/>\n",
       "<circle clip-path=\"url(#clip312)\" cx=\"971.813\" cy=\"1293.98\" r=\"14\" fill=\"#009af9\" fill-rule=\"evenodd\" fill-opacity=\"1\" stroke=\"#000000\" stroke-opacity=\"1\" stroke-width=\"3.2\"/>\n",
       "<circle clip-path=\"url(#clip312)\" cx=\"908.865\" cy=\"213.383\" r=\"14\" fill=\"#009af9\" fill-rule=\"evenodd\" fill-opacity=\"1\" stroke=\"#000000\" stroke-opacity=\"1\" stroke-width=\"3.2\"/>\n",
       "<circle clip-path=\"url(#clip312)\" cx=\"532.521\" cy=\"1242.63\" r=\"14\" fill=\"#009af9\" fill-rule=\"evenodd\" fill-opacity=\"1\" stroke=\"#000000\" stroke-opacity=\"1\" stroke-width=\"3.2\"/>\n",
       "<circle clip-path=\"url(#clip312)\" cx=\"713.463\" cy=\"1409.39\" r=\"14\" fill=\"#009af9\" fill-rule=\"evenodd\" fill-opacity=\"1\" stroke=\"#000000\" stroke-opacity=\"1\" stroke-width=\"3.2\"/>\n",
       "<circle clip-path=\"url(#clip312)\" cx=\"374.706\" cy=\"1279.25\" r=\"14\" fill=\"#009af9\" fill-rule=\"evenodd\" fill-opacity=\"1\" stroke=\"#000000\" stroke-opacity=\"1\" stroke-width=\"3.2\"/>\n",
       "<circle clip-path=\"url(#clip312)\" cx=\"518.861\" cy=\"1386.77\" r=\"14\" fill=\"#009af9\" fill-rule=\"evenodd\" fill-opacity=\"1\" stroke=\"#000000\" stroke-opacity=\"1\" stroke-width=\"3.2\"/>\n",
       "<circle clip-path=\"url(#clip312)\" cx=\"584.952\" cy=\"1395.47\" r=\"14\" fill=\"#009af9\" fill-rule=\"evenodd\" fill-opacity=\"1\" stroke=\"#000000\" stroke-opacity=\"1\" stroke-width=\"3.2\"/>\n",
       "<circle clip-path=\"url(#clip312)\" cx=\"867.623\" cy=\"1413.57\" r=\"14\" fill=\"#009af9\" fill-rule=\"evenodd\" fill-opacity=\"1\" stroke=\"#000000\" stroke-opacity=\"1\" stroke-width=\"3.2\"/>\n",
       "<circle clip-path=\"url(#clip312)\" cx=\"727.05\" cy=\"1206.08\" r=\"14\" fill=\"#009af9\" fill-rule=\"evenodd\" fill-opacity=\"1\" stroke=\"#000000\" stroke-opacity=\"1\" stroke-width=\"3.2\"/>\n",
       "<circle clip-path=\"url(#clip312)\" cx=\"1466.28\" cy=\"1117.03\" r=\"14\" fill=\"#009af9\" fill-rule=\"evenodd\" fill-opacity=\"1\" stroke=\"#000000\" stroke-opacity=\"1\" stroke-width=\"3.2\"/>\n",
       "<circle clip-path=\"url(#clip312)\" cx=\"591.295\" cy=\"1369.92\" r=\"14\" fill=\"#009af9\" fill-rule=\"evenodd\" fill-opacity=\"1\" stroke=\"#000000\" stroke-opacity=\"1\" stroke-width=\"3.2\"/>\n",
       "<circle clip-path=\"url(#clip312)\" cx=\"398.245\" cy=\"1390.84\" r=\"14\" fill=\"#009af9\" fill-rule=\"evenodd\" fill-opacity=\"1\" stroke=\"#000000\" stroke-opacity=\"1\" stroke-width=\"3.2\"/>\n",
       "<circle clip-path=\"url(#clip312)\" cx=\"779.158\" cy=\"1359.95\" r=\"14\" fill=\"#009af9\" fill-rule=\"evenodd\" fill-opacity=\"1\" stroke=\"#000000\" stroke-opacity=\"1\" stroke-width=\"3.2\"/>\n",
       "<circle clip-path=\"url(#clip312)\" cx=\"562.62\" cy=\"1418.58\" r=\"14\" fill=\"#009af9\" fill-rule=\"evenodd\" fill-opacity=\"1\" stroke=\"#000000\" stroke-opacity=\"1\" stroke-width=\"3.2\"/>\n",
       "<circle clip-path=\"url(#clip312)\" cx=\"1882.94\" cy=\"138.317\" r=\"14\" fill=\"#009af9\" fill-rule=\"evenodd\" fill-opacity=\"1\" stroke=\"#000000\" stroke-opacity=\"1\" stroke-width=\"3.2\"/>\n",
       "<circle clip-path=\"url(#clip312)\" cx=\"2291.66\" cy=\"814.287\" r=\"14\" fill=\"#009af9\" fill-rule=\"evenodd\" fill-opacity=\"1\" stroke=\"#000000\" stroke-opacity=\"1\" stroke-width=\"3.2\"/>\n",
       "<circle clip-path=\"url(#clip312)\" cx=\"2257.74\" cy=\"1057.82\" r=\"14\" fill=\"#009af9\" fill-rule=\"evenodd\" fill-opacity=\"1\" stroke=\"#000000\" stroke-opacity=\"1\" stroke-width=\"3.2\"/>\n",
       "<circle clip-path=\"url(#clip312)\" cx=\"1117.11\" cy=\"1259.06\" r=\"14\" fill=\"#009af9\" fill-rule=\"evenodd\" fill-opacity=\"1\" stroke=\"#000000\" stroke-opacity=\"1\" stroke-width=\"3.2\"/>\n",
       "<circle clip-path=\"url(#clip312)\" cx=\"1637.39\" cy=\"90.3311\" r=\"14\" fill=\"#009af9\" fill-rule=\"evenodd\" fill-opacity=\"1\" stroke=\"#000000\" stroke-opacity=\"1\" stroke-width=\"3.2\"/>\n",
       "<circle clip-path=\"url(#clip312)\" cx=\"1533.9\" cy=\"102.459\" r=\"14\" fill=\"#009af9\" fill-rule=\"evenodd\" fill-opacity=\"1\" stroke=\"#000000\" stroke-opacity=\"1\" stroke-width=\"3.2\"/>\n",
       "<circle clip-path=\"url(#clip312)\" cx=\"1782.38\" cy=\"111.094\" r=\"14\" fill=\"#009af9\" fill-rule=\"evenodd\" fill-opacity=\"1\" stroke=\"#000000\" stroke-opacity=\"1\" stroke-width=\"3.2\"/>\n",
       "<circle clip-path=\"url(#clip312)\" cx=\"1873.31\" cy=\"110.739\" r=\"14\" fill=\"#009af9\" fill-rule=\"evenodd\" fill-opacity=\"1\" stroke=\"#000000\" stroke-opacity=\"1\" stroke-width=\"3.2\"/>\n",
       "<circle clip-path=\"url(#clip312)\" cx=\"1858.59\" cy=\"113.659\" r=\"14\" fill=\"#009af9\" fill-rule=\"evenodd\" fill-opacity=\"1\" stroke=\"#000000\" stroke-opacity=\"1\" stroke-width=\"3.2\"/>\n",
       "<circle clip-path=\"url(#clip312)\" cx=\"1693.61\" cy=\"131.619\" r=\"14\" fill=\"#009af9\" fill-rule=\"evenodd\" fill-opacity=\"1\" stroke=\"#000000\" stroke-opacity=\"1\" stroke-width=\"3.2\"/>\n",
       "<circle clip-path=\"url(#clip312)\" cx=\"1800.88\" cy=\"118.305\" r=\"14\" fill=\"#009af9\" fill-rule=\"evenodd\" fill-opacity=\"1\" stroke=\"#000000\" stroke-opacity=\"1\" stroke-width=\"3.2\"/>\n",
       "<circle clip-path=\"url(#clip312)\" cx=\"1805.03\" cy=\"99.7952\" r=\"14\" fill=\"#009af9\" fill-rule=\"evenodd\" fill-opacity=\"1\" stroke=\"#000000\" stroke-opacity=\"1\" stroke-width=\"3.2\"/>\n",
       "<circle clip-path=\"url(#clip312)\" cx=\"1873.31\" cy=\"110.739\" r=\"14\" fill=\"#009af9\" fill-rule=\"evenodd\" fill-opacity=\"1\" stroke=\"#000000\" stroke-opacity=\"1\" stroke-width=\"3.2\"/>\n",
       "<circle clip-path=\"url(#clip312)\" cx=\"1766.43\" cy=\"87.9763\" r=\"14\" fill=\"#009af9\" fill-rule=\"evenodd\" fill-opacity=\"1\" stroke=\"#000000\" stroke-opacity=\"1\" stroke-width=\"3.2\"/>\n",
       "<circle clip-path=\"url(#clip312)\" cx=\"1866.4\" cy=\"129.917\" r=\"14\" fill=\"#009af9\" fill-rule=\"evenodd\" fill-opacity=\"1\" stroke=\"#000000\" stroke-opacity=\"1\" stroke-width=\"3.2\"/>\n",
       "<circle clip-path=\"url(#clip312)\" cx=\"1855.68\" cy=\"141.634\" r=\"14\" fill=\"#009af9\" fill-rule=\"evenodd\" fill-opacity=\"1\" stroke=\"#000000\" stroke-opacity=\"1\" stroke-width=\"3.2\"/>\n",
       "<circle clip-path=\"url(#clip312)\" cx=\"1886.58\" cy=\"139.079\" r=\"14\" fill=\"#009af9\" fill-rule=\"evenodd\" fill-opacity=\"1\" stroke=\"#000000\" stroke-opacity=\"1\" stroke-width=\"3.2\"/>\n",
       "<circle clip-path=\"url(#clip312)\" cx=\"1724.89\" cy=\"96.7187\" r=\"14\" fill=\"#009af9\" fill-rule=\"evenodd\" fill-opacity=\"1\" stroke=\"#000000\" stroke-opacity=\"1\" stroke-width=\"3.2\"/>\n",
       "<circle clip-path=\"url(#clip312)\" cx=\"588.923\" cy=\"1326.17\" r=\"14\" fill=\"#009af9\" fill-rule=\"evenodd\" fill-opacity=\"1\" stroke=\"#000000\" stroke-opacity=\"1\" stroke-width=\"3.2\"/>\n",
       "<circle clip-path=\"url(#clip312)\" cx=\"1796.56\" cy=\"119.883\" r=\"14\" fill=\"#009af9\" fill-rule=\"evenodd\" fill-opacity=\"1\" stroke=\"#000000\" stroke-opacity=\"1\" stroke-width=\"3.2\"/>\n",
       "<circle clip-path=\"url(#clip312)\" cx=\"1479.11\" cy=\"162.904\" r=\"14\" fill=\"#009af9\" fill-rule=\"evenodd\" fill-opacity=\"1\" stroke=\"#000000\" stroke-opacity=\"1\" stroke-width=\"3.2\"/>\n",
       "<circle clip-path=\"url(#clip312)\" cx=\"785.609\" cy=\"1075.66\" r=\"14\" fill=\"#009af9\" fill-rule=\"evenodd\" fill-opacity=\"1\" stroke=\"#000000\" stroke-opacity=\"1\" stroke-width=\"3.2\"/>\n",
       "<circle clip-path=\"url(#clip312)\" cx=\"1989.21\" cy=\"206.297\" r=\"14\" fill=\"#009af9\" fill-rule=\"evenodd\" fill-opacity=\"1\" stroke=\"#000000\" stroke-opacity=\"1\" stroke-width=\"3.2\"/>\n",
       "<circle clip-path=\"url(#clip312)\" cx=\"1744.96\" cy=\"98.5428\" r=\"14\" fill=\"#009af9\" fill-rule=\"evenodd\" fill-opacity=\"1\" stroke=\"#000000\" stroke-opacity=\"1\" stroke-width=\"3.2\"/>\n",
       "<circle clip-path=\"url(#clip312)\" cx=\"1586.49\" cy=\"129.035\" r=\"14\" fill=\"#009af9\" fill-rule=\"evenodd\" fill-opacity=\"1\" stroke=\"#000000\" stroke-opacity=\"1\" stroke-width=\"3.2\"/>\n",
       "<circle clip-path=\"url(#clip312)\" cx=\"1570.74\" cy=\"95.5717\" r=\"14\" fill=\"#009af9\" fill-rule=\"evenodd\" fill-opacity=\"1\" stroke=\"#000000\" stroke-opacity=\"1\" stroke-width=\"3.2\"/>\n",
       "<circle clip-path=\"url(#clip312)\" cx=\"842.817\" cy=\"1151.79\" r=\"14\" fill=\"#009af9\" fill-rule=\"evenodd\" fill-opacity=\"1\" stroke=\"#000000\" stroke-opacity=\"1\" stroke-width=\"3.2\"/>\n",
       "<circle clip-path=\"url(#clip312)\" cx=\"1852.8\" cy=\"106.41\" r=\"14\" fill=\"#009af9\" fill-rule=\"evenodd\" fill-opacity=\"1\" stroke=\"#000000\" stroke-opacity=\"1\" stroke-width=\"3.2\"/>\n",
       "<circle clip-path=\"url(#clip312)\" cx=\"1171.33\" cy=\"1204.07\" r=\"14\" fill=\"#009af9\" fill-rule=\"evenodd\" fill-opacity=\"1\" stroke=\"#000000\" stroke-opacity=\"1\" stroke-width=\"3.2\"/>\n",
       "<circle clip-path=\"url(#clip312)\" cx=\"1504.96\" cy=\"115.36\" r=\"14\" fill=\"#009af9\" fill-rule=\"evenodd\" fill-opacity=\"1\" stroke=\"#000000\" stroke-opacity=\"1\" stroke-width=\"3.2\"/>\n",
       "<circle clip-path=\"url(#clip312)\" cx=\"1900.91\" cy=\"127.191\" r=\"14\" fill=\"#009af9\" fill-rule=\"evenodd\" fill-opacity=\"1\" stroke=\"#000000\" stroke-opacity=\"1\" stroke-width=\"3.2\"/>\n",
       "<circle clip-path=\"url(#clip312)\" cx=\"1937.94\" cy=\"151.655\" r=\"14\" fill=\"#009af9\" fill-rule=\"evenodd\" fill-opacity=\"1\" stroke=\"#000000\" stroke-opacity=\"1\" stroke-width=\"3.2\"/>\n",
       "<circle clip-path=\"url(#clip312)\" cx=\"1884.6\" cy=\"1140.01\" r=\"14\" fill=\"#009af9\" fill-rule=\"evenodd\" fill-opacity=\"1\" stroke=\"#000000\" stroke-opacity=\"1\" stroke-width=\"3.2\"/>\n",
       "<circle clip-path=\"url(#clip312)\" cx=\"1096\" cy=\"1327.57\" r=\"14\" fill=\"#009af9\" fill-rule=\"evenodd\" fill-opacity=\"1\" stroke=\"#000000\" stroke-opacity=\"1\" stroke-width=\"3.2\"/>\n",
       "<circle clip-path=\"url(#clip312)\" cx=\"1558.97\" cy=\"115.495\" r=\"14\" fill=\"#009af9\" fill-rule=\"evenodd\" fill-opacity=\"1\" stroke=\"#000000\" stroke-opacity=\"1\" stroke-width=\"3.2\"/>\n",
       "<path clip-path=\"url(#clip310)\" d=\"\n",
       "M1988.5 198.898 L2280.8 198.898 L2280.8 95.2176 L1988.5 95.2176  Z\n",
       "  \" fill=\"#ffffff\" fill-rule=\"evenodd\" fill-opacity=\"1\"/>\n",
       "<polyline clip-path=\"url(#clip310)\" style=\"stroke:#000000; stroke-linecap:butt; stroke-linejoin:round; stroke-width:4; stroke-opacity:1; fill:none\" points=\"\n",
       "  1988.5,198.898 2280.8,198.898 2280.8,95.2176 1988.5,95.2176 1988.5,198.898 \n",
       "  \"/>\n",
       "<circle clip-path=\"url(#clip310)\" cx=\"2084.44\" cy=\"147.058\" r=\"23\" fill=\"#009af9\" fill-rule=\"evenodd\" fill-opacity=\"1\" stroke=\"#000000\" stroke-opacity=\"1\" stroke-width=\"5.12\"/>\n",
       "<path clip-path=\"url(#clip310)\" d=\"M2194.23 166.745 Q2192.43 171.375 2190.72 172.787 Q2189 174.199 2186.13 174.199 L2182.73 174.199 L2182.73 170.634 L2185.23 170.634 Q2186.99 170.634 2187.96 169.8 Q2188.93 168.967 2190.11 165.865 L2190.88 163.921 L2180.39 138.412 L2184.91 138.412 L2193.01 158.689 L2201.11 138.412 L2205.62 138.412 L2194.23 166.745 Z\" fill=\"#000000\" fill-rule=\"evenodd\" fill-opacity=\"1\" /><path clip-path=\"url(#clip310)\" d=\"M2212.91 160.402 L2220.55 160.402 L2220.55 134.037 L2212.24 135.703 L2212.24 131.444 L2220.51 129.778 L2225.18 129.778 L2225.18 160.402 L2232.82 160.402 L2232.82 164.338 L2212.91 164.338 L2212.91 160.402 Z\" fill=\"#000000\" fill-rule=\"evenodd\" fill-opacity=\"1\" /></svg>\n"
      ]
     },
     "execution_count": 6,
     "metadata": {},
     "output_type": "execute_result"
    }
   ],
   "source": [
    "X, L, v = spectral_embeddings(senate, d = 2)\n",
    "plot(X[:, 1], X[:, 2], seriestype = :scatter)"
   ]
  }
 ],
 "metadata": {
  "kernelspec": {
   "display_name": "julia-1.6 1.6.2",
   "language": "julia",
   "name": "julia-1.6-1.6"
  },
  "language_info": {
   "file_extension": ".jl",
   "mimetype": "application/julia",
   "name": "julia",
   "version": "1.6.2"
  }
 },
 "nbformat": 4,
 "nbformat_minor": 5
}
