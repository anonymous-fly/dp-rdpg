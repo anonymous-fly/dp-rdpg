{
 "cells": [
  {
   "cell_type": "code",
   "execution_count": 1,
   "id": "e2a89085",
   "metadata": {},
   "outputs": [
    {
     "name": "stderr",
     "output_type": "stream",
     "text": [
      "\u001b[32m\u001b[1m  Activating\u001b[22m\u001b[39m environment at `/mnt/c/Users/Jon/Desktop/research/rdpg/github/rdpg/Project.toml`\n"
     ]
    }
   ],
   "source": [
    "import Pkg; Pkg.activate(pwd() * \"/../../\"); Pkg.instantiate();"
   ]
  },
  {
   "cell_type": "code",
   "execution_count": 2,
   "id": "84feb482",
   "metadata": {},
   "outputs": [
    {
     "data": {
      "text/plain": [
       "read_network (generic function with 1 method)"
      ]
     },
     "execution_count": 2,
     "metadata": {},
     "output_type": "execute_result"
    }
   ],
   "source": [
    "include(\"../networks.jl\")"
   ]
  },
  {
   "cell_type": "code",
   "execution_count": 66,
   "id": "a4f12497",
   "metadata": {},
   "outputs": [],
   "source": [
    "using Ripserer, PersistenceDiagrams"
   ]
  },
  {
   "cell_type": "code",
   "execution_count": 5,
   "id": "6771f3b4",
   "metadata": {},
   "outputs": [
    {
     "data": {
      "text/plain": [
       "generate_sbm (generic function with 1 method)"
      ]
     },
     "execution_count": 5,
     "metadata": {},
     "output_type": "execute_result"
    }
   ],
   "source": [
    "function generate_sbm(n, k, p, r)\n",
    "    f = (x, y) -> r + p * (x == y)\n",
    "    Z = rand(1:k, n)\n",
    "    return generate_rdpg(f, Z)\n",
    "end"
   ]
  },
  {
   "cell_type": "code",
   "execution_count": 178,
   "id": "454e7f2f",
   "metadata": {},
   "outputs": [
    {
     "data": {
      "text/plain": [
       "bottleneck_distances (generic function with 1 method)"
      ]
     },
     "execution_count": 178,
     "metadata": {},
     "output_type": "execute_result"
    }
   ],
   "source": [
    "function diagram(X, dim_max; alpha=true)\n",
    "    points = tuple.(eachcol(X)...)\n",
    "    dgm = ripserer(Alpha(points), dim_max=dim_max)\n",
    "    return dgm\n",
    "end\n",
    "\n",
    "function bottleneck_distances(X, Y, dim_max)\n",
    "    DX = diagram(X, dim_max)\n",
    "    DY = diagram(Y, dim_max)\n",
    "    return [Bottleneck()(DX[d], DY[d]) for d in 1:dim_max]\n",
    "end"
   ]
  },
  {
   "cell_type": "code",
   "execution_count": 243,
   "id": "78a85866",
   "metadata": {},
   "outputs": [
    {
     "data": {
      "text/plain": [
       "simulate_one (generic function with 1 method)"
      ]
     },
     "execution_count": 243,
     "metadata": {},
     "output_type": "execute_result"
    }
   ],
   "source": [
    "function scale_embeddings(X)\n",
    "    c = cov(X)\n",
    "    U = eigvecs(c)\n",
    "    s = U * Diagonal(eigvals(c) .^ -0.5) * transpose(U)\n",
    "    return X * s\n",
    "end\n",
    "\n",
    "function simulate_one(A, d, epsilon, method)\n",
    "    # Note: we add one to d, so don't add one yourself!\n",
    "    X, _, _ = spectral_embeddings(A, d = d+1, scale = false)\n",
    "    \n",
    "    A_private = edge_flip(A, ϵ = epsilon)\n",
    "    \n",
    "    if method == :eps\n",
    "        A_private = A_private .- privacy(ϵ = epsilon)\n",
    "    end\n",
    "    \n",
    "    X_private, _, _ = spectral_embeddings(A_private, d = d+1, scale = false)\n",
    "    \n",
    "    if method == :eps\n",
    "        X_private = X_private ./ (1 - 2 * privacy(ϵ = epsilon))\n",
    "    elseif method == :noeps\n",
    "        X = scale_embeddings(X)\n",
    "        X_private = scale_embeddings(X_private)\n",
    "    end\n",
    "    \n",
    "    # return maximum(bottleneck_distances(X, X_private, d+1))\n",
    "    # why not record all dimensions and combine later?\n",
    "    return bottleneck_distances(X, X_private, d+1)\n",
    "end"
   ]
  },
  {
   "cell_type": "code",
   "execution_count": 245,
   "id": "0ec81a03",
   "metadata": {},
   "outputs": [
    {
     "data": {
      "text/plain": [
       "2"
      ]
     },
     "execution_count": 245,
     "metadata": {},
     "output_type": "execute_result"
    }
   ],
   "source": [
    "p, r = 0.36, 0.04\n",
    "k = 2"
   ]
  },
  {
   "cell_type": "code",
   "execution_count": 247,
   "id": "77db0518",
   "metadata": {},
   "outputs": [
    {
     "name": "stdout",
     "output_type": "stream",
     "text": [
      "50\t1\teps\t0.6590490408308326\t0.2584351590885232\t0.07340213415590013\n",
      "50\t1\tnoeps\t0.29084677374083645\t0.2582958233074648\t0.036752082605393976\n",
      "50\t1\teps\t0.45026170061780857\t0.23413289842843854\t0.050728798968388\n",
      "50\t1\tnoeps\t0.24271125808185068\t0.43193080229468417\t0.12810207364590198\n",
      "50\t2\teps\t0.11790945727467939\t0.1619937173746301\t0.011676457017102293\n",
      "50\t2\tnoeps\t0.17480422585694533\t0.12766179436895797\t0.1192545857490841\n",
      "50\t2\teps\t0.24557648068833499\t0.0769022399768734\t0.013164388508372205\n",
      "50\t2\tnoeps\t0.23021178236672823\t0.2096630843643239\t0.0544892658764895\n",
      "50\t4\teps\t0.15312389553463923\t0.0684014166710118\t0.008561306440835525\n",
      "50\t4\tnoeps\t0.519451699025298\t0.27639051413129545\t0.08381093878849377\n",
      "50\t4\teps\t0.13152394630936576\t0.045661407481991656\t0.014919244173247914\n",
      "50\t4\tnoeps\t0.3844034143889976\t0.20158090421465957\t0.09208552802944414\n",
      "100\t1\teps\t0.5080611108278469\t0.22587199545682102\t0.07308309832815418\n",
      "100\t1\tnoeps\t0.42392195585360737\t0.24332299469214858\t0.12558516132048503\n",
      "100\t1\teps\t0.37029322852392016\t0.217130867996158\t0.046761313182409836\n",
      "100\t1\tnoeps\t0.18497596528722746\t0.22445848790217782\t0.05285155406938147\n",
      "100\t2\teps\t0.209248231500199\t0.04417569308222827\t0.019843950437591407\n",
      "100\t2\tnoeps\t0.15413368011368128\t0.28015798594980046\t0.10292763338379007\n",
      "100\t2\teps\t0.14689654740015054\t0.12473308027859709\t0.026573667625222508\n",
      "100\t2\tnoeps\t0.6160925150587127\t0.134255521970702\t0.0992726290361543\n",
      "100\t4\teps\t0.039636230415857926\t0.0320914615026735\t0.003952796173066403\n",
      "100\t4\tnoeps\t0.11646572883878792\t0.18641794746302787\t0.12461771810823596\n",
      "100\t4\teps\t0.04864542497629504\t0.020791442414365036\t0.0060411026240285715\n",
      "100\t4\tnoeps\t0.5162964794107842\t0.20434790216584897\t0.050578461810155684\n",
      "400\t1\teps\t0.27475293757707564\t0.14357704856462494\t0.03131019199206758\n",
      "400\t1\tnoeps\t0.290616700397357\t0.1851046033351449\t0.14090497061420115\n",
      "400\t1\teps\t0.35704801169729417\t0.11205012421634164\t0.03754449690292566\n",
      "400\t1\tnoeps\t0.3878163048779959\t0.21069857495744138\t0.12086287780324145\n",
      "400\t2\teps\t0.11389745593414558\t0.026703017411675134\t0.015507003408552406\n",
      "400\t2\tnoeps\t0.22833465282388632\t0.2068147115898069\t0.11596320462188436\n",
      "400\t2\teps\t0.07795093512035883\t0.03286593813169353\t0.008182287373202007\n",
      "400\t2\tnoeps\t0.17480509751291318\t0.18302638506762436\t0.05065871231541497\n",
      "400\t4\teps\t0.05087315480755503\t0.032887897585449966\t0.0036812511641063222\n",
      "400\t4\tnoeps\t0.5802052940048363\t0.12397529472016222\t0.08754833065837309\n",
      "400\t4\teps\t0.0393586726159654\t0.031575088056868705\t0.005470995795545677\n",
      "400\t4\tnoeps\t0.2816648483575882\t0.1576352021250086\t0.04453380238650406\n"
     ]
    }
   ],
   "source": [
    "repeats = 2\n",
    "for n in [50, 100, 400]\n",
    "    for ϵ in [1, 2, 4]\n",
    "        for _ in 1:repeats\n",
    "            A = generate_sbm(n, k, p, r)\n",
    "            for method in [:eps, :noeps]\n",
    "                results = simulate_one(A, k, ϵ, method)\n",
    "                fields = [n, ϵ, method]\n",
    "                append!(fields, results)\n",
    "                println(join(fields, \"\\t\"))\n",
    "            end\n",
    "        end\n",
    "    end\n",
    "end"
   ]
  },
  {
   "cell_type": "code",
   "execution_count": null,
   "id": "b65bfa19",
   "metadata": {},
   "outputs": [],
   "source": []
  }
 ],
 "metadata": {
  "kernelspec": {
   "display_name": "julia-1.6 1.6.2",
   "language": "julia",
   "name": "julia-1.6-1.6"
  },
  "language_info": {
   "file_extension": ".jl",
   "mimetype": "application/julia",
   "name": "julia",
   "version": "1.6.2"
  }
 },
 "nbformat": 4,
 "nbformat_minor": 5
}
