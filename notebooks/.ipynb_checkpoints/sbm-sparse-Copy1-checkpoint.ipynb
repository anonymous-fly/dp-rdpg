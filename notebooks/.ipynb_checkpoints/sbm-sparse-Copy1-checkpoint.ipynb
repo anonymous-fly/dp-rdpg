{
 "cells": [
  {
   "cell_type": "code",
   "execution_count": 1,
   "id": "bddc2c60",
   "metadata": {},
   "outputs": [],
   "source": [
    "using DrWatson"
   ]
  },
  {
   "cell_type": "code",
   "execution_count": 2,
   "id": "4c18167a",
   "metadata": {},
   "outputs": [],
   "source": [
    "include(srcdir(\"rdpg.jl\"))\n",
    "using Main.rdpg\n",
    "using LinearAlgebra, Plots, ProgressMeter, Random, Pipe\n",
    "using PersistenceDiagrams, Ripserer, Statistics, StatsBase"
   ]
  },
  {
   "cell_type": "code",
   "execution_count": 3,
   "id": "37306263",
   "metadata": {},
   "outputs": [
    {
     "data": {
      "text/plain": [
       "one_sim (generic function with 3 methods)"
      ]
     },
     "execution_count": 3,
     "metadata": {},
     "output_type": "execute_result"
    }
   ],
   "source": [
    "function generate_sbm_sparse(n, k, p, r)\n",
    "    # f = (x, y) -> (r + p * (x == y)) * (log(n) / n^(0.1))\n",
    "    f = (x, y) -> (r + p * (x == y)) * (log(n) / n^(1/3))\n",
    "    Z = rand(1:k, n)\n",
    "    return rdpg.Adjacency(f, Z)\n",
    "end\n",
    "\n",
    "function generate_data(n, ϵ, params, method=:dense)\n",
    "    if method == :dense\n",
    "        A = generate_sbm_dense(n, params.clust, params.p, params.r)\n",
    "    else\n",
    "        A = generate_sbm_sparse(n, params.clust, params.p, params.r)\n",
    "    end\n",
    "\n",
    "    X, _, _ = rdpg.spectralEmbed(A, d=params.d, restarts=1000)\n",
    "    X = X .+ randn(size(X)...) .* 1e-20\n",
    "\n",
    "    B = (rdpg.edgeFlip(A, ϵ=ϵ) .- rdpg.τ(ϵ)^2) ./ rdpg.σ(ϵ)^2\n",
    "    Y, _ = rdpg.spectralEmbed(B, d=params.d, restarts=1000)\n",
    "    Y = Y .+ randn(size(Y)...) .* 1e-20\n",
    "\n",
    "    return norm(norm.(eachrow(X .- Y)), params.q)\n",
    "end\n",
    "\n",
    "\n",
    "function one_sim(f, N, params, repeats=5, method=:dense)\n",
    "    n = length(N)\n",
    "    m = zeros(n)\n",
    "    s = zeros(n)\n",
    "\n",
    "    @showprogress for (i, n) in zip(eachindex(N), N)\n",
    "        Random.seed!(2022)\n",
    "        tmp = [generate_data(n, f(n), params, method)[1] for _ in 1:repeats]\n",
    "        m[i] = @pipe tmp |> median(_)\n",
    "        s[i] = @pipe tmp |> std(0.25 .* _)\n",
    "    end\n",
    "    return m, s\n",
    "end"
   ]
  },
  {
   "cell_type": "code",
   "execution_count": 4,
   "id": "9201d182",
   "metadata": {},
   "outputs": [
    {
     "data": {
      "text/plain": [
       "2-element Vector{NamedTuple{(:f, :name)}}:\n",
       " (f = var\"#5#6\"(), name = \"ϵₙ = 1\")\n",
       " (f = var\"#7#8\"(), name = \"ϵₙ = 10\")"
      ]
     },
     "execution_count": 4,
     "metadata": {},
     "output_type": "execute_result"
    }
   ],
   "source": [
    "eps = 1\n",
    "f1 = (; f=n -> 1, name=\"ϵₙ = 1\")\n",
    "f2 = (; f=n -> 10, name=\"ϵₙ = 10\")\n",
    "F = [f1, f2]"
   ]
  },
  {
   "cell_type": "code",
   "execution_count": 5,
   "id": "7bce3848",
   "metadata": {},
   "outputs": [
    {
     "data": {
      "text/plain": [
       "(p = 0.8, r = 0.1, clust = 3, d = 3, order = 1, q = Inf, ribbon = true)"
      ]
     },
     "execution_count": 5,
     "metadata": {},
     "output_type": "execute_result"
    }
   ],
   "source": [
    "theme(:default)\n",
    "N = [500; 1000; 5000:5000:40_000...]\n",
    "params = (; p=0.8, r=0.1, clust=3, d=3, order=1, q=Inf, ribbon=true)"
   ]
  },
  {
   "cell_type": "code",
   "execution_count": null,
   "id": "de60a8c7",
   "metadata": {},
   "outputs": [
    {
     "name": "stderr",
     "output_type": "stream",
     "text": [
      "\u001b[32mProgress:  50%|████████████████████▌                    |  ETA: 0:02:25\u001b[39m"
     ]
    }
   ],
   "source": [
    "sparse = Any[]\n",
    "for f in F\n",
    "    m, s = one_sim(f.f, N, params, 3, :sparse)\n",
    "    push!(sparse, [m, s])\n",
    "    GC.gc()\n",
    "end"
   ]
  },
  {
   "cell_type": "code",
   "execution_count": null,
   "id": "5b920e87",
   "metadata": {},
   "outputs": [],
   "source": [
    "plt_sparse = plot(0, 0, xlabel=\"n\", la=0, label=\"Sparse regime\")\n",
    "for (f, x) in zip(F, eachrow(sparse))\n",
    "    plt_sparse = plot(plt_sparse, N, x[1][1], label=f.name, m=:o)\n",
    "end\n",
    "plt_sparse"
   ]
  },
  {
   "cell_type": "code",
   "execution_count": null,
   "id": "7ac5e873",
   "metadata": {},
   "outputs": [],
   "source": [
    "plt_sparse2 = plt_sparse"
   ]
  }
 ],
 "metadata": {
  "hide_input": false,
  "kernelspec": {
   "display_name": "Julia 1.8.0",
   "language": "julia",
   "name": "julia-1.8"
  },
  "language_info": {
   "file_extension": ".jl",
   "mimetype": "application/julia",
   "name": "julia",
   "version": "1.8.0"
  },
  "latex_envs": {
   "LaTeX_envs_menu_present": true,
   "autoclose": false,
   "autocomplete": true,
   "bibliofile": "biblio.bib",
   "cite_by": "apalike",
   "current_citInitial": 1,
   "eqLabelWithNumbers": true,
   "eqNumInitial": 1,
   "hotkeys": {
    "equation": "Ctrl-E",
    "itemize": "Ctrl-I"
   },
   "labels_anchors": false,
   "latex_user_defs": false,
   "report_style_numbering": false,
   "user_envs_cfg": false
  },
  "varInspector": {
   "cols": {
    "lenName": 16,
    "lenType": 16,
    "lenVar": 40
   },
   "kernels_config": {
    "python": {
     "delete_cmd_postfix": "",
     "delete_cmd_prefix": "del ",
     "library": "var_list.py",
     "varRefreshCmd": "print(var_dic_list())"
    },
    "r": {
     "delete_cmd_postfix": ") ",
     "delete_cmd_prefix": "rm(",
     "library": "var_list.r",
     "varRefreshCmd": "cat(var_dic_list()) "
    }
   },
   "types_to_exclude": [
    "module",
    "function",
    "builtin_function_or_method",
    "instance",
    "_Feature"
   ],
   "window_display": false
  }
 },
 "nbformat": 4,
 "nbformat_minor": 5
}
