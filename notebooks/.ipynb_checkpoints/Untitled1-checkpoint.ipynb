{
 "cells": [
  {
   "cell_type": "code",
   "execution_count": 2,
   "id": "35c7502c-ef9d-4496-a291-7e7351221fbf",
   "metadata": {},
   "outputs": [],
   "source": [
    "using DrWatson"
   ]
  },
  {
   "cell_type": "code",
   "execution_count": 3,
   "id": "f9b05940-173e-4caf-9cc9-f504235a6f9c",
   "metadata": {},
   "outputs": [],
   "source": [
    "include(srcdir(\"rdpg.jl\"))\n",
    "import Main.rdpg\n",
    "using PersistenceDiagrams, Pipe, Plots, ProgressMeter, Random, Ripserer, Statistics, StatsBase\n",
    "using LinearAlgebra, Distances, Distributions, LaTeXStrings"
   ]
  },
  {
   "cell_type": "code",
   "execution_count": 4,
   "id": "f77ce704-d6bb-446a-9e5f-1f997324035b",
   "metadata": {},
   "outputs": [
    {
     "data": {
      "text/plain": [
       "generate_graph (generic function with 1 method)"
      ]
     },
     "execution_count": 4,
     "metadata": {},
     "output_type": "execute_result"
    }
   ],
   "source": [
    "function generate_graph(n)\n",
    "    Z = rdpg.randLemniscate(n, s=0.01)\n",
    "    dist_max = pairwise(Distances.Euclidean(), Z |> rdpg.t2m) |> maximum\n",
    "    f = (x, y) -> evaluate(Distances.Euclidean(), x, y) / (0.1 * dist_max)\n",
    "    return rdpg.Adjacency(f, Z)\n",
    "end"
   ]
  },
  {
   "cell_type": "code",
   "execution_count": 5,
   "id": "9e6f6d0c-18d5-4ad6-b648-1f630c51aa44",
   "metadata": {},
   "outputs": [],
   "source": [
    "A = generate_graph(2500)\n",
    "X, _ = rdpg.spectralEmbed(A, d=3, scale=false)\n",
    "Dx = rdpg.diagram(X |> rdpg.m2t, dim_max=1);"
   ]
  },
  {
   "cell_type": "code",
   "execution_count": 6,
   "id": "7cfbc21f-0d35-4ae0-800e-dcae4a67a3e7",
   "metadata": {},
   "outputs": [],
   "source": [
    "ϵ = 1\n",
    "B = rdpg.edgeFlip(A; ϵ = ϵ)\n",
    "Yhat, _ = rdpg.spectralEmbed(B; d = 3, scale = false, restarts=10000)\n",
    "Dyhat = rdpg.diagram(Yhat |> rdpg.m2t, dim_max=1);"
   ]
  },
  {
   "cell_type": "code",
   "execution_count": 7,
   "id": "23f50e9a-fbe1-4f0e-a25b-b35bacb522ad",
   "metadata": {},
   "outputs": [],
   "source": [
    "C = (B .- (rdpg.τ(ϵ)^2)) ./ (rdpg.σ(ϵ)^2)\n",
    "Y, _ = rdpg.spectralEmbed(C; d = 3, scale = false, restarts=10000)\n",
    "Dy = rdpg.diagram(Yhat |> rdpg.m2t, dim_max=1);"
   ]
  },
  {
   "cell_type": "code",
   "execution_count": null,
   "id": "77d8c910-e974-4e34-a636-a700d5cf06ab",
   "metadata": {},
   "outputs": [],
   "source": [
    "plot(\n",
    "    plot(title = \"Original latent space\", grid = false, ticks=nothing, axis = false, bottom_margin = -30Plots.px, titlefontsize=10),\n",
    "    scatter(X |> rdpg.m2t, c=:dodgerblue1, ms=3, ma=0.1, msw=0.0, camera=(10,40), label=false, padding=(0.0, 0.0, 0.0)),\n",
    "    plot(Dx, xlabel=\"log(birth)\", ylabel=\"log(death)\", title=\"\", ms=5, ticks=[0.0:0.1:1...]),\n",
    "    size=(500, 300),\n",
    "    layout = @layout([A{0.01h}; [B C]])\n",
    ")"
   ]
  },
  {
   "cell_type": "code",
   "execution_count": null,
   "id": "0b6310e8-da21-4f2e-9768-90061175ff7f",
   "metadata": {},
   "outputs": [],
   "source": [
    "plot(\n",
    "    plot(title = \"Private spectral embedding\", grid = false, ticks=nothing, axis = false, bottom_margin = -30Plots.px, titlefontsize=10),\n",
    "    scatter(Yhat |> rdpg.m2t, c=:dodgerblue1, ms=3, ma=0.1, msw=0.0, camera=(10,40), label=false, padding=(0.0, 0.0, 0.0)),\n",
    "    plot(Dyhat, xlabel=\"log(birth)\", ylabel=\"log(death)\", title=\"\", ms=5, ticks=[0.0:0.1:1...]),\n",
    "    size=(500, 300),\n",
    "    layout = @layout([A{0.01h}; [B C]])\n",
    ")"
   ]
  },
  {
   "cell_type": "code",
   "execution_count": null,
   "id": "ce7e5ec6-1aa8-4de2-8cb8-71f52f0d26bd",
   "metadata": {},
   "outputs": [],
   "source": [
    "plot(\n",
    "    plot(title = \"PASE ϵ=$ϵ\", grid = false, ticks=nothing, axis = false, bottom_margin = -30Plots.px, titlefontsize=10),\n",
    "    scatter(Y |> rdpg.m2t, c=:firebrick1, ms=3, ma=0.1, msw=0.0, camera=(10,40), label=false),\n",
    "    plot(Dy, xlabel=\"log(birth)\", ylabel=\"log(death)\", title=\"\", ms=5, ticks=[0.0:0.1:1...]),\n",
    "    size=(500, 250),\n",
    "    layout = @layout([A{0.01h}; [B C]])\n",
    ")"
   ]
  }
 ],
 "metadata": {
  "kernelspec": {
   "display_name": "Julia 1.8.0",
   "language": "julia",
   "name": "julia-1.8"
  },
  "language_info": {
   "file_extension": ".jl",
   "mimetype": "application/julia",
   "name": "julia",
   "version": "1.8.0"
  }
 },
 "nbformat": 4,
 "nbformat_minor": 5
}
