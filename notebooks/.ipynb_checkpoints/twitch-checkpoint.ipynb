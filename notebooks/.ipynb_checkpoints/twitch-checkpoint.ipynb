{
 "cells": [
  {
   "cell_type": "code",
   "execution_count": null,
   "id": "bf57d0aa-131b-4faf-857b-6b7eedd4ee7c",
   "metadata": {},
   "outputs": [],
   "source": [
    "using DrWatson\n",
    "@quickactivate projectdir()"
   ]
  },
  {
   "cell_type": "code",
   "execution_count": null,
   "id": "b0114c5b-9313-42ba-9d1d-1e7fa6fb310b",
   "metadata": {},
   "outputs": [],
   "source": [
    "include(srcdir(\"rdpg.jl\"))\n",
    "using Main.rdpg\n",
    "using StatsBase, Pipe, Graphs, GraphIO, LightGraphs, DelimitedFiles, Random\n",
    "using ProgressMeter, DataFrames\n",
    "using Plots, Ripserer, PersistenceDiagrams, PersistenceDiagramsBase\n",
    "using Distances, LinearAlgebra, UMAP, TSne\n",
    "using SparseArrays"
   ]
  },
  {
   "cell_type": "code",
   "execution_count": null,
   "id": "a6a88eed-9184-45d0-bb98-5f42ca7f08e8",
   "metadata": {},
   "outputs": [],
   "source": [
    "function read_graph(; path, delim='\\t', labels=nothing)\n",
    "    data = Int.(readdlm(path, delim))\n",
    "    if labels !== nothing\n",
    "        rownames = labels[:, 1]\n",
    "        n = length(unique(data))\n",
    "        indx = map(i -> findall(j -> j == i, rownames), data)\n",
    "        A = sparse(indx[:, 1], indx[:, 2], Int(1), n, n)\n",
    "    else\n",
    "        tmp = unique(data)\n",
    "        n = length(tmp)\n",
    "        data .= minimum(tmp) != 1 ? data .+ 1 : data\n",
    "        A = sparse(data[:, 1], data[:, 2], Int(1), n, n)\n",
    "    end\n",
    "    return A |> LightGraphs.LinAlg.symmetrize\n",
    "end"
   ]
  },
  {
   "cell_type": "code",
   "execution_count": null,
   "id": "72c517b1-e651-4082-bc75-15867d9012d8",
   "metadata": {},
   "outputs": [],
   "source": [
    "dim = 100\n",
    "n = 20000\n",
    "subsample = true\n",
    "path_to_graph = \"../data/tmpdata/large_twitch_edges.csv\"\n",
    "path_to_labels = \"../data/tmpdata/large_twitch_features.csv\""
   ]
  },
  {
   "cell_type": "code",
   "execution_count": null,
   "id": "9718e6c3-c019-4752-a516-81172415486d",
   "metadata": {},
   "outputs": [],
   "source": [
    "labels, cols = readdlm(path_to_labels, ',', header=true)\n",
    "langs = labels[:, 8]\n",
    "Adjacency = read_graph(path=path_to_graph, delim=',', labels=nothing)"
   ]
  },
  {
   "cell_type": "code",
   "execution_count": null,
   "id": "0d5e03ad-3708-4983-90ef-a2d11fc8a6f6",
   "metadata": {},
   "outputs": [],
   "source": [
    "subsample = false\n",
    "downsample = true"
   ]
  },
  {
   "cell_type": "code",
   "execution_count": null,
   "id": "952c4fff-de27-4170-9917-d9778b19ad45",
   "metadata": {},
   "outputs": [],
   "source": [
    "if subsample\n",
    "    subsample_indices = sample(eachindex(langs), n, replace=false)\n",
    "    Adjacency = Adjacency[subsample_indices, subsample_indices]\n",
    "    langs = langs[subsample_indices]\n",
    "    labels = labels[subsample_indices, :]\n",
    "end"
   ]
  },
  {
   "cell_type": "code",
   "execution_count": null,
   "id": "81ed4043-fb05-4419-bb9a-703320d82eb4",
   "metadata": {},
   "outputs": [],
   "source": [
    "if !downsample\n",
    "\n",
    "    ind1 = findall(i -> langs[i] ∈ [\"FR\", \"RU\", \"ZH\"], eachindex(langs))\n",
    "    indx = sample(ind1, min(length(ind1), 2000), replace=false)\n",
    "    labs = labels[:, :]\n",
    "\n",
    "    A = copy(Adjacency)\n",
    "    Xhat, _ = rdpg.spectralEmbed(A, d=dim, scale=false)\n",
    "\n",
    "else\n",
    "\n",
    "    ind1 = findall(i -> langs[i] ∈ [\"FR\", \"RU\", \"ZH\"], eachindex(langs))\n",
    "    indx = sample(eachindex(ind1), min(length(ind1), 2000), replace=false)\n",
    "\n",
    "    labs = labels[ind1, :]\n",
    "    A = copy(Adjacency)[ind1, ind1]\n",
    "    Xhat, _ = rdpg.spectralEmbed(A, d=dim, scale=false)\n",
    "\n",
    "end;"
   ]
  },
  {
   "cell_type": "code",
   "execution_count": null,
   "id": "1528946f-2b71-4d92-9242-bd3aa4c5dcbf",
   "metadata": {},
   "outputs": [],
   "source": [
    "Xnh = Xhat[indx, :]\n",
    "\n",
    "embedding_umap_x = umap(Xnh', 2; n_neighbors=25, metric=Euclidean())'\n",
    "\n",
    "plt_umap_x = scatter(\n",
    "    embedding_umap_x |> rdpg._Matrix_to_ArrayOfTuples,\n",
    "    ms=3, legend=:bottomleft, size=(350, 300),# lim=(-12, 12),\n",
    "    group=labs[indx, 8],\n",
    "    title=\"ϵ = ∞\"\n",
    ")"
   ]
  },
  {
   "cell_type": "code",
   "execution_count": null,
   "id": "1ad5eec2-3597-4c8b-8489-e3cf38d9ef2c",
   "metadata": {},
   "outputs": [],
   "source": [
    "# plot(plt_umap_x, lim=(), size=(350, 300), title=\"ϵ = ∞\"); savefig(plotsdir(\"twitch/plt_umap_x.svg\"));\n",
    "savefig(plotsdir(\"twitch/plt_umap_x.svg\"))"
   ]
  },
  {
   "cell_type": "code",
   "execution_count": null,
   "id": "f37dc133-ed7c-4fb7-b890-c3de1cd61bc2",
   "metadata": {},
   "outputs": [],
   "source": [
    "ϵ = 1.0 * log(size(A, 1))\n",
    "\n",
    "\n",
    "B = (rdpg.edgeFlip(A, ϵ=ϵ) .- rdpg.τ(ϵ)) ./ rdpg.σ(ϵ)^2\n",
    "Yhat, _ = rdpg.spectralEmbed(B, d=dim, scale=false)\n",
    "Ynh1 = Yhat[indx, :];"
   ]
  },
  {
   "cell_type": "code",
   "execution_count": null,
   "id": "e9d02418-7652-491e-8db0-63ef26337de6",
   "metadata": {},
   "outputs": [],
   "source": [
    "embedding_umap_y1 = umap(Ynh1', 2; n_neighbors=25, metric=Euclidean())'\n",
    "\n",
    "plt_umap_y1 = scatter(\n",
    "    embedding_umap_y1 |> rdpg._Matrix_to_ArrayOfTuples,\n",
    "    ms=3, legend=:bottomleft, size=(350, 300),# lim=(-12, 12),\n",
    "    group=labs[indx, 8],\n",
    "    title=\"ϵ ≍ log(n)\"\n",
    ")"
   ]
  },
  {
   "cell_type": "code",
   "execution_count": null,
   "id": "9ecdf83c-4e79-47ca-8509-2672ceecf80c",
   "metadata": {},
   "outputs": [],
   "source": [
    "# plot(plt_umap_y1, lim=(), size=(350, 300), title=\"ϵ ≍ √log(n)\"); savefig(plotsdir(\"twitch/plt_umap_y1.svg\"));\n",
    "savefig(plotsdir(\"twitch/plt_umap_y1.svg\"))"
   ]
  },
  {
   "cell_type": "code",
   "execution_count": null,
   "id": "997751a9-6b3c-439c-a7c5-6b4d2726a698",
   "metadata": {},
   "outputs": [],
   "source": [
    "ϵ = 2.0 * sqrt(log(size(A, 1)))\n",
    "\n",
    "\n",
    "B = (rdpg.edgeFlip(A, ϵ=ϵ) .- rdpg.τ(ϵ)) ./ rdpg.σ(ϵ)^2\n",
    "Yhat, _ = rdpg.spectralEmbed(B, d=dim, scale=false)\n",
    "Ynh2 = Yhat[indx, :];"
   ]
  },
  {
   "cell_type": "code",
   "execution_count": null,
   "id": "a71d61f5-e8f0-4b1f-aefa-bd81588df05f",
   "metadata": {},
   "outputs": [],
   "source": [
    "embedding_umap_y2 = umap(Ynh2', 2; n_neighbors=25, metric=Euclidean())'\n",
    "\n",
    "plt_umap_y2 = scatter(\n",
    "    embedding_umap_y2 |> rdpg._Matrix_to_ArrayOfTuples,\n",
    "    ms=3, legend=:bottomleft, size=(350, 300),# lim=(-12, 12),\n",
    "    group=labs[indx, 8],\n",
    "    title=\"ϵ ≍ √(log(n))\"\n",
    ")"
   ]
  },
  {
   "cell_type": "code",
   "execution_count": null,
   "id": "f43fccb8-5e66-4e40-bd31-7c564cee29ca",
   "metadata": {},
   "outputs": [],
   "source": [
    "# plot(plt_umap_y3, lim=(), size=(350, 300), title=\"ϵ ≍ 1.0 × √log(n)\"); savefig(plotsdir(\"twitch/plt_umap_y3.svg\"));\n",
    "savefig(plotsdir(\"twitch/embedding_umap_y2.svg\"))"
   ]
  },
  {
   "cell_type": "code",
   "execution_count": null,
   "id": "4b316abf-cc70-46ce-91f0-7165380ae4b3",
   "metadata": {},
   "outputs": [],
   "source": [
    "ϵ = 2.0 * log(log(size(A, 1)))\n",
    "\n",
    "\n",
    "\n",
    "B = (rdpg.edgeFlip(A, ϵ=ϵ) .- rdpg.τ(ϵ)) ./ rdpg.σ(ϵ)^2\n",
    "Yhat, _ = rdpg.spectralEmbed(B, d=dim, scale=false)\n",
    "Ynh3 = Yhat[indx, :];"
   ]
  },
  {
   "cell_type": "code",
   "execution_count": null,
   "id": "499f4757-bfcc-40ab-bdb7-fa42baf38c84",
   "metadata": {},
   "outputs": [],
   "source": [
    "embedding_umap_y3 = umap(Ynh3', 2; n_neighbors=25, metric=Euclidean())'\n",
    "\n",
    "plt_umap_y3 = scatter(\n",
    "    embedding_umap_y3 |> rdpg._Matrix_to_ArrayOfTuples,\n",
    "    ms=3, legend=:bottomleft, size=(350, 300),# lim=(-12, 12),\n",
    "    group=labs[indx, 8],\n",
    "    title=\"ϵ ≍ log(log(n))\"\n",
    ")"
   ]
  },
  {
   "cell_type": "code",
   "execution_count": null,
   "id": "b26cfed7-b70a-47c1-80e2-c2f8e37bbf39",
   "metadata": {},
   "outputs": [],
   "source": [
    "# plot(plt_umap_y4, lim=(), size=(350, 300), title=\"ϵ ≍ log(log(n))\"); savefig(plotsdir(\"twitch/plt_umap_y4.svg\"));\n",
    "savefig(plotsdir(\"twitch/embedding_umap_y3.svg\"))"
   ]
  }
 ],
 "metadata": {
  "kernelspec": {
   "display_name": "Julia 1.7.3",
   "language": "julia",
   "name": "julia-1.7"
  },
  "language_info": {
   "file_extension": ".jl",
   "mimetype": "application/julia",
   "name": "julia",
   "version": "1.7.3"
  }
 },
 "nbformat": 4,
 "nbformat_minor": 5
}
