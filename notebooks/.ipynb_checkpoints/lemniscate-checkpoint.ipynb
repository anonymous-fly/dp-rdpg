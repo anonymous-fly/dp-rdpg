{
 "cells": [
  {
   "cell_type": "code",
   "execution_count": null,
   "id": "c0198362",
   "metadata": {},
   "outputs": [],
   "source": [
    "using DrWatson"
   ]
  },
  {
   "cell_type": "code",
   "execution_count": null,
   "id": "976e3c17",
   "metadata": {},
   "outputs": [],
   "source": [
    "include(srcdir(\"rdpg.jl\"))\n",
    "import Main.rdpg\n",
    "using PersistenceDiagrams, Pipe, Plots, ProgressMeter, Random, Ripserer, Statistics, StatsBase\n",
    "using LinearAlgebra, Distances, Distributions, LaTeXStrings"
   ]
  },
  {
   "cell_type": "code",
   "execution_count": null,
   "id": "3747faf9",
   "metadata": {},
   "outputs": [],
   "source": [
    "function generate_graph(n)\n",
    "    Z = rdpg.randLemniscate(n, s=0.01)\n",
    "    dist_max = pairwise(Distances.Euclidean(), Z |> rdpg.t2m) |> maximum\n",
    "    f = (x, y) -> evaluate(Distances.Euclidean(), x, y) / (0.1 * dist_max)\n",
    "    return rdpg.Adjacency(f, Z)\n",
    "end"
   ]
  },
  {
   "cell_type": "code",
   "execution_count": null,
   "id": "403e5276-6c0d-442a-b274-5841485279ca",
   "metadata": {},
   "outputs": [],
   "source": [
    "A = generate_graph(2500)\n",
    "X, _ = rdpg.spectralEmbed(A, d=3, scale=false)\n",
    "Dx = rdpg.diagram(X |> rdpg.m2t, dim_max=1);"
   ]
  },
  {
   "cell_type": "code",
   "execution_count": null,
   "id": "1540b9d9-a83a-4608-9a23-2514b5617542",
   "metadata": {},
   "outputs": [],
   "source": [
    "ϵ = 1\n",
    "B = (rdpg.edgeFlip(A; ϵ = ϵ) .- (rdpg.τ(ϵ)^2)) ./ (rdpg.σ(ϵ)^2)\n",
    "Y, _ = rdpg.spectralEmbed(B; d = 3, scale = false, restarts=10000)\n",
    "Dy = rdpg.diagram(Y |> rdpg.m2t, dim_max=1);"
   ]
  },
  {
   "cell_type": "code",
   "execution_count": null,
   "id": "37414635-48d1-4b79-9d4d-6b0e3749b183",
   "metadata": {},
   "outputs": [],
   "source": [
    "plot(\n",
    "    plot(title = \"Original latent space\", grid = false, ticks=nothing, axis = false, bottom_margin = -10Plots.px, titlefontsize=10),\n",
    "    scatter(X |> rdpg.m2t, c=:dodgerblue1, ms=3, ma=0.1, msw=0.0, camera=(20,40), label=false, lim=(-0.8, 0.8)),\n",
    "    plot(Dx |> rdpg.log_transform_diagram, xlabel=\"log(birth)\", ylabel=\"log(death)\", title=\"\", ms=5, ticks=[-7:1:1...]),\n",
    "    size=(500, 300),\n",
    "    layout = @layout([A{0.01h}; [B C]])\n",
    ")"
   ]
  },
  {
   "cell_type": "code",
   "execution_count": null,
   "id": "47b98d8a-7a7b-47f3-a903-8c3dfec7cd95",
   "metadata": {},
   "outputs": [],
   "source": [
    "plot(\n",
    "    plot(title = \"Private ϵ=$ϵ\", grid = false, ticks=nothing, axis = false, bottom_margin = -10Plots.px, titlefontsize=10),\n",
    "    scatter(Y |> rdpg.m2t, c=:firebrick1, ms=3, ma=0.1, msw=0.0, camera=(20,40), label=false, lim=(-0.8, 0.8)),\n",
    "    plot(Dy |> rdpg.log_transform_diagram, xlabel=\"log(birth)\", ylabel=\"log(death)\", title=\"\", ms=5, ticks=[-7:1:1...]),\n",
    "    size=(500, 250),\n",
    "    layout = @layout([A{0.01h}; [B C]])\n",
    ")"
   ]
  }
 ],
 "metadata": {
  "hide_input": false,
  "kernelspec": {
   "display_name": "Julia 1.7.3",
   "language": "julia",
   "name": "julia-1.7"
  },
  "language_info": {
   "file_extension": ".jl",
   "mimetype": "application/julia",
   "name": "julia",
   "version": "1.7.3"
  },
  "latex_envs": {
   "LaTeX_envs_menu_present": true,
   "autoclose": false,
   "autocomplete": true,
   "bibliofile": "biblio.bib",
   "cite_by": "apalike",
   "current_citInitial": 1,
   "eqLabelWithNumbers": true,
   "eqNumInitial": 1,
   "hotkeys": {
    "equation": "Ctrl-E",
    "itemize": "Ctrl-I"
   },
   "labels_anchors": false,
   "latex_user_defs": false,
   "report_style_numbering": false,
   "user_envs_cfg": false
  },
  "varInspector": {
   "cols": {
    "lenName": 16,
    "lenType": 16,
    "lenVar": 40
   },
   "kernels_config": {
    "python": {
     "delete_cmd_postfix": "",
     "delete_cmd_prefix": "del ",
     "library": "var_list.py",
     "varRefreshCmd": "print(var_dic_list())"
    },
    "r": {
     "delete_cmd_postfix": ") ",
     "delete_cmd_prefix": "rm(",
     "library": "var_list.r",
     "varRefreshCmd": "cat(var_dic_list()) "
    }
   },
   "types_to_exclude": [
    "module",
    "function",
    "builtin_function_or_method",
    "instance",
    "_Feature"
   ],
   "window_display": false
  }
 },
 "nbformat": 4,
 "nbformat_minor": 5
}
