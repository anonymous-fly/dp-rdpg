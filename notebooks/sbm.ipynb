{
 "cells": [
  {
   "cell_type": "code",
   "execution_count": 19,
   "metadata": {},
   "outputs": [],
   "source": [
    "using DrWatson\n",
    "@quickactivate \"projectdir()\""
   ]
  },
  {
   "cell_type": "code",
   "execution_count": 114,
   "metadata": {},
   "outputs": [
    {
     "data": {
      "text/plain": [
       "read_network (generic function with 1 method)"
      ]
     },
     "metadata": {},
     "output_type": "display_data"
    }
   ],
   "source": [
    "using Ripserer, PersistenceDiagrams, Plots, ProgressMeter, Random\n",
    "include(scriptsdir(\"networks.jl\"))"
   ]
  },
  {
   "cell_type": "code",
   "execution_count": 106,
   "metadata": {},
   "outputs": [
    {
     "data": {
      "text/plain": [
       "bottleneck_distances (generic function with 1 method)"
      ]
     },
     "metadata": {},
     "output_type": "display_data"
    }
   ],
   "source": [
    "function generate_sbm(n, k, p, r)\n",
    "    f = (x, y) -> r + p * (x == y)\n",
    "    Z = rand(1:k, n)\n",
    "    return generate_rdpg(f, Z)\n",
    "end\n",
    "\n",
    "function diagram(X, dim_max; alpha=true)\n",
    "    points = tuple.(eachcol(X)...)\n",
    "    dgm = ripserer(Alpha(points), dim_max=dim_max)\n",
    "    return dgm\n",
    "end\n",
    "\n",
    "function bottleneck_distances(X, Y, dim_max)\n",
    "    DX = diagram(X, dim_max)\n",
    "    DY = diagram(Y, dim_max)\n",
    "    # return [Bottleneck()(DX[d], DY[d]) for d in 1:dim_max+1]\n",
    "    return [Bottleneck()(DX[1], DY[1])]\n",
    "end"
   ]
  },
  {
   "cell_type": "code",
   "execution_count": 115,
   "metadata": {},
   "outputs": [
    {
     "data": {
      "text/plain": [
       "simulate_one (generic function with 1 method)"
      ]
     },
     "metadata": {},
     "output_type": "display_data"
    }
   ],
   "source": [
    "function scale_embeddings(X)\n",
    "    return (X .- mean(eachrow(X))') * (X'X)^(-0.5)\n",
    "end\n",
    "\n",
    "function simulate_one(A, d, epsilon, method)\n",
    "    X, _, _ = spectral_embeddings(A, d=d + 1, scale=false)\n",
    "    A_private = edgeFlip(A, ϵ=epsilon)\n",
    "\n",
    "    if method == :eps\n",
    "        A_private = A_private .- privacy(ϵ=epsilon)\n",
    "    end\n",
    "\n",
    "    X_private, _, _ = spectral_embeddings(A_private, d=d + 1, scale=false)\n",
    "\n",
    "    if method == :eps\n",
    "        X_private = X_private ./ (1 - 2 * privacy(ϵ=epsilon))\n",
    "    elseif method == :noeps\n",
    "        X = scale_embeddings(X)\n",
    "        X_private = scale_embeddings(X_private)\n",
    "    end\n",
    "    return bottleneck_distances(X, X_private, d)\n",
    "end"
   ]
  },
  {
   "cell_type": "code",
   "execution_count": 116,
   "metadata": {},
   "outputs": [
    {
     "data": {
      "text/plain": [
       "V (generic function with 2 methods)"
      ]
     },
     "metadata": {},
     "output_type": "display_data"
    }
   ],
   "source": [
    "function V(V, fun=mean; slice=1, i=1)\n",
    "    if slice == 1\n",
    "        reshape(fun(V, dims=1), size(V, 3), size(V, 2), :)[i, :]\n",
    "    elseif slice == 2\n",
    "        reshape(fun(V, dims=1), size(V, 3), size(V, 2), :)[:, i]\n",
    "    end\n",
    "end"
   ]
  },
  {
   "cell_type": "markdown",
   "metadata": {},
   "source": [
    "## A smaller simulation"
   ]
  },
  {
   "cell_type": "code",
   "execution_count": 137,
   "metadata": {},
   "outputs": [],
   "source": [
    "repeats = 5\n",
    "Ks = [1/2, 2/3, 1]\n",
    "N = [50, 100, 200, 500, 750, 1000, 1500];"
   ]
  },
  {
   "cell_type": "code",
   "execution_count": 138,
   "metadata": {},
   "outputs": [],
   "source": [
    "p, r = 0.4, 0.1, 0.15\n",
    "clust = 3\n",
    "n = length(N);"
   ]
  },
  {
   "cell_type": "code",
   "execution_count": 139,
   "metadata": {},
   "outputs": [],
   "source": [
    "results = [zeros(repeats, n) for _ in 1:length(Ks)];"
   ]
  },
  {
   "cell_type": "code",
   "execution_count": 140,
   "metadata": {},
   "outputs": [
    {
     "name": "stderr",
     "output_type": "stream",
     "text": [
      "\r\u001b[32mProgress:   6%|██▍                                      |  ETA: 0:00:02\u001b[39m\u001b[K"
     ]
    },
    {
     "name": "stderr",
     "output_type": "stream",
     "text": [
      "\r\u001b[32mProgress:  14%|█████▉                                   |  ETA: 0:00:01\u001b[39m\u001b[K"
     ]
    },
    {
     "name": "stderr",
     "output_type": "stream",
     "text": [
      "\r\u001b[32mProgress:  21%|████████▋                                |  ETA: 0:00:02\u001b[39m\u001b[K"
     ]
    },
    {
     "name": "stderr",
     "output_type": "stream",
     "text": [
      "\r\u001b[32mProgress:  25%|██████████▏                              |  ETA: 0:00:02\u001b[39m\u001b[K"
     ]
    },
    {
     "name": "stderr",
     "output_type": "stream",
     "text": [
      "\r\u001b[32mProgress:  28%|███████████▍                             |  ETA: 0:00:02\u001b[39m\u001b[K"
     ]
    },
    {
     "name": "stderr",
     "output_type": "stream",
     "text": [
      "\r\u001b[32mProgress:  30%|████████████▌                            |  ETA: 0:00:02\u001b[39m\u001b[K"
     ]
    },
    {
     "name": "stderr",
     "output_type": "stream",
     "text": [
      "\r\u001b[32mProgress:  32%|█████████████▎                           |  ETA: 0:00:02\u001b[39m\u001b[K"
     ]
    },
    {
     "name": "stderr",
     "output_type": "stream",
     "text": [
      "\r\u001b[32mProgress:  34%|██████████████                           |  ETA: 0:00:03\u001b[39m\u001b[K"
     ]
    },
    {
     "name": "stderr",
     "output_type": "stream",
     "text": [
      "\r\u001b[32mProgress:  36%|██████████████▉                          |  ETA: 0:00:03\u001b[39m\u001b[K"
     ]
    },
    {
     "name": "stderr",
     "output_type": "stream",
     "text": [
      "\r\u001b[32mProgress:  38%|███████████████▋                         |  ETA: 0:00:03\u001b[39m\u001b[K"
     ]
    },
    {
     "name": "stderr",
     "output_type": "stream",
     "text": [
      "\r\u001b[32mProgress:  40%|████████████████▍                        |  ETA: 0:00:03\u001b[39m\u001b[K"
     ]
    },
    {
     "name": "stderr",
     "output_type": "stream",
     "text": [
      "\r\u001b[32mProgress:  42%|█████████████████▏                       |  ETA: 0:00:03\u001b[39m\u001b[K"
     ]
    },
    {
     "name": "stderr",
     "output_type": "stream",
     "text": [
      "\r\u001b[32mProgress:  44%|██████████████████                       |  ETA: 0:00:03\u001b[39m\u001b[K"
     ]
    },
    {
     "name": "stderr",
     "output_type": "stream",
     "text": [
      "\r\u001b[32mProgress:  45%|██████████████████▍                      |  ETA: 0:00:04\u001b[39m\u001b[K"
     ]
    },
    {
     "name": "stderr",
     "output_type": "stream",
     "text": [
      "\r\u001b[32mProgress:  46%|██████████████████▊                      |  ETA: 0:00:04\u001b[39m\u001b[K"
     ]
    },
    {
     "name": "stderr",
     "output_type": "stream",
     "text": [
      "\r\u001b[32mProgress:  47%|███████████████████▏                     |  ETA: 0:00:04\u001b[39m\u001b[K"
     ]
    },
    {
     "name": "stderr",
     "output_type": "stream",
     "text": [
      "\r\u001b[32mProgress:  48%|███████████████████▌                     |  ETA: 0:00:05\u001b[39m\u001b[K"
     ]
    },
    {
     "name": "stderr",
     "output_type": "stream",
     "text": [
      "\r\u001b[32mProgress:  49%|███████████████████▉                     |  ETA: 0:00:05\u001b[39m\u001b[K"
     ]
    },
    {
     "name": "stderr",
     "output_type": "stream",
     "text": [
      "\r\u001b[32mProgress:  50%|████████████████████▎                    |  ETA: 0:00:05\u001b[39m\u001b[K"
     ]
    },
    {
     "name": "stderr",
     "output_type": "stream",
     "text": [
      "\r\u001b[32mProgress:  50%|████████████████████▊                    |  ETA: 0:00:05\u001b[39m\u001b[K"
     ]
    },
    {
     "name": "stderr",
     "output_type": "stream",
     "text": [
      "\r\u001b[32mProgress:  51%|█████████████████████▏                   |  ETA: 0:00:05\u001b[39m\u001b[K"
     ]
    },
    {
     "name": "stderr",
     "output_type": "stream",
     "text": [
      "\r\u001b[32mProgress:  52%|█████████████████████▌                   |  ETA: 0:00:06\u001b[39m\u001b[K"
     ]
    },
    {
     "name": "stderr",
     "output_type": "stream",
     "text": [
      "\r\u001b[32mProgress:  53%|█████████████████████▉                   |  ETA: 0:00:06\u001b[39m\u001b[K"
     ]
    },
    {
     "name": "stderr",
     "output_type": "stream",
     "text": [
      "\r\u001b[32mProgress:  54%|██████████████████████▎                  |  ETA: 0:00:06\u001b[39m\u001b[K"
     ]
    },
    {
     "name": "stderr",
     "output_type": "stream",
     "text": [
      "\r\u001b[32mProgress:  55%|██████████████████████▋                  |  ETA: 0:00:06\u001b[39m\u001b[K"
     ]
    },
    {
     "name": "stderr",
     "output_type": "stream",
     "text": [
      "\r\u001b[32mProgress:  56%|███████████████████████                  |  ETA: 0:00:06\u001b[39m\u001b[K"
     ]
    },
    {
     "name": "stderr",
     "output_type": "stream",
     "text": [
      "\r\u001b[32mProgress:  57%|███████████████████████▍                 |  ETA: 0:00:06\u001b[39m\u001b[K"
     ]
    },
    {
     "name": "stderr",
     "output_type": "stream",
     "text": [
      "\r\u001b[32mProgress:  58%|███████████████████████▉                 |  ETA: 0:00:07\u001b[39m\u001b[K"
     ]
    },
    {
     "name": "stderr",
     "output_type": "stream",
     "text": [
      "\r\u001b[32mProgress:  59%|████████████████████████▎                |  ETA: 0:00:07\u001b[39m\u001b[K"
     ]
    },
    {
     "name": "stderr",
     "output_type": "stream",
     "text": [
      "\r\u001b[32mProgress:  60%|████████████████████████▋                |  ETA: 0:00:07\u001b[39m\u001b[K"
     ]
    },
    {
     "name": "stderr",
     "output_type": "stream",
     "text": [
      "\r\u001b[32mProgress:  61%|█████████████████████████                |  ETA: 0:00:08\u001b[39m\u001b[K"
     ]
    },
    {
     "name": "stderr",
     "output_type": "stream",
     "text": [
      "\r\u001b[32mProgress:  62%|█████████████████████████▍               |  ETA: 0:00:08\u001b[39m\u001b[K"
     ]
    },
    {
     "name": "stderr",
     "output_type": "stream",
     "text": [
      "\r\u001b[32mProgress:  63%|█████████████████████████▊               |  ETA: 0:00:08\u001b[39m\u001b[K"
     ]
    },
    {
     "name": "stderr",
     "output_type": "stream",
     "text": [
      "\r\u001b[32mProgress:  64%|██████████████████████████▏              |  ETA: 0:00:08\u001b[39m\u001b[K"
     ]
    },
    {
     "name": "stderr",
     "output_type": "stream",
     "text": [
      "\r\u001b[32mProgress:  65%|██████████████████████████▌              |  ETA: 0:00:08\u001b[39m\u001b[K"
     ]
    },
    {
     "name": "stderr",
     "output_type": "stream",
     "text": [
      "\r\u001b[32mProgress:  66%|███████████████████████████              |  ETA: 0:00:08\u001b[39m\u001b[K"
     ]
    },
    {
     "name": "stderr",
     "output_type": "stream",
     "text": [
      "\r\u001b[32mProgress:  67%|███████████████████████████▍             |  ETA: 0:00:09\u001b[39m\u001b[K"
     ]
    },
    {
     "name": "stderr",
     "output_type": "stream",
     "text": [
      "\r\u001b[32mProgress:  68%|███████████████████████████▊             |  ETA: 0:00:09\u001b[39m\u001b[K"
     ]
    },
    {
     "name": "stderr",
     "output_type": "stream",
     "text": [
      "\r\u001b[32mProgress:  69%|████████████████████████████▏            |  ETA: 0:00:09\u001b[39m\u001b[K"
     ]
    },
    {
     "name": "stderr",
     "output_type": "stream",
     "text": [
      "\r\u001b[32mProgress:  70%|████████████████████████████▌            |  ETA: 0:00:09\u001b[39m\u001b[K"
     ]
    },
    {
     "name": "stderr",
     "output_type": "stream",
     "text": [
      "\r\u001b[32mProgress:  70%|████████████████████████████▉            |  ETA: 0:00:09\u001b[39m\u001b[K"
     ]
    },
    {
     "name": "stderr",
     "output_type": "stream",
     "text": [
      "\r\u001b[32mProgress:  71%|█████████████████████████████▎           |  ETA: 0:00:08\u001b[39m\u001b[K"
     ]
    },
    {
     "name": "stderr",
     "output_type": "stream",
     "text": [
      "\r\u001b[32mProgress:  72%|█████████████████████████████▋           |  ETA: 0:00:09\u001b[39m\u001b[K"
     ]
    },
    {
     "name": "stderr",
     "output_type": "stream",
     "text": [
      "\r\u001b[32mProgress:  73%|██████████████████████████████▏          |  ETA: 0:00:09\u001b[39m\u001b[K"
     ]
    },
    {
     "name": "stderr",
     "output_type": "stream",
     "text": [
      "\r\u001b[32mProgress:  74%|██████████████████████████████▌          |  ETA: 0:00:09\u001b[39m\u001b[K"
     ]
    },
    {
     "name": "stderr",
     "output_type": "stream",
     "text": [
      "\r\u001b[32mProgress:  75%|██████████████████████████████▉          |  ETA: 0:00:09\u001b[39m\u001b[K"
     ]
    },
    {
     "name": "stderr",
     "output_type": "stream",
     "text": [
      "\r\u001b[32mProgress:  76%|███████████████████████████████▎         |  ETA: 0:00:09\u001b[39m\u001b[K"
     ]
    },
    {
     "name": "stderr",
     "output_type": "stream",
     "text": [
      "\r\u001b[32mProgress:  77%|███████████████████████████████▋         |  ETA: 0:00:09\u001b[39m\u001b[K"
     ]
    },
    {
     "name": "stderr",
     "output_type": "stream",
     "text": [
      "\r\u001b[32mProgress:  78%|████████████████████████████████         |  ETA: 0:00:09\u001b[39m\u001b[K"
     ]
    },
    {
     "name": "stderr",
     "output_type": "stream",
     "text": [
      "\r\u001b[32mProgress:  79%|████████████████████████████████▍        |  ETA: 0:00:09\u001b[39m\u001b[K"
     ]
    },
    {
     "name": "stderr",
     "output_type": "stream",
     "text": [
      "\r\u001b[32mProgress:  80%|████████████████████████████████▊        |  ETA: 0:00:09\u001b[39m\u001b[K"
     ]
    },
    {
     "name": "stderr",
     "output_type": "stream",
     "text": [
      "\r\u001b[32mProgress:  81%|█████████████████████████████████▎       |  ETA: 0:00:09\u001b[39m\u001b[K"
     ]
    },
    {
     "name": "stderr",
     "output_type": "stream",
     "text": [
      "\r\u001b[32mProgress:  82%|█████████████████████████████████▋       |  ETA: 0:00:09\u001b[39m\u001b[K"
     ]
    },
    {
     "name": "stderr",
     "output_type": "stream",
     "text": [
      "\r\u001b[32mProgress:  83%|██████████████████████████████████       |  ETA: 0:00:09\u001b[39m\u001b[K"
     ]
    },
    {
     "name": "stderr",
     "output_type": "stream",
     "text": [
      "\r\u001b[32mProgress:  84%|██████████████████████████████████▍      |  ETA: 0:00:08\u001b[39m\u001b[K"
     ]
    },
    {
     "name": "stderr",
     "output_type": "stream",
     "text": [
      "\r\u001b[32mProgress:  85%|██████████████████████████████████▊      |  ETA: 0:00:08\u001b[39m\u001b[K"
     ]
    },
    {
     "name": "stderr",
     "output_type": "stream",
     "text": [
      "\r\u001b[32mProgress:  86%|███████████████████████████████████▏     |  ETA: 0:00:08\u001b[39m\u001b[K"
     ]
    },
    {
     "name": "stderr",
     "output_type": "stream",
     "text": [
      "\r\u001b[32mProgress:  87%|███████████████████████████████████▌     |  ETA: 0:00:08\u001b[39m\u001b[K"
     ]
    },
    {
     "name": "stderr",
     "output_type": "stream",
     "text": [
      "\r\u001b[32mProgress:  88%|███████████████████████████████████▉     |  ETA: 0:00:08\u001b[39m\u001b[K"
     ]
    },
    {
     "name": "stderr",
     "output_type": "stream",
     "text": [
      "\r\u001b[32mProgress:  89%|████████████████████████████████████▍    |  ETA: 0:00:08\u001b[39m\u001b[K"
     ]
    },
    {
     "name": "stderr",
     "output_type": "stream",
     "text": [
      "\r\u001b[32mProgress:  90%|████████████████████████████████████▊    |  ETA: 0:00:07\u001b[39m\u001b[K"
     ]
    },
    {
     "name": "stderr",
     "output_type": "stream",
     "text": [
      "\r\u001b[32mProgress:  90%|█████████████████████████████████████▏   |  ETA: 0:00:07\u001b[39m\u001b[K"
     ]
    },
    {
     "name": "stderr",
     "output_type": "stream",
     "text": [
      "\r\u001b[32mProgress:  91%|█████████████████████████████████████▌   |  ETA: 0:00:06\u001b[39m\u001b[K"
     ]
    },
    {
     "name": "stderr",
     "output_type": "stream",
     "text": [
      "\r\u001b[32mProgress:  92%|█████████████████████████████████████▉   |  ETA: 0:00:06\u001b[39m\u001b[K"
     ]
    },
    {
     "name": "stderr",
     "output_type": "stream",
     "text": [
      "\r\u001b[32mProgress:  93%|██████████████████████████████████████▎  |  ETA: 0:00:05\u001b[39m\u001b[K"
     ]
    },
    {
     "name": "stderr",
     "output_type": "stream",
     "text": [
      "\r\u001b[32mProgress:  94%|██████████████████████████████████████▋  |  ETA: 0:00:05\u001b[39m\u001b[K"
     ]
    },
    {
     "name": "stderr",
     "output_type": "stream",
     "text": [
      "\r\u001b[32mProgress:  95%|███████████████████████████████████████  |  ETA: 0:00:04\u001b[39m\u001b[K"
     ]
    },
    {
     "name": "stderr",
     "output_type": "stream",
     "text": [
      "\r\u001b[32mProgress:  96%|███████████████████████████████████████▌ |  ETA: 0:00:03\u001b[39m\u001b[K"
     ]
    },
    {
     "name": "stderr",
     "output_type": "stream",
     "text": [
      "\r\u001b[32mProgress:  97%|███████████████████████████████████████▉ |  ETA: 0:00:03\u001b[39m\u001b[K"
     ]
    },
    {
     "name": "stderr",
     "output_type": "stream",
     "text": [
      "\r\u001b[32mProgress:  98%|████████████████████████████████████████▎|  ETA: 0:00:02\u001b[39m\u001b[K"
     ]
    },
    {
     "name": "stderr",
     "output_type": "stream",
     "text": [
      "\r\u001b[32mProgress:  99%|████████████████████████████████████████▋|  ETA: 0:00:01\u001b[39m\u001b[K"
     ]
    },
    {
     "name": "stderr",
     "output_type": "stream",
     "text": [
      "\r\u001b[32mProgress: 100%|█████████████████████████████████████████| Time: 0:01:42\u001b[39m\u001b[K\n"
     ]
    }
   ],
   "source": [
    "Random.seed!(2022)\n",
    "prog = Progress(convert(Int, n * repeats * length(Ks)))\n",
    "for i in 1:n\n",
    "    A = generate_sbm(N[i], clust, p, r)\n",
    "    for j in 1:repeats\n",
    "        for k in 1:length(Ks)\n",
    "        \n",
    "            ϵn = log(N[i])^(Ks[k])\n",
    "            error = simulate_one(A, 2, ϵn, :eps)\n",
    "            results[k][j, i] = error[1]\n",
    "            next!(prog)\n",
    "\n",
    "        end\n",
    "    end\n",
    "end"
   ]
  },
  {
   "cell_type": "code",
   "execution_count": 155,
   "metadata": {},
   "outputs": [
    {
     "data": {
      "image/png": "[encoded data removed]",
      "image/svg+xml": "<?xml version=\"1.0\" encoding=\"utf-8\"?>\n<svg xmlns=\"http://www.w3.org/2000/svg\" xmlns:xlink=\"http://www.w3.org/1999/xlink\" width=\"600\" height=\"400\" viewBox=\"0 0 2400 1600\">\n<defs>\n  <clipPath id=\"clip980\">\n    <rect x=\"0\" y=\"0\" width=\"2400\" height=\"1600\"/>\n  </clipPath>\n</defs>\n<path clip-path=\"url(#clip980)\" d=\"\nM0 1600 L2400 1600 L2400 0 L0 0  Z\n  \" fill=\"#ffffff\" fill-rule=\"evenodd\" fill-opacity=\"1\"/>\n<defs>\n  <clipPath id=\"clip981\">\n    <rect x=\"480\" y=\"0\" width=\"1681\" height=\"1600\"/>\n  </clipPath>\n</defs>\n<path clip-path=\"url(#clip980)\" d=\"\nM249.542 1423.18 L2352.76 1423.18 L2352.76 123.472 L249.542 123.472  Z\n  \" fill=\"#ffffff\" fill-rule=\"evenodd\" fill-opacity=\"1\"/>\n<defs>\n  <clipPath id=\"clip982\">\n    <rect x=\"249\" y=\"123\" width=\"2104\" height=\"1301\"/>\n  </clipPath>\n</defs>\n<polyline clip-path=\"url(#clip982)\" style=\"stroke:#000000; stroke-linecap:butt; stroke-linejoin:round; stroke-width:2; stroke-opacity:0.1; fill:none\" points=\"\n  514.325,1423.18 514.325,123.472 \n  \"/>\n<polyline clip-path=\"url(#clip982)\" style=\"stroke:#000000; stroke-linecap:butt; stroke-linejoin:round; stroke-width:2; stroke-opacity:0.1; fill:none\" points=\"\n  788.003,1423.18 788.003,123.472 \n  \"/>\n<polyline clip-path=\"url(#clip982)\" style=\"stroke:#000000; stroke-linecap:butt; stroke-linejoin:round; stroke-width:2; stroke-opacity:0.1; fill:none\" points=\"\n  1061.68,1423.18 1061.68,123.472 \n  \"/>\n<polyline clip-path=\"url(#clip982)\" style=\"stroke:#000000; stroke-linecap:butt; stroke-linejoin:round; stroke-width:2; stroke-opacity:0.1; fill:none\" points=\"\n  1335.36,1423.18 1335.36,123.472 \n  \"/>\n<polyline clip-path=\"url(#clip982)\" style=\"stroke:#000000; stroke-linecap:butt; stroke-linejoin:round; stroke-width:2; stroke-opacity:0.1; fill:none\" points=\"\n  1609.04,1423.18 1609.04,123.472 \n  \"/>\n<polyline clip-path=\"url(#clip982)\" style=\"stroke:#000000; stroke-linecap:butt; stroke-linejoin:round; stroke-width:2; stroke-opacity:0.1; fill:none\" points=\"\n  1882.71,1423.18 1882.71,123.472 \n  \"/>\n<polyline clip-path=\"url(#clip982)\" style=\"stroke:#000000; stroke-linecap:butt; stroke-linejoin:round; stroke-width:2; stroke-opacity:0.1; fill:none\" points=\"\n  2156.39,1423.18 2156.39,123.472 \n  \"/>\n<polyline clip-path=\"url(#clip980)\" style=\"stroke:#000000; stroke-linecap:butt; stroke-linejoin:round; stroke-width:4; stroke-opacity:1; fill:none\" points=\"\n  249.542,1423.18 2352.76,1423.18 \n  \"/>\n<polyline clip-path=\"url(#clip980)\" style=\"stroke:#000000; stroke-linecap:butt; stroke-linejoin:round; stroke-width:4; stroke-opacity:1; fill:none\" points=\"\n  514.325,1423.18 514.325,1404.28 \n  \"/>\n<polyline clip-path=\"url(#clip980)\" style=\"stroke:#000000; stroke-linecap:butt; stroke-linejoin:round; stroke-width:4; stroke-opacity:1; fill:none\" points=\"\n  788.003,1423.18 788.003,1404.28 \n  \"/>\n<polyline clip-path=\"url(#clip980)\" style=\"stroke:#000000; stroke-linecap:butt; stroke-linejoin:round; stroke-width:4; stroke-opacity:1; fill:none\" points=\"\n  1061.68,1423.18 1061.68,1404.28 \n  \"/>\n<polyline clip-path=\"url(#clip980)\" style=\"stroke:#000000; stroke-linecap:butt; stroke-linejoin:round; stroke-width:4; stroke-opacity:1; fill:none\" points=\"\n  1335.36,1423.18 1335.36,1404.28 \n  \"/>\n<polyline clip-path=\"url(#clip980)\" style=\"stroke:#000000; stroke-linecap:butt; stroke-linejoin:round; stroke-width:4; stroke-opacity:1; fill:none\" points=\"\n  1609.04,1423.18 1609.04,1404.28 \n  \"/>\n<polyline clip-path=\"url(#clip980)\" style=\"stroke:#000000; stroke-linecap:butt; stroke-linejoin:round; stroke-width:4; stroke-opacity:1; fill:none\" points=\"\n  1882.71,1423.18 1882.71,1404.28 \n  \"/>\n<polyline clip-path=\"url(#clip980)\" style=\"stroke:#000000; stroke-linecap:butt; stroke-linejoin:round; stroke-width:4; stroke-opacity:1; fill:none\" points=\"\n  2156.39,1423.18 2156.39,1404.28 \n  \"/>\n<path clip-path=\"url(#clip980)\" d=\"M478.018 1481.64 L494.337 1481.64 L494.337 1485.58 L472.393 1485.58 L472.393 1481.64 Q475.055 1478.89 479.638 1474.26 Q484.244 1469.61 485.425 1468.27 Q487.67 1465.74 488.55 1464.01 Q489.453 1462.25 489.453 1460.56 Q489.453 1457.8 487.508 1456.07 Q485.587 1454.33 482.485 1454.33 Q480.286 1454.33 477.832 1455.09 Q475.402 1455.86 472.624 1457.41 L472.624 1452.69 Q475.448 1451.55 477.902 1450.97 Q480.356 1450.39 482.393 1450.39 Q487.763 1450.39 490.957 1453.08 Q494.152 1455.77 494.152 1460.26 Q494.152 1462.39 493.342 1464.31 Q492.555 1466.2 490.448 1468.8 Q489.869 1469.47 486.768 1472.69 Q483.666 1475.88 478.018 1481.64 Z\" fill=\"#000000\" fill-rule=\"evenodd\" fill-opacity=\"1\" /><path clip-path=\"url(#clip980)\" d=\"M514.152 1454.1 Q510.541 1454.1 508.712 1457.66 Q506.906 1461.2 506.906 1468.33 Q506.906 1475.44 508.712 1479.01 Q510.541 1482.55 514.152 1482.55 Q517.786 1482.55 519.591 1479.01 Q521.42 1475.44 521.42 1468.33 Q521.42 1461.2 519.591 1457.66 Q517.786 1454.1 514.152 1454.1 M514.152 1450.39 Q519.962 1450.39 523.017 1455 Q526.096 1459.58 526.096 1468.33 Q526.096 1477.06 523.017 1481.67 Q519.962 1486.25 514.152 1486.25 Q508.342 1486.25 505.263 1481.67 Q502.207 1477.06 502.207 1468.33 Q502.207 1459.58 505.263 1455 Q508.342 1450.39 514.152 1450.39 Z\" fill=\"#000000\" fill-rule=\"evenodd\" fill-opacity=\"1\" /><path clip-path=\"url(#clip980)\" d=\"M544.314 1454.1 Q540.702 1454.1 538.874 1457.66 Q537.068 1461.2 537.068 1468.33 Q537.068 1475.44 538.874 1479.01 Q540.702 1482.55 544.314 1482.55 Q547.948 1482.55 549.753 1479.01 Q551.582 1475.44 551.582 1468.33 Q551.582 1461.2 549.753 1457.66 Q547.948 1454.1 544.314 1454.1 M544.314 1450.39 Q550.124 1450.39 553.179 1455 Q556.258 1459.58 556.258 1468.33 Q556.258 1477.06 553.179 1481.67 Q550.124 1486.25 544.314 1486.25 Q538.503 1486.25 535.425 1481.67 Q532.369 1477.06 532.369 1468.33 Q532.369 1459.58 535.425 1455 Q538.503 1450.39 544.314 1450.39 Z\" fill=\"#000000\" fill-rule=\"evenodd\" fill-opacity=\"1\" /><path clip-path=\"url(#clip980)\" d=\"M761.094 1455.09 L749.288 1473.54 L761.094 1473.54 L761.094 1455.09 M759.867 1451.02 L765.746 1451.02 L765.746 1473.54 L770.677 1473.54 L770.677 1477.43 L765.746 1477.43 L765.746 1485.58 L761.094 1485.58 L761.094 1477.43 L745.492 1477.43 L745.492 1472.92 L759.867 1451.02 Z\" fill=\"#000000\" fill-rule=\"evenodd\" fill-opacity=\"1\" /><path clip-path=\"url(#clip980)\" d=\"M788.408 1454.1 Q784.797 1454.1 782.968 1457.66 Q781.163 1461.2 781.163 1468.33 Q781.163 1475.44 782.968 1479.01 Q784.797 1482.55 788.408 1482.55 Q792.042 1482.55 793.848 1479.01 Q795.677 1475.44 795.677 1468.33 Q795.677 1461.2 793.848 1457.66 Q792.042 1454.1 788.408 1454.1 M788.408 1450.39 Q794.218 1450.39 797.274 1455 Q800.353 1459.58 800.353 1468.33 Q800.353 1477.06 797.274 1481.67 Q794.218 1486.25 788.408 1486.25 Q782.598 1486.25 779.519 1481.67 Q776.464 1477.06 776.464 1468.33 Q776.464 1459.58 779.519 1455 Q782.598 1450.39 788.408 1450.39 Z\" fill=\"#000000\" fill-rule=\"evenodd\" fill-opacity=\"1\" /><path clip-path=\"url(#clip980)\" d=\"M818.57 1454.1 Q814.959 1454.1 813.13 1457.66 Q811.325 1461.2 811.325 1468.33 Q811.325 1475.44 813.13 1479.01 Q814.959 1482.55 818.57 1482.55 Q822.204 1482.55 824.01 1479.01 Q825.839 1475.44 825.839 1468.33 Q825.839 1461.2 824.01 1457.66 Q822.204 1454.1 818.57 1454.1 M818.57 1450.39 Q824.38 1450.39 827.436 1455 Q830.514 1459.58 830.514 1468.33 Q830.514 1477.06 827.436 1481.67 Q824.38 1486.25 818.57 1486.25 Q812.76 1486.25 809.681 1481.67 Q806.626 1477.06 806.626 1468.33 Q806.626 1459.58 809.681 1455 Q812.76 1450.39 818.57 1450.39 Z\" fill=\"#000000\" fill-rule=\"evenodd\" fill-opacity=\"1\" /><path clip-path=\"url(#clip980)\" d=\"M1032.01 1466.44 Q1028.86 1466.44 1027.01 1468.59 Q1025.18 1470.74 1025.18 1474.49 Q1025.18 1478.22 1027.01 1480.39 Q1028.86 1482.55 1032.01 1482.55 Q1035.15 1482.55 1036.98 1480.39 Q1038.83 1478.22 1038.83 1474.49 Q1038.83 1470.74 1036.98 1468.59 Q1035.15 1466.44 1032.01 1466.44 M1041.29 1451.78 L1041.29 1456.04 Q1039.53 1455.21 1037.72 1454.77 Q1035.94 1454.33 1034.18 1454.33 Q1029.55 1454.33 1027.1 1457.45 Q1024.67 1460.58 1024.32 1466.9 Q1025.69 1464.89 1027.75 1463.82 Q1029.81 1462.73 1032.28 1462.73 Q1037.49 1462.73 1040.5 1465.9 Q1043.53 1469.05 1043.53 1474.49 Q1043.53 1479.82 1040.38 1483.03 Q1037.24 1486.25 1032.01 1486.25 Q1026.01 1486.25 1022.84 1481.67 Q1019.67 1477.06 1019.67 1468.33 Q1019.67 1460.14 1023.56 1455.28 Q1027.44 1450.39 1034 1450.39 Q1035.76 1450.39 1037.54 1450.74 Q1039.34 1451.09 1041.29 1451.78 Z\" fill=\"#000000\" fill-rule=\"evenodd\" fill-opacity=\"1\" /><path clip-path=\"url(#clip980)\" d=\"M1061.59 1454.1 Q1057.98 1454.1 1056.15 1457.66 Q1054.34 1461.2 1054.34 1468.33 Q1054.34 1475.44 1056.15 1479.01 Q1057.98 1482.55 1061.59 1482.55 Q1065.22 1482.55 1067.03 1479.01 Q1068.86 1475.44 1068.86 1468.33 Q1068.86 1461.2 1067.03 1457.66 Q1065.22 1454.1 1061.59 1454.1 M1061.59 1450.39 Q1067.4 1450.39 1070.45 1455 Q1073.53 1459.58 1073.53 1468.33 Q1073.53 1477.06 1070.45 1481.67 Q1067.4 1486.25 1061.59 1486.25 Q1055.78 1486.25 1052.7 1481.67 Q1049.64 1477.06 1049.64 1468.33 Q1049.64 1459.58 1052.7 1455 Q1055.78 1450.39 1061.59 1450.39 Z\" fill=\"#000000\" fill-rule=\"evenodd\" fill-opacity=\"1\" /><path clip-path=\"url(#clip980)\" d=\"M1091.75 1454.1 Q1088.14 1454.1 1086.31 1457.66 Q1084.5 1461.2 1084.5 1468.33 Q1084.5 1475.44 1086.31 1479.01 Q1088.14 1482.55 1091.75 1482.55 Q1095.38 1482.55 1097.19 1479.01 Q1099.02 1475.44 1099.02 1468.33 Q1099.02 1461.2 1097.19 1457.66 Q1095.38 1454.1 1091.75 1454.1 M1091.75 1450.39 Q1097.56 1450.39 1100.62 1455 Q1103.69 1459.58 1103.69 1468.33 Q1103.69 1477.06 1100.62 1481.67 Q1097.56 1486.25 1091.75 1486.25 Q1085.94 1486.25 1082.86 1481.67 Q1079.81 1477.06 1079.81 1468.33 Q1079.81 1459.58 1082.86 1455 Q1085.94 1450.39 1091.75 1450.39 Z\" fill=\"#000000\" fill-rule=\"evenodd\" fill-opacity=\"1\" /><path clip-path=\"url(#clip980)\" d=\"M1305.15 1469.17 Q1301.82 1469.17 1299.9 1470.95 Q1298 1472.73 1298 1475.86 Q1298 1478.98 1299.9 1480.77 Q1301.82 1482.55 1305.15 1482.55 Q1308.48 1482.55 1310.41 1480.77 Q1312.33 1478.96 1312.33 1475.86 Q1312.33 1472.73 1310.41 1470.95 Q1308.51 1469.17 1305.15 1469.17 M1300.47 1467.18 Q1297.47 1466.44 1295.78 1464.38 Q1294.11 1462.32 1294.11 1459.35 Q1294.11 1455.21 1297.05 1452.8 Q1300.01 1450.39 1305.15 1450.39 Q1310.31 1450.39 1313.25 1452.8 Q1316.19 1455.21 1316.19 1459.35 Q1316.19 1462.32 1314.5 1464.38 Q1312.84 1466.44 1309.85 1467.18 Q1313.23 1467.96 1315.1 1470.26 Q1317 1472.55 1317 1475.86 Q1317 1480.88 1313.92 1483.57 Q1310.87 1486.25 1305.15 1486.25 Q1299.43 1486.25 1296.35 1483.57 Q1293.3 1480.88 1293.3 1475.86 Q1293.3 1472.55 1295.2 1470.26 Q1297.1 1467.96 1300.47 1467.18 M1298.76 1459.79 Q1298.76 1462.48 1300.43 1463.98 Q1302.12 1465.49 1305.15 1465.49 Q1308.16 1465.49 1309.85 1463.98 Q1311.56 1462.48 1311.56 1459.79 Q1311.56 1457.11 1309.85 1455.6 Q1308.16 1454.1 1305.15 1454.1 Q1302.12 1454.1 1300.43 1455.6 Q1298.76 1457.11 1298.76 1459.79 Z\" fill=\"#000000\" fill-rule=\"evenodd\" fill-opacity=\"1\" /><path clip-path=\"url(#clip980)\" d=\"M1335.31 1454.1 Q1331.7 1454.1 1329.87 1457.66 Q1328.07 1461.2 1328.07 1468.33 Q1328.07 1475.44 1329.87 1479.01 Q1331.7 1482.55 1335.31 1482.55 Q1338.95 1482.55 1340.75 1479.01 Q1342.58 1475.44 1342.58 1468.33 Q1342.58 1461.2 1340.75 1457.66 Q1338.95 1454.1 1335.31 1454.1 M1335.31 1450.39 Q1341.12 1450.39 1344.18 1455 Q1347.26 1459.58 1347.26 1468.33 Q1347.26 1477.06 1344.18 1481.67 Q1341.12 1486.25 1335.31 1486.25 Q1329.5 1486.25 1326.42 1481.67 Q1323.37 1477.06 1323.37 1468.33 Q1323.37 1459.58 1326.42 1455 Q1329.5 1450.39 1335.31 1450.39 Z\" fill=\"#000000\" fill-rule=\"evenodd\" fill-opacity=\"1\" /><path clip-path=\"url(#clip980)\" d=\"M1365.47 1454.1 Q1361.86 1454.1 1360.03 1457.66 Q1358.23 1461.2 1358.23 1468.33 Q1358.23 1475.44 1360.03 1479.01 Q1361.86 1482.55 1365.47 1482.55 Q1369.11 1482.55 1370.91 1479.01 Q1372.74 1475.44 1372.74 1468.33 Q1372.74 1461.2 1370.91 1457.66 Q1369.11 1454.1 1365.47 1454.1 M1365.47 1450.39 Q1371.28 1450.39 1374.34 1455 Q1377.42 1459.58 1377.42 1468.33 Q1377.42 1477.06 1374.34 1481.67 Q1371.28 1486.25 1365.47 1486.25 Q1359.66 1486.25 1356.59 1481.67 Q1353.53 1477.06 1353.53 1468.33 Q1353.53 1459.58 1356.59 1455 Q1359.66 1450.39 1365.47 1450.39 Z\" fill=\"#000000\" fill-rule=\"evenodd\" fill-opacity=\"1\" /><path clip-path=\"url(#clip980)\" d=\"M1553.56 1481.64 L1561.2 1481.64 L1561.2 1455.28 L1552.89 1456.95 L1552.89 1452.69 L1561.15 1451.02 L1565.83 1451.02 L1565.83 1481.64 L1573.47 1481.64 L1573.47 1485.58 L1553.56 1485.58 L1553.56 1481.64 Z\" fill=\"#000000\" fill-rule=\"evenodd\" fill-opacity=\"1\" /><path clip-path=\"url(#clip980)\" d=\"M1592.91 1454.1 Q1589.3 1454.1 1587.47 1457.66 Q1585.67 1461.2 1585.67 1468.33 Q1585.67 1475.44 1587.47 1479.01 Q1589.3 1482.55 1592.91 1482.55 Q1596.55 1482.55 1598.35 1479.01 Q1600.18 1475.44 1600.18 1468.33 Q1600.18 1461.2 1598.35 1457.66 Q1596.55 1454.1 1592.91 1454.1 M1592.91 1450.39 Q1598.72 1450.39 1601.78 1455 Q1604.86 1459.58 1604.86 1468.33 Q1604.86 1477.06 1601.78 1481.67 Q1598.72 1486.25 1592.91 1486.25 Q1587.1 1486.25 1584.03 1481.67 Q1580.97 1477.06 1580.97 1468.33 Q1580.97 1459.58 1584.03 1455 Q1587.1 1450.39 1592.91 1450.39 Z\" fill=\"#000000\" fill-rule=\"evenodd\" fill-opacity=\"1\" /><path clip-path=\"url(#clip980)\" d=\"M1623.08 1454.1 Q1619.46 1454.1 1617.64 1457.66 Q1615.83 1461.2 1615.83 1468.33 Q1615.83 1475.44 1617.64 1479.01 Q1619.46 1482.55 1623.08 1482.55 Q1626.71 1482.55 1628.52 1479.01 Q1630.34 1475.44 1630.34 1468.33 Q1630.34 1461.2 1628.52 1457.66 Q1626.71 1454.1 1623.08 1454.1 M1623.08 1450.39 Q1628.89 1450.39 1631.94 1455 Q1635.02 1459.58 1635.02 1468.33 Q1635.02 1477.06 1631.94 1481.67 Q1628.89 1486.25 1623.08 1486.25 Q1617.27 1486.25 1614.19 1481.67 Q1611.13 1477.06 1611.13 1468.33 Q1611.13 1459.58 1614.19 1455 Q1617.27 1450.39 1623.08 1450.39 Z\" fill=\"#000000\" fill-rule=\"evenodd\" fill-opacity=\"1\" /><path clip-path=\"url(#clip980)\" d=\"M1653.24 1454.1 Q1649.63 1454.1 1647.8 1457.66 Q1645.99 1461.2 1645.99 1468.33 Q1645.99 1475.44 1647.8 1479.01 Q1649.63 1482.55 1653.24 1482.55 Q1656.87 1482.55 1658.68 1479.01 Q1660.51 1475.44 1660.51 1468.33 Q1660.51 1461.2 1658.68 1457.66 Q1656.87 1454.1 1653.24 1454.1 M1653.24 1450.39 Q1659.05 1450.39 1662.1 1455 Q1665.18 1459.58 1665.18 1468.33 Q1665.18 1477.06 1662.1 1481.67 Q1659.05 1486.25 1653.24 1486.25 Q1647.43 1486.25 1644.35 1481.67 Q1641.29 1477.06 1641.29 1468.33 Q1641.29 1459.58 1644.35 1455 Q1647.43 1450.39 1653.24 1450.39 Z\" fill=\"#000000\" fill-rule=\"evenodd\" fill-opacity=\"1\" /><path clip-path=\"url(#clip980)\" d=\"M1827.24 1481.64 L1834.88 1481.64 L1834.88 1455.28 L1826.57 1456.95 L1826.57 1452.69 L1834.83 1451.02 L1839.51 1451.02 L1839.51 1481.64 L1847.15 1481.64 L1847.15 1485.58 L1827.24 1485.58 L1827.24 1481.64 Z\" fill=\"#000000\" fill-rule=\"evenodd\" fill-opacity=\"1\" /><path clip-path=\"url(#clip980)\" d=\"M1860.62 1481.64 L1876.94 1481.64 L1876.94 1485.58 L1854.99 1485.58 L1854.99 1481.64 Q1857.66 1478.89 1862.24 1474.26 Q1866.85 1469.61 1868.03 1468.27 Q1870.27 1465.74 1871.15 1464.01 Q1872.05 1462.25 1872.05 1460.56 Q1872.05 1457.8 1870.11 1456.07 Q1868.19 1454.33 1865.09 1454.33 Q1862.89 1454.33 1860.43 1455.09 Q1858 1455.86 1855.23 1457.41 L1855.23 1452.69 Q1858.05 1451.55 1860.5 1450.97 Q1862.96 1450.39 1864.99 1450.39 Q1870.36 1450.39 1873.56 1453.08 Q1876.75 1455.77 1876.75 1460.26 Q1876.75 1462.39 1875.94 1464.31 Q1875.16 1466.2 1873.05 1468.8 Q1872.47 1469.47 1869.37 1472.69 Q1866.27 1475.88 1860.62 1481.64 Z\" fill=\"#000000\" fill-rule=\"evenodd\" fill-opacity=\"1\" /><path clip-path=\"url(#clip980)\" d=\"M1896.75 1454.1 Q1893.14 1454.1 1891.31 1457.66 Q1889.51 1461.2 1889.51 1468.33 Q1889.51 1475.44 1891.31 1479.01 Q1893.14 1482.55 1896.75 1482.55 Q1900.39 1482.55 1902.19 1479.01 Q1904.02 1475.44 1904.02 1468.33 Q1904.02 1461.2 1902.19 1457.66 Q1900.39 1454.1 1896.75 1454.1 M1896.75 1450.39 Q1902.56 1450.39 1905.62 1455 Q1908.7 1459.58 1908.7 1468.33 Q1908.7 1477.06 1905.62 1481.67 Q1902.56 1486.25 1896.75 1486.25 Q1890.94 1486.25 1887.86 1481.67 Q1884.81 1477.06 1884.81 1468.33 Q1884.81 1459.58 1887.86 1455 Q1890.94 1450.39 1896.75 1450.39 Z\" fill=\"#000000\" fill-rule=\"evenodd\" fill-opacity=\"1\" /><path clip-path=\"url(#clip980)\" d=\"M1926.92 1454.1 Q1923.3 1454.1 1921.48 1457.66 Q1919.67 1461.2 1919.67 1468.33 Q1919.67 1475.44 1921.48 1479.01 Q1923.3 1482.55 1926.92 1482.55 Q1930.55 1482.55 1932.36 1479.01 Q1934.18 1475.44 1934.18 1468.33 Q1934.18 1461.2 1932.36 1457.66 Q1930.55 1454.1 1926.92 1454.1 M1926.92 1450.39 Q1932.73 1450.39 1935.78 1455 Q1938.86 1459.58 1938.86 1468.33 Q1938.86 1477.06 1935.78 1481.67 Q1932.73 1486.25 1926.92 1486.25 Q1921.11 1486.25 1918.03 1481.67 Q1914.97 1477.06 1914.97 1468.33 Q1914.97 1459.58 1918.03 1455 Q1921.11 1450.39 1926.92 1450.39 Z\" fill=\"#000000\" fill-rule=\"evenodd\" fill-opacity=\"1\" /><path clip-path=\"url(#clip980)\" d=\"M2100.92 1481.64 L2108.56 1481.64 L2108.56 1455.28 L2100.25 1456.95 L2100.25 1452.69 L2108.51 1451.02 L2113.19 1451.02 L2113.19 1481.64 L2120.83 1481.64 L2120.83 1485.58 L2100.92 1485.58 L2100.92 1481.64 Z\" fill=\"#000000\" fill-rule=\"evenodd\" fill-opacity=\"1\" /><path clip-path=\"url(#clip980)\" d=\"M2143.12 1455.09 L2131.31 1473.54 L2143.12 1473.54 L2143.12 1455.09 M2141.89 1451.02 L2147.77 1451.02 L2147.77 1473.54 L2152.7 1473.54 L2152.7 1477.43 L2147.77 1477.43 L2147.77 1485.58 L2143.12 1485.58 L2143.12 1477.43 L2127.51 1477.43 L2127.51 1472.92 L2141.89 1451.02 Z\" fill=\"#000000\" fill-rule=\"evenodd\" fill-opacity=\"1\" /><path clip-path=\"url(#clip980)\" d=\"M2170.43 1454.1 Q2166.82 1454.1 2164.99 1457.66 Q2163.19 1461.2 2163.19 1468.33 Q2163.19 1475.44 2164.99 1479.01 Q2166.82 1482.55 2170.43 1482.55 Q2174.07 1482.55 2175.87 1479.01 Q2177.7 1475.44 2177.7 1468.33 Q2177.7 1461.2 2175.87 1457.66 Q2174.07 1454.1 2170.43 1454.1 M2170.43 1450.39 Q2176.24 1450.39 2179.3 1455 Q2182.38 1459.58 2182.38 1468.33 Q2182.38 1477.06 2179.3 1481.67 Q2176.24 1486.25 2170.43 1486.25 Q2164.62 1486.25 2161.54 1481.67 Q2158.49 1477.06 2158.49 1468.33 Q2158.49 1459.58 2161.54 1455 Q2164.62 1450.39 2170.43 1450.39 Z\" fill=\"#000000\" fill-rule=\"evenodd\" fill-opacity=\"1\" /><path clip-path=\"url(#clip980)\" d=\"M2200.59 1454.1 Q2196.98 1454.1 2195.15 1457.66 Q2193.35 1461.2 2193.35 1468.33 Q2193.35 1475.44 2195.15 1479.01 Q2196.98 1482.55 2200.59 1482.55 Q2204.23 1482.55 2206.03 1479.01 Q2207.86 1475.44 2207.86 1468.33 Q2207.86 1461.2 2206.03 1457.66 Q2204.23 1454.1 2200.59 1454.1 M2200.59 1450.39 Q2206.4 1450.39 2209.46 1455 Q2212.54 1459.58 2212.54 1468.33 Q2212.54 1477.06 2209.46 1481.67 Q2206.4 1486.25 2200.59 1486.25 Q2194.78 1486.25 2191.7 1481.67 Q2188.65 1477.06 2188.65 1468.33 Q2188.65 1459.58 2191.7 1455 Q2194.78 1450.39 2200.59 1450.39 Z\" fill=\"#000000\" fill-rule=\"evenodd\" fill-opacity=\"1\" /><path clip-path=\"url(#clip980)\" d=\"M1316.08 1546.53 L1316.08 1568.04 L1310.22 1568.04 L1310.22 1546.72 Q1310.22 1541.66 1308.25 1539.14 Q1306.27 1536.63 1302.33 1536.63 Q1297.58 1536.63 1294.85 1539.65 Q1292.11 1542.68 1292.11 1547.9 L1292.11 1568.04 L1286.22 1568.04 L1286.22 1532.4 L1292.11 1532.4 L1292.11 1537.93 Q1294.21 1534.72 1297.04 1533.13 Q1299.91 1531.54 1303.63 1531.54 Q1309.77 1531.54 1312.93 1535.36 Q1316.08 1539.14 1316.08 1546.53 Z\" fill=\"#000000\" fill-rule=\"evenodd\" fill-opacity=\"1\" /><polyline clip-path=\"url(#clip982)\" style=\"stroke:#000000; stroke-linecap:butt; stroke-linejoin:round; stroke-width:2; stroke-opacity:0.1; fill:none\" points=\"\n  249.542,1417.65 2352.76,1417.65 \n  \"/>\n<polyline clip-path=\"url(#clip982)\" style=\"stroke:#000000; stroke-linecap:butt; stroke-linejoin:round; stroke-width:2; stroke-opacity:0.1; fill:none\" points=\"\n  249.542,1000.89 2352.76,1000.89 \n  \"/>\n<polyline clip-path=\"url(#clip982)\" style=\"stroke:#000000; stroke-linecap:butt; stroke-linejoin:round; stroke-width:2; stroke-opacity:0.1; fill:none\" points=\"\n  249.542,584.129 2352.76,584.129 \n  \"/>\n<polyline clip-path=\"url(#clip982)\" style=\"stroke:#000000; stroke-linecap:butt; stroke-linejoin:round; stroke-width:2; stroke-opacity:0.1; fill:none\" points=\"\n  249.542,167.368 2352.76,167.368 \n  \"/>\n<polyline clip-path=\"url(#clip980)\" style=\"stroke:#000000; stroke-linecap:butt; stroke-linejoin:round; stroke-width:4; stroke-opacity:1; fill:none\" points=\"\n  249.542,1423.18 249.542,123.472 \n  \"/>\n<polyline clip-path=\"url(#clip980)\" style=\"stroke:#000000; stroke-linecap:butt; stroke-linejoin:round; stroke-width:4; stroke-opacity:1; fill:none\" points=\"\n  249.542,1417.65 268.44,1417.65 \n  \"/>\n<polyline clip-path=\"url(#clip980)\" style=\"stroke:#000000; stroke-linecap:butt; stroke-linejoin:round; stroke-width:4; stroke-opacity:1; fill:none\" points=\"\n  249.542,1000.89 268.44,1000.89 \n  \"/>\n<polyline clip-path=\"url(#clip980)\" style=\"stroke:#000000; stroke-linecap:butt; stroke-linejoin:round; stroke-width:4; stroke-opacity:1; fill:none\" points=\"\n  249.542,584.129 268.44,584.129 \n  \"/>\n<polyline clip-path=\"url(#clip980)\" style=\"stroke:#000000; stroke-linecap:butt; stroke-linejoin:round; stroke-width:4; stroke-opacity:1; fill:none\" points=\"\n  249.542,167.368 268.44,167.368 \n  \"/>\n<path clip-path=\"url(#clip980)\" d=\"M126.205 1403.45 Q122.593 1403.45 120.765 1407.01 Q118.959 1410.56 118.959 1417.69 Q118.959 1424.79 120.765 1428.36 Q122.593 1431.9 126.205 1431.9 Q129.839 1431.9 131.644 1428.36 Q133.473 1424.79 133.473 1417.69 Q133.473 1410.56 131.644 1407.01 Q129.839 1403.45 126.205 1403.45 M126.205 1399.75 Q132.015 1399.75 135.07 1404.35 Q138.149 1408.94 138.149 1417.69 Q138.149 1426.41 135.07 1431.02 Q132.015 1435.6 126.205 1435.6 Q120.394 1435.6 117.316 1431.02 Q114.26 1426.41 114.26 1417.69 Q114.26 1408.94 117.316 1404.35 Q120.394 1399.75 126.205 1399.75 Z\" fill=\"#000000\" fill-rule=\"evenodd\" fill-opacity=\"1\" /><path clip-path=\"url(#clip980)\" d=\"M146.366 1429.05 L151.251 1429.05 L151.251 1434.93 L146.366 1434.93 L146.366 1429.05 Z\" fill=\"#000000\" fill-rule=\"evenodd\" fill-opacity=\"1\" /><path clip-path=\"url(#clip980)\" d=\"M171.436 1403.45 Q167.825 1403.45 165.996 1407.01 Q164.19 1410.56 164.19 1417.69 Q164.19 1424.79 165.996 1428.36 Q167.825 1431.9 171.436 1431.9 Q175.07 1431.9 176.876 1428.36 Q178.704 1424.79 178.704 1417.69 Q178.704 1410.56 176.876 1407.01 Q175.07 1403.45 171.436 1403.45 M171.436 1399.75 Q177.246 1399.75 180.301 1404.35 Q183.38 1408.94 183.38 1417.69 Q183.38 1426.41 180.301 1431.02 Q177.246 1435.6 171.436 1435.6 Q165.626 1435.6 162.547 1431.02 Q159.491 1426.41 159.491 1417.69 Q159.491 1408.94 162.547 1404.35 Q165.626 1399.75 171.436 1399.75 Z\" fill=\"#000000\" fill-rule=\"evenodd\" fill-opacity=\"1\" /><path clip-path=\"url(#clip980)\" d=\"M201.598 1403.45 Q197.987 1403.45 196.158 1407.01 Q194.352 1410.56 194.352 1417.69 Q194.352 1424.79 196.158 1428.36 Q197.987 1431.9 201.598 1431.9 Q205.232 1431.9 207.037 1428.36 Q208.866 1424.79 208.866 1417.69 Q208.866 1410.56 207.037 1407.01 Q205.232 1403.45 201.598 1403.45 M201.598 1399.75 Q207.408 1399.75 210.463 1404.35 Q213.542 1408.94 213.542 1417.69 Q213.542 1426.41 210.463 1431.02 Q207.408 1435.6 201.598 1435.6 Q195.787 1435.6 192.709 1431.02 Q189.653 1426.41 189.653 1417.69 Q189.653 1408.94 192.709 1404.35 Q195.787 1399.75 201.598 1399.75 Z\" fill=\"#000000\" fill-rule=\"evenodd\" fill-opacity=\"1\" /><path clip-path=\"url(#clip980)\" d=\"M127.2 986.688 Q123.589 986.688 121.76 990.253 Q119.955 993.795 119.955 1000.92 Q119.955 1008.03 121.76 1011.6 Q123.589 1015.14 127.2 1015.14 Q130.834 1015.14 132.64 1011.6 Q134.468 1008.03 134.468 1000.92 Q134.468 993.795 132.64 990.253 Q130.834 986.688 127.2 986.688 M127.2 982.985 Q133.01 982.985 136.066 987.591 Q139.144 992.175 139.144 1000.92 Q139.144 1009.65 136.066 1014.26 Q133.01 1018.84 127.2 1018.84 Q121.39 1018.84 118.311 1014.26 Q115.256 1009.65 115.256 1000.92 Q115.256 992.175 118.311 987.591 Q121.39 982.985 127.2 982.985 Z\" fill=\"#000000\" fill-rule=\"evenodd\" fill-opacity=\"1\" /><path clip-path=\"url(#clip980)\" d=\"M147.362 1012.29 L152.246 1012.29 L152.246 1018.17 L147.362 1018.17 L147.362 1012.29 Z\" fill=\"#000000\" fill-rule=\"evenodd\" fill-opacity=\"1\" /><path clip-path=\"url(#clip980)\" d=\"M172.431 986.688 Q168.82 986.688 166.991 990.253 Q165.186 993.795 165.186 1000.92 Q165.186 1008.03 166.991 1011.6 Q168.82 1015.14 172.431 1015.14 Q176.065 1015.14 177.871 1011.6 Q179.7 1008.03 179.7 1000.92 Q179.7 993.795 177.871 990.253 Q176.065 986.688 172.431 986.688 M172.431 982.985 Q178.241 982.985 181.297 987.591 Q184.376 992.175 184.376 1000.92 Q184.376 1009.65 181.297 1014.26 Q178.241 1018.84 172.431 1018.84 Q166.621 1018.84 163.542 1014.26 Q160.487 1009.65 160.487 1000.92 Q160.487 992.175 163.542 987.591 Q166.621 982.985 172.431 982.985 Z\" fill=\"#000000\" fill-rule=\"evenodd\" fill-opacity=\"1\" /><path clip-path=\"url(#clip980)\" d=\"M192.639 983.61 L210.996 983.61 L210.996 987.545 L196.922 987.545 L196.922 996.017 Q197.94 995.67 198.959 995.508 Q199.977 995.323 200.996 995.323 Q206.783 995.323 210.162 998.494 Q213.542 1001.67 213.542 1007.08 Q213.542 1012.66 210.07 1015.76 Q206.598 1018.84 200.278 1018.84 Q198.102 1018.84 195.834 1018.47 Q193.588 1018.1 191.181 1017.36 L191.181 1012.66 Q193.264 1013.79 195.487 1014.35 Q197.709 1014.91 200.186 1014.91 Q204.19 1014.91 206.528 1012.8 Q208.866 1010.69 208.866 1007.08 Q208.866 1003.47 206.528 1001.36 Q204.19 999.258 200.186 999.258 Q198.311 999.258 196.436 999.675 Q194.584 1000.09 192.639 1000.97 L192.639 983.61 Z\" fill=\"#000000\" fill-rule=\"evenodd\" fill-opacity=\"1\" /><path clip-path=\"url(#clip980)\" d=\"M126.205 569.928 Q122.593 569.928 120.765 573.493 Q118.959 577.034 118.959 584.164 Q118.959 591.27 120.765 594.835 Q122.593 598.377 126.205 598.377 Q129.839 598.377 131.644 594.835 Q133.473 591.27 133.473 584.164 Q133.473 577.034 131.644 573.493 Q129.839 569.928 126.205 569.928 M126.205 566.224 Q132.015 566.224 135.07 570.831 Q138.149 575.414 138.149 584.164 Q138.149 592.891 135.07 597.497 Q132.015 602.08 126.205 602.08 Q120.394 602.08 117.316 597.497 Q114.26 592.891 114.26 584.164 Q114.26 575.414 117.316 570.831 Q120.394 566.224 126.205 566.224 Z\" fill=\"#000000\" fill-rule=\"evenodd\" fill-opacity=\"1\" /><path clip-path=\"url(#clip980)\" d=\"M146.366 595.529 L151.251 595.529 L151.251 601.409 L146.366 601.409 L146.366 595.529 Z\" fill=\"#000000\" fill-rule=\"evenodd\" fill-opacity=\"1\" /><path clip-path=\"url(#clip980)\" d=\"M162.246 597.474 L169.885 597.474 L169.885 571.108 L161.575 572.775 L161.575 568.516 L169.839 566.849 L174.514 566.849 L174.514 597.474 L182.153 597.474 L182.153 601.409 L162.246 601.409 L162.246 597.474 Z\" fill=\"#000000\" fill-rule=\"evenodd\" fill-opacity=\"1\" /><path clip-path=\"url(#clip980)\" d=\"M201.598 569.928 Q197.987 569.928 196.158 573.493 Q194.352 577.034 194.352 584.164 Q194.352 591.27 196.158 594.835 Q197.987 598.377 201.598 598.377 Q205.232 598.377 207.037 594.835 Q208.866 591.27 208.866 584.164 Q208.866 577.034 207.037 573.493 Q205.232 569.928 201.598 569.928 M201.598 566.224 Q207.408 566.224 210.463 570.831 Q213.542 575.414 213.542 584.164 Q213.542 592.891 210.463 597.497 Q207.408 602.08 201.598 602.08 Q195.787 602.08 192.709 597.497 Q189.653 592.891 189.653 584.164 Q189.653 575.414 192.709 570.831 Q195.787 566.224 201.598 566.224 Z\" fill=\"#000000\" fill-rule=\"evenodd\" fill-opacity=\"1\" /><path clip-path=\"url(#clip980)\" d=\"M127.2 153.167 Q123.589 153.167 121.76 156.732 Q119.955 160.273 119.955 167.403 Q119.955 174.509 121.76 178.074 Q123.589 181.616 127.2 181.616 Q130.834 181.616 132.64 178.074 Q134.468 174.509 134.468 167.403 Q134.468 160.273 132.64 156.732 Q130.834 153.167 127.2 153.167 M127.2 149.463 Q133.01 149.463 136.066 154.07 Q139.144 158.653 139.144 167.403 Q139.144 176.13 136.066 180.736 Q133.01 185.32 127.2 185.32 Q121.39 185.32 118.311 180.736 Q115.256 176.13 115.256 167.403 Q115.256 158.653 118.311 154.07 Q121.39 149.463 127.2 149.463 Z\" fill=\"#000000\" fill-rule=\"evenodd\" fill-opacity=\"1\" /><path clip-path=\"url(#clip980)\" d=\"M147.362 178.769 L152.246 178.769 L152.246 184.648 L147.362 184.648 L147.362 178.769 Z\" fill=\"#000000\" fill-rule=\"evenodd\" fill-opacity=\"1\" /><path clip-path=\"url(#clip980)\" d=\"M163.241 180.713 L170.88 180.713 L170.88 154.348 L162.57 156.014 L162.57 151.755 L170.834 150.088 L175.51 150.088 L175.51 180.713 L183.149 180.713 L183.149 184.648 L163.241 184.648 L163.241 180.713 Z\" fill=\"#000000\" fill-rule=\"evenodd\" fill-opacity=\"1\" /><path clip-path=\"url(#clip980)\" d=\"M192.639 150.088 L210.996 150.088 L210.996 154.023 L196.922 154.023 L196.922 162.496 Q197.94 162.148 198.959 161.986 Q199.977 161.801 200.996 161.801 Q206.783 161.801 210.162 164.972 Q213.542 168.144 213.542 173.56 Q213.542 179.139 210.07 182.241 Q206.598 185.32 200.278 185.32 Q198.102 185.32 195.834 184.949 Q193.588 184.579 191.181 183.838 L191.181 179.139 Q193.264 180.273 195.487 180.829 Q197.709 181.384 200.186 181.384 Q204.19 181.384 206.528 179.278 Q208.866 177.171 208.866 173.56 Q208.866 169.949 206.528 167.843 Q204.19 165.736 200.186 165.736 Q198.311 165.736 196.436 166.153 Q194.584 166.57 192.639 167.449 L192.639 150.088 Z\" fill=\"#000000\" fill-rule=\"evenodd\" fill-opacity=\"1\" /><path clip-path=\"url(#clip980)\" d=\"M41.3104 1089.3 L58.7206 1089.3 L58.7206 1078.99 Q58.7206 1073.8 56.5881 1071.32 Q54.4238 1068.81 49.9996 1068.81 Q45.5436 1068.81 43.4429 1071.32 Q41.3104 1073.8 41.3104 1078.99 L41.3104 1089.3 M21.7677 1089.3 L36.0905 1089.3 L36.0905 1079.79 Q36.0905 1075.08 34.34 1072.78 Q32.5576 1070.46 28.9291 1070.46 Q25.3325 1070.46 23.5501 1072.78 Q21.7677 1075.08 21.7677 1079.79 L21.7677 1089.3 M16.4842 1095.73 L16.4842 1079.31 Q16.4842 1071.96 19.5397 1067.98 Q22.5952 1064 28.2289 1064 Q32.5894 1064 35.1675 1066.04 Q37.7456 1068.07 38.3822 1072.02 Q39.4007 1067.28 42.6472 1064.67 Q45.8619 1062.03 50.6998 1062.03 Q57.0655 1062.03 60.5348 1066.36 Q64.0042 1070.68 64.0042 1078.67 L64.0042 1095.73 L16.4842 1095.73 Z\" fill=\"#000000\" fill-rule=\"evenodd\" fill-opacity=\"1\" /><path clip-path=\"url(#clip980)\" d=\"M32.4621 1037.46 Q32.4621 1042.17 36.1542 1044.9 Q39.8145 1047.64 46.212 1047.64 Q52.6095 1047.64 56.3017 1044.93 Q59.9619 1042.2 59.9619 1037.46 Q59.9619 1032.78 56.2698 1030.04 Q52.5777 1027.3 46.212 1027.3 Q39.8781 1027.3 36.186 1030.04 Q32.4621 1032.78 32.4621 1037.46 M27.4968 1037.46 Q27.4968 1029.82 32.4621 1025.46 Q37.4273 1021.1 46.212 1021.1 Q54.9649 1021.1 59.9619 1025.46 Q64.9272 1029.82 64.9272 1037.46 Q64.9272 1045.13 59.9619 1049.49 Q54.9649 1053.81 46.212 1053.81 Q37.4273 1053.81 32.4621 1049.49 Q27.4968 1045.13 27.4968 1037.46 Z\" fill=\"#000000\" fill-rule=\"evenodd\" fill-opacity=\"1\" /><path clip-path=\"url(#clip980)\" d=\"M18.2347 1005.59 L28.3562 1005.59 L28.3562 993.532 L32.9077 993.532 L32.9077 1005.59 L52.2594 1005.59 Q56.6199 1005.59 57.8613 1004.42 Q59.1026 1003.21 59.1026 999.547 L59.1026 993.532 L64.0042 993.532 L64.0042 999.547 Q64.0042 1006.33 61.4897 1008.9 Q58.9434 1011.48 52.2594 1011.48 L32.9077 1011.48 L32.9077 1015.78 L28.3562 1015.78 L28.3562 1011.48 L18.2347 1011.48 L18.2347 1005.59 Z\" fill=\"#000000\" fill-rule=\"evenodd\" fill-opacity=\"1\" /><path clip-path=\"url(#clip980)\" d=\"M18.2347 980.036 L28.3562 980.036 L28.3562 967.973 L32.9077 967.973 L32.9077 980.036 L52.2594 980.036 Q56.6199 980.036 57.8613 978.859 Q59.1026 977.649 59.1026 973.989 L59.1026 967.973 L64.0042 967.973 L64.0042 973.989 Q64.0042 980.768 61.4897 983.347 Q58.9434 985.925 52.2594 985.925 L32.9077 985.925 L32.9077 990.222 L28.3562 990.222 L28.3562 985.925 L18.2347 985.925 L18.2347 980.036 Z\" fill=\"#000000\" fill-rule=\"evenodd\" fill-opacity=\"1\" /><path clip-path=\"url(#clip980)\" d=\"M14.479 960.271 L14.479 954.414 L64.0042 954.414 L64.0042 960.271 L14.479 960.271 Z\" fill=\"#000000\" fill-rule=\"evenodd\" fill-opacity=\"1\" /><path clip-path=\"url(#clip980)\" d=\"M44.7161 911.669 L47.5806 911.669 L47.5806 938.596 Q53.6281 938.214 56.8109 934.967 Q59.9619 931.689 59.9619 925.864 Q59.9619 922.49 59.1344 919.339 Q58.3069 916.157 56.6518 913.037 L62.1899 913.037 Q63.5267 916.188 64.227 919.499 Q64.9272 922.809 64.9272 926.214 Q64.9272 934.744 59.9619 939.741 Q54.9967 944.707 46.5303 944.707 Q37.7774 944.707 32.6531 939.996 Q27.4968 935.254 27.4968 927.233 Q27.4968 920.04 32.1438 915.87 Q36.7589 911.669 44.7161 911.669 M42.9973 917.525 Q38.1912 917.589 35.3266 920.231 Q32.4621 922.841 32.4621 927.169 Q32.4621 932.071 35.2312 935.031 Q38.0002 937.959 43.0292 938.405 L42.9973 917.525 Z\" fill=\"#000000\" fill-rule=\"evenodd\" fill-opacity=\"1\" /><path clip-path=\"url(#clip980)\" d=\"M42.4881 872.424 L64.0042 872.424 L64.0042 878.281 L42.679 878.281 Q37.6183 878.281 35.1038 880.254 Q32.5894 882.227 32.5894 886.174 Q32.5894 890.916 35.6131 893.654 Q38.6368 896.391 43.8567 896.391 L64.0042 896.391 L64.0042 902.279 L28.3562 902.279 L28.3562 896.391 L33.8944 896.391 Q30.6797 894.29 29.0883 891.458 Q27.4968 888.593 27.4968 884.869 Q27.4968 878.726 31.3163 875.575 Q35.1038 872.424 42.4881 872.424 Z\" fill=\"#000000\" fill-rule=\"evenodd\" fill-opacity=\"1\" /><path clip-path=\"url(#clip980)\" d=\"M44.7161 830.251 L47.5806 830.251 L47.5806 857.178 Q53.6281 856.796 56.8109 853.55 Q59.9619 850.271 59.9619 844.447 Q59.9619 841.073 59.1344 837.922 Q58.3069 834.739 56.6518 831.62 L62.1899 831.62 Q63.5267 834.771 64.227 838.081 Q64.9272 841.391 64.9272 844.797 Q64.9272 853.327 59.9619 858.324 Q54.9967 863.289 46.5303 863.289 Q37.7774 863.289 32.6531 858.579 Q27.4968 853.836 27.4968 845.815 Q27.4968 838.622 32.1438 834.453 Q36.7589 830.251 44.7161 830.251 M42.9973 836.108 Q38.1912 836.171 35.3266 838.813 Q32.4621 841.423 32.4621 845.752 Q32.4621 850.653 35.2312 853.613 Q38.0002 856.542 43.0292 856.987 L42.9973 836.108 Z\" fill=\"#000000\" fill-rule=\"evenodd\" fill-opacity=\"1\" /><path clip-path=\"url(#clip980)\" d=\"M29.7248 794.985 L35.1993 794.985 Q33.8307 797.468 33.1623 799.982 Q32.4621 802.465 32.4621 805.011 Q32.4621 810.709 36.0905 813.86 Q39.6872 817.011 46.212 817.011 Q52.7369 817.011 56.3653 813.86 Q59.9619 810.709 59.9619 805.011 Q59.9619 802.465 59.2935 799.982 Q58.5933 797.468 57.2247 794.985 L62.6355 794.985 Q63.7814 797.436 64.3543 800.078 Q64.9272 802.688 64.9272 805.648 Q64.9272 813.7 59.8664 818.443 Q54.8057 823.185 46.212 823.185 Q37.491 823.185 32.4939 818.411 Q27.4968 813.605 27.4968 805.266 Q27.4968 802.56 28.0697 799.982 Q28.6108 797.404 29.7248 794.985 Z\" fill=\"#000000\" fill-rule=\"evenodd\" fill-opacity=\"1\" /><path clip-path=\"url(#clip980)\" d=\"M14.479 785.023 L14.479 779.135 L43.7294 779.135 L28.3562 761.661 L28.3562 754.181 L45.0344 773.087 L64.0042 753.385 L64.0042 761.024 L46.5939 779.135 L64.0042 779.135 L64.0042 785.023 L14.479 785.023 Z\" fill=\"#000000\" fill-rule=\"evenodd\" fill-opacity=\"1\" /><path clip-path=\"url(#clip980)\" d=\"M21.7677 719.647 L58.7206 719.647 L58.7206 711.881 Q58.7206 702.046 54.2646 697.495 Q49.8086 692.911 40.1964 692.911 Q30.6479 692.911 26.2237 697.495 Q21.7677 702.046 21.7677 711.881 L21.7677 719.647 M16.4842 726.077 L16.4842 712.868 Q16.4842 699.054 22.2451 692.593 Q27.9743 686.132 40.1964 686.132 Q52.4822 686.132 58.2432 692.625 Q64.0042 699.118 64.0042 712.868 L64.0042 726.077 L16.4842 726.077 Z\" fill=\"#000000\" fill-rule=\"evenodd\" fill-opacity=\"1\" /><path clip-path=\"url(#clip980)\" d=\"M28.3562 676.138 L28.3562 670.281 L64.0042 670.281 L64.0042 676.138 L28.3562 676.138 M14.479 676.138 L14.479 670.281 L21.895 670.281 L21.895 676.138 L14.479 676.138 Z\" fill=\"#000000\" fill-rule=\"evenodd\" fill-opacity=\"1\" /><path clip-path=\"url(#clip980)\" d=\"M29.4065 635.302 L34.9447 635.302 Q33.6716 637.784 33.035 640.458 Q32.3984 643.131 32.3984 645.996 Q32.3984 650.356 33.7352 652.553 Q35.072 654.717 37.7456 654.717 Q39.7826 654.717 40.9603 653.157 Q42.1061 651.598 43.1565 646.887 L43.6021 644.882 Q44.9389 638.644 47.3897 636.034 Q49.8086 633.392 54.1691 633.392 Q59.1344 633.392 62.0308 637.339 Q64.9272 641.253 64.9272 648.128 Q64.9272 650.993 64.3543 654.112 Q63.8132 657.2 62.6992 660.637 L56.6518 660.637 Q58.3387 657.391 59.198 654.24 Q60.0256 651.089 60.0256 648.001 Q60.0256 643.863 58.6251 641.635 Q57.1929 639.407 54.6147 639.407 Q52.2276 639.407 50.9545 641.031 Q49.6813 642.622 48.5037 648.065 L48.0262 650.102 Q46.8804 655.544 44.5251 657.963 Q42.138 660.382 38.0002 660.382 Q32.9713 660.382 30.2341 656.818 Q27.4968 653.253 27.4968 646.696 Q27.4968 643.45 27.9743 640.585 Q28.4517 637.721 29.4065 635.302 Z\" fill=\"#000000\" fill-rule=\"evenodd\" fill-opacity=\"1\" /><path clip-path=\"url(#clip980)\" d=\"M18.2347 618.273 L28.3562 618.273 L28.3562 606.21 L32.9077 606.21 L32.9077 618.273 L52.2594 618.273 Q56.6199 618.273 57.8613 617.096 Q59.1026 615.886 59.1026 612.226 L59.1026 606.21 L64.0042 606.21 L64.0042 612.226 Q64.0042 619.005 61.4897 621.583 Q58.9434 624.162 52.2594 624.162 L32.9077 624.162 L32.9077 628.458 L28.3562 628.458 L28.3562 624.162 L18.2347 624.162 L18.2347 618.273 Z\" fill=\"#000000\" fill-rule=\"evenodd\" fill-opacity=\"1\" /><path clip-path=\"url(#clip980)\" d=\"M46.0847 582.307 Q46.0847 589.405 47.7079 592.142 Q49.3312 594.879 53.2461 594.879 Q56.3653 594.879 58.2114 592.842 Q60.0256 590.773 60.0256 587.24 Q60.0256 582.371 56.5881 579.442 Q53.1188 576.482 47.3897 576.482 L46.0847 576.482 L46.0847 582.307 M43.6657 570.626 L64.0042 570.626 L64.0042 576.482 L58.5933 576.482 Q61.8398 578.488 63.3994 581.48 Q64.9272 584.471 64.9272 588.8 Q64.9272 594.275 61.8716 597.521 Q58.7843 600.736 53.6281 600.736 Q47.6125 600.736 44.5569 596.725 Q41.5014 592.683 41.5014 584.694 L41.5014 576.482 L40.9285 576.482 Q36.8862 576.482 34.6901 579.156 Q32.4621 581.798 32.4621 586.604 Q32.4621 589.659 33.1941 592.556 Q33.9262 595.452 35.3903 598.126 L29.9795 598.126 Q28.7381 594.911 28.1334 591.887 Q27.4968 588.864 27.4968 585.999 Q27.4968 578.265 31.5072 574.445 Q35.5176 570.626 43.6657 570.626 Z\" fill=\"#000000\" fill-rule=\"evenodd\" fill-opacity=\"1\" /><path clip-path=\"url(#clip980)\" d=\"M42.4881 528.931 L64.0042 528.931 L64.0042 534.787 L42.679 534.787 Q37.6183 534.787 35.1038 536.76 Q32.5894 538.734 32.5894 542.681 Q32.5894 547.423 35.6131 550.16 Q38.6368 552.897 43.8567 552.897 L64.0042 552.897 L64.0042 558.786 L28.3562 558.786 L28.3562 552.897 L33.8944 552.897 Q30.6797 550.797 29.0883 547.964 Q27.4968 545.099 27.4968 541.376 Q27.4968 535.233 31.3163 532.082 Q35.1038 528.931 42.4881 528.931 Z\" fill=\"#000000\" fill-rule=\"evenodd\" fill-opacity=\"1\" /><path clip-path=\"url(#clip980)\" d=\"M29.7248 491.596 L35.1993 491.596 Q33.8307 494.078 33.1623 496.593 Q32.4621 499.075 32.4621 501.622 Q32.4621 507.319 36.0905 510.47 Q39.6872 513.621 46.212 513.621 Q52.7369 513.621 56.3653 510.47 Q59.9619 507.319 59.9619 501.622 Q59.9619 499.075 59.2935 496.593 Q58.5933 494.078 57.2247 491.596 L62.6355 491.596 Q63.7814 494.047 64.3543 496.688 Q64.9272 499.298 64.9272 502.258 Q64.9272 510.311 59.8664 515.053 Q54.8057 519.796 46.212 519.796 Q37.491 519.796 32.4939 515.022 Q27.4968 510.215 27.4968 501.876 Q27.4968 499.171 28.0697 496.593 Q28.6108 494.015 29.7248 491.596 Z\" fill=\"#000000\" fill-rule=\"evenodd\" fill-opacity=\"1\" /><path clip-path=\"url(#clip980)\" d=\"M44.7161 450.919 L47.5806 450.919 L47.5806 477.846 Q53.6281 477.464 56.8109 474.217 Q59.9619 470.939 59.9619 465.114 Q59.9619 461.741 59.1344 458.59 Q58.3069 455.407 56.6518 452.287 L62.1899 452.287 Q63.5267 455.439 64.227 458.749 Q64.9272 462.059 64.9272 465.464 Q64.9272 473.995 59.9619 478.992 Q54.9967 483.957 46.5303 483.957 Q37.7774 483.957 32.6531 479.246 Q27.4968 474.504 27.4968 466.483 Q27.4968 459.29 32.1438 455.12 Q36.7589 450.919 44.7161 450.919 M42.9973 456.775 Q38.1912 456.839 35.3266 459.481 Q32.4621 462.091 32.4621 466.419 Q32.4621 471.321 35.2312 474.281 Q38.0002 477.209 43.0292 477.655 L42.9973 456.775 Z\" fill=\"#000000\" fill-rule=\"evenodd\" fill-opacity=\"1\" /><path clip-path=\"url(#clip980)\" d=\"M1142.45 34.4165 Q1140.96 33.8899 1139.46 33.4848 Q1135.45 32.4315 1131.15 32.4315 Q1123.74 32.4315 1119.61 36.4419 Q1115.76 40.1688 1115.03 47.0148 L1142.45 47.0148 L1142.45 52.8481 L1115.03 52.8481 Q1115.76 59.6941 1119.61 63.421 Q1123.74 67.4314 1131.15 67.4314 Q1136.34 67.4314 1139.46 66.3781 L1142.45 65.3654 L1142.45 72.1304 L1139.25 72.8596 Q1135.04 73.7508 1130.71 73.7508 Q1119.85 73.7508 1113.53 67.4314 Q1107.17 61.1119 1107.17 49.9314 Q1107.17 38.7509 1113.53 32.4315 Q1119.85 26.1121 1130.71 26.1121 Q1134.8 26.1121 1139.25 27.0033 Q1140.87 27.3274 1142.45 27.8135 L1142.45 34.4165 Z\" fill=\"#000000\" fill-rule=\"evenodd\" fill-opacity=\"1\" /><path clip-path=\"url(#clip980)\" d=\"M1162.43 34.9026 L1214.36 34.9026 L1214.36 41.7081 L1162.43 41.7081 L1162.43 34.9026 M1162.43 51.4303 L1214.36 51.4303 L1214.36 58.3168 L1162.43 58.3168 L1162.43 51.4303 Z\" fill=\"#000000\" fill-rule=\"evenodd\" fill-opacity=\"1\" /><path clip-path=\"url(#clip980)\" d=\"M1230.97 9.54393 L1238.42 9.54393 L1238.42 72.576 L1230.97 72.576 L1230.97 9.54393 Z\" fill=\"#000000\" fill-rule=\"evenodd\" fill-opacity=\"1\" /><path clip-path=\"url(#clip980)\" d=\"M1271.6 32.4315 Q1265.6 32.4315 1262.12 37.1306 Q1258.63 41.7891 1258.63 49.9314 Q1258.63 58.0738 1262.08 62.7728 Q1265.56 67.4314 1271.6 67.4314 Q1277.55 67.4314 1281.04 62.7323 Q1284.52 58.0333 1284.52 49.9314 Q1284.52 41.8701 1281.04 37.1711 Q1277.55 32.4315 1271.6 32.4315 M1271.6 26.1121 Q1281.32 26.1121 1286.87 32.4315 Q1292.42 38.7509 1292.42 49.9314 Q1292.42 61.0714 1286.87 67.4314 Q1281.32 73.7508 1271.6 73.7508 Q1261.83 73.7508 1256.29 67.4314 Q1250.78 61.0714 1250.78 49.9314 Q1250.78 38.7509 1256.29 32.4315 Q1261.83 26.1121 1271.6 26.1121 Z\" fill=\"#000000\" fill-rule=\"evenodd\" fill-opacity=\"1\" /><path clip-path=\"url(#clip980)\" d=\"M1334.63 49.3643 Q1334.63 41.2625 1331.27 36.8065 Q1327.95 32.3505 1321.91 32.3505 Q1315.91 32.3505 1312.55 36.8065 Q1309.23 41.2625 1309.23 49.3643 Q1309.23 57.4256 1312.55 61.8816 Q1315.91 66.3376 1321.91 66.3376 Q1327.95 66.3376 1331.27 61.8816 Q1334.63 57.4256 1334.63 49.3643 M1342.08 66.9452 Q1342.08 78.5308 1336.94 84.1616 Q1331.79 89.8329 1321.18 89.8329 Q1317.25 89.8329 1313.77 89.2252 Q1310.28 88.6581 1307 87.4428 L1307 80.1917 Q1310.28 81.9741 1313.48 82.8248 Q1316.68 83.6755 1320.01 83.6755 Q1327.34 83.6755 1330.98 79.8271 Q1334.63 76.0193 1334.63 68.282 L1334.63 64.5957 Q1332.32 68.6061 1328.72 70.5911 Q1325.11 72.576 1320.09 72.576 Q1311.74 72.576 1306.64 66.2161 Q1301.53 59.8562 1301.53 49.3643 Q1301.53 38.832 1306.64 32.472 Q1311.74 26.1121 1320.09 26.1121 Q1325.11 26.1121 1328.72 28.0971 Q1332.32 30.082 1334.63 34.0924 L1334.63 27.2059 L1342.08 27.2059 L1342.08 66.9452 Z\" fill=\"#000000\" fill-rule=\"evenodd\" fill-opacity=\"1\" /><path clip-path=\"url(#clip980)\" d=\"M1354.36 10.2326 L1359.1 10.2326 L1359.1 31.0542 L1373.11 20.1168 L1379.11 20.1168 L1363.92 31.9859 L1379.72 45.516 L1373.6 45.516 L1359.1 33.1202 L1359.1 45.516 L1354.36 45.516 L1354.36 10.2326 Z\" fill=\"#000000\" fill-rule=\"evenodd\" fill-opacity=\"1\" /><path clip-path=\"url(#clip980)\" d=\"M1410.67 9.62495 Q1405.24 18.942 1402.6 28.0566 Q1399.97 37.1711 1399.97 46.5287 Q1399.97 55.8863 1402.6 65.0818 Q1405.28 74.2369 1410.67 83.5134 L1404.18 83.5134 Q1398.11 73.9938 1395.07 64.7983 Q1392.07 55.6027 1392.07 46.5287 Q1392.07 37.4952 1395.07 28.3401 Q1398.07 19.1851 1404.18 9.62495 L1410.67 9.62495 Z\" fill=\"#000000\" fill-rule=\"evenodd\" fill-opacity=\"1\" /><path clip-path=\"url(#clip980)\" d=\"M1462.84 45.1919 L1462.84 72.576 L1455.39 72.576 L1455.39 45.4349 Q1455.39 38.994 1452.88 35.7938 Q1450.36 32.5936 1445.34 32.5936 Q1439.31 32.5936 1435.82 36.4419 Q1432.34 40.2903 1432.34 46.9338 L1432.34 72.576 L1424.84 72.576 L1424.84 27.2059 L1432.34 27.2059 L1432.34 34.2544 Q1435.01 30.163 1438.62 28.1376 Q1442.26 26.1121 1447 26.1121 Q1454.82 26.1121 1458.83 30.9732 Q1462.84 35.7938 1462.84 45.1919 Z\" fill=\"#000000\" fill-rule=\"evenodd\" fill-opacity=\"1\" /><path clip-path=\"url(#clip980)\" d=\"M1476.53 9.62495 L1483.01 9.62495 Q1489.09 19.1851 1492.09 28.3401 Q1495.13 37.4952 1495.13 46.5287 Q1495.13 55.6027 1492.09 64.7983 Q1489.09 73.9938 1483.01 83.5134 L1476.53 83.5134 Q1481.92 74.2369 1484.55 65.0818 Q1487.23 55.8863 1487.23 46.5287 Q1487.23 37.1711 1484.55 28.0566 Q1481.92 18.942 1476.53 9.62495 Z\" fill=\"#000000\" fill-rule=\"evenodd\" fill-opacity=\"1\" /><polyline clip-path=\"url(#clip982)\" style=\"stroke:#009af9; stroke-linecap:butt; stroke-linejoin:round; stroke-width:12; stroke-opacity:1; fill:none\" points=\"\n  309.067,160.256 377.486,486.216 514.325,509.123 924.842,850.568 1266.94,1148.21 1609.04,1183.43 2293.23,1190.1 \n  \"/>\n<polyline clip-path=\"url(#clip982)\" style=\"stroke:#e26f46; stroke-linecap:butt; stroke-linejoin:round; stroke-width:12; stroke-opacity:1; fill:none\" points=\"\n  309.067,443.402 377.486,791.33 514.325,833.122 924.842,1215.83 1266.94,1247.05 1609.04,1263.4 2293.23,1334.63 \n  \"/>\n<polyline clip-path=\"url(#clip982)\" style=\"stroke:#3da44d; stroke-linecap:butt; stroke-linejoin:round; stroke-width:12; stroke-opacity:1; fill:none\" points=\"\n  309.067,805.819 377.486,1046.27 514.325,1137.56 924.842,1342.3 1266.94,1371.87 1609.04,1385.63 2293.23,1386.4 \n  \"/>\n<path clip-path=\"url(#clip980)\" d=\"\nM1884.58 374.156 L2282.65 374.156 L2282.65 166.796 L1884.58 166.796  Z\n  \" fill=\"#ffffff\" fill-rule=\"evenodd\" fill-opacity=\"1\"/>\n<polyline clip-path=\"url(#clip980)\" style=\"stroke:#000000; stroke-linecap:butt; stroke-linejoin:round; stroke-width:4; stroke-opacity:1; fill:none\" points=\"\n  1884.58,374.156 2282.65,374.156 2282.65,166.796 1884.58,166.796 1884.58,374.156 \n  \"/>\n<polyline clip-path=\"url(#clip980)\" style=\"stroke:#009af9; stroke-linecap:butt; stroke-linejoin:round; stroke-width:4; stroke-opacity:1; fill:none\" points=\"\n  1907.95,218.636 2048.17,218.636 \n  \"/>\n<path clip-path=\"url(#clip980)\" d=\"M2071.54 199.897 L2075.82 199.897 L2075.82 221.17 L2088.53 209.99 L2093.97 209.99 L2080.22 222.119 L2094.55 235.916 L2088.99 235.916 L2075.82 223.254 L2075.82 235.916 L2071.54 235.916 L2071.54 199.897 Z\" fill=\"#000000\" fill-rule=\"evenodd\" fill-opacity=\"1\" /><path clip-path=\"url(#clip980)\" d=\"M2099.71 214.388 L2129.38 214.388 L2129.38 218.277 L2099.71 218.277 L2099.71 214.388 M2099.71 223.832 L2129.38 223.832 L2129.38 227.768 L2099.71 227.768 L2099.71 223.832 Z\" fill=\"#000000\" fill-rule=\"evenodd\" fill-opacity=\"1\" /><path clip-path=\"url(#clip980)\" d=\"M2149.48 204.434 Q2145.86 204.434 2144.04 207.999 Q2142.23 211.541 2142.23 218.67 Q2142.23 225.777 2144.04 229.342 Q2145.86 232.883 2149.48 232.883 Q2153.11 232.883 2154.92 229.342 Q2156.74 225.777 2156.74 218.67 Q2156.74 211.541 2154.92 207.999 Q2153.11 204.434 2149.48 204.434 M2149.48 200.731 Q2155.29 200.731 2158.34 205.337 Q2161.42 209.92 2161.42 218.67 Q2161.42 227.397 2158.34 232.004 Q2155.29 236.587 2149.48 236.587 Q2143.67 236.587 2140.59 232.004 Q2137.53 227.397 2137.53 218.67 Q2137.53 209.92 2140.59 205.337 Q2143.67 200.731 2149.48 200.731 Z\" fill=\"#000000\" fill-rule=\"evenodd\" fill-opacity=\"1\" /><path clip-path=\"url(#clip980)\" d=\"M2169.64 230.036 L2174.52 230.036 L2174.52 235.916 L2169.64 235.916 L2169.64 230.036 Z\" fill=\"#000000\" fill-rule=\"evenodd\" fill-opacity=\"1\" /><path clip-path=\"url(#clip980)\" d=\"M2184.75 201.356 L2203.11 201.356 L2203.11 205.291 L2189.04 205.291 L2189.04 213.763 Q2190.05 213.416 2191.07 213.254 Q2192.09 213.069 2193.11 213.069 Q2198.9 213.069 2202.28 216.24 Q2205.66 219.411 2205.66 224.828 Q2205.66 230.406 2202.18 233.508 Q2198.71 236.587 2192.39 236.587 Q2190.22 236.587 2187.95 236.217 Q2185.7 235.846 2183.3 235.106 L2183.3 230.406 Q2185.38 231.541 2187.6 232.096 Q2189.82 232.652 2192.3 232.652 Q2196.3 232.652 2198.64 230.545 Q2200.98 228.439 2200.98 224.828 Q2200.98 221.217 2198.64 219.11 Q2196.3 217.004 2192.3 217.004 Q2190.42 217.004 2188.55 217.42 Q2186.7 217.837 2184.75 218.717 L2184.75 201.356 Z\" fill=\"#000000\" fill-rule=\"evenodd\" fill-opacity=\"1\" /><polyline clip-path=\"url(#clip980)\" style=\"stroke:#e26f46; stroke-linecap:butt; stroke-linejoin:round; stroke-width:4; stroke-opacity:1; fill:none\" points=\"\n  1907.95,270.476 2048.17,270.476 \n  \"/>\n<path clip-path=\"url(#clip980)\" d=\"M2071.54 251.737 L2075.82 251.737 L2075.82 273.01 L2088.53 261.83 L2093.97 261.83 L2080.22 273.959 L2094.55 287.756 L2088.99 287.756 L2075.82 275.094 L2075.82 287.756 L2071.54 287.756 L2071.54 251.737 Z\" fill=\"#000000\" fill-rule=\"evenodd\" fill-opacity=\"1\" /><path clip-path=\"url(#clip980)\" d=\"M2099.71 266.228 L2129.38 266.228 L2129.38 270.117 L2099.71 270.117 L2099.71 266.228 M2099.71 275.672 L2129.38 275.672 L2129.38 279.608 L2099.71 279.608 L2099.71 275.672 Z\" fill=\"#000000\" fill-rule=\"evenodd\" fill-opacity=\"1\" /><path clip-path=\"url(#clip980)\" d=\"M2149.48 256.274 Q2145.86 256.274 2144.04 259.839 Q2142.23 263.381 2142.23 270.51 Q2142.23 277.617 2144.04 281.182 Q2145.86 284.723 2149.48 284.723 Q2153.11 284.723 2154.92 281.182 Q2156.74 277.617 2156.74 270.51 Q2156.74 263.381 2154.92 259.839 Q2153.11 256.274 2149.48 256.274 M2149.48 252.571 Q2155.29 252.571 2158.34 257.177 Q2161.42 261.76 2161.42 270.51 Q2161.42 279.237 2158.34 283.844 Q2155.29 288.427 2149.48 288.427 Q2143.67 288.427 2140.59 283.844 Q2137.53 279.237 2137.53 270.51 Q2137.53 261.76 2140.59 257.177 Q2143.67 252.571 2149.48 252.571 Z\" fill=\"#000000\" fill-rule=\"evenodd\" fill-opacity=\"1\" /><path clip-path=\"url(#clip980)\" d=\"M2169.64 281.876 L2174.52 281.876 L2174.52 287.756 L2169.64 287.756 L2169.64 281.876 Z\" fill=\"#000000\" fill-rule=\"evenodd\" fill-opacity=\"1\" /><path clip-path=\"url(#clip980)\" d=\"M2195.29 268.612 Q2192.14 268.612 2190.29 270.765 Q2188.46 272.918 2188.46 276.668 Q2188.46 280.395 2190.29 282.571 Q2192.14 284.723 2195.29 284.723 Q2198.43 284.723 2200.26 282.571 Q2202.11 280.395 2202.11 276.668 Q2202.11 272.918 2200.26 270.765 Q2198.43 268.612 2195.29 268.612 M2204.57 253.96 L2204.57 258.219 Q2202.81 257.386 2201 256.946 Q2199.22 256.506 2197.46 256.506 Q2192.83 256.506 2190.38 259.631 Q2187.95 262.756 2187.6 269.075 Q2188.97 267.061 2191.03 265.997 Q2193.09 264.909 2195.56 264.909 Q2200.77 264.909 2203.78 268.08 Q2206.81 271.228 2206.81 276.668 Q2206.81 281.992 2203.67 285.209 Q2200.52 288.427 2195.29 288.427 Q2189.29 288.427 2186.12 283.844 Q2182.95 279.237 2182.95 270.51 Q2182.95 262.316 2186.84 257.455 Q2190.73 252.571 2197.28 252.571 Q2199.04 252.571 2200.82 252.918 Q2202.62 253.265 2204.57 253.96 Z\" fill=\"#000000\" fill-rule=\"evenodd\" fill-opacity=\"1\" /><path clip-path=\"url(#clip980)\" d=\"M2213.69 253.196 L2235.91 253.196 L2235.91 255.186 L2223.36 287.756 L2218.48 287.756 L2230.29 257.131 L2213.69 257.131 L2213.69 253.196 Z\" fill=\"#000000\" fill-rule=\"evenodd\" fill-opacity=\"1\" /><polyline clip-path=\"url(#clip980)\" style=\"stroke:#3da44d; stroke-linecap:butt; stroke-linejoin:round; stroke-width:4; stroke-opacity:1; fill:none\" points=\"\n  1907.95,322.316 2048.17,322.316 \n  \"/>\n<path clip-path=\"url(#clip980)\" d=\"M2071.54 303.577 L2075.82 303.577 L2075.82 324.85 L2088.53 313.67 L2093.97 313.67 L2080.22 325.799 L2094.55 339.596 L2088.99 339.596 L2075.82 326.934 L2075.82 339.596 L2071.54 339.596 L2071.54 303.577 Z\" fill=\"#000000\" fill-rule=\"evenodd\" fill-opacity=\"1\" /><path clip-path=\"url(#clip980)\" d=\"M2099.71 318.068 L2129.38 318.068 L2129.38 321.957 L2099.71 321.957 L2099.71 318.068 M2099.71 327.512 L2129.38 327.512 L2129.38 331.448 L2099.71 331.448 L2099.71 327.512 Z\" fill=\"#000000\" fill-rule=\"evenodd\" fill-opacity=\"1\" /><path clip-path=\"url(#clip980)\" d=\"M2140.29 335.661 L2147.93 335.661 L2147.93 309.295 L2139.61 310.962 L2139.61 306.702 L2147.88 305.036 L2152.55 305.036 L2152.55 335.661 L2160.19 335.661 L2160.19 339.596 L2140.29 339.596 L2140.29 335.661 Z\" fill=\"#000000\" fill-rule=\"evenodd\" fill-opacity=\"1\" /><path clip-path=\"url(#clip980)\" d=\"M2169.64 333.716 L2174.52 333.716 L2174.52 339.596 L2169.64 339.596 L2169.64 333.716 Z\" fill=\"#000000\" fill-rule=\"evenodd\" fill-opacity=\"1\" /><path clip-path=\"url(#clip980)\" d=\"M2194.71 308.114 Q2191.1 308.114 2189.27 311.679 Q2187.46 315.221 2187.46 322.35 Q2187.46 329.457 2189.27 333.022 Q2191.1 336.563 2194.71 336.563 Q2198.34 336.563 2200.15 333.022 Q2201.98 329.457 2201.98 322.35 Q2201.98 315.221 2200.15 311.679 Q2198.34 308.114 2194.71 308.114 M2194.71 304.411 Q2200.52 304.411 2203.57 309.017 Q2206.65 313.6 2206.65 322.35 Q2206.65 331.077 2203.57 335.684 Q2200.52 340.267 2194.71 340.267 Q2188.9 340.267 2185.82 335.684 Q2182.76 331.077 2182.76 322.35 Q2182.76 313.6 2185.82 309.017 Q2188.9 304.411 2194.71 304.411 Z\" fill=\"#000000\" fill-rule=\"evenodd\" fill-opacity=\"1\" /></svg>\n",
      "text/html": [
       "<?xml version=\"1.0\" encoding=\"utf-8\"?>\n",
       "<svg xmlns=\"http://www.w3.org/2000/svg\" xmlns:xlink=\"http://www.w3.org/1999/xlink\" width=\"600\" height=\"400\" viewBox=\"0 0 2400 1600\">\n",
       "<defs>\n",
       "  <clipPath id=\"clip030\">\n",
       "    <rect x=\"0\" y=\"0\" width=\"2400\" height=\"1600\"/>\n",
       "  </clipPath>\n",
       "</defs>\n",
       "<path clip-path=\"url(#clip030)\" d=\"\n",
       "M0 1600 L2400 1600 L2400 0 L0 0  Z\n",
       "  \" fill=\"#ffffff\" fill-rule=\"evenodd\" fill-opacity=\"1\"/>\n",
       "<defs>\n",
       "  <clipPath id=\"clip031\">\n",
       "    <rect x=\"480\" y=\"0\" width=\"1681\" height=\"1600\"/>\n",
       "  </clipPath>\n",
       "</defs>\n",
       "<path clip-path=\"url(#clip030)\" d=\"\n",
       "M249.542 1423.18 L2352.76 1423.18 L2352.76 123.472 L249.542 123.472  Z\n",
       "  \" fill=\"#ffffff\" fill-rule=\"evenodd\" fill-opacity=\"1\"/>\n",
       "<defs>\n",
       "  <clipPath id=\"clip032\">\n",
       "    <rect x=\"249\" y=\"123\" width=\"2104\" height=\"1301\"/>\n",
       "  </clipPath>\n",
       "</defs>\n",
       "<polyline clip-path=\"url(#clip032)\" style=\"stroke:#000000; stroke-linecap:butt; stroke-linejoin:round; stroke-width:2; stroke-opacity:0.1; fill:none\" points=\"\n",
       "  514.325,1423.18 514.325,123.472 \n",
       "  \"/>\n",
       "<polyline clip-path=\"url(#clip032)\" style=\"stroke:#000000; stroke-linecap:butt; stroke-linejoin:round; stroke-width:2; stroke-opacity:0.1; fill:none\" points=\"\n",
       "  788.003,1423.18 788.003,123.472 \n",
       "  \"/>\n",
       "<polyline clip-path=\"url(#clip032)\" style=\"stroke:#000000; stroke-linecap:butt; stroke-linejoin:round; stroke-width:2; stroke-opacity:0.1; fill:none\" points=\"\n",
       "  1061.68,1423.18 1061.68,123.472 \n",
       "  \"/>\n",
       "<polyline clip-path=\"url(#clip032)\" style=\"stroke:#000000; stroke-linecap:butt; stroke-linejoin:round; stroke-width:2; stroke-opacity:0.1; fill:none\" points=\"\n",
       "  1335.36,1423.18 1335.36,123.472 \n",
       "  \"/>\n",
       "<polyline clip-path=\"url(#clip032)\" style=\"stroke:#000000; stroke-linecap:butt; stroke-linejoin:round; stroke-width:2; stroke-opacity:0.1; fill:none\" points=\"\n",
       "  1609.04,1423.18 1609.04,123.472 \n",
       "  \"/>\n",
       "<polyline clip-path=\"url(#clip032)\" style=\"stroke:#000000; stroke-linecap:butt; stroke-linejoin:round; stroke-width:2; stroke-opacity:0.1; fill:none\" points=\"\n",
       "  1882.71,1423.18 1882.71,123.472 \n",
       "  \"/>\n",
       "<polyline clip-path=\"url(#clip032)\" style=\"stroke:#000000; stroke-linecap:butt; stroke-linejoin:round; stroke-width:2; stroke-opacity:0.1; fill:none\" points=\"\n",
       "  2156.39,1423.18 2156.39,123.472 \n",
       "  \"/>\n",
       "<polyline clip-path=\"url(#clip030)\" style=\"stroke:#000000; stroke-linecap:butt; stroke-linejoin:round; stroke-width:4; stroke-opacity:1; fill:none\" points=\"\n",
       "  249.542,1423.18 2352.76,1423.18 \n",
       "  \"/>\n",
       "<polyline clip-path=\"url(#clip030)\" style=\"stroke:#000000; stroke-linecap:butt; stroke-linejoin:round; stroke-width:4; stroke-opacity:1; fill:none\" points=\"\n",
       "  514.325,1423.18 514.325,1404.28 \n",
       "  \"/>\n",
       "<polyline clip-path=\"url(#clip030)\" style=\"stroke:#000000; stroke-linecap:butt; stroke-linejoin:round; stroke-width:4; stroke-opacity:1; fill:none\" points=\"\n",
       "  788.003,1423.18 788.003,1404.28 \n",
       "  \"/>\n",
       "<polyline clip-path=\"url(#clip030)\" style=\"stroke:#000000; stroke-linecap:butt; stroke-linejoin:round; stroke-width:4; stroke-opacity:1; fill:none\" points=\"\n",
       "  1061.68,1423.18 1061.68,1404.28 \n",
       "  \"/>\n",
       "<polyline clip-path=\"url(#clip030)\" style=\"stroke:#000000; stroke-linecap:butt; stroke-linejoin:round; stroke-width:4; stroke-opacity:1; fill:none\" points=\"\n",
       "  1335.36,1423.18 1335.36,1404.28 \n",
       "  \"/>\n",
       "<polyline clip-path=\"url(#clip030)\" style=\"stroke:#000000; stroke-linecap:butt; stroke-linejoin:round; stroke-width:4; stroke-opacity:1; fill:none\" points=\"\n",
       "  1609.04,1423.18 1609.04,1404.28 \n",
       "  \"/>\n",
       "<polyline clip-path=\"url(#clip030)\" style=\"stroke:#000000; stroke-linecap:butt; stroke-linejoin:round; stroke-width:4; stroke-opacity:1; fill:none\" points=\"\n",
       "  1882.71,1423.18 1882.71,1404.28 \n",
       "  \"/>\n",
       "<polyline clip-path=\"url(#clip030)\" style=\"stroke:#000000; stroke-linecap:butt; stroke-linejoin:round; stroke-width:4; stroke-opacity:1; fill:none\" points=\"\n",
       "  2156.39,1423.18 2156.39,1404.28 \n",
       "  \"/>\n",
       "<path clip-path=\"url(#clip030)\" d=\"M478.018 1481.64 L494.337 1481.64 L494.337 1485.58 L472.393 1485.58 L472.393 1481.64 Q475.055 1478.89 479.638 1474.26 Q484.244 1469.61 485.425 1468.27 Q487.67 1465.74 488.55 1464.01 Q489.453 1462.25 489.453 1460.56 Q489.453 1457.8 487.508 1456.07 Q485.587 1454.33 482.485 1454.33 Q480.286 1454.33 477.832 1455.09 Q475.402 1455.86 472.624 1457.41 L472.624 1452.69 Q475.448 1451.55 477.902 1450.97 Q480.356 1450.39 482.393 1450.39 Q487.763 1450.39 490.957 1453.08 Q494.152 1455.77 494.152 1460.26 Q494.152 1462.39 493.342 1464.31 Q492.555 1466.2 490.448 1468.8 Q489.869 1469.47 486.768 1472.69 Q483.666 1475.88 478.018 1481.64 Z\" fill=\"#000000\" fill-rule=\"evenodd\" fill-opacity=\"1\" /><path clip-path=\"url(#clip030)\" d=\"M514.152 1454.1 Q510.541 1454.1 508.712 1457.66 Q506.906 1461.2 506.906 1468.33 Q506.906 1475.44 508.712 1479.01 Q510.541 1482.55 514.152 1482.55 Q517.786 1482.55 519.591 1479.01 Q521.42 1475.44 521.42 1468.33 Q521.42 1461.2 519.591 1457.66 Q517.786 1454.1 514.152 1454.1 M514.152 1450.39 Q519.962 1450.39 523.017 1455 Q526.096 1459.58 526.096 1468.33 Q526.096 1477.06 523.017 1481.67 Q519.962 1486.25 514.152 1486.25 Q508.342 1486.25 505.263 1481.67 Q502.207 1477.06 502.207 1468.33 Q502.207 1459.58 505.263 1455 Q508.342 1450.39 514.152 1450.39 Z\" fill=\"#000000\" fill-rule=\"evenodd\" fill-opacity=\"1\" /><path clip-path=\"url(#clip030)\" d=\"M544.314 1454.1 Q540.702 1454.1 538.874 1457.66 Q537.068 1461.2 537.068 1468.33 Q537.068 1475.44 538.874 1479.01 Q540.702 1482.55 544.314 1482.55 Q547.948 1482.55 549.753 1479.01 Q551.582 1475.44 551.582 1468.33 Q551.582 1461.2 549.753 1457.66 Q547.948 1454.1 544.314 1454.1 M544.314 1450.39 Q550.124 1450.39 553.179 1455 Q556.258 1459.58 556.258 1468.33 Q556.258 1477.06 553.179 1481.67 Q550.124 1486.25 544.314 1486.25 Q538.503 1486.25 535.425 1481.67 Q532.369 1477.06 532.369 1468.33 Q532.369 1459.58 535.425 1455 Q538.503 1450.39 544.314 1450.39 Z\" fill=\"#000000\" fill-rule=\"evenodd\" fill-opacity=\"1\" /><path clip-path=\"url(#clip030)\" d=\"M761.094 1455.09 L749.288 1473.54 L761.094 1473.54 L761.094 1455.09 M759.867 1451.02 L765.746 1451.02 L765.746 1473.54 L770.677 1473.54 L770.677 1477.43 L765.746 1477.43 L765.746 1485.58 L761.094 1485.58 L761.094 1477.43 L745.492 1477.43 L745.492 1472.92 L759.867 1451.02 Z\" fill=\"#000000\" fill-rule=\"evenodd\" fill-opacity=\"1\" /><path clip-path=\"url(#clip030)\" d=\"M788.408 1454.1 Q784.797 1454.1 782.968 1457.66 Q781.163 1461.2 781.163 1468.33 Q781.163 1475.44 782.968 1479.01 Q784.797 1482.55 788.408 1482.55 Q792.042 1482.55 793.848 1479.01 Q795.677 1475.44 795.677 1468.33 Q795.677 1461.2 793.848 1457.66 Q792.042 1454.1 788.408 1454.1 M788.408 1450.39 Q794.218 1450.39 797.274 1455 Q800.353 1459.58 800.353 1468.33 Q800.353 1477.06 797.274 1481.67 Q794.218 1486.25 788.408 1486.25 Q782.598 1486.25 779.519 1481.67 Q776.464 1477.06 776.464 1468.33 Q776.464 1459.58 779.519 1455 Q782.598 1450.39 788.408 1450.39 Z\" fill=\"#000000\" fill-rule=\"evenodd\" fill-opacity=\"1\" /><path clip-path=\"url(#clip030)\" d=\"M818.57 1454.1 Q814.959 1454.1 813.13 1457.66 Q811.325 1461.2 811.325 1468.33 Q811.325 1475.44 813.13 1479.01 Q814.959 1482.55 818.57 1482.55 Q822.204 1482.55 824.01 1479.01 Q825.839 1475.44 825.839 1468.33 Q825.839 1461.2 824.01 1457.66 Q822.204 1454.1 818.57 1454.1 M818.57 1450.39 Q824.38 1450.39 827.436 1455 Q830.514 1459.58 830.514 1468.33 Q830.514 1477.06 827.436 1481.67 Q824.38 1486.25 818.57 1486.25 Q812.76 1486.25 809.681 1481.67 Q806.626 1477.06 806.626 1468.33 Q806.626 1459.58 809.681 1455 Q812.76 1450.39 818.57 1450.39 Z\" fill=\"#000000\" fill-rule=\"evenodd\" fill-opacity=\"1\" /><path clip-path=\"url(#clip030)\" d=\"M1032.01 1466.44 Q1028.86 1466.44 1027.01 1468.59 Q1025.18 1470.74 1025.18 1474.49 Q1025.18 1478.22 1027.01 1480.39 Q1028.86 1482.55 1032.01 1482.55 Q1035.15 1482.55 1036.98 1480.39 Q1038.83 1478.22 1038.83 1474.49 Q1038.83 1470.74 1036.98 1468.59 Q1035.15 1466.44 1032.01 1466.44 M1041.29 1451.78 L1041.29 1456.04 Q1039.53 1455.21 1037.72 1454.77 Q1035.94 1454.33 1034.18 1454.33 Q1029.55 1454.33 1027.1 1457.45 Q1024.67 1460.58 1024.32 1466.9 Q1025.69 1464.89 1027.75 1463.82 Q1029.81 1462.73 1032.28 1462.73 Q1037.49 1462.73 1040.5 1465.9 Q1043.53 1469.05 1043.53 1474.49 Q1043.53 1479.82 1040.38 1483.03 Q1037.24 1486.25 1032.01 1486.25 Q1026.01 1486.25 1022.84 1481.67 Q1019.67 1477.06 1019.67 1468.33 Q1019.67 1460.14 1023.56 1455.28 Q1027.44 1450.39 1034 1450.39 Q1035.76 1450.39 1037.54 1450.74 Q1039.34 1451.09 1041.29 1451.78 Z\" fill=\"#000000\" fill-rule=\"evenodd\" fill-opacity=\"1\" /><path clip-path=\"url(#clip030)\" d=\"M1061.59 1454.1 Q1057.98 1454.1 1056.15 1457.66 Q1054.34 1461.2 1054.34 1468.33 Q1054.34 1475.44 1056.15 1479.01 Q1057.98 1482.55 1061.59 1482.55 Q1065.22 1482.55 1067.03 1479.01 Q1068.86 1475.44 1068.86 1468.33 Q1068.86 1461.2 1067.03 1457.66 Q1065.22 1454.1 1061.59 1454.1 M1061.59 1450.39 Q1067.4 1450.39 1070.45 1455 Q1073.53 1459.58 1073.53 1468.33 Q1073.53 1477.06 1070.45 1481.67 Q1067.4 1486.25 1061.59 1486.25 Q1055.78 1486.25 1052.7 1481.67 Q1049.64 1477.06 1049.64 1468.33 Q1049.64 1459.58 1052.7 1455 Q1055.78 1450.39 1061.59 1450.39 Z\" fill=\"#000000\" fill-rule=\"evenodd\" fill-opacity=\"1\" /><path clip-path=\"url(#clip030)\" d=\"M1091.75 1454.1 Q1088.14 1454.1 1086.31 1457.66 Q1084.5 1461.2 1084.5 1468.33 Q1084.5 1475.44 1086.31 1479.01 Q1088.14 1482.55 1091.75 1482.55 Q1095.38 1482.55 1097.19 1479.01 Q1099.02 1475.44 1099.02 1468.33 Q1099.02 1461.2 1097.19 1457.66 Q1095.38 1454.1 1091.75 1454.1 M1091.75 1450.39 Q1097.56 1450.39 1100.62 1455 Q1103.69 1459.58 1103.69 1468.33 Q1103.69 1477.06 1100.62 1481.67 Q1097.56 1486.25 1091.75 1486.25 Q1085.94 1486.25 1082.86 1481.67 Q1079.81 1477.06 1079.81 1468.33 Q1079.81 1459.58 1082.86 1455 Q1085.94 1450.39 1091.75 1450.39 Z\" fill=\"#000000\" fill-rule=\"evenodd\" fill-opacity=\"1\" /><path clip-path=\"url(#clip030)\" d=\"M1305.15 1469.17 Q1301.82 1469.17 1299.9 1470.95 Q1298 1472.73 1298 1475.86 Q1298 1478.98 1299.9 1480.77 Q1301.82 1482.55 1305.15 1482.55 Q1308.48 1482.55 1310.41 1480.77 Q1312.33 1478.96 1312.33 1475.86 Q1312.33 1472.73 1310.41 1470.95 Q1308.51 1469.17 1305.15 1469.17 M1300.47 1467.18 Q1297.47 1466.44 1295.78 1464.38 Q1294.11 1462.32 1294.11 1459.35 Q1294.11 1455.21 1297.05 1452.8 Q1300.01 1450.39 1305.15 1450.39 Q1310.31 1450.39 1313.25 1452.8 Q1316.19 1455.21 1316.19 1459.35 Q1316.19 1462.32 1314.5 1464.38 Q1312.84 1466.44 1309.85 1467.18 Q1313.23 1467.96 1315.1 1470.26 Q1317 1472.55 1317 1475.86 Q1317 1480.88 1313.92 1483.57 Q1310.87 1486.25 1305.15 1486.25 Q1299.43 1486.25 1296.35 1483.57 Q1293.3 1480.88 1293.3 1475.86 Q1293.3 1472.55 1295.2 1470.26 Q1297.1 1467.96 1300.47 1467.18 M1298.76 1459.79 Q1298.76 1462.48 1300.43 1463.98 Q1302.12 1465.49 1305.15 1465.49 Q1308.16 1465.49 1309.85 1463.98 Q1311.56 1462.48 1311.56 1459.79 Q1311.56 1457.11 1309.85 1455.6 Q1308.16 1454.1 1305.15 1454.1 Q1302.12 1454.1 1300.43 1455.6 Q1298.76 1457.11 1298.76 1459.79 Z\" fill=\"#000000\" fill-rule=\"evenodd\" fill-opacity=\"1\" /><path clip-path=\"url(#clip030)\" d=\"M1335.31 1454.1 Q1331.7 1454.1 1329.87 1457.66 Q1328.07 1461.2 1328.07 1468.33 Q1328.07 1475.44 1329.87 1479.01 Q1331.7 1482.55 1335.31 1482.55 Q1338.95 1482.55 1340.75 1479.01 Q1342.58 1475.44 1342.58 1468.33 Q1342.58 1461.2 1340.75 1457.66 Q1338.95 1454.1 1335.31 1454.1 M1335.31 1450.39 Q1341.12 1450.39 1344.18 1455 Q1347.26 1459.58 1347.26 1468.33 Q1347.26 1477.06 1344.18 1481.67 Q1341.12 1486.25 1335.31 1486.25 Q1329.5 1486.25 1326.42 1481.67 Q1323.37 1477.06 1323.37 1468.33 Q1323.37 1459.58 1326.42 1455 Q1329.5 1450.39 1335.31 1450.39 Z\" fill=\"#000000\" fill-rule=\"evenodd\" fill-opacity=\"1\" /><path clip-path=\"url(#clip030)\" d=\"M1365.47 1454.1 Q1361.86 1454.1 1360.03 1457.66 Q1358.23 1461.2 1358.23 1468.33 Q1358.23 1475.44 1360.03 1479.01 Q1361.86 1482.55 1365.47 1482.55 Q1369.11 1482.55 1370.91 1479.01 Q1372.74 1475.44 1372.74 1468.33 Q1372.74 1461.2 1370.91 1457.66 Q1369.11 1454.1 1365.47 1454.1 M1365.47 1450.39 Q1371.28 1450.39 1374.34 1455 Q1377.42 1459.58 1377.42 1468.33 Q1377.42 1477.06 1374.34 1481.67 Q1371.28 1486.25 1365.47 1486.25 Q1359.66 1486.25 1356.59 1481.67 Q1353.53 1477.06 1353.53 1468.33 Q1353.53 1459.58 1356.59 1455 Q1359.66 1450.39 1365.47 1450.39 Z\" fill=\"#000000\" fill-rule=\"evenodd\" fill-opacity=\"1\" /><path clip-path=\"url(#clip030)\" d=\"M1553.56 1481.64 L1561.2 1481.64 L1561.2 1455.28 L1552.89 1456.95 L1552.89 1452.69 L1561.15 1451.02 L1565.83 1451.02 L1565.83 1481.64 L1573.47 1481.64 L1573.47 1485.58 L1553.56 1485.58 L1553.56 1481.64 Z\" fill=\"#000000\" fill-rule=\"evenodd\" fill-opacity=\"1\" /><path clip-path=\"url(#clip030)\" d=\"M1592.91 1454.1 Q1589.3 1454.1 1587.47 1457.66 Q1585.67 1461.2 1585.67 1468.33 Q1585.67 1475.44 1587.47 1479.01 Q1589.3 1482.55 1592.91 1482.55 Q1596.55 1482.55 1598.35 1479.01 Q1600.18 1475.44 1600.18 1468.33 Q1600.18 1461.2 1598.35 1457.66 Q1596.55 1454.1 1592.91 1454.1 M1592.91 1450.39 Q1598.72 1450.39 1601.78 1455 Q1604.86 1459.58 1604.86 1468.33 Q1604.86 1477.06 1601.78 1481.67 Q1598.72 1486.25 1592.91 1486.25 Q1587.1 1486.25 1584.03 1481.67 Q1580.97 1477.06 1580.97 1468.33 Q1580.97 1459.58 1584.03 1455 Q1587.1 1450.39 1592.91 1450.39 Z\" fill=\"#000000\" fill-rule=\"evenodd\" fill-opacity=\"1\" /><path clip-path=\"url(#clip030)\" d=\"M1623.08 1454.1 Q1619.46 1454.1 1617.64 1457.66 Q1615.83 1461.2 1615.83 1468.33 Q1615.83 1475.44 1617.64 1479.01 Q1619.46 1482.55 1623.08 1482.55 Q1626.71 1482.55 1628.52 1479.01 Q1630.34 1475.44 1630.34 1468.33 Q1630.34 1461.2 1628.52 1457.66 Q1626.71 1454.1 1623.08 1454.1 M1623.08 1450.39 Q1628.89 1450.39 1631.94 1455 Q1635.02 1459.58 1635.02 1468.33 Q1635.02 1477.06 1631.94 1481.67 Q1628.89 1486.25 1623.08 1486.25 Q1617.27 1486.25 1614.19 1481.67 Q1611.13 1477.06 1611.13 1468.33 Q1611.13 1459.58 1614.19 1455 Q1617.27 1450.39 1623.08 1450.39 Z\" fill=\"#000000\" fill-rule=\"evenodd\" fill-opacity=\"1\" /><path clip-path=\"url(#clip030)\" d=\"M1653.24 1454.1 Q1649.63 1454.1 1647.8 1457.66 Q1645.99 1461.2 1645.99 1468.33 Q1645.99 1475.44 1647.8 1479.01 Q1649.63 1482.55 1653.24 1482.55 Q1656.87 1482.55 1658.68 1479.01 Q1660.51 1475.44 1660.51 1468.33 Q1660.51 1461.2 1658.68 1457.66 Q1656.87 1454.1 1653.24 1454.1 M1653.24 1450.39 Q1659.05 1450.39 1662.1 1455 Q1665.18 1459.58 1665.18 1468.33 Q1665.18 1477.06 1662.1 1481.67 Q1659.05 1486.25 1653.24 1486.25 Q1647.43 1486.25 1644.35 1481.67 Q1641.29 1477.06 1641.29 1468.33 Q1641.29 1459.58 1644.35 1455 Q1647.43 1450.39 1653.24 1450.39 Z\" fill=\"#000000\" fill-rule=\"evenodd\" fill-opacity=\"1\" /><path clip-path=\"url(#clip030)\" d=\"M1827.24 1481.64 L1834.88 1481.64 L1834.88 1455.28 L1826.57 1456.95 L1826.57 1452.69 L1834.83 1451.02 L1839.51 1451.02 L1839.51 1481.64 L1847.15 1481.64 L1847.15 1485.58 L1827.24 1485.58 L1827.24 1481.64 Z\" fill=\"#000000\" fill-rule=\"evenodd\" fill-opacity=\"1\" /><path clip-path=\"url(#clip030)\" d=\"M1860.62 1481.64 L1876.94 1481.64 L1876.94 1485.58 L1854.99 1485.58 L1854.99 1481.64 Q1857.66 1478.89 1862.24 1474.26 Q1866.85 1469.61 1868.03 1468.27 Q1870.27 1465.74 1871.15 1464.01 Q1872.05 1462.25 1872.05 1460.56 Q1872.05 1457.8 1870.11 1456.07 Q1868.19 1454.33 1865.09 1454.33 Q1862.89 1454.33 1860.43 1455.09 Q1858 1455.86 1855.23 1457.41 L1855.23 1452.69 Q1858.05 1451.55 1860.5 1450.97 Q1862.96 1450.39 1864.99 1450.39 Q1870.36 1450.39 1873.56 1453.08 Q1876.75 1455.77 1876.75 1460.26 Q1876.75 1462.39 1875.94 1464.31 Q1875.16 1466.2 1873.05 1468.8 Q1872.47 1469.47 1869.37 1472.69 Q1866.27 1475.88 1860.62 1481.64 Z\" fill=\"#000000\" fill-rule=\"evenodd\" fill-opacity=\"1\" /><path clip-path=\"url(#clip030)\" d=\"M1896.75 1454.1 Q1893.14 1454.1 1891.31 1457.66 Q1889.51 1461.2 1889.51 1468.33 Q1889.51 1475.44 1891.31 1479.01 Q1893.14 1482.55 1896.75 1482.55 Q1900.39 1482.55 1902.19 1479.01 Q1904.02 1475.44 1904.02 1468.33 Q1904.02 1461.2 1902.19 1457.66 Q1900.39 1454.1 1896.75 1454.1 M1896.75 1450.39 Q1902.56 1450.39 1905.62 1455 Q1908.7 1459.58 1908.7 1468.33 Q1908.7 1477.06 1905.62 1481.67 Q1902.56 1486.25 1896.75 1486.25 Q1890.94 1486.25 1887.86 1481.67 Q1884.81 1477.06 1884.81 1468.33 Q1884.81 1459.58 1887.86 1455 Q1890.94 1450.39 1896.75 1450.39 Z\" fill=\"#000000\" fill-rule=\"evenodd\" fill-opacity=\"1\" /><path clip-path=\"url(#clip030)\" d=\"M1926.92 1454.1 Q1923.3 1454.1 1921.48 1457.66 Q1919.67 1461.2 1919.67 1468.33 Q1919.67 1475.44 1921.48 1479.01 Q1923.3 1482.55 1926.92 1482.55 Q1930.55 1482.55 1932.36 1479.01 Q1934.18 1475.44 1934.18 1468.33 Q1934.18 1461.2 1932.36 1457.66 Q1930.55 1454.1 1926.92 1454.1 M1926.92 1450.39 Q1932.73 1450.39 1935.78 1455 Q1938.86 1459.58 1938.86 1468.33 Q1938.86 1477.06 1935.78 1481.67 Q1932.73 1486.25 1926.92 1486.25 Q1921.11 1486.25 1918.03 1481.67 Q1914.97 1477.06 1914.97 1468.33 Q1914.97 1459.58 1918.03 1455 Q1921.11 1450.39 1926.92 1450.39 Z\" fill=\"#000000\" fill-rule=\"evenodd\" fill-opacity=\"1\" /><path clip-path=\"url(#clip030)\" d=\"M2100.92 1481.64 L2108.56 1481.64 L2108.56 1455.28 L2100.25 1456.95 L2100.25 1452.69 L2108.51 1451.02 L2113.19 1451.02 L2113.19 1481.64 L2120.83 1481.64 L2120.83 1485.58 L2100.92 1485.58 L2100.92 1481.64 Z\" fill=\"#000000\" fill-rule=\"evenodd\" fill-opacity=\"1\" /><path clip-path=\"url(#clip030)\" d=\"M2143.12 1455.09 L2131.31 1473.54 L2143.12 1473.54 L2143.12 1455.09 M2141.89 1451.02 L2147.77 1451.02 L2147.77 1473.54 L2152.7 1473.54 L2152.7 1477.43 L2147.77 1477.43 L2147.77 1485.58 L2143.12 1485.58 L2143.12 1477.43 L2127.51 1477.43 L2127.51 1472.92 L2141.89 1451.02 Z\" fill=\"#000000\" fill-rule=\"evenodd\" fill-opacity=\"1\" /><path clip-path=\"url(#clip030)\" d=\"M2170.43 1454.1 Q2166.82 1454.1 2164.99 1457.66 Q2163.19 1461.2 2163.19 1468.33 Q2163.19 1475.44 2164.99 1479.01 Q2166.82 1482.55 2170.43 1482.55 Q2174.07 1482.55 2175.87 1479.01 Q2177.7 1475.44 2177.7 1468.33 Q2177.7 1461.2 2175.87 1457.66 Q2174.07 1454.1 2170.43 1454.1 M2170.43 1450.39 Q2176.24 1450.39 2179.3 1455 Q2182.38 1459.58 2182.38 1468.33 Q2182.38 1477.06 2179.3 1481.67 Q2176.24 1486.25 2170.43 1486.25 Q2164.62 1486.25 2161.54 1481.67 Q2158.49 1477.06 2158.49 1468.33 Q2158.49 1459.58 2161.54 1455 Q2164.62 1450.39 2170.43 1450.39 Z\" fill=\"#000000\" fill-rule=\"evenodd\" fill-opacity=\"1\" /><path clip-path=\"url(#clip030)\" d=\"M2200.59 1454.1 Q2196.98 1454.1 2195.15 1457.66 Q2193.35 1461.2 2193.35 1468.33 Q2193.35 1475.44 2195.15 1479.01 Q2196.98 1482.55 2200.59 1482.55 Q2204.23 1482.55 2206.03 1479.01 Q2207.86 1475.44 2207.86 1468.33 Q2207.86 1461.2 2206.03 1457.66 Q2204.23 1454.1 2200.59 1454.1 M2200.59 1450.39 Q2206.4 1450.39 2209.46 1455 Q2212.54 1459.58 2212.54 1468.33 Q2212.54 1477.06 2209.46 1481.67 Q2206.4 1486.25 2200.59 1486.25 Q2194.78 1486.25 2191.7 1481.67 Q2188.65 1477.06 2188.65 1468.33 Q2188.65 1459.58 2191.7 1455 Q2194.78 1450.39 2200.59 1450.39 Z\" fill=\"#000000\" fill-rule=\"evenodd\" fill-opacity=\"1\" /><path clip-path=\"url(#clip030)\" d=\"M1316.08 1546.53 L1316.08 1568.04 L1310.22 1568.04 L1310.22 1546.72 Q1310.22 1541.66 1308.25 1539.14 Q1306.27 1536.63 1302.33 1536.63 Q1297.58 1536.63 1294.85 1539.65 Q1292.11 1542.68 1292.11 1547.9 L1292.11 1568.04 L1286.22 1568.04 L1286.22 1532.4 L1292.11 1532.4 L1292.11 1537.93 Q1294.21 1534.72 1297.04 1533.13 Q1299.91 1531.54 1303.63 1531.54 Q1309.77 1531.54 1312.93 1535.36 Q1316.08 1539.14 1316.08 1546.53 Z\" fill=\"#000000\" fill-rule=\"evenodd\" fill-opacity=\"1\" /><polyline clip-path=\"url(#clip032)\" style=\"stroke:#000000; stroke-linecap:butt; stroke-linejoin:round; stroke-width:2; stroke-opacity:0.1; fill:none\" points=\"\n",
       "  249.542,1417.65 2352.76,1417.65 \n",
       "  \"/>\n",
       "<polyline clip-path=\"url(#clip032)\" style=\"stroke:#000000; stroke-linecap:butt; stroke-linejoin:round; stroke-width:2; stroke-opacity:0.1; fill:none\" points=\"\n",
       "  249.542,1000.89 2352.76,1000.89 \n",
       "  \"/>\n",
       "<polyline clip-path=\"url(#clip032)\" style=\"stroke:#000000; stroke-linecap:butt; stroke-linejoin:round; stroke-width:2; stroke-opacity:0.1; fill:none\" points=\"\n",
       "  249.542,584.129 2352.76,584.129 \n",
       "  \"/>\n",
       "<polyline clip-path=\"url(#clip032)\" style=\"stroke:#000000; stroke-linecap:butt; stroke-linejoin:round; stroke-width:2; stroke-opacity:0.1; fill:none\" points=\"\n",
       "  249.542,167.368 2352.76,167.368 \n",
       "  \"/>\n",
       "<polyline clip-path=\"url(#clip030)\" style=\"stroke:#000000; stroke-linecap:butt; stroke-linejoin:round; stroke-width:4; stroke-opacity:1; fill:none\" points=\"\n",
       "  249.542,1423.18 249.542,123.472 \n",
       "  \"/>\n",
       "<polyline clip-path=\"url(#clip030)\" style=\"stroke:#000000; stroke-linecap:butt; stroke-linejoin:round; stroke-width:4; stroke-opacity:1; fill:none\" points=\"\n",
       "  249.542,1417.65 268.44,1417.65 \n",
       "  \"/>\n",
       "<polyline clip-path=\"url(#clip030)\" style=\"stroke:#000000; stroke-linecap:butt; stroke-linejoin:round; stroke-width:4; stroke-opacity:1; fill:none\" points=\"\n",
       "  249.542,1000.89 268.44,1000.89 \n",
       "  \"/>\n",
       "<polyline clip-path=\"url(#clip030)\" style=\"stroke:#000000; stroke-linecap:butt; stroke-linejoin:round; stroke-width:4; stroke-opacity:1; fill:none\" points=\"\n",
       "  249.542,584.129 268.44,584.129 \n",
       "  \"/>\n",
       "<polyline clip-path=\"url(#clip030)\" style=\"stroke:#000000; stroke-linecap:butt; stroke-linejoin:round; stroke-width:4; stroke-opacity:1; fill:none\" points=\"\n",
       "  249.542,167.368 268.44,167.368 \n",
       "  \"/>\n",
       "<path clip-path=\"url(#clip030)\" d=\"M126.205 1403.45 Q122.593 1403.45 120.765 1407.01 Q118.959 1410.56 118.959 1417.69 Q118.959 1424.79 120.765 1428.36 Q122.593 1431.9 126.205 1431.9 Q129.839 1431.9 131.644 1428.36 Q133.473 1424.79 133.473 1417.69 Q133.473 1410.56 131.644 1407.01 Q129.839 1403.45 126.205 1403.45 M126.205 1399.75 Q132.015 1399.75 135.07 1404.35 Q138.149 1408.94 138.149 1417.69 Q138.149 1426.41 135.07 1431.02 Q132.015 1435.6 126.205 1435.6 Q120.394 1435.6 117.316 1431.02 Q114.26 1426.41 114.26 1417.69 Q114.26 1408.94 117.316 1404.35 Q120.394 1399.75 126.205 1399.75 Z\" fill=\"#000000\" fill-rule=\"evenodd\" fill-opacity=\"1\" /><path clip-path=\"url(#clip030)\" d=\"M146.366 1429.05 L151.251 1429.05 L151.251 1434.93 L146.366 1434.93 L146.366 1429.05 Z\" fill=\"#000000\" fill-rule=\"evenodd\" fill-opacity=\"1\" /><path clip-path=\"url(#clip030)\" d=\"M171.436 1403.45 Q167.825 1403.45 165.996 1407.01 Q164.19 1410.56 164.19 1417.69 Q164.19 1424.79 165.996 1428.36 Q167.825 1431.9 171.436 1431.9 Q175.07 1431.9 176.876 1428.36 Q178.704 1424.79 178.704 1417.69 Q178.704 1410.56 176.876 1407.01 Q175.07 1403.45 171.436 1403.45 M171.436 1399.75 Q177.246 1399.75 180.301 1404.35 Q183.38 1408.94 183.38 1417.69 Q183.38 1426.41 180.301 1431.02 Q177.246 1435.6 171.436 1435.6 Q165.626 1435.6 162.547 1431.02 Q159.491 1426.41 159.491 1417.69 Q159.491 1408.94 162.547 1404.35 Q165.626 1399.75 171.436 1399.75 Z\" fill=\"#000000\" fill-rule=\"evenodd\" fill-opacity=\"1\" /><path clip-path=\"url(#clip030)\" d=\"M201.598 1403.45 Q197.987 1403.45 196.158 1407.01 Q194.352 1410.56 194.352 1417.69 Q194.352 1424.79 196.158 1428.36 Q197.987 1431.9 201.598 1431.9 Q205.232 1431.9 207.037 1428.36 Q208.866 1424.79 208.866 1417.69 Q208.866 1410.56 207.037 1407.01 Q205.232 1403.45 201.598 1403.45 M201.598 1399.75 Q207.408 1399.75 210.463 1404.35 Q213.542 1408.94 213.542 1417.69 Q213.542 1426.41 210.463 1431.02 Q207.408 1435.6 201.598 1435.6 Q195.787 1435.6 192.709 1431.02 Q189.653 1426.41 189.653 1417.69 Q189.653 1408.94 192.709 1404.35 Q195.787 1399.75 201.598 1399.75 Z\" fill=\"#000000\" fill-rule=\"evenodd\" fill-opacity=\"1\" /><path clip-path=\"url(#clip030)\" d=\"M127.2 986.688 Q123.589 986.688 121.76 990.253 Q119.955 993.795 119.955 1000.92 Q119.955 1008.03 121.76 1011.6 Q123.589 1015.14 127.2 1015.14 Q130.834 1015.14 132.64 1011.6 Q134.468 1008.03 134.468 1000.92 Q134.468 993.795 132.64 990.253 Q130.834 986.688 127.2 986.688 M127.2 982.985 Q133.01 982.985 136.066 987.591 Q139.144 992.175 139.144 1000.92 Q139.144 1009.65 136.066 1014.26 Q133.01 1018.84 127.2 1018.84 Q121.39 1018.84 118.311 1014.26 Q115.256 1009.65 115.256 1000.92 Q115.256 992.175 118.311 987.591 Q121.39 982.985 127.2 982.985 Z\" fill=\"#000000\" fill-rule=\"evenodd\" fill-opacity=\"1\" /><path clip-path=\"url(#clip030)\" d=\"M147.362 1012.29 L152.246 1012.29 L152.246 1018.17 L147.362 1018.17 L147.362 1012.29 Z\" fill=\"#000000\" fill-rule=\"evenodd\" fill-opacity=\"1\" /><path clip-path=\"url(#clip030)\" d=\"M172.431 986.688 Q168.82 986.688 166.991 990.253 Q165.186 993.795 165.186 1000.92 Q165.186 1008.03 166.991 1011.6 Q168.82 1015.14 172.431 1015.14 Q176.065 1015.14 177.871 1011.6 Q179.7 1008.03 179.7 1000.92 Q179.7 993.795 177.871 990.253 Q176.065 986.688 172.431 986.688 M172.431 982.985 Q178.241 982.985 181.297 987.591 Q184.376 992.175 184.376 1000.92 Q184.376 1009.65 181.297 1014.26 Q178.241 1018.84 172.431 1018.84 Q166.621 1018.84 163.542 1014.26 Q160.487 1009.65 160.487 1000.92 Q160.487 992.175 163.542 987.591 Q166.621 982.985 172.431 982.985 Z\" fill=\"#000000\" fill-rule=\"evenodd\" fill-opacity=\"1\" /><path clip-path=\"url(#clip030)\" d=\"M192.639 983.61 L210.996 983.61 L210.996 987.545 L196.922 987.545 L196.922 996.017 Q197.94 995.67 198.959 995.508 Q199.977 995.323 200.996 995.323 Q206.783 995.323 210.162 998.494 Q213.542 1001.67 213.542 1007.08 Q213.542 1012.66 210.07 1015.76 Q206.598 1018.84 200.278 1018.84 Q198.102 1018.84 195.834 1018.47 Q193.588 1018.1 191.181 1017.36 L191.181 1012.66 Q193.264 1013.79 195.487 1014.35 Q197.709 1014.91 200.186 1014.91 Q204.19 1014.91 206.528 1012.8 Q208.866 1010.69 208.866 1007.08 Q208.866 1003.47 206.528 1001.36 Q204.19 999.258 200.186 999.258 Q198.311 999.258 196.436 999.675 Q194.584 1000.09 192.639 1000.97 L192.639 983.61 Z\" fill=\"#000000\" fill-rule=\"evenodd\" fill-opacity=\"1\" /><path clip-path=\"url(#clip030)\" d=\"M126.205 569.928 Q122.593 569.928 120.765 573.493 Q118.959 577.034 118.959 584.164 Q118.959 591.27 120.765 594.835 Q122.593 598.377 126.205 598.377 Q129.839 598.377 131.644 594.835 Q133.473 591.27 133.473 584.164 Q133.473 577.034 131.644 573.493 Q129.839 569.928 126.205 569.928 M126.205 566.224 Q132.015 566.224 135.07 570.831 Q138.149 575.414 138.149 584.164 Q138.149 592.891 135.07 597.497 Q132.015 602.08 126.205 602.08 Q120.394 602.08 117.316 597.497 Q114.26 592.891 114.26 584.164 Q114.26 575.414 117.316 570.831 Q120.394 566.224 126.205 566.224 Z\" fill=\"#000000\" fill-rule=\"evenodd\" fill-opacity=\"1\" /><path clip-path=\"url(#clip030)\" d=\"M146.366 595.529 L151.251 595.529 L151.251 601.409 L146.366 601.409 L146.366 595.529 Z\" fill=\"#000000\" fill-rule=\"evenodd\" fill-opacity=\"1\" /><path clip-path=\"url(#clip030)\" d=\"M162.246 597.474 L169.885 597.474 L169.885 571.108 L161.575 572.775 L161.575 568.516 L169.839 566.849 L174.514 566.849 L174.514 597.474 L182.153 597.474 L182.153 601.409 L162.246 601.409 L162.246 597.474 Z\" fill=\"#000000\" fill-rule=\"evenodd\" fill-opacity=\"1\" /><path clip-path=\"url(#clip030)\" d=\"M201.598 569.928 Q197.987 569.928 196.158 573.493 Q194.352 577.034 194.352 584.164 Q194.352 591.27 196.158 594.835 Q197.987 598.377 201.598 598.377 Q205.232 598.377 207.037 594.835 Q208.866 591.27 208.866 584.164 Q208.866 577.034 207.037 573.493 Q205.232 569.928 201.598 569.928 M201.598 566.224 Q207.408 566.224 210.463 570.831 Q213.542 575.414 213.542 584.164 Q213.542 592.891 210.463 597.497 Q207.408 602.08 201.598 602.08 Q195.787 602.08 192.709 597.497 Q189.653 592.891 189.653 584.164 Q189.653 575.414 192.709 570.831 Q195.787 566.224 201.598 566.224 Z\" fill=\"#000000\" fill-rule=\"evenodd\" fill-opacity=\"1\" /><path clip-path=\"url(#clip030)\" d=\"M127.2 153.167 Q123.589 153.167 121.76 156.732 Q119.955 160.273 119.955 167.403 Q119.955 174.509 121.76 178.074 Q123.589 181.616 127.2 181.616 Q130.834 181.616 132.64 178.074 Q134.468 174.509 134.468 167.403 Q134.468 160.273 132.64 156.732 Q130.834 153.167 127.2 153.167 M127.2 149.463 Q133.01 149.463 136.066 154.07 Q139.144 158.653 139.144 167.403 Q139.144 176.13 136.066 180.736 Q133.01 185.32 127.2 185.32 Q121.39 185.32 118.311 180.736 Q115.256 176.13 115.256 167.403 Q115.256 158.653 118.311 154.07 Q121.39 149.463 127.2 149.463 Z\" fill=\"#000000\" fill-rule=\"evenodd\" fill-opacity=\"1\" /><path clip-path=\"url(#clip030)\" d=\"M147.362 178.769 L152.246 178.769 L152.246 184.648 L147.362 184.648 L147.362 178.769 Z\" fill=\"#000000\" fill-rule=\"evenodd\" fill-opacity=\"1\" /><path clip-path=\"url(#clip030)\" d=\"M163.241 180.713 L170.88 180.713 L170.88 154.348 L162.57 156.014 L162.57 151.755 L170.834 150.088 L175.51 150.088 L175.51 180.713 L183.149 180.713 L183.149 184.648 L163.241 184.648 L163.241 180.713 Z\" fill=\"#000000\" fill-rule=\"evenodd\" fill-opacity=\"1\" /><path clip-path=\"url(#clip030)\" d=\"M192.639 150.088 L210.996 150.088 L210.996 154.023 L196.922 154.023 L196.922 162.496 Q197.94 162.148 198.959 161.986 Q199.977 161.801 200.996 161.801 Q206.783 161.801 210.162 164.972 Q213.542 168.144 213.542 173.56 Q213.542 179.139 210.07 182.241 Q206.598 185.32 200.278 185.32 Q198.102 185.32 195.834 184.949 Q193.588 184.579 191.181 183.838 L191.181 179.139 Q193.264 180.273 195.487 180.829 Q197.709 181.384 200.186 181.384 Q204.19 181.384 206.528 179.278 Q208.866 177.171 208.866 173.56 Q208.866 169.949 206.528 167.843 Q204.19 165.736 200.186 165.736 Q198.311 165.736 196.436 166.153 Q194.584 166.57 192.639 167.449 L192.639 150.088 Z\" fill=\"#000000\" fill-rule=\"evenodd\" fill-opacity=\"1\" /><path clip-path=\"url(#clip030)\" d=\"M41.3104 1089.3 L58.7206 1089.3 L58.7206 1078.99 Q58.7206 1073.8 56.5881 1071.32 Q54.4238 1068.81 49.9996 1068.81 Q45.5436 1068.81 43.4429 1071.32 Q41.3104 1073.8 41.3104 1078.99 L41.3104 1089.3 M21.7677 1089.3 L36.0905 1089.3 L36.0905 1079.79 Q36.0905 1075.08 34.34 1072.78 Q32.5576 1070.46 28.9291 1070.46 Q25.3325 1070.46 23.5501 1072.78 Q21.7677 1075.08 21.7677 1079.79 L21.7677 1089.3 M16.4842 1095.73 L16.4842 1079.31 Q16.4842 1071.96 19.5397 1067.98 Q22.5952 1064 28.2289 1064 Q32.5894 1064 35.1675 1066.04 Q37.7456 1068.07 38.3822 1072.02 Q39.4007 1067.28 42.6472 1064.67 Q45.8619 1062.03 50.6998 1062.03 Q57.0655 1062.03 60.5348 1066.36 Q64.0042 1070.68 64.0042 1078.67 L64.0042 1095.73 L16.4842 1095.73 Z\" fill=\"#000000\" fill-rule=\"evenodd\" fill-opacity=\"1\" /><path clip-path=\"url(#clip030)\" d=\"M32.4621 1037.46 Q32.4621 1042.17 36.1542 1044.9 Q39.8145 1047.64 46.212 1047.64 Q52.6095 1047.64 56.3017 1044.93 Q59.9619 1042.2 59.9619 1037.46 Q59.9619 1032.78 56.2698 1030.04 Q52.5777 1027.3 46.212 1027.3 Q39.8781 1027.3 36.186 1030.04 Q32.4621 1032.78 32.4621 1037.46 M27.4968 1037.46 Q27.4968 1029.82 32.4621 1025.46 Q37.4273 1021.1 46.212 1021.1 Q54.9649 1021.1 59.9619 1025.46 Q64.9272 1029.82 64.9272 1037.46 Q64.9272 1045.13 59.9619 1049.49 Q54.9649 1053.81 46.212 1053.81 Q37.4273 1053.81 32.4621 1049.49 Q27.4968 1045.13 27.4968 1037.46 Z\" fill=\"#000000\" fill-rule=\"evenodd\" fill-opacity=\"1\" /><path clip-path=\"url(#clip030)\" d=\"M18.2347 1005.59 L28.3562 1005.59 L28.3562 993.532 L32.9077 993.532 L32.9077 1005.59 L52.2594 1005.59 Q56.6199 1005.59 57.8613 1004.42 Q59.1026 1003.21 59.1026 999.547 L59.1026 993.532 L64.0042 993.532 L64.0042 999.547 Q64.0042 1006.33 61.4897 1008.9 Q58.9434 1011.48 52.2594 1011.48 L32.9077 1011.48 L32.9077 1015.78 L28.3562 1015.78 L28.3562 1011.48 L18.2347 1011.48 L18.2347 1005.59 Z\" fill=\"#000000\" fill-rule=\"evenodd\" fill-opacity=\"1\" /><path clip-path=\"url(#clip030)\" d=\"M18.2347 980.036 L28.3562 980.036 L28.3562 967.973 L32.9077 967.973 L32.9077 980.036 L52.2594 980.036 Q56.6199 980.036 57.8613 978.859 Q59.1026 977.649 59.1026 973.989 L59.1026 967.973 L64.0042 967.973 L64.0042 973.989 Q64.0042 980.768 61.4897 983.347 Q58.9434 985.925 52.2594 985.925 L32.9077 985.925 L32.9077 990.222 L28.3562 990.222 L28.3562 985.925 L18.2347 985.925 L18.2347 980.036 Z\" fill=\"#000000\" fill-rule=\"evenodd\" fill-opacity=\"1\" /><path clip-path=\"url(#clip030)\" d=\"M14.479 960.271 L14.479 954.414 L64.0042 954.414 L64.0042 960.271 L14.479 960.271 Z\" fill=\"#000000\" fill-rule=\"evenodd\" fill-opacity=\"1\" /><path clip-path=\"url(#clip030)\" d=\"M44.7161 911.669 L47.5806 911.669 L47.5806 938.596 Q53.6281 938.214 56.8109 934.967 Q59.9619 931.689 59.9619 925.864 Q59.9619 922.49 59.1344 919.339 Q58.3069 916.157 56.6518 913.037 L62.1899 913.037 Q63.5267 916.188 64.227 919.499 Q64.9272 922.809 64.9272 926.214 Q64.9272 934.744 59.9619 939.741 Q54.9967 944.707 46.5303 944.707 Q37.7774 944.707 32.6531 939.996 Q27.4968 935.254 27.4968 927.233 Q27.4968 920.04 32.1438 915.87 Q36.7589 911.669 44.7161 911.669 M42.9973 917.525 Q38.1912 917.589 35.3266 920.231 Q32.4621 922.841 32.4621 927.169 Q32.4621 932.071 35.2312 935.031 Q38.0002 937.959 43.0292 938.405 L42.9973 917.525 Z\" fill=\"#000000\" fill-rule=\"evenodd\" fill-opacity=\"1\" /><path clip-path=\"url(#clip030)\" d=\"M42.4881 872.424 L64.0042 872.424 L64.0042 878.281 L42.679 878.281 Q37.6183 878.281 35.1038 880.254 Q32.5894 882.227 32.5894 886.174 Q32.5894 890.916 35.6131 893.654 Q38.6368 896.391 43.8567 896.391 L64.0042 896.391 L64.0042 902.279 L28.3562 902.279 L28.3562 896.391 L33.8944 896.391 Q30.6797 894.29 29.0883 891.458 Q27.4968 888.593 27.4968 884.869 Q27.4968 878.726 31.3163 875.575 Q35.1038 872.424 42.4881 872.424 Z\" fill=\"#000000\" fill-rule=\"evenodd\" fill-opacity=\"1\" /><path clip-path=\"url(#clip030)\" d=\"M44.7161 830.251 L47.5806 830.251 L47.5806 857.178 Q53.6281 856.796 56.8109 853.55 Q59.9619 850.271 59.9619 844.447 Q59.9619 841.073 59.1344 837.922 Q58.3069 834.739 56.6518 831.62 L62.1899 831.62 Q63.5267 834.771 64.227 838.081 Q64.9272 841.391 64.9272 844.797 Q64.9272 853.327 59.9619 858.324 Q54.9967 863.289 46.5303 863.289 Q37.7774 863.289 32.6531 858.579 Q27.4968 853.836 27.4968 845.815 Q27.4968 838.622 32.1438 834.453 Q36.7589 830.251 44.7161 830.251 M42.9973 836.108 Q38.1912 836.171 35.3266 838.813 Q32.4621 841.423 32.4621 845.752 Q32.4621 850.653 35.2312 853.613 Q38.0002 856.542 43.0292 856.987 L42.9973 836.108 Z\" fill=\"#000000\" fill-rule=\"evenodd\" fill-opacity=\"1\" /><path clip-path=\"url(#clip030)\" d=\"M29.7248 794.985 L35.1993 794.985 Q33.8307 797.468 33.1623 799.982 Q32.4621 802.465 32.4621 805.011 Q32.4621 810.709 36.0905 813.86 Q39.6872 817.011 46.212 817.011 Q52.7369 817.011 56.3653 813.86 Q59.9619 810.709 59.9619 805.011 Q59.9619 802.465 59.2935 799.982 Q58.5933 797.468 57.2247 794.985 L62.6355 794.985 Q63.7814 797.436 64.3543 800.078 Q64.9272 802.688 64.9272 805.648 Q64.9272 813.7 59.8664 818.443 Q54.8057 823.185 46.212 823.185 Q37.491 823.185 32.4939 818.411 Q27.4968 813.605 27.4968 805.266 Q27.4968 802.56 28.0697 799.982 Q28.6108 797.404 29.7248 794.985 Z\" fill=\"#000000\" fill-rule=\"evenodd\" fill-opacity=\"1\" /><path clip-path=\"url(#clip030)\" d=\"M14.479 785.023 L14.479 779.135 L43.7294 779.135 L28.3562 761.661 L28.3562 754.181 L45.0344 773.087 L64.0042 753.385 L64.0042 761.024 L46.5939 779.135 L64.0042 779.135 L64.0042 785.023 L14.479 785.023 Z\" fill=\"#000000\" fill-rule=\"evenodd\" fill-opacity=\"1\" /><path clip-path=\"url(#clip030)\" d=\"M21.7677 719.647 L58.7206 719.647 L58.7206 711.881 Q58.7206 702.046 54.2646 697.495 Q49.8086 692.911 40.1964 692.911 Q30.6479 692.911 26.2237 697.495 Q21.7677 702.046 21.7677 711.881 L21.7677 719.647 M16.4842 726.077 L16.4842 712.868 Q16.4842 699.054 22.2451 692.593 Q27.9743 686.132 40.1964 686.132 Q52.4822 686.132 58.2432 692.625 Q64.0042 699.118 64.0042 712.868 L64.0042 726.077 L16.4842 726.077 Z\" fill=\"#000000\" fill-rule=\"evenodd\" fill-opacity=\"1\" /><path clip-path=\"url(#clip030)\" d=\"M28.3562 676.138 L28.3562 670.281 L64.0042 670.281 L64.0042 676.138 L28.3562 676.138 M14.479 676.138 L14.479 670.281 L21.895 670.281 L21.895 676.138 L14.479 676.138 Z\" fill=\"#000000\" fill-rule=\"evenodd\" fill-opacity=\"1\" /><path clip-path=\"url(#clip030)\" d=\"M29.4065 635.302 L34.9447 635.302 Q33.6716 637.784 33.035 640.458 Q32.3984 643.131 32.3984 645.996 Q32.3984 650.356 33.7352 652.553 Q35.072 654.717 37.7456 654.717 Q39.7826 654.717 40.9603 653.157 Q42.1061 651.598 43.1565 646.887 L43.6021 644.882 Q44.9389 638.644 47.3897 636.034 Q49.8086 633.392 54.1691 633.392 Q59.1344 633.392 62.0308 637.339 Q64.9272 641.253 64.9272 648.128 Q64.9272 650.993 64.3543 654.112 Q63.8132 657.2 62.6992 660.637 L56.6518 660.637 Q58.3387 657.391 59.198 654.24 Q60.0256 651.089 60.0256 648.001 Q60.0256 643.863 58.6251 641.635 Q57.1929 639.407 54.6147 639.407 Q52.2276 639.407 50.9545 641.031 Q49.6813 642.622 48.5037 648.065 L48.0262 650.102 Q46.8804 655.544 44.5251 657.963 Q42.138 660.382 38.0002 660.382 Q32.9713 660.382 30.2341 656.818 Q27.4968 653.253 27.4968 646.696 Q27.4968 643.45 27.9743 640.585 Q28.4517 637.721 29.4065 635.302 Z\" fill=\"#000000\" fill-rule=\"evenodd\" fill-opacity=\"1\" /><path clip-path=\"url(#clip030)\" d=\"M18.2347 618.273 L28.3562 618.273 L28.3562 606.21 L32.9077 606.21 L32.9077 618.273 L52.2594 618.273 Q56.6199 618.273 57.8613 617.096 Q59.1026 615.886 59.1026 612.226 L59.1026 606.21 L64.0042 606.21 L64.0042 612.226 Q64.0042 619.005 61.4897 621.583 Q58.9434 624.162 52.2594 624.162 L32.9077 624.162 L32.9077 628.458 L28.3562 628.458 L28.3562 624.162 L18.2347 624.162 L18.2347 618.273 Z\" fill=\"#000000\" fill-rule=\"evenodd\" fill-opacity=\"1\" /><path clip-path=\"url(#clip030)\" d=\"M46.0847 582.307 Q46.0847 589.405 47.7079 592.142 Q49.3312 594.879 53.2461 594.879 Q56.3653 594.879 58.2114 592.842 Q60.0256 590.773 60.0256 587.24 Q60.0256 582.371 56.5881 579.442 Q53.1188 576.482 47.3897 576.482 L46.0847 576.482 L46.0847 582.307 M43.6657 570.626 L64.0042 570.626 L64.0042 576.482 L58.5933 576.482 Q61.8398 578.488 63.3994 581.48 Q64.9272 584.471 64.9272 588.8 Q64.9272 594.275 61.8716 597.521 Q58.7843 600.736 53.6281 600.736 Q47.6125 600.736 44.5569 596.725 Q41.5014 592.683 41.5014 584.694 L41.5014 576.482 L40.9285 576.482 Q36.8862 576.482 34.6901 579.156 Q32.4621 581.798 32.4621 586.604 Q32.4621 589.659 33.1941 592.556 Q33.9262 595.452 35.3903 598.126 L29.9795 598.126 Q28.7381 594.911 28.1334 591.887 Q27.4968 588.864 27.4968 585.999 Q27.4968 578.265 31.5072 574.445 Q35.5176 570.626 43.6657 570.626 Z\" fill=\"#000000\" fill-rule=\"evenodd\" fill-opacity=\"1\" /><path clip-path=\"url(#clip030)\" d=\"M42.4881 528.931 L64.0042 528.931 L64.0042 534.787 L42.679 534.787 Q37.6183 534.787 35.1038 536.76 Q32.5894 538.734 32.5894 542.681 Q32.5894 547.423 35.6131 550.16 Q38.6368 552.897 43.8567 552.897 L64.0042 552.897 L64.0042 558.786 L28.3562 558.786 L28.3562 552.897 L33.8944 552.897 Q30.6797 550.797 29.0883 547.964 Q27.4968 545.099 27.4968 541.376 Q27.4968 535.233 31.3163 532.082 Q35.1038 528.931 42.4881 528.931 Z\" fill=\"#000000\" fill-rule=\"evenodd\" fill-opacity=\"1\" /><path clip-path=\"url(#clip030)\" d=\"M29.7248 491.596 L35.1993 491.596 Q33.8307 494.078 33.1623 496.593 Q32.4621 499.075 32.4621 501.622 Q32.4621 507.319 36.0905 510.47 Q39.6872 513.621 46.212 513.621 Q52.7369 513.621 56.3653 510.47 Q59.9619 507.319 59.9619 501.622 Q59.9619 499.075 59.2935 496.593 Q58.5933 494.078 57.2247 491.596 L62.6355 491.596 Q63.7814 494.047 64.3543 496.688 Q64.9272 499.298 64.9272 502.258 Q64.9272 510.311 59.8664 515.053 Q54.8057 519.796 46.212 519.796 Q37.491 519.796 32.4939 515.022 Q27.4968 510.215 27.4968 501.876 Q27.4968 499.171 28.0697 496.593 Q28.6108 494.015 29.7248 491.596 Z\" fill=\"#000000\" fill-rule=\"evenodd\" fill-opacity=\"1\" /><path clip-path=\"url(#clip030)\" d=\"M44.7161 450.919 L47.5806 450.919 L47.5806 477.846 Q53.6281 477.464 56.8109 474.217 Q59.9619 470.939 59.9619 465.114 Q59.9619 461.741 59.1344 458.59 Q58.3069 455.407 56.6518 452.287 L62.1899 452.287 Q63.5267 455.439 64.227 458.749 Q64.9272 462.059 64.9272 465.464 Q64.9272 473.995 59.9619 478.992 Q54.9967 483.957 46.5303 483.957 Q37.7774 483.957 32.6531 479.246 Q27.4968 474.504 27.4968 466.483 Q27.4968 459.29 32.1438 455.12 Q36.7589 450.919 44.7161 450.919 M42.9973 456.775 Q38.1912 456.839 35.3266 459.481 Q32.4621 462.091 32.4621 466.419 Q32.4621 471.321 35.2312 474.281 Q38.0002 477.209 43.0292 477.655 L42.9973 456.775 Z\" fill=\"#000000\" fill-rule=\"evenodd\" fill-opacity=\"1\" /><path clip-path=\"url(#clip030)\" d=\"M1142.45 34.4165 Q1140.96 33.8899 1139.46 33.4848 Q1135.45 32.4315 1131.15 32.4315 Q1123.74 32.4315 1119.61 36.4419 Q1115.76 40.1688 1115.03 47.0148 L1142.45 47.0148 L1142.45 52.8481 L1115.03 52.8481 Q1115.76 59.6941 1119.61 63.421 Q1123.74 67.4314 1131.15 67.4314 Q1136.34 67.4314 1139.46 66.3781 L1142.45 65.3654 L1142.45 72.1304 L1139.25 72.8596 Q1135.04 73.7508 1130.71 73.7508 Q1119.85 73.7508 1113.53 67.4314 Q1107.17 61.1119 1107.17 49.9314 Q1107.17 38.7509 1113.53 32.4315 Q1119.85 26.1121 1130.71 26.1121 Q1134.8 26.1121 1139.25 27.0033 Q1140.87 27.3274 1142.45 27.8135 L1142.45 34.4165 Z\" fill=\"#000000\" fill-rule=\"evenodd\" fill-opacity=\"1\" /><path clip-path=\"url(#clip030)\" d=\"M1162.43 34.9026 L1214.36 34.9026 L1214.36 41.7081 L1162.43 41.7081 L1162.43 34.9026 M1162.43 51.4303 L1214.36 51.4303 L1214.36 58.3168 L1162.43 58.3168 L1162.43 51.4303 Z\" fill=\"#000000\" fill-rule=\"evenodd\" fill-opacity=\"1\" /><path clip-path=\"url(#clip030)\" d=\"M1230.97 9.54393 L1238.42 9.54393 L1238.42 72.576 L1230.97 72.576 L1230.97 9.54393 Z\" fill=\"#000000\" fill-rule=\"evenodd\" fill-opacity=\"1\" /><path clip-path=\"url(#clip030)\" d=\"M1271.6 32.4315 Q1265.6 32.4315 1262.12 37.1306 Q1258.63 41.7891 1258.63 49.9314 Q1258.63 58.0738 1262.08 62.7728 Q1265.56 67.4314 1271.6 67.4314 Q1277.55 67.4314 1281.04 62.7323 Q1284.52 58.0333 1284.52 49.9314 Q1284.52 41.8701 1281.04 37.1711 Q1277.55 32.4315 1271.6 32.4315 M1271.6 26.1121 Q1281.32 26.1121 1286.87 32.4315 Q1292.42 38.7509 1292.42 49.9314 Q1292.42 61.0714 1286.87 67.4314 Q1281.32 73.7508 1271.6 73.7508 Q1261.83 73.7508 1256.29 67.4314 Q1250.78 61.0714 1250.78 49.9314 Q1250.78 38.7509 1256.29 32.4315 Q1261.83 26.1121 1271.6 26.1121 Z\" fill=\"#000000\" fill-rule=\"evenodd\" fill-opacity=\"1\" /><path clip-path=\"url(#clip030)\" d=\"M1334.63 49.3643 Q1334.63 41.2625 1331.27 36.8065 Q1327.95 32.3505 1321.91 32.3505 Q1315.91 32.3505 1312.55 36.8065 Q1309.23 41.2625 1309.23 49.3643 Q1309.23 57.4256 1312.55 61.8816 Q1315.91 66.3376 1321.91 66.3376 Q1327.95 66.3376 1331.27 61.8816 Q1334.63 57.4256 1334.63 49.3643 M1342.08 66.9452 Q1342.08 78.5308 1336.94 84.1616 Q1331.79 89.8329 1321.18 89.8329 Q1317.25 89.8329 1313.77 89.2252 Q1310.28 88.6581 1307 87.4428 L1307 80.1917 Q1310.28 81.9741 1313.48 82.8248 Q1316.68 83.6755 1320.01 83.6755 Q1327.34 83.6755 1330.98 79.8271 Q1334.63 76.0193 1334.63 68.282 L1334.63 64.5957 Q1332.32 68.6061 1328.72 70.5911 Q1325.11 72.576 1320.09 72.576 Q1311.74 72.576 1306.64 66.2161 Q1301.53 59.8562 1301.53 49.3643 Q1301.53 38.832 1306.64 32.472 Q1311.74 26.1121 1320.09 26.1121 Q1325.11 26.1121 1328.72 28.0971 Q1332.32 30.082 1334.63 34.0924 L1334.63 27.2059 L1342.08 27.2059 L1342.08 66.9452 Z\" fill=\"#000000\" fill-rule=\"evenodd\" fill-opacity=\"1\" /><path clip-path=\"url(#clip030)\" d=\"M1354.36 10.2326 L1359.1 10.2326 L1359.1 31.0542 L1373.11 20.1168 L1379.11 20.1168 L1363.92 31.9859 L1379.72 45.516 L1373.6 45.516 L1359.1 33.1202 L1359.1 45.516 L1354.36 45.516 L1354.36 10.2326 Z\" fill=\"#000000\" fill-rule=\"evenodd\" fill-opacity=\"1\" /><path clip-path=\"url(#clip030)\" d=\"M1410.67 9.62495 Q1405.24 18.942 1402.6 28.0566 Q1399.97 37.1711 1399.97 46.5287 Q1399.97 55.8863 1402.6 65.0818 Q1405.28 74.2369 1410.67 83.5134 L1404.18 83.5134 Q1398.11 73.9938 1395.07 64.7983 Q1392.07 55.6027 1392.07 46.5287 Q1392.07 37.4952 1395.07 28.3401 Q1398.07 19.1851 1404.18 9.62495 L1410.67 9.62495 Z\" fill=\"#000000\" fill-rule=\"evenodd\" fill-opacity=\"1\" /><path clip-path=\"url(#clip030)\" d=\"M1462.84 45.1919 L1462.84 72.576 L1455.39 72.576 L1455.39 45.4349 Q1455.39 38.994 1452.88 35.7938 Q1450.36 32.5936 1445.34 32.5936 Q1439.31 32.5936 1435.82 36.4419 Q1432.34 40.2903 1432.34 46.9338 L1432.34 72.576 L1424.84 72.576 L1424.84 27.2059 L1432.34 27.2059 L1432.34 34.2544 Q1435.01 30.163 1438.62 28.1376 Q1442.26 26.1121 1447 26.1121 Q1454.82 26.1121 1458.83 30.9732 Q1462.84 35.7938 1462.84 45.1919 Z\" fill=\"#000000\" fill-rule=\"evenodd\" fill-opacity=\"1\" /><path clip-path=\"url(#clip030)\" d=\"M1476.53 9.62495 L1483.01 9.62495 Q1489.09 19.1851 1492.09 28.3401 Q1495.13 37.4952 1495.13 46.5287 Q1495.13 55.6027 1492.09 64.7983 Q1489.09 73.9938 1483.01 83.5134 L1476.53 83.5134 Q1481.92 74.2369 1484.55 65.0818 Q1487.23 55.8863 1487.23 46.5287 Q1487.23 37.1711 1484.55 28.0566 Q1481.92 18.942 1476.53 9.62495 Z\" fill=\"#000000\" fill-rule=\"evenodd\" fill-opacity=\"1\" /><polyline clip-path=\"url(#clip032)\" style=\"stroke:#009af9; stroke-linecap:butt; stroke-linejoin:round; stroke-width:12; stroke-opacity:1; fill:none\" points=\"\n",
       "  309.067,160.256 377.486,486.216 514.325,509.123 924.842,850.568 1266.94,1148.21 1609.04,1183.43 2293.23,1190.1 \n",
       "  \"/>\n",
       "<polyline clip-path=\"url(#clip032)\" style=\"stroke:#e26f46; stroke-linecap:butt; stroke-linejoin:round; stroke-width:12; stroke-opacity:1; fill:none\" points=\"\n",
       "  309.067,443.402 377.486,791.33 514.325,833.122 924.842,1215.83 1266.94,1247.05 1609.04,1263.4 2293.23,1334.63 \n",
       "  \"/>\n",
       "<polyline clip-path=\"url(#clip032)\" style=\"stroke:#3da44d; stroke-linecap:butt; stroke-linejoin:round; stroke-width:12; stroke-opacity:1; fill:none\" points=\"\n",
       "  309.067,805.819 377.486,1046.27 514.325,1137.56 924.842,1342.3 1266.94,1371.87 1609.04,1385.63 2293.23,1386.4 \n",
       "  \"/>\n",
       "<path clip-path=\"url(#clip030)\" d=\"\n",
       "M1884.58 374.156 L2282.65 374.156 L2282.65 166.796 L1884.58 166.796  Z\n",
       "  \" fill=\"#ffffff\" fill-rule=\"evenodd\" fill-opacity=\"1\"/>\n",
       "<polyline clip-path=\"url(#clip030)\" style=\"stroke:#000000; stroke-linecap:butt; stroke-linejoin:round; stroke-width:4; stroke-opacity:1; fill:none\" points=\"\n",
       "  1884.58,374.156 2282.65,374.156 2282.65,166.796 1884.58,166.796 1884.58,374.156 \n",
       "  \"/>\n",
       "<polyline clip-path=\"url(#clip030)\" style=\"stroke:#009af9; stroke-linecap:butt; stroke-linejoin:round; stroke-width:4; stroke-opacity:1; fill:none\" points=\"\n",
       "  1907.95,218.636 2048.17,218.636 \n",
       "  \"/>\n",
       "<path clip-path=\"url(#clip030)\" d=\"M2071.54 199.897 L2075.82 199.897 L2075.82 221.17 L2088.53 209.99 L2093.97 209.99 L2080.22 222.119 L2094.55 235.916 L2088.99 235.916 L2075.82 223.254 L2075.82 235.916 L2071.54 235.916 L2071.54 199.897 Z\" fill=\"#000000\" fill-rule=\"evenodd\" fill-opacity=\"1\" /><path clip-path=\"url(#clip030)\" d=\"M2099.71 214.388 L2129.38 214.388 L2129.38 218.277 L2099.71 218.277 L2099.71 214.388 M2099.71 223.832 L2129.38 223.832 L2129.38 227.768 L2099.71 227.768 L2099.71 223.832 Z\" fill=\"#000000\" fill-rule=\"evenodd\" fill-opacity=\"1\" /><path clip-path=\"url(#clip030)\" d=\"M2149.48 204.434 Q2145.86 204.434 2144.04 207.999 Q2142.23 211.541 2142.23 218.67 Q2142.23 225.777 2144.04 229.342 Q2145.86 232.883 2149.48 232.883 Q2153.11 232.883 2154.92 229.342 Q2156.74 225.777 2156.74 218.67 Q2156.74 211.541 2154.92 207.999 Q2153.11 204.434 2149.48 204.434 M2149.48 200.731 Q2155.29 200.731 2158.34 205.337 Q2161.42 209.92 2161.42 218.67 Q2161.42 227.397 2158.34 232.004 Q2155.29 236.587 2149.48 236.587 Q2143.67 236.587 2140.59 232.004 Q2137.53 227.397 2137.53 218.67 Q2137.53 209.92 2140.59 205.337 Q2143.67 200.731 2149.48 200.731 Z\" fill=\"#000000\" fill-rule=\"evenodd\" fill-opacity=\"1\" /><path clip-path=\"url(#clip030)\" d=\"M2169.64 230.036 L2174.52 230.036 L2174.52 235.916 L2169.64 235.916 L2169.64 230.036 Z\" fill=\"#000000\" fill-rule=\"evenodd\" fill-opacity=\"1\" /><path clip-path=\"url(#clip030)\" d=\"M2184.75 201.356 L2203.11 201.356 L2203.11 205.291 L2189.04 205.291 L2189.04 213.763 Q2190.05 213.416 2191.07 213.254 Q2192.09 213.069 2193.11 213.069 Q2198.9 213.069 2202.28 216.24 Q2205.66 219.411 2205.66 224.828 Q2205.66 230.406 2202.18 233.508 Q2198.71 236.587 2192.39 236.587 Q2190.22 236.587 2187.95 236.217 Q2185.7 235.846 2183.3 235.106 L2183.3 230.406 Q2185.38 231.541 2187.6 232.096 Q2189.82 232.652 2192.3 232.652 Q2196.3 232.652 2198.64 230.545 Q2200.98 228.439 2200.98 224.828 Q2200.98 221.217 2198.64 219.11 Q2196.3 217.004 2192.3 217.004 Q2190.42 217.004 2188.55 217.42 Q2186.7 217.837 2184.75 218.717 L2184.75 201.356 Z\" fill=\"#000000\" fill-rule=\"evenodd\" fill-opacity=\"1\" /><polyline clip-path=\"url(#clip030)\" style=\"stroke:#e26f46; stroke-linecap:butt; stroke-linejoin:round; stroke-width:4; stroke-opacity:1; fill:none\" points=\"\n",
       "  1907.95,270.476 2048.17,270.476 \n",
       "  \"/>\n",
       "<path clip-path=\"url(#clip030)\" d=\"M2071.54 251.737 L2075.82 251.737 L2075.82 273.01 L2088.53 261.83 L2093.97 261.83 L2080.22 273.959 L2094.55 287.756 L2088.99 287.756 L2075.82 275.094 L2075.82 287.756 L2071.54 287.756 L2071.54 251.737 Z\" fill=\"#000000\" fill-rule=\"evenodd\" fill-opacity=\"1\" /><path clip-path=\"url(#clip030)\" d=\"M2099.71 266.228 L2129.38 266.228 L2129.38 270.117 L2099.71 270.117 L2099.71 266.228 M2099.71 275.672 L2129.38 275.672 L2129.38 279.608 L2099.71 279.608 L2099.71 275.672 Z\" fill=\"#000000\" fill-rule=\"evenodd\" fill-opacity=\"1\" /><path clip-path=\"url(#clip030)\" d=\"M2149.48 256.274 Q2145.86 256.274 2144.04 259.839 Q2142.23 263.381 2142.23 270.51 Q2142.23 277.617 2144.04 281.182 Q2145.86 284.723 2149.48 284.723 Q2153.11 284.723 2154.92 281.182 Q2156.74 277.617 2156.74 270.51 Q2156.74 263.381 2154.92 259.839 Q2153.11 256.274 2149.48 256.274 M2149.48 252.571 Q2155.29 252.571 2158.34 257.177 Q2161.42 261.76 2161.42 270.51 Q2161.42 279.237 2158.34 283.844 Q2155.29 288.427 2149.48 288.427 Q2143.67 288.427 2140.59 283.844 Q2137.53 279.237 2137.53 270.51 Q2137.53 261.76 2140.59 257.177 Q2143.67 252.571 2149.48 252.571 Z\" fill=\"#000000\" fill-rule=\"evenodd\" fill-opacity=\"1\" /><path clip-path=\"url(#clip030)\" d=\"M2169.64 281.876 L2174.52 281.876 L2174.52 287.756 L2169.64 287.756 L2169.64 281.876 Z\" fill=\"#000000\" fill-rule=\"evenodd\" fill-opacity=\"1\" /><path clip-path=\"url(#clip030)\" d=\"M2195.29 268.612 Q2192.14 268.612 2190.29 270.765 Q2188.46 272.918 2188.46 276.668 Q2188.46 280.395 2190.29 282.571 Q2192.14 284.723 2195.29 284.723 Q2198.43 284.723 2200.26 282.571 Q2202.11 280.395 2202.11 276.668 Q2202.11 272.918 2200.26 270.765 Q2198.43 268.612 2195.29 268.612 M2204.57 253.96 L2204.57 258.219 Q2202.81 257.386 2201 256.946 Q2199.22 256.506 2197.46 256.506 Q2192.83 256.506 2190.38 259.631 Q2187.95 262.756 2187.6 269.075 Q2188.97 267.061 2191.03 265.997 Q2193.09 264.909 2195.56 264.909 Q2200.77 264.909 2203.78 268.08 Q2206.81 271.228 2206.81 276.668 Q2206.81 281.992 2203.67 285.209 Q2200.52 288.427 2195.29 288.427 Q2189.29 288.427 2186.12 283.844 Q2182.95 279.237 2182.95 270.51 Q2182.95 262.316 2186.84 257.455 Q2190.73 252.571 2197.28 252.571 Q2199.04 252.571 2200.82 252.918 Q2202.62 253.265 2204.57 253.96 Z\" fill=\"#000000\" fill-rule=\"evenodd\" fill-opacity=\"1\" /><path clip-path=\"url(#clip030)\" d=\"M2213.69 253.196 L2235.91 253.196 L2235.91 255.186 L2223.36 287.756 L2218.48 287.756 L2230.29 257.131 L2213.69 257.131 L2213.69 253.196 Z\" fill=\"#000000\" fill-rule=\"evenodd\" fill-opacity=\"1\" /><polyline clip-path=\"url(#clip030)\" style=\"stroke:#3da44d; stroke-linecap:butt; stroke-linejoin:round; stroke-width:4; stroke-opacity:1; fill:none\" points=\"\n",
       "  1907.95,322.316 2048.17,322.316 \n",
       "  \"/>\n",
       "<path clip-path=\"url(#clip030)\" d=\"M2071.54 303.577 L2075.82 303.577 L2075.82 324.85 L2088.53 313.67 L2093.97 313.67 L2080.22 325.799 L2094.55 339.596 L2088.99 339.596 L2075.82 326.934 L2075.82 339.596 L2071.54 339.596 L2071.54 303.577 Z\" fill=\"#000000\" fill-rule=\"evenodd\" fill-opacity=\"1\" /><path clip-path=\"url(#clip030)\" d=\"M2099.71 318.068 L2129.38 318.068 L2129.38 321.957 L2099.71 321.957 L2099.71 318.068 M2099.71 327.512 L2129.38 327.512 L2129.38 331.448 L2099.71 331.448 L2099.71 327.512 Z\" fill=\"#000000\" fill-rule=\"evenodd\" fill-opacity=\"1\" /><path clip-path=\"url(#clip030)\" d=\"M2140.29 335.661 L2147.93 335.661 L2147.93 309.295 L2139.61 310.962 L2139.61 306.702 L2147.88 305.036 L2152.55 305.036 L2152.55 335.661 L2160.19 335.661 L2160.19 339.596 L2140.29 339.596 L2140.29 335.661 Z\" fill=\"#000000\" fill-rule=\"evenodd\" fill-opacity=\"1\" /><path clip-path=\"url(#clip030)\" d=\"M2169.64 333.716 L2174.52 333.716 L2174.52 339.596 L2169.64 339.596 L2169.64 333.716 Z\" fill=\"#000000\" fill-rule=\"evenodd\" fill-opacity=\"1\" /><path clip-path=\"url(#clip030)\" d=\"M2194.71 308.114 Q2191.1 308.114 2189.27 311.679 Q2187.46 315.221 2187.46 322.35 Q2187.46 329.457 2189.27 333.022 Q2191.1 336.563 2194.71 336.563 Q2198.34 336.563 2200.15 333.022 Q2201.98 329.457 2201.98 322.35 Q2201.98 315.221 2200.15 311.679 Q2198.34 308.114 2194.71 308.114 M2194.71 304.411 Q2200.52 304.411 2203.57 309.017 Q2206.65 313.6 2206.65 322.35 Q2206.65 331.077 2203.57 335.684 Q2200.52 340.267 2194.71 340.267 Q2188.9 340.267 2185.82 335.684 Q2182.76 331.077 2182.76 322.35 Q2182.76 313.6 2185.82 309.017 Q2188.9 304.411 2194.71 304.411 Z\" fill=\"#000000\" fill-rule=\"evenodd\" fill-opacity=\"1\" /></svg>\n"
      ]
     },
     "metadata": {},
     "output_type": "display_data"
    }
   ],
   "source": [
    "plt = plot(title=\"ϵ=logᵏ(n)\", xlabel=\"n\", ylabel=\"Bottleneck Distance\")\n",
    "for k in 1:length(Ks)\n",
    "    plot!(plt, N,\n",
    "        mean(results[k], dims=1)',\n",
    "        # ribbon=std(results[k], dims=1),\n",
    "        ms=:o,\n",
    "        label = \"k=$(round(Ks[k], digits=2))\",\n",
    "        lw=3, fillapha=0.01,\n",
    "    )\n",
    "end\n",
    "plt"
   ]
  }
 ],
 "metadata": {
  "kernelspec": {
   "display_name": "Julia 1.7.1",
   "language": "julia",
   "name": "julia-1.7"
  },
  "language_info": {
   "file_extension": ".jl",
   "mimetype": "application/julia",
   "name": "julia",
   "version": "1.7.1"
  },
  "orig_nbformat": 4
 },
 "nbformat": 4,
 "nbformat_minor": 2
}
