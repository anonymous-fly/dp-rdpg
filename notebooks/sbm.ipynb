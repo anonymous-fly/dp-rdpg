{
 "cells": [
  {
   "cell_type": "code",
   "execution_count": null,
   "metadata": {},
   "outputs": [],
   "source": [
    "using DrWatson\n",
    "@quickactivate \"projectdir()\""
   ]
  },
  {
   "cell_type": "code",
   "execution_count": null,
   "metadata": {},
   "outputs": [],
   "source": [
    "include(srcdir(\"rdpg.jl\"))\n",
    "import Main.rdpg\n",
    "using PersistenceDiagrams, Pipe, Plots, ProgressMeter, Random, Ripserer, Statistics, StatsBase"
   ]
  },
  {
   "cell_type": "code",
   "execution_count": null,
   "metadata": {},
   "outputs": [],
   "source": [
    "function scale_embeddings(X)\n",
    "    return (X .- mean(eachrow(X))') * (X'X)^(-0.5)\n",
    "end\n",
    "\n",
    "function diagram(X, dim_max; alpha=true)\n",
    "    points = tuple.(eachcol(X)...)\n",
    "    dgm = ripserer(Alpha(points), dim_max=dim_max)\n",
    "    return dgm\n",
    "end\n",
    "\n",
    "function bottleneck_distances(X, Y, dim_max)\n",
    "    DX = diagram(X, dim_max)\n",
    "    DY = diagram(Y, dim_max)\n",
    "    return [Bottleneck()(DX[d], DY[d]) for d in 1:dim_max+1]\n",
    "end"
   ]
  },
  {
   "cell_type": "code",
   "execution_count": null,
   "metadata": {},
   "outputs": [],
   "source": [
    "function generate_sbm_sparse(n, k, p, r)\n",
    "    f = (x, y) -> (r + p * (x == y)) * log(n) / n\n",
    "    Z = rand(1:k, n)\n",
    "    return rdpg.Adjacency(f, Z)\n",
    "end\n",
    "\n",
    "function generate_sbm_dense(n, k, p, r)\n",
    "    f = (x, y) -> (r + p * (x == y))\n",
    "    Z = rand(1:k, n)\n",
    "    return rdpg.Adjacency(f, Z)\n",
    "end\n",
    "\n",
    "function simulate_one(A, d, epsilon, method)\n",
    "    X, _, _ = rdpg.spectralEmbed(A, d=d + 1, scale=false)\n",
    "    A_private = rdpg.edgeFlip(A, ϵ=epsilon)\n",
    "\n",
    "    if method == :eps\n",
    "        A_private = A_private .- rdpg.privacy(ϵ=epsilon)\n",
    "    end\n",
    "\n",
    "    X_private, _, _ = rdpg.spectralEmbed(A_private, d=d + 1, scale=false)\n",
    "\n",
    "    if method == :eps\n",
    "        X_private = X_private ./ (1 - 2 * rdpg.privacy(ϵ=epsilon))\n",
    "    elseif method == :noeps\n",
    "        X = rdpg.scale_embeddings(X)\n",
    "        X_private = rdpg.scale_embeddings(X_private)\n",
    "    end\n",
    "    return bottleneck_distances(X, X_private, d)\n",
    "end"
   ]
  },
  {
   "cell_type": "markdown",
   "metadata": {},
   "source": [
    "## Illustration of differentially-private community detection using *persistent homology*"
   ]
  },
  {
   "cell_type": "code",
   "execution_count": null,
   "metadata": {},
   "outputs": [],
   "source": [
    "# p, r = 0.8, 0.2\n",
    "p, r = 20, 1\n",
    "clust = 3\n",
    "n = 900\n",
    "ϵ = 2\n",
    "theme(:dao)"
   ]
  },
  {
   "cell_type": "code",
   "execution_count": null,
   "metadata": {},
   "outputs": [],
   "source": [
    "f = (x, y) -> ((r + p * (x == y))) * log(n) / n\n",
    "Z = rand(1:clust, 900)\n",
    "A = rdpg.Adjacency(f, Z)"
   ]
  },
  {
   "cell_type": "code",
   "execution_count": null,
   "metadata": {},
   "outputs": [],
   "source": [
    "X, _, _ = rdpg.spectralEmbed(A, d=3, scale=false)\n",
    "plt = @pipe [tuple(x...) for x in eachrow(X)]  |> scatter(_, groups=Z, lim = (-1,1), title=\"No  privacy\")"
   ]
  },
  {
   "cell_type": "code",
   "execution_count": null,
   "metadata": {},
   "outputs": [],
   "source": [
    "A_private = rdpg.edgeFlip(A, ϵ=ϵ)\n",
    "\n",
    "A_with_eps = (A_private .- rdpg.privacy(ϵ=ϵ)) ./ (1 - 2 * rdpg.privacy(ϵ=ϵ))\n",
    "X_with_eps, _ = rdpg.spectralEmbed(A_with_eps, d=3, scale=false)\n",
    "plt_with_eps = @pipe [tuple(x...) for x in eachrow(X_with_eps)] |> scatter(_, groups=Z, title=\"ϵ=2; publicly available\", lim=(-1, 1))\n",
    "\n",
    "plot(plt, plt_with_eps, layout=(1, 2), size=(800,300))"
   ]
  },
  {
   "cell_type": "code",
   "execution_count": null,
   "metadata": {},
   "outputs": [],
   "source": [
    "plt_standardized = @pipe [tuple(x...) for x in eachrow(StatsBase.standardize(ZScoreTransform, X, dims=1))] |> scatter(_, groups=Z, lim=(-3, 3), title=\"No  privacy (Normalized)\")\n",
    "\n",
    "X_without_eps, _ = rdpg.spectralEmbed(A_private, d=3, scale=false)\n",
    "X_without_eps = StatsBase.standardize(ZScoreTransform, X_without_eps, dims=1)\n",
    "plt_without_eps = @pipe [tuple(x...) for x in eachrow(X_without_eps)] |> scatter(_, groups=Z, title=\"ϵ=2; publicly not available\", lim=(-3, 3))\n",
    "\n",
    "plot(plt_standardized, plt_without_eps, layout=(1, 2), size=(800, 300))"
   ]
  },
  {
   "cell_type": "markdown",
   "metadata": {},
   "source": [
    "## Comparison with [Seif at al. (2022)](https://arxiv.org/abs/2202.00636)"
   ]
  },
  {
   "cell_type": "markdown",
   "metadata": {},
   "source": [
    "In the following, for a stochastic blockmodel with $C=3$ clusters, we examine the bottleneck distance as a function of the number of vertices $n$ when $\\epsilon_n \\asymp \\log^k(n)$ for $k \\in \\{\\frac 23, \\frac 34, 1\\}$. The result in [Seif at al. (2022)](https://arxiv.org/abs/2202.00636) requires that $\\epsilon_n \\asymp (\\log(n)))$. \n",
    "\n",
    "For more information on differentially-private community detection using persistence diagrams, please see [the clustering Jupyter notebook](./clustering.ipynb)."
   ]
  },
  {
   "cell_type": "code",
   "execution_count": null,
   "metadata": {},
   "outputs": [],
   "source": [
    "repeats = 10\n",
    "Ks = [2 / 3, 3 / 4, 1]\n",
    "# Ks_legend = [\"1/2\", \"2/3\", \"1\"]\n",
    "# Ks_legend = [\"0.33\", \"0.66\", \"0.90\"]\n",
    "Ks_legend = [\"0.66\", \"0.75\", \"1.00\"]\n",
    "N = [100, 200, 400, 600, 800, 1000, 2000];"
   ]
  },
  {
   "cell_type": "markdown",
   "metadata": {},
   "source": [
    "### Dense Regime"
   ]
  },
  {
   "cell_type": "markdown",
   "metadata": {},
   "source": [
    "$$\n",
    "\\mathbb{E}(\\mathbf{A}_{ij}) = \\Theta(1)\n",
    "$$"
   ]
  },
  {
   "cell_type": "code",
   "execution_count": null,
   "metadata": {},
   "outputs": [],
   "source": [
    "p, r = 0.5, 0.1\n",
    "clust = 3\n",
    "n = length(N);"
   ]
  },
  {
   "cell_type": "code",
   "execution_count": null,
   "metadata": {},
   "outputs": [],
   "source": [
    "results_dense = [zeros(repeats, n) for _ in 1:length(Ks)];\n",
    "\n",
    "prog = Progress(convert(Int, n * repeats * length(Ks)))\n",
    "\n",
    "# Random.seed!(2022)\n",
    "for i in 1:n\n",
    "    for j in 1:repeats\n",
    "        A = generate_sbm_dense(N[i], clust, p, r)\n",
    "        for k in 1:length(Ks)\n",
    "        \n",
    "            ϵn = 5 * log(N[i])^(Ks[k])\n",
    "            error = simulate_one(A, 0, ϵn, :eps)\n",
    "            results_dense[k][j, i] = error[1]\n",
    "            next!(prog)\n",
    "        \n",
    "        end\n",
    "    end\n",
    "end"
   ]
  },
  {
   "cell_type": "code",
   "execution_count": null,
   "metadata": {},
   "outputs": [],
   "source": [
    "theme(:default)\n",
    "plt_dense = plot(title=\"ϵ=logᵏ(n)\", xlabel=\"n\", ylabel=\"Bottleneck Distance\")\n",
    "for k in 1:length(Ks)\n",
    "    plot!(plt_dense, N,\n",
    "        mean(results_dense[k], dims=1)',\n",
    "        # ribbon=std(results_dense[k], dims=1),\n",
    "        marker=:o,\n",
    "        label=\"k=$(Ks_legend[k])\",\n",
    "        lw=3, fillapha=0.01,\n",
    "        yformatter=identity\n",
    "    )\n",
    "end\n",
    "plt_dense"
   ]
  },
  {
   "cell_type": "markdown",
   "metadata": {},
   "source": [
    "### Sparse Regime"
   ]
  },
  {
   "cell_type": "markdown",
   "metadata": {},
   "source": [
    "$$\n",
    "\\mathbb{E}(\\mathbf{A}_{ij}) = \\Theta\\left(\\frac{\\log n}{n}\\right)\n",
    "$$"
   ]
  },
  {
   "cell_type": "code",
   "execution_count": null,
   "metadata": {},
   "outputs": [],
   "source": [
    "p, r = 5, 1\n",
    "clust = 3\n",
    "n = length(N);"
   ]
  },
  {
   "cell_type": "code",
   "execution_count": null,
   "metadata": {},
   "outputs": [],
   "source": [
    "results_sparse = [zeros(repeats, n) for _ in 1:length(Ks)];\n",
    "\n",
    "prog = Progress(convert(Int, n * repeats * length(Ks)))\n",
    "\n",
    "# Random.seed!(2022)\n",
    "for i in 1:n\n",
    "    for j in 1:repeats\n",
    "        A = generate_sbm_sparse(N[i], clust, p, r)\n",
    "        for k in 1:length(Ks)\n",
    "        \n",
    "            ϵn = 3 * log(N[i])^(Ks[k])\n",
    "            error = simulate_one(A, 0, ϵn, :eps)\n",
    "            results_sparse[k][j, i] = error[1]\n",
    "            next!(prog)\n",
    "        \n",
    "        end\n",
    "    end\n",
    "end"
   ]
  },
  {
   "cell_type": "code",
   "execution_count": null,
   "metadata": {},
   "outputs": [],
   "source": [
    "theme(:default)\n",
    "plt_sparse = plot(title=\"ϵ=logᵏ(n)\", xlabel=\"n\", ylabel=\"Bottleneck Distance\")\n",
    "for k in 1:length(Ks)\n",
    "    plot!(plt_sparse, N,\n",
    "        mean(results_sparse[k], dims=1)',\n",
    "        # ribbon=std(results_3[k], dims=1),\n",
    "        marker=:o,\n",
    "        label = \"k=$(Ks_legend[k])\",\n",
    "        lw=3, fillapha=0.01,\n",
    "    )\n",
    "end\n",
    "plt_sparse"
   ]
  }
 ],
 "metadata": {
  "kernelspec": {
   "display_name": "Julia 1.7.3",
   "language": "julia",
   "name": "julia-1.7"
  },
  "language_info": {
   "file_extension": ".jl",
   "mimetype": "application/julia",
   "name": "julia",
   "version": "1.7.3"
  },
  "orig_nbformat": 4
 },
 "nbformat": 4,
 "nbformat_minor": 2
}
