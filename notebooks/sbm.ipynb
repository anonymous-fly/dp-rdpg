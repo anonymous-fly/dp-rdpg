{
 "cells": [
  {
   "cell_type": "code",
   "execution_count": 19,
   "metadata": {},
   "outputs": [],
   "source": [
    "using DrWatson\n",
    "@quickactivate \"projectdir()\""
   ]
  },
  {
   "cell_type": "code",
   "execution_count": 114,
   "metadata": {},
   "outputs": [
    {
     "data": {
      "text/plain": [
       "read_network (generic function with 1 method)"
      ]
     },
     "metadata": {},
     "output_type": "display_data"
    }
   ],
   "source": [
    "using Ripserer, PersistenceDiagrams, Plots, ProgressMeter, Random\n",
    "include(scriptsdir(\"networks.jl\"))"
   ]
  },
  {
   "cell_type": "code",
   "execution_count": 106,
   "metadata": {},
   "outputs": [
    {
     "data": {
      "text/plain": [
       "bottleneck_distances (generic function with 1 method)"
      ]
     },
     "metadata": {},
     "output_type": "display_data"
    }
   ],
   "source": [
    "function generate_sbm(n, k, p, r)\n",
    "    f = (x, y) -> r + p * (x == y)\n",
    "    Z = rand(1:k, n)\n",
    "    return generate_rdpg(f, Z)\n",
    "end\n",
    "\n",
    "function diagram(X, dim_max; alpha=true)\n",
    "    points = tuple.(eachcol(X)...)\n",
    "    dgm = ripserer(Alpha(points), dim_max=dim_max)\n",
    "    return dgm\n",
    "end\n",
    "\n",
    "function bottleneck_distances(X, Y, dim_max)\n",
    "    DX = diagram(X, dim_max)\n",
    "    DY = diagram(Y, dim_max)\n",
    "    return [Bottleneck()(DX[d], DY[d]) for d in 1:dim_max+1]\n",
    "end"
   ]
  },
  {
   "cell_type": "code",
   "execution_count": 115,
   "metadata": {},
   "outputs": [
    {
     "data": {
      "text/plain": [
       "simulate_one (generic function with 1 method)"
      ]
     },
     "metadata": {},
     "output_type": "display_data"
    }
   ],
   "source": [
    "function scale_embeddings(X)\n",
    "    return (X .- mean(eachrow(X))') * (X'X)^(-0.5)\n",
    "end\n",
    "\n",
    "function simulate_one(A, d, epsilon, method)\n",
    "    X, _, _ = spectral_embeddings(A, d=d + 1, scale=false)\n",
    "    A_private = edgeFlip(A, ϵ=epsilon)\n",
    "\n",
    "    if method == :eps\n",
    "        A_private = A_private .- privacy(ϵ=epsilon)\n",
    "    end\n",
    "\n",
    "    X_private, _, _ = spectral_embeddings(A_private, d=d + 1, scale=false)\n",
    "\n",
    "    if method == :eps\n",
    "        X_private = X_private ./ (1 - 2 * privacy(ϵ=epsilon))\n",
    "    elseif method == :noeps\n",
    "        X = scale_embeddings(X)\n",
    "        X_private = scale_embeddings(X_private)\n",
    "    end\n",
    "    return bottleneck_distances(X, X_private, d)\n",
    "end"
   ]
  },
  {
   "cell_type": "code",
   "execution_count": 116,
   "metadata": {},
   "outputs": [
    {
     "data": {
      "text/plain": [
       "V (generic function with 2 methods)"
      ]
     },
     "metadata": {},
     "output_type": "display_data"
    }
   ],
   "source": [
    "function V(V, fun=mean; slice=1, i=1)\n",
    "    if slice == 1\n",
    "        reshape(fun(V, dims=1), size(V, 3), size(V, 2), :)[i, :]\n",
    "    elseif slice == 2\n",
    "        reshape(fun(V, dims=1), size(V, 3), size(V, 2), :)[:, i]\n",
    "    end\n",
    "end"
   ]
  },
  {
   "cell_type": "markdown",
   "metadata": {},
   "source": [
    "## A smaller simulation"
   ]
  },
  {
   "cell_type": "code",
   "execution_count": 212,
   "metadata": {},
   "outputs": [],
   "source": [
    "repeats = 20\n",
    "Ks = [1 / 2, 2 / 3, 1]\n",
    "Ks_legend = [\"1/2\", \"2/3\", \"1\"]\n",
    "N = [50, 100, 200, 500, 750, 1000, 1500];"
   ]
  },
  {
   "cell_type": "code",
   "execution_count": 213,
   "metadata": {},
   "outputs": [],
   "source": [
    "p, r = 0.4, 0.1, 0.15\n",
    "clust = 3\n",
    "n = length(N);"
   ]
  },
  {
   "cell_type": "code",
   "execution_count": 214,
   "metadata": {},
   "outputs": [],
   "source": [
    "results = [zeros(repeats, n) for _ in 1:length(Ks)];"
   ]
  },
  {
   "cell_type": "code",
   "execution_count": 215,
   "metadata": {},
   "outputs": [
    {
     "name": "stderr",
     "output_type": "stream",
     "text": [
      "\r\u001b[32mProgress:   4%|█▌                                       |  ETA: 0:00:03\u001b[39m\u001b[K"
     ]
    },
    {
     "name": "stderr",
     "output_type": "stream",
     "text": [
      "\r\u001b[32mProgress:   9%|███▊                                     |  ETA: 0:00:02\u001b[39m\u001b[K"
     ]
    },
    {
     "name": "stderr",
     "output_type": "stream",
     "text": [
      "\r\u001b[32mProgress:  14%|█████▉                                   |  ETA: 0:00:02\u001b[39m\u001b[K"
     ]
    },
    {
     "name": "stderr",
     "output_type": "stream",
     "text": [
      "\r\u001b[32mProgress:  20%|████████                                 |  ETA: 0:00:03\u001b[39m\u001b[K"
     ]
    },
    {
     "name": "stderr",
     "output_type": "stream",
     "text": [
      "\r\u001b[32mProgress:  21%|████████▊                                |  ETA: 0:00:03\u001b[39m\u001b[K"
     ]
    },
    {
     "name": "stderr",
     "output_type": "stream",
     "text": [
      "\r\u001b[32mProgress:  24%|█████████▋                               |  ETA: 0:00:03\u001b[39m\u001b[K"
     ]
    },
    {
     "name": "stderr",
     "output_type": "stream",
     "text": [
      "\r\u001b[32mProgress:  25%|██████████▌                              |  ETA: 0:00:03\u001b[39m\u001b[K"
     ]
    },
    {
     "name": "stderr",
     "output_type": "stream",
     "text": [
      "\r\u001b[32mProgress:  27%|███████████▎                             |  ETA: 0:00:03\u001b[39m\u001b[K"
     ]
    },
    {
     "name": "stderr",
     "output_type": "stream",
     "text": [
      "\r\u001b[32mProgress:  29%|████████████                             |  ETA: 0:00:03\u001b[39m\u001b[K"
     ]
    },
    {
     "name": "stderr",
     "output_type": "stream",
     "text": [
      "\r\u001b[32mProgress:  30%|████████████▍                            |  ETA: 0:00:03\u001b[39m\u001b[K"
     ]
    },
    {
     "name": "stderr",
     "output_type": "stream",
     "text": [
      "\r\u001b[32mProgress:  31%|████████████▊                            |  ETA: 0:00:04\u001b[39m\u001b[K"
     ]
    },
    {
     "name": "stderr",
     "output_type": "stream",
     "text": [
      "\r\u001b[32mProgress:  32%|█████████████                            |  ETA: 0:00:04\u001b[39m\u001b[K"
     ]
    },
    {
     "name": "stderr",
     "output_type": "stream",
     "text": [
      "\r\u001b[32mProgress:  32%|█████████████▎                           |  ETA: 0:00:04\u001b[39m\u001b[K"
     ]
    },
    {
     "name": "stderr",
     "output_type": "stream",
     "text": [
      "\r\u001b[32mProgress:  33%|█████████████▋                           |  ETA: 0:00:04\u001b[39m\u001b[K"
     ]
    },
    {
     "name": "stderr",
     "output_type": "stream",
     "text": [
      "\r\u001b[32mProgress:  34%|█████████████▉                           |  ETA: 0:00:04\u001b[39m\u001b[K"
     ]
    },
    {
     "name": "stderr",
     "output_type": "stream",
     "text": [
      "\r\u001b[32mProgress:  35%|██████████████▏                          |  ETA: 0:00:04\u001b[39m\u001b[K"
     ]
    },
    {
     "name": "stderr",
     "output_type": "stream",
     "text": [
      "\r\u001b[32mProgress:  35%|██████████████▌                          |  ETA: 0:00:05\u001b[39m\u001b[K"
     ]
    },
    {
     "name": "stderr",
     "output_type": "stream",
     "text": [
      "\r\u001b[32mProgress:  36%|██████████████▊                          |  ETA: 0:00:05\u001b[39m\u001b[K"
     ]
    },
    {
     "name": "stderr",
     "output_type": "stream",
     "text": [
      "\r\u001b[32mProgress:  37%|███████████████                          |  ETA: 0:00:05\u001b[39m\u001b[K"
     ]
    },
    {
     "name": "stderr",
     "output_type": "stream",
     "text": [
      "\r\u001b[32mProgress:  37%|███████████████▎                         |  ETA: 0:00:05\u001b[39m\u001b[K"
     ]
    },
    {
     "name": "stderr",
     "output_type": "stream",
     "text": [
      "\r\u001b[32mProgress:  38%|███████████████▍                         |  ETA: 0:00:05\u001b[39m\u001b[K"
     ]
    },
    {
     "name": "stderr",
     "output_type": "stream",
     "text": [
      "\r\u001b[32mProgress:  38%|███████████████▊                         |  ETA: 0:00:05\u001b[39m\u001b[K"
     ]
    },
    {
     "name": "stderr",
     "output_type": "stream",
     "text": [
      "\r\u001b[32mProgress:  39%|████████████████                         |  ETA: 0:00:05\u001b[39m\u001b[K"
     ]
    },
    {
     "name": "stderr",
     "output_type": "stream",
     "text": [
      "\r\u001b[32mProgress:  40%|████████████████▎                        |  ETA: 0:00:05\u001b[39m\u001b[K"
     ]
    },
    {
     "name": "stderr",
     "output_type": "stream",
     "text": [
      "\r\u001b[32mProgress:  40%|████████████████▌                        |  ETA: 0:00:05\u001b[39m\u001b[K"
     ]
    },
    {
     "name": "stderr",
     "output_type": "stream",
     "text": [
      "\r\u001b[32mProgress:  41%|████████████████▊                        |  ETA: 0:00:05\u001b[39m\u001b[K"
     ]
    },
    {
     "name": "stderr",
     "output_type": "stream",
     "text": [
      "\r\u001b[32mProgress:  42%|█████████████████▏                       |  ETA: 0:00:05\u001b[39m\u001b[K"
     ]
    },
    {
     "name": "stderr",
     "output_type": "stream",
     "text": [
      "\r\u001b[32mProgress:  42%|█████████████████▍                       |  ETA: 0:00:05\u001b[39m\u001b[K"
     ]
    },
    {
     "name": "stderr",
     "output_type": "stream",
     "text": [
      "\r\u001b[32mProgress:  43%|█████████████████▋                       |  ETA: 0:00:06\u001b[39m\u001b[K"
     ]
    },
    {
     "name": "stderr",
     "output_type": "stream",
     "text": [
      "\r\u001b[32mProgress:  43%|█████████████████▊                       |  ETA: 0:00:06\u001b[39m\u001b[K"
     ]
    },
    {
     "name": "stderr",
     "output_type": "stream",
     "text": [
      "\r\u001b[32mProgress:  44%|█████████████████▉                       |  ETA: 0:00:06\u001b[39m\u001b[K"
     ]
    },
    {
     "name": "stderr",
     "output_type": "stream",
     "text": [
      "\r\u001b[32mProgress:  44%|██████████████████                       |  ETA: 0:00:07\u001b[39m\u001b[K"
     ]
    },
    {
     "name": "stderr",
     "output_type": "stream",
     "text": [
      "\r\u001b[32mProgress:  44%|██████████████████                       |  ETA: 0:00:07\u001b[39m\u001b[K"
     ]
    },
    {
     "name": "stderr",
     "output_type": "stream",
     "text": [
      "\r\u001b[32mProgress:  44%|██████████████████▏                      |  ETA: 0:00:07\u001b[39m\u001b[K"
     ]
    },
    {
     "name": "stderr",
     "output_type": "stream",
     "text": [
      "\r\u001b[32mProgress:  45%|██████████████████▎                      |  ETA: 0:00:08\u001b[39m\u001b[K"
     ]
    },
    {
     "name": "stderr",
     "output_type": "stream",
     "text": [
      "\r\u001b[32mProgress:  45%|██████████████████▍                      |  ETA: 0:00:08\u001b[39m\u001b[K"
     ]
    },
    {
     "name": "stderr",
     "output_type": "stream",
     "text": [
      "\r\u001b[32mProgress:  45%|██████████████████▌                      |  ETA: 0:00:08\u001b[39m\u001b[K"
     ]
    },
    {
     "name": "stderr",
     "output_type": "stream",
     "text": [
      "\r\u001b[32mProgress:  45%|██████████████████▌                      |  ETA: 0:00:09\u001b[39m\u001b[K"
     ]
    },
    {
     "name": "stderr",
     "output_type": "stream",
     "text": [
      "\r\u001b[32mProgress:  45%|██████████████████▋                      |  ETA: 0:00:09\u001b[39m\u001b[K"
     ]
    },
    {
     "name": "stderr",
     "output_type": "stream",
     "text": [
      "\r\u001b[32mProgress:  46%|██████████████████▊                      |  ETA: 0:00:09\u001b[39m\u001b[K"
     ]
    },
    {
     "name": "stderr",
     "output_type": "stream",
     "text": [
      "\r\u001b[32mProgress:  46%|██████████████████▉                      |  ETA: 0:00:09\u001b[39m\u001b[K"
     ]
    },
    {
     "name": "stderr",
     "output_type": "stream",
     "text": [
      "\r\u001b[32mProgress:  46%|███████████████████                      |  ETA: 0:00:10\u001b[39m\u001b[K"
     ]
    },
    {
     "name": "stderr",
     "output_type": "stream",
     "text": [
      "\r\u001b[32mProgress:  46%|███████████████████                      |  ETA: 0:00:10\u001b[39m\u001b[K"
     ]
    },
    {
     "name": "stderr",
     "output_type": "stream",
     "text": [
      "\r\u001b[32mProgress:  47%|███████████████████▏                     |  ETA: 0:00:10\u001b[39m\u001b[K"
     ]
    },
    {
     "name": "stderr",
     "output_type": "stream",
     "text": [
      "\r\u001b[32mProgress:  47%|███████████████████▎                     |  ETA: 0:00:10\u001b[39m\u001b[K"
     ]
    },
    {
     "name": "stderr",
     "output_type": "stream",
     "text": [
      "\r\u001b[32mProgress:  47%|███████████████████▍                     |  ETA: 0:00:11\u001b[39m\u001b[K"
     ]
    },
    {
     "name": "stderr",
     "output_type": "stream",
     "text": [
      "\r\u001b[32mProgress:  47%|███████████████████▍                     |  ETA: 0:00:11\u001b[39m\u001b[K"
     ]
    },
    {
     "name": "stderr",
     "output_type": "stream",
     "text": [
      "\r\u001b[32mProgress:  48%|███████████████████▌                     |  ETA: 0:00:11\u001b[39m\u001b[K"
     ]
    },
    {
     "name": "stderr",
     "output_type": "stream",
     "text": [
      "\r\u001b[32mProgress:  48%|███████████████████▋                     |  ETA: 0:00:11\u001b[39m\u001b[K"
     ]
    },
    {
     "name": "stderr",
     "output_type": "stream",
     "text": [
      "\r\u001b[32mProgress:  48%|███████████████████▊                     |  ETA: 0:00:12\u001b[39m\u001b[K"
     ]
    },
    {
     "name": "stderr",
     "output_type": "stream",
     "text": [
      "\r\u001b[32mProgress:  48%|███████████████████▉                     |  ETA: 0:00:12\u001b[39m\u001b[K"
     ]
    },
    {
     "name": "stderr",
     "output_type": "stream",
     "text": [
      "\r\u001b[32mProgress:  49%|███████████████████▉                     |  ETA: 0:00:12\u001b[39m\u001b[K"
     ]
    },
    {
     "name": "stderr",
     "output_type": "stream",
     "text": [
      "\r\u001b[32mProgress:  49%|████████████████████                     |  ETA: 0:00:12\u001b[39m\u001b[K"
     ]
    },
    {
     "name": "stderr",
     "output_type": "stream",
     "text": [
      "\r\u001b[32mProgress:  49%|████████████████████▏                    |  ETA: 0:00:12\u001b[39m\u001b[K"
     ]
    },
    {
     "name": "stderr",
     "output_type": "stream",
     "text": [
      "\r\u001b[32mProgress:  49%|████████████████████▎                    |  ETA: 0:00:13\u001b[39m\u001b[K"
     ]
    },
    {
     "name": "stderr",
     "output_type": "stream",
     "text": [
      "\r\u001b[32mProgress:  50%|████████████████████▎                    |  ETA: 0:00:13\u001b[39m\u001b[K"
     ]
    },
    {
     "name": "stderr",
     "output_type": "stream",
     "text": [
      "\r\u001b[32mProgress:  50%|████████████████████▍                    |  ETA: 0:00:13\u001b[39m\u001b[K"
     ]
    },
    {
     "name": "stderr",
     "output_type": "stream",
     "text": [
      "\r\u001b[32mProgress:  50%|████████████████████▌                    |  ETA: 0:00:13\u001b[39m\u001b[K"
     ]
    },
    {
     "name": "stderr",
     "output_type": "stream",
     "text": [
      "\r\u001b[32mProgress:  50%|████████████████████▋                    |  ETA: 0:00:13\u001b[39m\u001b[K"
     ]
    },
    {
     "name": "stderr",
     "output_type": "stream",
     "text": [
      "\r\u001b[32mProgress:  50%|████████████████████▊                    |  ETA: 0:00:13\u001b[39m\u001b[K"
     ]
    },
    {
     "name": "stderr",
     "output_type": "stream",
     "text": [
      "\r\u001b[32mProgress:  51%|████████████████████▊                    |  ETA: 0:00:14\u001b[39m\u001b[K"
     ]
    },
    {
     "name": "stderr",
     "output_type": "stream",
     "text": [
      "\r\u001b[32mProgress:  51%|████████████████████▉                    |  ETA: 0:00:14\u001b[39m\u001b[K"
     ]
    },
    {
     "name": "stderr",
     "output_type": "stream",
     "text": [
      "\r\u001b[32mProgress:  51%|█████████████████████                    |  ETA: 0:00:14\u001b[39m\u001b[K"
     ]
    },
    {
     "name": "stderr",
     "output_type": "stream",
     "text": [
      "\r\u001b[32mProgress:  51%|█████████████████████▏                   |  ETA: 0:00:14\u001b[39m\u001b[K"
     ]
    },
    {
     "name": "stderr",
     "output_type": "stream",
     "text": [
      "\r\u001b[32mProgress:  52%|█████████████████████▏                   |  ETA: 0:00:14\u001b[39m\u001b[K"
     ]
    },
    {
     "name": "stderr",
     "output_type": "stream",
     "text": [
      "\r\u001b[32mProgress:  52%|█████████████████████▎                   |  ETA: 0:00:14\u001b[39m\u001b[K"
     ]
    },
    {
     "name": "stderr",
     "output_type": "stream",
     "text": [
      "\r\u001b[32mProgress:  52%|█████████████████████▍                   |  ETA: 0:00:15\u001b[39m\u001b[K"
     ]
    },
    {
     "name": "stderr",
     "output_type": "stream",
     "text": [
      "\r\u001b[32mProgress:  52%|█████████████████████▌                   |  ETA: 0:00:15\u001b[39m\u001b[K"
     ]
    },
    {
     "name": "stderr",
     "output_type": "stream",
     "text": [
      "\r\u001b[32mProgress:  53%|█████████████████████▋                   |  ETA: 0:00:15\u001b[39m\u001b[K"
     ]
    },
    {
     "name": "stderr",
     "output_type": "stream",
     "text": [
      "\r\u001b[32mProgress:  53%|█████████████████████▋                   |  ETA: 0:00:15\u001b[39m\u001b[K"
     ]
    },
    {
     "name": "stderr",
     "output_type": "stream",
     "text": [
      "\r\u001b[32mProgress:  53%|█████████████████████▊                   |  ETA: 0:00:15\u001b[39m\u001b[K"
     ]
    },
    {
     "name": "stderr",
     "output_type": "stream",
     "text": [
      "\r\u001b[32mProgress:  53%|█████████████████████▉                   |  ETA: 0:00:15\u001b[39m\u001b[K"
     ]
    },
    {
     "name": "stderr",
     "output_type": "stream",
     "text": [
      "\r\u001b[32mProgress:  54%|██████████████████████                   |  ETA: 0:00:15\u001b[39m\u001b[K"
     ]
    },
    {
     "name": "stderr",
     "output_type": "stream",
     "text": [
      "\r\u001b[32mProgress:  54%|██████████████████████                   |  ETA: 0:00:15\u001b[39m\u001b[K"
     ]
    },
    {
     "name": "stderr",
     "output_type": "stream",
     "text": [
      "\r\u001b[32mProgress:  54%|██████████████████████▏                  |  ETA: 0:00:16\u001b[39m\u001b[K"
     ]
    },
    {
     "name": "stderr",
     "output_type": "stream",
     "text": [
      "\r\u001b[32mProgress:  54%|██████████████████████▎                  |  ETA: 0:00:16\u001b[39m\u001b[K"
     ]
    },
    {
     "name": "stderr",
     "output_type": "stream",
     "text": [
      "\r\u001b[32mProgress:  55%|██████████████████████▍                  |  ETA: 0:00:16\u001b[39m\u001b[K"
     ]
    },
    {
     "name": "stderr",
     "output_type": "stream",
     "text": [
      "\r\u001b[32mProgress:  55%|██████████████████████▌                  |  ETA: 0:00:16\u001b[39m\u001b[K"
     ]
    },
    {
     "name": "stderr",
     "output_type": "stream",
     "text": [
      "\r\u001b[32mProgress:  55%|██████████████████████▌                  |  ETA: 0:00:16\u001b[39m\u001b[K"
     ]
    },
    {
     "name": "stderr",
     "output_type": "stream",
     "text": [
      "\r\u001b[32mProgress:  55%|██████████████████████▋                  |  ETA: 0:00:16\u001b[39m\u001b[K"
     ]
    },
    {
     "name": "stderr",
     "output_type": "stream",
     "text": [
      "\r\u001b[32mProgress:  55%|██████████████████████▊                  |  ETA: 0:00:16\u001b[39m\u001b[K"
     ]
    },
    {
     "name": "stderr",
     "output_type": "stream",
     "text": [
      "\r\u001b[32mProgress:  56%|██████████████████████▉                  |  ETA: 0:00:16\u001b[39m\u001b[K"
     ]
    },
    {
     "name": "stderr",
     "output_type": "stream",
     "text": [
      "\r\u001b[32mProgress:  56%|███████████████████████                  |  ETA: 0:00:16\u001b[39m\u001b[K"
     ]
    },
    {
     "name": "stderr",
     "output_type": "stream",
     "text": [
      "\r\u001b[32mProgress:  56%|███████████████████████                  |  ETA: 0:00:16\u001b[39m\u001b[K"
     ]
    },
    {
     "name": "stderr",
     "output_type": "stream",
     "text": [
      "\r\u001b[32mProgress:  56%|███████████████████████▏                 |  ETA: 0:00:16\u001b[39m\u001b[K"
     ]
    },
    {
     "name": "stderr",
     "output_type": "stream",
     "text": [
      "\r\u001b[32mProgress:  57%|███████████████████████▎                 |  ETA: 0:00:17\u001b[39m\u001b[K"
     ]
    },
    {
     "name": "stderr",
     "output_type": "stream",
     "text": [
      "\r\u001b[32mProgress:  57%|███████████████████████▍                 |  ETA: 0:00:17\u001b[39m\u001b[K"
     ]
    },
    {
     "name": "stderr",
     "output_type": "stream",
     "text": [
      "\r\u001b[32mProgress:  57%|███████████████████████▍                 |  ETA: 0:00:17\u001b[39m\u001b[K"
     ]
    },
    {
     "name": "stderr",
     "output_type": "stream",
     "text": [
      "\r\u001b[32mProgress:  57%|███████████████████████▌                 |  ETA: 0:00:17\u001b[39m\u001b[K"
     ]
    },
    {
     "name": "stderr",
     "output_type": "stream",
     "text": [
      "\r\u001b[32mProgress:  58%|███████████████████████▋                 |  ETA: 0:00:17\u001b[39m\u001b[K"
     ]
    },
    {
     "name": "stderr",
     "output_type": "stream",
     "text": [
      "\r\u001b[32mProgress:  58%|███████████████████████▊                 |  ETA: 0:00:18\u001b[39m\u001b[K"
     ]
    },
    {
     "name": "stderr",
     "output_type": "stream",
     "text": [
      "\r\u001b[32mProgress:  58%|███████████████████████▉                 |  ETA: 0:00:18\u001b[39m\u001b[K"
     ]
    },
    {
     "name": "stderr",
     "output_type": "stream",
     "text": [
      "\r\u001b[32mProgress:  58%|███████████████████████▉                 |  ETA: 0:00:18\u001b[39m\u001b[K"
     ]
    },
    {
     "name": "stderr",
     "output_type": "stream",
     "text": [
      "\r\u001b[32mProgress:  59%|████████████████████████                 |  ETA: 0:00:19\u001b[39m\u001b[K"
     ]
    },
    {
     "name": "stderr",
     "output_type": "stream",
     "text": [
      "\r\u001b[32mProgress:  59%|████████████████████████▏                |  ETA: 0:00:19\u001b[39m\u001b[K"
     ]
    },
    {
     "name": "stderr",
     "output_type": "stream",
     "text": [
      "\r\u001b[32mProgress:  59%|████████████████████████▎                |  ETA: 0:00:19\u001b[39m\u001b[K"
     ]
    },
    {
     "name": "stderr",
     "output_type": "stream",
     "text": [
      "\r\u001b[32mProgress:  59%|████████████████████████▎                |  ETA: 0:00:20\u001b[39m\u001b[K"
     ]
    },
    {
     "name": "stderr",
     "output_type": "stream",
     "text": [
      "\r\u001b[32mProgress:  60%|████████████████████████▍                |  ETA: 0:00:20\u001b[39m\u001b[K"
     ]
    },
    {
     "name": "stderr",
     "output_type": "stream",
     "text": [
      "\r\u001b[32mProgress:  60%|████████████████████████▌                |  ETA: 0:00:20\u001b[39m\u001b[K"
     ]
    },
    {
     "name": "stderr",
     "output_type": "stream",
     "text": [
      "\r\u001b[32mProgress:  60%|████████████████████████▋                |  ETA: 0:00:21\u001b[39m\u001b[K"
     ]
    },
    {
     "name": "stderr",
     "output_type": "stream",
     "text": [
      "\r\u001b[32mProgress:  60%|████████████████████████▊                |  ETA: 0:00:21\u001b[39m\u001b[K"
     ]
    }
   ],
   "source": [
    "# Random.seed!(2022)\n",
    "prog = Progress(convert(Int, n * repeats * length(Ks)))\n",
    "for i in 1:n\n",
    "    for j in 1:repeats\n",
    "        A = generate_sbm(N[i], clust, p, r)\n",
    "        for k in 1:length(Ks)\n",
    "        \n",
    "            ϵn = log(N[i])^(Ks[k])\n",
    "            error = simulate_one(A, 0, ϵn, :eps)\n",
    "            results[k][j, i] = error[1]\n",
    "            next!(prog)\n",
    "\n",
    "        end\n",
    "    end\n",
    "end"
   ]
  },
  {
   "cell_type": "code",
   "execution_count": 211,
   "metadata": {},
   "outputs": [
    {
     "data": {
      "image/png": "[encoded data removed]",
      "image/svg+xml": "<?xml version=\"1.0\" encoding=\"utf-8\"?>\n<svg xmlns=\"http://www.w3.org/2000/svg\" xmlns:xlink=\"http://www.w3.org/1999/xlink\" width=\"600\" height=\"400\" viewBox=\"0 0 2400 1600\">\n<defs>\n  <clipPath id=\"clip690\">\n    <rect x=\"0\" y=\"0\" width=\"2400\" height=\"1600\"/>\n  </clipPath>\n</defs>\n<path clip-path=\"url(#clip690)\" d=\"\nM0 1600 L2400 1600 L2400 0 L0 0  Z\n  \" fill=\"#ffffff\" fill-rule=\"evenodd\" fill-opacity=\"1\"/>\n<defs>\n  <clipPath id=\"clip691\">\n    <rect x=\"480\" y=\"0\" width=\"1681\" height=\"1600\"/>\n  </clipPath>\n</defs>\n<path clip-path=\"url(#clip690)\" d=\"\nM250.028 1423.18 L2352.76 1423.18 L2352.76 123.472 L250.028 123.472  Z\n  \" fill=\"#ffffff\" fill-rule=\"evenodd\" fill-opacity=\"1\"/>\n<defs>\n  <clipPath id=\"clip692\">\n    <rect x=\"250\" y=\"123\" width=\"2104\" height=\"1301\"/>\n  </clipPath>\n</defs>\n<polyline clip-path=\"url(#clip692)\" style=\"stroke:#000000; stroke-linecap:butt; stroke-linejoin:round; stroke-width:2; stroke-opacity:0.1; fill:none\" points=\"\n  514.75,1423.18 514.75,123.472 \n  \"/>\n<polyline clip-path=\"url(#clip692)\" style=\"stroke:#000000; stroke-linecap:butt; stroke-linejoin:round; stroke-width:2; stroke-opacity:0.1; fill:none\" points=\"\n  788.365,1423.18 788.365,123.472 \n  \"/>\n<polyline clip-path=\"url(#clip692)\" style=\"stroke:#000000; stroke-linecap:butt; stroke-linejoin:round; stroke-width:2; stroke-opacity:0.1; fill:none\" points=\"\n  1061.98,1423.18 1061.98,123.472 \n  \"/>\n<polyline clip-path=\"url(#clip692)\" style=\"stroke:#000000; stroke-linecap:butt; stroke-linejoin:round; stroke-width:2; stroke-opacity:0.1; fill:none\" points=\"\n  1335.59,1423.18 1335.59,123.472 \n  \"/>\n<polyline clip-path=\"url(#clip692)\" style=\"stroke:#000000; stroke-linecap:butt; stroke-linejoin:round; stroke-width:2; stroke-opacity:0.1; fill:none\" points=\"\n  1609.21,1423.18 1609.21,123.472 \n  \"/>\n<polyline clip-path=\"url(#clip692)\" style=\"stroke:#000000; stroke-linecap:butt; stroke-linejoin:round; stroke-width:2; stroke-opacity:0.1; fill:none\" points=\"\n  1882.82,1423.18 1882.82,123.472 \n  \"/>\n<polyline clip-path=\"url(#clip692)\" style=\"stroke:#000000; stroke-linecap:butt; stroke-linejoin:round; stroke-width:2; stroke-opacity:0.1; fill:none\" points=\"\n  2156.44,1423.18 2156.44,123.472 \n  \"/>\n<polyline clip-path=\"url(#clip690)\" style=\"stroke:#000000; stroke-linecap:butt; stroke-linejoin:round; stroke-width:4; stroke-opacity:1; fill:none\" points=\"\n  250.028,1423.18 2352.76,1423.18 \n  \"/>\n<polyline clip-path=\"url(#clip690)\" style=\"stroke:#000000; stroke-linecap:butt; stroke-linejoin:round; stroke-width:4; stroke-opacity:1; fill:none\" points=\"\n  514.75,1423.18 514.75,1404.28 \n  \"/>\n<polyline clip-path=\"url(#clip690)\" style=\"stroke:#000000; stroke-linecap:butt; stroke-linejoin:round; stroke-width:4; stroke-opacity:1; fill:none\" points=\"\n  788.365,1423.18 788.365,1404.28 \n  \"/>\n<polyline clip-path=\"url(#clip690)\" style=\"stroke:#000000; stroke-linecap:butt; stroke-linejoin:round; stroke-width:4; stroke-opacity:1; fill:none\" points=\"\n  1061.98,1423.18 1061.98,1404.28 \n  \"/>\n<polyline clip-path=\"url(#clip690)\" style=\"stroke:#000000; stroke-linecap:butt; stroke-linejoin:round; stroke-width:4; stroke-opacity:1; fill:none\" points=\"\n  1335.59,1423.18 1335.59,1404.28 \n  \"/>\n<polyline clip-path=\"url(#clip690)\" style=\"stroke:#000000; stroke-linecap:butt; stroke-linejoin:round; stroke-width:4; stroke-opacity:1; fill:none\" points=\"\n  1609.21,1423.18 1609.21,1404.28 \n  \"/>\n<polyline clip-path=\"url(#clip690)\" style=\"stroke:#000000; stroke-linecap:butt; stroke-linejoin:round; stroke-width:4; stroke-opacity:1; fill:none\" points=\"\n  1882.82,1423.18 1882.82,1404.28 \n  \"/>\n<polyline clip-path=\"url(#clip690)\" style=\"stroke:#000000; stroke-linecap:butt; stroke-linejoin:round; stroke-width:4; stroke-opacity:1; fill:none\" points=\"\n  2156.44,1423.18 2156.44,1404.28 \n  \"/>\n<path clip-path=\"url(#clip690)\" d=\"M478.443 1481.64 L494.762 1481.64 L494.762 1485.58 L472.818 1485.58 L472.818 1481.64 Q475.48 1478.89 480.063 1474.26 Q484.669 1469.61 485.85 1468.27 Q488.095 1465.74 488.975 1464.01 Q489.878 1462.25 489.878 1460.56 Q489.878 1457.8 487.933 1456.07 Q486.012 1454.33 482.91 1454.33 Q480.711 1454.33 478.257 1455.09 Q475.827 1455.86 473.049 1457.41 L473.049 1452.69 Q475.873 1451.55 478.327 1450.97 Q480.78 1450.39 482.818 1450.39 Q488.188 1450.39 491.382 1453.08 Q494.577 1455.77 494.577 1460.26 Q494.577 1462.39 493.767 1464.31 Q492.979 1466.2 490.873 1468.8 Q490.294 1469.47 487.192 1472.69 Q484.091 1475.88 478.443 1481.64 Z\" fill=\"#000000\" fill-rule=\"evenodd\" fill-opacity=\"1\" /><path clip-path=\"url(#clip690)\" d=\"M514.577 1454.1 Q510.966 1454.1 509.137 1457.66 Q507.331 1461.2 507.331 1468.33 Q507.331 1475.44 509.137 1479.01 Q510.966 1482.55 514.577 1482.55 Q518.211 1482.55 520.016 1479.01 Q521.845 1475.44 521.845 1468.33 Q521.845 1461.2 520.016 1457.66 Q518.211 1454.1 514.577 1454.1 M514.577 1450.39 Q520.387 1450.39 523.442 1455 Q526.521 1459.58 526.521 1468.33 Q526.521 1477.06 523.442 1481.67 Q520.387 1486.25 514.577 1486.25 Q508.766 1486.25 505.688 1481.67 Q502.632 1477.06 502.632 1468.33 Q502.632 1459.58 505.688 1455 Q508.766 1450.39 514.577 1450.39 Z\" fill=\"#000000\" fill-rule=\"evenodd\" fill-opacity=\"1\" /><path clip-path=\"url(#clip690)\" d=\"M544.738 1454.1 Q541.127 1454.1 539.299 1457.66 Q537.493 1461.2 537.493 1468.33 Q537.493 1475.44 539.299 1479.01 Q541.127 1482.55 544.738 1482.55 Q548.373 1482.55 550.178 1479.01 Q552.007 1475.44 552.007 1468.33 Q552.007 1461.2 550.178 1457.66 Q548.373 1454.1 544.738 1454.1 M544.738 1450.39 Q550.549 1450.39 553.604 1455 Q556.683 1459.58 556.683 1468.33 Q556.683 1477.06 553.604 1481.67 Q550.549 1486.25 544.738 1486.25 Q538.928 1486.25 535.85 1481.67 Q532.794 1477.06 532.794 1468.33 Q532.794 1459.58 535.85 1455 Q538.928 1450.39 544.738 1450.39 Z\" fill=\"#000000\" fill-rule=\"evenodd\" fill-opacity=\"1\" /><path clip-path=\"url(#clip690)\" d=\"M761.455 1455.09 L749.65 1473.54 L761.455 1473.54 L761.455 1455.09 M760.228 1451.02 L766.108 1451.02 L766.108 1473.54 L771.038 1473.54 L771.038 1477.43 L766.108 1477.43 L766.108 1485.58 L761.455 1485.58 L761.455 1477.43 L745.853 1477.43 L745.853 1472.92 L760.228 1451.02 Z\" fill=\"#000000\" fill-rule=\"evenodd\" fill-opacity=\"1\" /><path clip-path=\"url(#clip690)\" d=\"M788.77 1454.1 Q785.159 1454.1 783.33 1457.66 Q781.525 1461.2 781.525 1468.33 Q781.525 1475.44 783.33 1479.01 Q785.159 1482.55 788.77 1482.55 Q792.404 1482.55 794.21 1479.01 Q796.038 1475.44 796.038 1468.33 Q796.038 1461.2 794.21 1457.66 Q792.404 1454.1 788.77 1454.1 M788.77 1450.39 Q794.58 1450.39 797.636 1455 Q800.714 1459.58 800.714 1468.33 Q800.714 1477.06 797.636 1481.67 Q794.58 1486.25 788.77 1486.25 Q782.96 1486.25 779.881 1481.67 Q776.825 1477.06 776.825 1468.33 Q776.825 1459.58 779.881 1455 Q782.96 1450.39 788.77 1450.39 Z\" fill=\"#000000\" fill-rule=\"evenodd\" fill-opacity=\"1\" /><path clip-path=\"url(#clip690)\" d=\"M818.932 1454.1 Q815.321 1454.1 813.492 1457.66 Q811.686 1461.2 811.686 1468.33 Q811.686 1475.44 813.492 1479.01 Q815.321 1482.55 818.932 1482.55 Q822.566 1482.55 824.372 1479.01 Q826.2 1475.44 826.2 1468.33 Q826.2 1461.2 824.372 1457.66 Q822.566 1454.1 818.932 1454.1 M818.932 1450.39 Q824.742 1450.39 827.797 1455 Q830.876 1459.58 830.876 1468.33 Q830.876 1477.06 827.797 1481.67 Q824.742 1486.25 818.932 1486.25 Q813.122 1486.25 810.043 1481.67 Q806.987 1477.06 806.987 1468.33 Q806.987 1459.58 810.043 1455 Q813.122 1450.39 818.932 1450.39 Z\" fill=\"#000000\" fill-rule=\"evenodd\" fill-opacity=\"1\" /><path clip-path=\"url(#clip690)\" d=\"M1032.3 1466.44 Q1029.16 1466.44 1027.3 1468.59 Q1025.47 1470.74 1025.47 1474.49 Q1025.47 1478.22 1027.3 1480.39 Q1029.16 1482.55 1032.3 1482.55 Q1035.45 1482.55 1037.28 1480.39 Q1039.13 1478.22 1039.13 1474.49 Q1039.13 1470.74 1037.28 1468.59 Q1035.45 1466.44 1032.3 1466.44 M1041.59 1451.78 L1041.59 1456.04 Q1039.83 1455.21 1038.02 1454.77 Q1036.24 1454.33 1034.48 1454.33 Q1029.85 1454.33 1027.4 1457.45 Q1024.97 1460.58 1024.62 1466.9 Q1025.98 1464.89 1028.04 1463.82 Q1030.1 1462.73 1032.58 1462.73 Q1037.79 1462.73 1040.8 1465.9 Q1043.83 1469.05 1043.83 1474.49 Q1043.83 1479.82 1040.68 1483.03 Q1037.53 1486.25 1032.3 1486.25 Q1026.31 1486.25 1023.14 1481.67 Q1019.97 1477.06 1019.97 1468.33 Q1019.97 1460.14 1023.85 1455.28 Q1027.74 1450.39 1034.29 1450.39 Q1036.05 1450.39 1037.84 1450.74 Q1039.64 1451.09 1041.59 1451.78 Z\" fill=\"#000000\" fill-rule=\"evenodd\" fill-opacity=\"1\" /><path clip-path=\"url(#clip690)\" d=\"M1061.89 1454.1 Q1058.28 1454.1 1056.45 1457.66 Q1054.64 1461.2 1054.64 1468.33 Q1054.64 1475.44 1056.45 1479.01 Q1058.28 1482.55 1061.89 1482.55 Q1065.52 1482.55 1067.33 1479.01 Q1069.16 1475.44 1069.16 1468.33 Q1069.16 1461.2 1067.33 1457.66 Q1065.52 1454.1 1061.89 1454.1 M1061.89 1450.39 Q1067.7 1450.39 1070.75 1455 Q1073.83 1459.58 1073.83 1468.33 Q1073.83 1477.06 1070.75 1481.67 Q1067.7 1486.25 1061.89 1486.25 Q1056.08 1486.25 1053 1481.67 Q1049.94 1477.06 1049.94 1468.33 Q1049.94 1459.58 1053 1455 Q1056.08 1450.39 1061.89 1450.39 Z\" fill=\"#000000\" fill-rule=\"evenodd\" fill-opacity=\"1\" /><path clip-path=\"url(#clip690)\" d=\"M1092.05 1454.1 Q1088.44 1454.1 1086.61 1457.66 Q1084.8 1461.2 1084.8 1468.33 Q1084.8 1475.44 1086.61 1479.01 Q1088.44 1482.55 1092.05 1482.55 Q1095.68 1482.55 1097.49 1479.01 Q1099.32 1475.44 1099.32 1468.33 Q1099.32 1461.2 1097.49 1457.66 Q1095.68 1454.1 1092.05 1454.1 M1092.05 1450.39 Q1097.86 1450.39 1100.91 1455 Q1103.99 1459.58 1103.99 1468.33 Q1103.99 1477.06 1100.91 1481.67 Q1097.86 1486.25 1092.05 1486.25 Q1086.24 1486.25 1083.16 1481.67 Q1080.1 1477.06 1080.1 1468.33 Q1080.1 1459.58 1083.16 1455 Q1086.24 1450.39 1092.05 1450.39 Z\" fill=\"#000000\" fill-rule=\"evenodd\" fill-opacity=\"1\" /><path clip-path=\"url(#clip690)\" d=\"M1305.39 1469.17 Q1302.05 1469.17 1300.13 1470.95 Q1298.23 1472.73 1298.23 1475.86 Q1298.23 1478.98 1300.13 1480.77 Q1302.05 1482.55 1305.39 1482.55 Q1308.72 1482.55 1310.64 1480.77 Q1312.56 1478.96 1312.56 1475.86 Q1312.56 1472.73 1310.64 1470.95 Q1308.74 1469.17 1305.39 1469.17 M1300.71 1467.18 Q1297.7 1466.44 1296.01 1464.38 Q1294.34 1462.32 1294.34 1459.35 Q1294.34 1455.21 1297.28 1452.8 Q1300.25 1450.39 1305.39 1450.39 Q1310.55 1450.39 1313.49 1452.8 Q1316.43 1455.21 1316.43 1459.35 Q1316.43 1462.32 1314.74 1464.38 Q1313.07 1466.44 1310.08 1467.18 Q1313.46 1467.96 1315.34 1470.26 Q1317.24 1472.55 1317.24 1475.86 Q1317.24 1480.88 1314.16 1483.57 Q1311.1 1486.25 1305.39 1486.25 Q1299.67 1486.25 1296.59 1483.57 Q1293.53 1480.88 1293.53 1475.86 Q1293.53 1472.55 1295.43 1470.26 Q1297.33 1467.96 1300.71 1467.18 M1299 1459.79 Q1299 1462.48 1300.66 1463.98 Q1302.35 1465.49 1305.39 1465.49 Q1308.39 1465.49 1310.08 1463.98 Q1311.8 1462.48 1311.8 1459.79 Q1311.8 1457.11 1310.08 1455.6 Q1308.39 1454.1 1305.39 1454.1 Q1302.35 1454.1 1300.66 1455.6 Q1299 1457.11 1299 1459.79 Z\" fill=\"#000000\" fill-rule=\"evenodd\" fill-opacity=\"1\" /><path clip-path=\"url(#clip690)\" d=\"M1335.55 1454.1 Q1331.94 1454.1 1330.11 1457.66 Q1328.3 1461.2 1328.3 1468.33 Q1328.3 1475.44 1330.11 1479.01 Q1331.94 1482.55 1335.55 1482.55 Q1339.18 1482.55 1340.99 1479.01 Q1342.82 1475.44 1342.82 1468.33 Q1342.82 1461.2 1340.99 1457.66 Q1339.18 1454.1 1335.55 1454.1 M1335.55 1450.39 Q1341.36 1450.39 1344.41 1455 Q1347.49 1459.58 1347.49 1468.33 Q1347.49 1477.06 1344.41 1481.67 Q1341.36 1486.25 1335.55 1486.25 Q1329.74 1486.25 1326.66 1481.67 Q1323.6 1477.06 1323.6 1468.33 Q1323.6 1459.58 1326.66 1455 Q1329.74 1450.39 1335.55 1450.39 Z\" fill=\"#000000\" fill-rule=\"evenodd\" fill-opacity=\"1\" /><path clip-path=\"url(#clip690)\" d=\"M1365.71 1454.1 Q1362.1 1454.1 1360.27 1457.66 Q1358.46 1461.2 1358.46 1468.33 Q1358.46 1475.44 1360.27 1479.01 Q1362.1 1482.55 1365.71 1482.55 Q1369.34 1482.55 1371.15 1479.01 Q1372.98 1475.44 1372.98 1468.33 Q1372.98 1461.2 1371.15 1457.66 Q1369.34 1454.1 1365.71 1454.1 M1365.71 1450.39 Q1371.52 1450.39 1374.58 1455 Q1377.65 1459.58 1377.65 1468.33 Q1377.65 1477.06 1374.58 1481.67 Q1371.52 1486.25 1365.71 1486.25 Q1359.9 1486.25 1356.82 1481.67 Q1353.77 1477.06 1353.77 1468.33 Q1353.77 1459.58 1356.82 1455 Q1359.9 1450.39 1365.71 1450.39 Z\" fill=\"#000000\" fill-rule=\"evenodd\" fill-opacity=\"1\" /><path clip-path=\"url(#clip690)\" d=\"M1553.73 1481.64 L1561.37 1481.64 L1561.37 1455.28 L1553.06 1456.95 L1553.06 1452.69 L1561.33 1451.02 L1566 1451.02 L1566 1481.64 L1573.64 1481.64 L1573.64 1485.58 L1553.73 1485.58 L1553.73 1481.64 Z\" fill=\"#000000\" fill-rule=\"evenodd\" fill-opacity=\"1\" /><path clip-path=\"url(#clip690)\" d=\"M1593.09 1454.1 Q1589.47 1454.1 1587.65 1457.66 Q1585.84 1461.2 1585.84 1468.33 Q1585.84 1475.44 1587.65 1479.01 Q1589.47 1482.55 1593.09 1482.55 Q1596.72 1482.55 1598.53 1479.01 Q1600.35 1475.44 1600.35 1468.33 Q1600.35 1461.2 1598.53 1457.66 Q1596.72 1454.1 1593.09 1454.1 M1593.09 1450.39 Q1598.9 1450.39 1601.95 1455 Q1605.03 1459.58 1605.03 1468.33 Q1605.03 1477.06 1601.95 1481.67 Q1598.9 1486.25 1593.09 1486.25 Q1587.28 1486.25 1584.2 1481.67 Q1581.14 1477.06 1581.14 1468.33 Q1581.14 1459.58 1584.2 1455 Q1587.28 1450.39 1593.09 1450.39 Z\" fill=\"#000000\" fill-rule=\"evenodd\" fill-opacity=\"1\" /><path clip-path=\"url(#clip690)\" d=\"M1623.25 1454.1 Q1619.64 1454.1 1617.81 1457.66 Q1616 1461.2 1616 1468.33 Q1616 1475.44 1617.81 1479.01 Q1619.64 1482.55 1623.25 1482.55 Q1626.88 1482.55 1628.69 1479.01 Q1630.52 1475.44 1630.52 1468.33 Q1630.52 1461.2 1628.69 1457.66 Q1626.88 1454.1 1623.25 1454.1 M1623.25 1450.39 Q1629.06 1450.39 1632.11 1455 Q1635.19 1459.58 1635.19 1468.33 Q1635.19 1477.06 1632.11 1481.67 Q1629.06 1486.25 1623.25 1486.25 Q1617.44 1486.25 1614.36 1481.67 Q1611.3 1477.06 1611.3 1468.33 Q1611.3 1459.58 1614.36 1455 Q1617.44 1450.39 1623.25 1450.39 Z\" fill=\"#000000\" fill-rule=\"evenodd\" fill-opacity=\"1\" /><path clip-path=\"url(#clip690)\" d=\"M1653.41 1454.1 Q1649.8 1454.1 1647.97 1457.66 Q1646.16 1461.2 1646.16 1468.33 Q1646.16 1475.44 1647.97 1479.01 Q1649.8 1482.55 1653.41 1482.55 Q1657.04 1482.55 1658.85 1479.01 Q1660.68 1475.44 1660.68 1468.33 Q1660.68 1461.2 1658.85 1457.66 Q1657.04 1454.1 1653.41 1454.1 M1653.41 1450.39 Q1659.22 1450.39 1662.28 1455 Q1665.35 1459.58 1665.35 1468.33 Q1665.35 1477.06 1662.28 1481.67 Q1659.22 1486.25 1653.41 1486.25 Q1647.6 1486.25 1644.52 1481.67 Q1641.47 1477.06 1641.47 1468.33 Q1641.47 1459.58 1644.52 1455 Q1647.6 1450.39 1653.41 1450.39 Z\" fill=\"#000000\" fill-rule=\"evenodd\" fill-opacity=\"1\" /><path clip-path=\"url(#clip690)\" d=\"M1827.35 1481.64 L1834.99 1481.64 L1834.99 1455.28 L1826.68 1456.95 L1826.68 1452.69 L1834.94 1451.02 L1839.62 1451.02 L1839.62 1481.64 L1847.26 1481.64 L1847.26 1485.58 L1827.35 1485.58 L1827.35 1481.64 Z\" fill=\"#000000\" fill-rule=\"evenodd\" fill-opacity=\"1\" /><path clip-path=\"url(#clip690)\" d=\"M1860.73 1481.64 L1877.05 1481.64 L1877.05 1485.58 L1855.1 1485.58 L1855.1 1481.64 Q1857.77 1478.89 1862.35 1474.26 Q1866.95 1469.61 1868.14 1468.27 Q1870.38 1465.74 1871.26 1464.01 Q1872.16 1462.25 1872.16 1460.56 Q1872.16 1457.8 1870.22 1456.07 Q1868.3 1454.33 1865.2 1454.33 Q1863 1454.33 1860.54 1455.09 Q1858.11 1455.86 1855.33 1457.41 L1855.33 1452.69 Q1858.16 1451.55 1860.61 1450.97 Q1863.07 1450.39 1865.1 1450.39 Q1870.47 1450.39 1873.67 1453.08 Q1876.86 1455.77 1876.86 1460.26 Q1876.86 1462.39 1876.05 1464.31 Q1875.27 1466.2 1873.16 1468.8 Q1872.58 1469.47 1869.48 1472.69 Q1866.38 1475.88 1860.73 1481.64 Z\" fill=\"#000000\" fill-rule=\"evenodd\" fill-opacity=\"1\" /><path clip-path=\"url(#clip690)\" d=\"M1896.86 1454.1 Q1893.25 1454.1 1891.42 1457.66 Q1889.62 1461.2 1889.62 1468.33 Q1889.62 1475.44 1891.42 1479.01 Q1893.25 1482.55 1896.86 1482.55 Q1900.5 1482.55 1902.3 1479.01 Q1904.13 1475.44 1904.13 1468.33 Q1904.13 1461.2 1902.3 1457.66 Q1900.5 1454.1 1896.86 1454.1 M1896.86 1450.39 Q1902.67 1450.39 1905.73 1455 Q1908.81 1459.58 1908.81 1468.33 Q1908.81 1477.06 1905.73 1481.67 Q1902.67 1486.25 1896.86 1486.25 Q1891.05 1486.25 1887.97 1481.67 Q1884.92 1477.06 1884.92 1468.33 Q1884.92 1459.58 1887.97 1455 Q1891.05 1450.39 1896.86 1450.39 Z\" fill=\"#000000\" fill-rule=\"evenodd\" fill-opacity=\"1\" /><path clip-path=\"url(#clip690)\" d=\"M1927.02 1454.1 Q1923.41 1454.1 1921.58 1457.66 Q1919.78 1461.2 1919.78 1468.33 Q1919.78 1475.44 1921.58 1479.01 Q1923.41 1482.55 1927.02 1482.55 Q1930.66 1482.55 1932.46 1479.01 Q1934.29 1475.44 1934.29 1468.33 Q1934.29 1461.2 1932.46 1457.66 Q1930.66 1454.1 1927.02 1454.1 M1927.02 1450.39 Q1932.83 1450.39 1935.89 1455 Q1938.97 1459.58 1938.97 1468.33 Q1938.97 1477.06 1935.89 1481.67 Q1932.83 1486.25 1927.02 1486.25 Q1921.21 1486.25 1918.14 1481.67 Q1915.08 1477.06 1915.08 1468.33 Q1915.08 1459.58 1918.14 1455 Q1921.21 1450.39 1927.02 1450.39 Z\" fill=\"#000000\" fill-rule=\"evenodd\" fill-opacity=\"1\" /><path clip-path=\"url(#clip690)\" d=\"M2100.96 1481.64 L2108.6 1481.64 L2108.6 1455.28 L2100.29 1456.95 L2100.29 1452.69 L2108.56 1451.02 L2113.23 1451.02 L2113.23 1481.64 L2120.87 1481.64 L2120.87 1485.58 L2100.96 1485.58 L2100.96 1481.64 Z\" fill=\"#000000\" fill-rule=\"evenodd\" fill-opacity=\"1\" /><path clip-path=\"url(#clip690)\" d=\"M2143.16 1455.09 L2131.36 1473.54 L2143.16 1473.54 L2143.16 1455.09 M2141.94 1451.02 L2147.81 1451.02 L2147.81 1473.54 L2152.75 1473.54 L2152.75 1477.43 L2147.81 1477.43 L2147.81 1485.58 L2143.16 1485.58 L2143.16 1477.43 L2127.56 1477.43 L2127.56 1472.92 L2141.94 1451.02 Z\" fill=\"#000000\" fill-rule=\"evenodd\" fill-opacity=\"1\" /><path clip-path=\"url(#clip690)\" d=\"M2170.48 1454.1 Q2166.87 1454.1 2165.04 1457.66 Q2163.23 1461.2 2163.23 1468.33 Q2163.23 1475.44 2165.04 1479.01 Q2166.87 1482.55 2170.48 1482.55 Q2174.11 1482.55 2175.92 1479.01 Q2177.75 1475.44 2177.75 1468.33 Q2177.75 1461.2 2175.92 1457.66 Q2174.11 1454.1 2170.48 1454.1 M2170.48 1450.39 Q2176.29 1450.39 2179.34 1455 Q2182.42 1459.58 2182.42 1468.33 Q2182.42 1477.06 2179.34 1481.67 Q2176.29 1486.25 2170.48 1486.25 Q2164.67 1486.25 2161.59 1481.67 Q2158.53 1477.06 2158.53 1468.33 Q2158.53 1459.58 2161.59 1455 Q2164.67 1450.39 2170.48 1450.39 Z\" fill=\"#000000\" fill-rule=\"evenodd\" fill-opacity=\"1\" /><path clip-path=\"url(#clip690)\" d=\"M2200.64 1454.1 Q2197.03 1454.1 2195.2 1457.66 Q2193.39 1461.2 2193.39 1468.33 Q2193.39 1475.44 2195.2 1479.01 Q2197.03 1482.55 2200.64 1482.55 Q2204.27 1482.55 2206.08 1479.01 Q2207.91 1475.44 2207.91 1468.33 Q2207.91 1461.2 2206.08 1457.66 Q2204.27 1454.1 2200.64 1454.1 M2200.64 1450.39 Q2206.45 1450.39 2209.5 1455 Q2212.58 1459.58 2212.58 1468.33 Q2212.58 1477.06 2209.5 1481.67 Q2206.45 1486.25 2200.64 1486.25 Q2194.83 1486.25 2191.75 1481.67 Q2188.69 1477.06 2188.69 1468.33 Q2188.69 1459.58 2191.75 1455 Q2194.83 1450.39 2200.64 1450.39 Z\" fill=\"#000000\" fill-rule=\"evenodd\" fill-opacity=\"1\" /><path clip-path=\"url(#clip690)\" d=\"M1316.32 1546.53 L1316.32 1568.04 L1310.46 1568.04 L1310.46 1546.72 Q1310.46 1541.66 1308.49 1539.14 Q1306.52 1536.63 1302.57 1536.63 Q1297.83 1536.63 1295.09 1539.65 Q1292.35 1542.68 1292.35 1547.9 L1292.35 1568.04 L1286.46 1568.04 L1286.46 1532.4 L1292.35 1532.4 L1292.35 1537.93 Q1294.45 1534.72 1297.29 1533.13 Q1300.15 1531.54 1303.87 1531.54 Q1310.02 1531.54 1313.17 1535.36 Q1316.32 1539.14 1316.32 1546.53 Z\" fill=\"#000000\" fill-rule=\"evenodd\" fill-opacity=\"1\" /><polyline clip-path=\"url(#clip692)\" style=\"stroke:#000000; stroke-linecap:butt; stroke-linejoin:round; stroke-width:2; stroke-opacity:0.1; fill:none\" points=\"\n  250.028,1404.44 2352.76,1404.44 \n  \"/>\n<polyline clip-path=\"url(#clip692)\" style=\"stroke:#000000; stroke-linecap:butt; stroke-linejoin:round; stroke-width:2; stroke-opacity:0.1; fill:none\" points=\"\n  250.028,1209.82 2352.76,1209.82 \n  \"/>\n<polyline clip-path=\"url(#clip692)\" style=\"stroke:#000000; stroke-linecap:butt; stroke-linejoin:round; stroke-width:2; stroke-opacity:0.1; fill:none\" points=\"\n  250.028,1015.19 2352.76,1015.19 \n  \"/>\n<polyline clip-path=\"url(#clip692)\" style=\"stroke:#000000; stroke-linecap:butt; stroke-linejoin:round; stroke-width:2; stroke-opacity:0.1; fill:none\" points=\"\n  250.028,820.564 2352.76,820.564 \n  \"/>\n<polyline clip-path=\"url(#clip692)\" style=\"stroke:#000000; stroke-linecap:butt; stroke-linejoin:round; stroke-width:2; stroke-opacity:0.1; fill:none\" points=\"\n  250.028,625.937 2352.76,625.937 \n  \"/>\n<polyline clip-path=\"url(#clip692)\" style=\"stroke:#000000; stroke-linecap:butt; stroke-linejoin:round; stroke-width:2; stroke-opacity:0.1; fill:none\" points=\"\n  250.028,431.31 2352.76,431.31 \n  \"/>\n<polyline clip-path=\"url(#clip692)\" style=\"stroke:#000000; stroke-linecap:butt; stroke-linejoin:round; stroke-width:2; stroke-opacity:0.1; fill:none\" points=\"\n  250.028,236.683 2352.76,236.683 \n  \"/>\n<polyline clip-path=\"url(#clip690)\" style=\"stroke:#000000; stroke-linecap:butt; stroke-linejoin:round; stroke-width:4; stroke-opacity:1; fill:none\" points=\"\n  250.028,1423.18 250.028,123.472 \n  \"/>\n<polyline clip-path=\"url(#clip690)\" style=\"stroke:#000000; stroke-linecap:butt; stroke-linejoin:round; stroke-width:4; stroke-opacity:1; fill:none\" points=\"\n  250.028,1404.44 268.926,1404.44 \n  \"/>\n<polyline clip-path=\"url(#clip690)\" style=\"stroke:#000000; stroke-linecap:butt; stroke-linejoin:round; stroke-width:4; stroke-opacity:1; fill:none\" points=\"\n  250.028,1209.82 268.926,1209.82 \n  \"/>\n<polyline clip-path=\"url(#clip690)\" style=\"stroke:#000000; stroke-linecap:butt; stroke-linejoin:round; stroke-width:4; stroke-opacity:1; fill:none\" points=\"\n  250.028,1015.19 268.926,1015.19 \n  \"/>\n<polyline clip-path=\"url(#clip690)\" style=\"stroke:#000000; stroke-linecap:butt; stroke-linejoin:round; stroke-width:4; stroke-opacity:1; fill:none\" points=\"\n  250.028,820.564 268.926,820.564 \n  \"/>\n<polyline clip-path=\"url(#clip690)\" style=\"stroke:#000000; stroke-linecap:butt; stroke-linejoin:round; stroke-width:4; stroke-opacity:1; fill:none\" points=\"\n  250.028,625.937 268.926,625.937 \n  \"/>\n<polyline clip-path=\"url(#clip690)\" style=\"stroke:#000000; stroke-linecap:butt; stroke-linejoin:round; stroke-width:4; stroke-opacity:1; fill:none\" points=\"\n  250.028,431.31 268.926,431.31 \n  \"/>\n<polyline clip-path=\"url(#clip690)\" style=\"stroke:#000000; stroke-linecap:butt; stroke-linejoin:round; stroke-width:4; stroke-opacity:1; fill:none\" points=\"\n  250.028,236.683 268.926,236.683 \n  \"/>\n<path clip-path=\"url(#clip690)\" d=\"M126.691 1390.24 Q123.08 1390.24 121.251 1393.81 Q119.445 1397.35 119.445 1404.48 Q119.445 1411.59 121.251 1415.15 Q123.08 1418.69 126.691 1418.69 Q130.325 1418.69 132.13 1415.15 Q133.959 1411.59 133.959 1404.48 Q133.959 1397.35 132.13 1393.81 Q130.325 1390.24 126.691 1390.24 M126.691 1386.54 Q132.501 1386.54 135.556 1391.15 Q138.635 1395.73 138.635 1404.48 Q138.635 1413.21 135.556 1417.81 Q132.501 1422.4 126.691 1422.4 Q120.88 1422.4 117.802 1417.81 Q114.746 1413.21 114.746 1404.48 Q114.746 1395.73 117.802 1391.15 Q120.88 1386.54 126.691 1386.54 Z\" fill=\"#000000\" fill-rule=\"evenodd\" fill-opacity=\"1\" /><path clip-path=\"url(#clip690)\" d=\"M146.853 1415.84 L151.737 1415.84 L151.737 1421.72 L146.853 1421.72 L146.853 1415.84 Z\" fill=\"#000000\" fill-rule=\"evenodd\" fill-opacity=\"1\" /><path clip-path=\"url(#clip690)\" d=\"M171.922 1390.24 Q168.311 1390.24 166.482 1393.81 Q164.677 1397.35 164.677 1404.48 Q164.677 1411.59 166.482 1415.15 Q168.311 1418.69 171.922 1418.69 Q175.556 1418.69 177.362 1415.15 Q179.19 1411.59 179.19 1404.48 Q179.19 1397.35 177.362 1393.81 Q175.556 1390.24 171.922 1390.24 M171.922 1386.54 Q177.732 1386.54 180.788 1391.15 Q183.866 1395.73 183.866 1404.48 Q183.866 1413.21 180.788 1417.81 Q177.732 1422.4 171.922 1422.4 Q166.112 1422.4 163.033 1417.81 Q159.978 1413.21 159.978 1404.48 Q159.978 1395.73 163.033 1391.15 Q166.112 1386.54 171.922 1386.54 Z\" fill=\"#000000\" fill-rule=\"evenodd\" fill-opacity=\"1\" /><path clip-path=\"url(#clip690)\" d=\"M202.084 1390.24 Q198.473 1390.24 196.644 1393.81 Q194.838 1397.35 194.838 1404.48 Q194.838 1411.59 196.644 1415.15 Q198.473 1418.69 202.084 1418.69 Q205.718 1418.69 207.524 1415.15 Q209.352 1411.59 209.352 1404.48 Q209.352 1397.35 207.524 1393.81 Q205.718 1390.24 202.084 1390.24 M202.084 1386.54 Q207.894 1386.54 210.949 1391.15 Q214.028 1395.73 214.028 1404.48 Q214.028 1413.21 210.949 1417.81 Q207.894 1422.4 202.084 1422.4 Q196.274 1422.4 193.195 1417.81 Q190.139 1413.21 190.139 1404.48 Q190.139 1395.73 193.195 1391.15 Q196.274 1386.54 202.084 1386.54 Z\" fill=\"#000000\" fill-rule=\"evenodd\" fill-opacity=\"1\" /><path clip-path=\"url(#clip690)\" d=\"M127.917 1195.62 Q124.306 1195.62 122.478 1199.18 Q120.672 1202.72 120.672 1209.85 Q120.672 1216.96 122.478 1220.52 Q124.306 1224.07 127.917 1224.07 Q131.552 1224.07 133.357 1220.52 Q135.186 1216.96 135.186 1209.85 Q135.186 1202.72 133.357 1199.18 Q131.552 1195.62 127.917 1195.62 M127.917 1191.91 Q133.728 1191.91 136.783 1196.52 Q139.862 1201.1 139.862 1209.85 Q139.862 1218.58 136.783 1223.19 Q133.728 1227.77 127.917 1227.77 Q122.107 1227.77 119.029 1223.19 Q115.973 1218.58 115.973 1209.85 Q115.973 1201.1 119.029 1196.52 Q122.107 1191.91 127.917 1191.91 Z\" fill=\"#000000\" fill-rule=\"evenodd\" fill-opacity=\"1\" /><path clip-path=\"url(#clip690)\" d=\"M148.079 1221.22 L152.964 1221.22 L152.964 1227.1 L148.079 1227.1 L148.079 1221.22 Z\" fill=\"#000000\" fill-rule=\"evenodd\" fill-opacity=\"1\" /><path clip-path=\"url(#clip690)\" d=\"M173.149 1195.62 Q169.538 1195.62 167.709 1199.18 Q165.903 1202.72 165.903 1209.85 Q165.903 1216.96 167.709 1220.52 Q169.538 1224.07 173.149 1224.07 Q176.783 1224.07 178.589 1220.52 Q180.417 1216.96 180.417 1209.85 Q180.417 1202.72 178.589 1199.18 Q176.783 1195.62 173.149 1195.62 M173.149 1191.91 Q178.959 1191.91 182.014 1196.52 Q185.093 1201.1 185.093 1209.85 Q185.093 1218.58 182.014 1223.19 Q178.959 1227.77 173.149 1227.77 Q167.339 1227.77 164.26 1223.19 Q161.204 1218.58 161.204 1209.85 Q161.204 1201.1 164.26 1196.52 Q167.339 1191.91 173.149 1191.91 Z\" fill=\"#000000\" fill-rule=\"evenodd\" fill-opacity=\"1\" /><path clip-path=\"url(#clip690)\" d=\"M194.121 1223.16 L201.76 1223.16 L201.76 1196.8 L193.45 1198.46 L193.45 1194.2 L201.713 1192.54 L206.389 1192.54 L206.389 1223.16 L214.028 1223.16 L214.028 1227.1 L194.121 1227.1 L194.121 1223.16 Z\" fill=\"#000000\" fill-rule=\"evenodd\" fill-opacity=\"1\" /><path clip-path=\"url(#clip690)\" d=\"M128.288 1000.99 Q124.677 1000.99 122.848 1004.55 Q121.043 1008.1 121.043 1015.23 Q121.043 1022.33 122.848 1025.9 Q124.677 1029.44 128.288 1029.44 Q131.922 1029.44 133.728 1025.9 Q135.556 1022.33 135.556 1015.23 Q135.556 1008.1 133.728 1004.55 Q131.922 1000.99 128.288 1000.99 M128.288 997.286 Q134.098 997.286 137.154 1001.89 Q140.232 1006.48 140.232 1015.23 Q140.232 1023.95 137.154 1028.56 Q134.098 1033.14 128.288 1033.14 Q122.478 1033.14 119.399 1028.56 Q116.343 1023.95 116.343 1015.23 Q116.343 1006.48 119.399 1001.89 Q122.478 997.286 128.288 997.286 Z\" fill=\"#000000\" fill-rule=\"evenodd\" fill-opacity=\"1\" /><path clip-path=\"url(#clip690)\" d=\"M148.45 1026.59 L153.334 1026.59 L153.334 1032.47 L148.45 1032.47 L148.45 1026.59 Z\" fill=\"#000000\" fill-rule=\"evenodd\" fill-opacity=\"1\" /><path clip-path=\"url(#clip690)\" d=\"M173.519 1000.99 Q169.908 1000.99 168.079 1004.55 Q166.274 1008.1 166.274 1015.23 Q166.274 1022.33 168.079 1025.9 Q169.908 1029.44 173.519 1029.44 Q177.153 1029.44 178.959 1025.9 Q180.788 1022.33 180.788 1015.23 Q180.788 1008.1 178.959 1004.55 Q177.153 1000.99 173.519 1000.99 M173.519 997.286 Q179.329 997.286 182.385 1001.89 Q185.463 1006.48 185.463 1015.23 Q185.463 1023.95 182.385 1028.56 Q179.329 1033.14 173.519 1033.14 Q167.709 1033.14 164.63 1028.56 Q161.575 1023.95 161.575 1015.23 Q161.575 1006.48 164.63 1001.89 Q167.709 997.286 173.519 997.286 Z\" fill=\"#000000\" fill-rule=\"evenodd\" fill-opacity=\"1\" /><path clip-path=\"url(#clip690)\" d=\"M197.709 1028.54 L214.028 1028.54 L214.028 1032.47 L192.084 1032.47 L192.084 1028.54 Q194.746 1025.78 199.329 1021.15 Q203.936 1016.5 205.116 1015.16 Q207.362 1012.63 208.241 1010.9 Q209.144 1009.14 209.144 1007.45 Q209.144 1004.69 207.199 1002.96 Q205.278 1001.22 202.176 1001.22 Q199.977 1001.22 197.524 1001.98 Q195.093 1002.75 192.315 1004.3 L192.315 999.577 Q195.139 998.443 197.593 997.864 Q200.047 997.286 202.084 997.286 Q207.454 997.286 210.649 999.971 Q213.843 1002.66 213.843 1007.15 Q213.843 1009.28 213.033 1011.2 Q212.246 1013.1 210.139 1015.69 Q209.561 1016.36 206.459 1019.58 Q203.357 1022.77 197.709 1028.54 Z\" fill=\"#000000\" fill-rule=\"evenodd\" fill-opacity=\"1\" /><path clip-path=\"url(#clip690)\" d=\"M127.339 806.362 Q123.728 806.362 121.899 809.927 Q120.093 813.469 120.093 820.598 Q120.093 827.705 121.899 831.27 Q123.728 834.811 127.339 834.811 Q130.973 834.811 132.779 831.27 Q134.607 827.705 134.607 820.598 Q134.607 813.469 132.779 809.927 Q130.973 806.362 127.339 806.362 M127.339 802.659 Q133.149 802.659 136.204 807.265 Q139.283 811.848 139.283 820.598 Q139.283 829.325 136.204 833.932 Q133.149 838.515 127.339 838.515 Q121.529 838.515 118.45 833.932 Q115.394 829.325 115.394 820.598 Q115.394 811.848 118.45 807.265 Q121.529 802.659 127.339 802.659 Z\" fill=\"#000000\" fill-rule=\"evenodd\" fill-opacity=\"1\" /><path clip-path=\"url(#clip690)\" d=\"M147.501 831.964 L152.385 831.964 L152.385 837.844 L147.501 837.844 L147.501 831.964 Z\" fill=\"#000000\" fill-rule=\"evenodd\" fill-opacity=\"1\" /><path clip-path=\"url(#clip690)\" d=\"M172.57 806.362 Q168.959 806.362 167.13 809.927 Q165.325 813.469 165.325 820.598 Q165.325 827.705 167.13 831.27 Q168.959 834.811 172.57 834.811 Q176.204 834.811 178.01 831.27 Q179.839 827.705 179.839 820.598 Q179.839 813.469 178.01 809.927 Q176.204 806.362 172.57 806.362 M172.57 802.659 Q178.38 802.659 181.436 807.265 Q184.514 811.848 184.514 820.598 Q184.514 829.325 181.436 833.932 Q178.38 838.515 172.57 838.515 Q166.76 838.515 163.681 833.932 Q160.626 829.325 160.626 820.598 Q160.626 811.848 163.681 807.265 Q166.76 802.659 172.57 802.659 Z\" fill=\"#000000\" fill-rule=\"evenodd\" fill-opacity=\"1\" /><path clip-path=\"url(#clip690)\" d=\"M206.899 819.21 Q210.255 819.927 212.13 822.196 Q214.028 824.464 214.028 827.797 Q214.028 832.913 210.51 835.714 Q206.991 838.515 200.51 838.515 Q198.334 838.515 196.019 838.075 Q193.727 837.658 191.274 836.802 L191.274 832.288 Q193.218 833.422 195.533 834.001 Q197.848 834.58 200.371 834.58 Q204.769 834.58 207.061 832.844 Q209.375 831.108 209.375 827.797 Q209.375 824.742 207.223 823.029 Q205.093 821.293 201.274 821.293 L197.246 821.293 L197.246 817.45 L201.459 817.45 Q204.908 817.45 206.737 816.085 Q208.565 814.696 208.565 812.103 Q208.565 809.441 206.667 808.029 Q204.792 806.594 201.274 806.594 Q199.352 806.594 197.153 807.011 Q194.954 807.427 192.315 808.307 L192.315 804.14 Q194.977 803.399 197.292 803.029 Q199.63 802.659 201.69 802.659 Q207.014 802.659 210.116 805.089 Q213.218 807.497 213.218 811.617 Q213.218 814.487 211.574 816.478 Q209.931 818.446 206.899 819.21 Z\" fill=\"#000000\" fill-rule=\"evenodd\" fill-opacity=\"1\" /><path clip-path=\"url(#clip690)\" d=\"M126.205 611.735 Q122.593 611.735 120.765 615.3 Q118.959 618.842 118.959 625.972 Q118.959 633.078 120.765 636.643 Q122.593 640.184 126.205 640.184 Q129.839 640.184 131.644 636.643 Q133.473 633.078 133.473 625.972 Q133.473 618.842 131.644 615.3 Q129.839 611.735 126.205 611.735 M126.205 608.032 Q132.015 608.032 135.07 612.638 Q138.149 617.222 138.149 625.972 Q138.149 634.698 135.07 639.305 Q132.015 643.888 126.205 643.888 Q120.394 643.888 117.316 639.305 Q114.26 634.698 114.26 625.972 Q114.26 617.222 117.316 612.638 Q120.394 608.032 126.205 608.032 Z\" fill=\"#000000\" fill-rule=\"evenodd\" fill-opacity=\"1\" /><path clip-path=\"url(#clip690)\" d=\"M146.366 637.337 L151.251 637.337 L151.251 643.217 L146.366 643.217 L146.366 637.337 Z\" fill=\"#000000\" fill-rule=\"evenodd\" fill-opacity=\"1\" /><path clip-path=\"url(#clip690)\" d=\"M171.436 611.735 Q167.825 611.735 165.996 615.3 Q164.19 618.842 164.19 625.972 Q164.19 633.078 165.996 636.643 Q167.825 640.184 171.436 640.184 Q175.07 640.184 176.876 636.643 Q178.704 633.078 178.704 625.972 Q178.704 618.842 176.876 615.3 Q175.07 611.735 171.436 611.735 M171.436 608.032 Q177.246 608.032 180.301 612.638 Q183.38 617.222 183.38 625.972 Q183.38 634.698 180.301 639.305 Q177.246 643.888 171.436 643.888 Q165.626 643.888 162.547 639.305 Q159.491 634.698 159.491 625.972 Q159.491 617.222 162.547 612.638 Q165.626 608.032 171.436 608.032 Z\" fill=\"#000000\" fill-rule=\"evenodd\" fill-opacity=\"1\" /><path clip-path=\"url(#clip690)\" d=\"M204.445 612.731 L192.639 631.18 L204.445 631.18 L204.445 612.731 M203.218 608.657 L209.098 608.657 L209.098 631.18 L214.028 631.18 L214.028 635.069 L209.098 635.069 L209.098 643.217 L204.445 643.217 L204.445 635.069 L188.843 635.069 L188.843 630.555 L203.218 608.657 Z\" fill=\"#000000\" fill-rule=\"evenodd\" fill-opacity=\"1\" /><path clip-path=\"url(#clip690)\" d=\"M127.686 417.109 Q124.075 417.109 122.246 420.673 Q120.441 424.215 120.441 431.345 Q120.441 438.451 122.246 442.016 Q124.075 445.558 127.686 445.558 Q131.32 445.558 133.126 442.016 Q134.954 438.451 134.954 431.345 Q134.954 424.215 133.126 420.673 Q131.32 417.109 127.686 417.109 M127.686 413.405 Q133.496 413.405 136.552 418.011 Q139.63 422.595 139.63 431.345 Q139.63 440.071 136.552 444.678 Q133.496 449.261 127.686 449.261 Q121.876 449.261 118.797 444.678 Q115.742 440.071 115.742 431.345 Q115.742 422.595 118.797 418.011 Q121.876 413.405 127.686 413.405 Z\" fill=\"#000000\" fill-rule=\"evenodd\" fill-opacity=\"1\" /><path clip-path=\"url(#clip690)\" d=\"M147.848 442.71 L152.732 442.71 L152.732 448.59 L147.848 448.59 L147.848 442.71 Z\" fill=\"#000000\" fill-rule=\"evenodd\" fill-opacity=\"1\" /><path clip-path=\"url(#clip690)\" d=\"M172.917 417.109 Q169.306 417.109 167.477 420.673 Q165.672 424.215 165.672 431.345 Q165.672 438.451 167.477 442.016 Q169.306 445.558 172.917 445.558 Q176.551 445.558 178.357 442.016 Q180.186 438.451 180.186 431.345 Q180.186 424.215 178.357 420.673 Q176.551 417.109 172.917 417.109 M172.917 413.405 Q178.727 413.405 181.783 418.011 Q184.862 422.595 184.862 431.345 Q184.862 440.071 181.783 444.678 Q178.727 449.261 172.917 449.261 Q167.107 449.261 164.028 444.678 Q160.973 440.071 160.973 431.345 Q160.973 422.595 164.028 418.011 Q167.107 413.405 172.917 413.405 Z\" fill=\"#000000\" fill-rule=\"evenodd\" fill-opacity=\"1\" /><path clip-path=\"url(#clip690)\" d=\"M193.125 414.03 L211.482 414.03 L211.482 417.965 L197.408 417.965 L197.408 426.437 Q198.426 426.09 199.445 425.928 Q200.463 425.743 201.482 425.743 Q207.269 425.743 210.649 428.914 Q214.028 432.085 214.028 437.502 Q214.028 443.081 210.556 446.183 Q207.084 449.261 200.764 449.261 Q198.588 449.261 196.32 448.891 Q194.075 448.52 191.667 447.78 L191.667 443.081 Q193.75 444.215 195.973 444.77 Q198.195 445.326 200.672 445.326 Q204.676 445.326 207.014 443.22 Q209.352 441.113 209.352 437.502 Q209.352 433.891 207.014 431.784 Q204.676 429.678 200.672 429.678 Q198.797 429.678 196.922 430.095 Q195.07 430.511 193.125 431.391 L193.125 414.03 Z\" fill=\"#000000\" fill-rule=\"evenodd\" fill-opacity=\"1\" /><path clip-path=\"url(#clip690)\" d=\"M126.529 222.482 Q122.918 222.482 121.089 226.047 Q119.283 229.588 119.283 236.718 Q119.283 243.824 121.089 247.389 Q122.918 250.931 126.529 250.931 Q130.163 250.931 131.968 247.389 Q133.797 243.824 133.797 236.718 Q133.797 229.588 131.968 226.047 Q130.163 222.482 126.529 222.482 M126.529 218.778 Q132.339 218.778 135.394 223.384 Q138.473 227.968 138.473 236.718 Q138.473 245.445 135.394 250.051 Q132.339 254.634 126.529 254.634 Q120.718 254.634 117.64 250.051 Q114.584 245.445 114.584 236.718 Q114.584 227.968 117.64 223.384 Q120.718 218.778 126.529 218.778 Z\" fill=\"#000000\" fill-rule=\"evenodd\" fill-opacity=\"1\" /><path clip-path=\"url(#clip690)\" d=\"M146.691 248.083 L151.575 248.083 L151.575 253.963 L146.691 253.963 L146.691 248.083 Z\" fill=\"#000000\" fill-rule=\"evenodd\" fill-opacity=\"1\" /><path clip-path=\"url(#clip690)\" d=\"M171.76 222.482 Q168.149 222.482 166.32 226.047 Q164.515 229.588 164.515 236.718 Q164.515 243.824 166.32 247.389 Q168.149 250.931 171.76 250.931 Q175.394 250.931 177.2 247.389 Q179.028 243.824 179.028 236.718 Q179.028 229.588 177.2 226.047 Q175.394 222.482 171.76 222.482 M171.76 218.778 Q177.57 218.778 180.626 223.384 Q183.704 227.968 183.704 236.718 Q183.704 245.445 180.626 250.051 Q177.57 254.634 171.76 254.634 Q165.95 254.634 162.871 250.051 Q159.815 245.445 159.815 236.718 Q159.815 227.968 162.871 223.384 Q165.95 218.778 171.76 218.778 Z\" fill=\"#000000\" fill-rule=\"evenodd\" fill-opacity=\"1\" /><path clip-path=\"url(#clip690)\" d=\"M202.5 234.82 Q199.352 234.82 197.5 236.972 Q195.672 239.125 195.672 242.875 Q195.672 246.602 197.5 248.778 Q199.352 250.931 202.5 250.931 Q205.649 250.931 207.477 248.778 Q209.329 246.602 209.329 242.875 Q209.329 239.125 207.477 236.972 Q205.649 234.82 202.5 234.82 M211.783 220.167 L211.783 224.426 Q210.024 223.593 208.218 223.153 Q206.436 222.713 204.676 222.713 Q200.047 222.713 197.593 225.838 Q195.163 228.963 194.815 235.283 Q196.181 233.269 198.241 232.204 Q200.301 231.116 202.778 231.116 Q207.987 231.116 210.996 234.287 Q214.028 237.435 214.028 242.875 Q214.028 248.199 210.88 251.417 Q207.732 254.634 202.5 254.634 Q196.505 254.634 193.334 250.051 Q190.163 245.445 190.163 236.718 Q190.163 228.523 194.051 223.662 Q197.94 218.778 204.491 218.778 Q206.25 218.778 208.033 219.125 Q209.838 219.472 211.783 220.167 Z\" fill=\"#000000\" fill-rule=\"evenodd\" fill-opacity=\"1\" /><path clip-path=\"url(#clip690)\" d=\"M41.3104 1089.3 L58.7206 1089.3 L58.7206 1078.99 Q58.7206 1073.8 56.5881 1071.32 Q54.4238 1068.81 49.9996 1068.81 Q45.5436 1068.81 43.4429 1071.32 Q41.3104 1073.8 41.3104 1078.99 L41.3104 1089.3 M21.7677 1089.3 L36.0905 1089.3 L36.0905 1079.79 Q36.0905 1075.08 34.34 1072.78 Q32.5576 1070.46 28.9291 1070.46 Q25.3325 1070.46 23.5501 1072.78 Q21.7677 1075.08 21.7677 1079.79 L21.7677 1089.3 M16.4842 1095.73 L16.4842 1079.31 Q16.4842 1071.96 19.5397 1067.98 Q22.5952 1064 28.2289 1064 Q32.5894 1064 35.1675 1066.04 Q37.7456 1068.07 38.3822 1072.02 Q39.4007 1067.28 42.6472 1064.67 Q45.8619 1062.03 50.6998 1062.03 Q57.0655 1062.03 60.5348 1066.36 Q64.0042 1070.68 64.0042 1078.67 L64.0042 1095.73 L16.4842 1095.73 Z\" fill=\"#000000\" fill-rule=\"evenodd\" fill-opacity=\"1\" /><path clip-path=\"url(#clip690)\" d=\"M32.4621 1037.46 Q32.4621 1042.17 36.1542 1044.9 Q39.8145 1047.64 46.212 1047.64 Q52.6095 1047.64 56.3017 1044.93 Q59.9619 1042.2 59.9619 1037.46 Q59.9619 1032.78 56.2698 1030.04 Q52.5777 1027.3 46.212 1027.3 Q39.8781 1027.3 36.186 1030.04 Q32.4621 1032.78 32.4621 1037.46 M27.4968 1037.46 Q27.4968 1029.82 32.4621 1025.46 Q37.4273 1021.1 46.212 1021.1 Q54.9649 1021.1 59.9619 1025.46 Q64.9272 1029.82 64.9272 1037.46 Q64.9272 1045.13 59.9619 1049.49 Q54.9649 1053.81 46.212 1053.81 Q37.4273 1053.81 32.4621 1049.49 Q27.4968 1045.13 27.4968 1037.46 Z\" fill=\"#000000\" fill-rule=\"evenodd\" fill-opacity=\"1\" /><path clip-path=\"url(#clip690)\" d=\"M18.2347 1005.59 L28.3562 1005.59 L28.3562 993.532 L32.9077 993.532 L32.9077 1005.59 L52.2594 1005.59 Q56.6199 1005.59 57.8613 1004.42 Q59.1026 1003.21 59.1026 999.547 L59.1026 993.532 L64.0042 993.532 L64.0042 999.547 Q64.0042 1006.33 61.4897 1008.9 Q58.9434 1011.48 52.2594 1011.48 L32.9077 1011.48 L32.9077 1015.78 L28.3562 1015.78 L28.3562 1011.48 L18.2347 1011.48 L18.2347 1005.59 Z\" fill=\"#000000\" fill-rule=\"evenodd\" fill-opacity=\"1\" /><path clip-path=\"url(#clip690)\" d=\"M18.2347 980.036 L28.3562 980.036 L28.3562 967.973 L32.9077 967.973 L32.9077 980.036 L52.2594 980.036 Q56.6199 980.036 57.8613 978.859 Q59.1026 977.649 59.1026 973.989 L59.1026 967.973 L64.0042 967.973 L64.0042 973.989 Q64.0042 980.768 61.4897 983.347 Q58.9434 985.925 52.2594 985.925 L32.9077 985.925 L32.9077 990.222 L28.3562 990.222 L28.3562 985.925 L18.2347 985.925 L18.2347 980.036 Z\" fill=\"#000000\" fill-rule=\"evenodd\" fill-opacity=\"1\" /><path clip-path=\"url(#clip690)\" d=\"M14.479 960.271 L14.479 954.414 L64.0042 954.414 L64.0042 960.271 L14.479 960.271 Z\" fill=\"#000000\" fill-rule=\"evenodd\" fill-opacity=\"1\" /><path clip-path=\"url(#clip690)\" d=\"M44.7161 911.669 L47.5806 911.669 L47.5806 938.596 Q53.6281 938.214 56.8109 934.967 Q59.9619 931.689 59.9619 925.864 Q59.9619 922.49 59.1344 919.339 Q58.3069 916.157 56.6518 913.037 L62.1899 913.037 Q63.5267 916.188 64.227 919.499 Q64.9272 922.809 64.9272 926.214 Q64.9272 934.744 59.9619 939.741 Q54.9967 944.707 46.5303 944.707 Q37.7774 944.707 32.6531 939.996 Q27.4968 935.254 27.4968 927.233 Q27.4968 920.04 32.1438 915.87 Q36.7589 911.669 44.7161 911.669 M42.9973 917.525 Q38.1912 917.589 35.3266 920.231 Q32.4621 922.841 32.4621 927.169 Q32.4621 932.071 35.2312 935.031 Q38.0002 937.959 43.0292 938.405 L42.9973 917.525 Z\" fill=\"#000000\" fill-rule=\"evenodd\" fill-opacity=\"1\" /><path clip-path=\"url(#clip690)\" d=\"M42.4881 872.424 L64.0042 872.424 L64.0042 878.281 L42.679 878.281 Q37.6183 878.281 35.1038 880.254 Q32.5894 882.227 32.5894 886.174 Q32.5894 890.916 35.6131 893.654 Q38.6368 896.391 43.8567 896.391 L64.0042 896.391 L64.0042 902.279 L28.3562 902.279 L28.3562 896.391 L33.8944 896.391 Q30.6797 894.29 29.0883 891.458 Q27.4968 888.593 27.4968 884.869 Q27.4968 878.726 31.3163 875.575 Q35.1038 872.424 42.4881 872.424 Z\" fill=\"#000000\" fill-rule=\"evenodd\" fill-opacity=\"1\" /><path clip-path=\"url(#clip690)\" d=\"M44.7161 830.251 L47.5806 830.251 L47.5806 857.178 Q53.6281 856.796 56.8109 853.55 Q59.9619 850.271 59.9619 844.447 Q59.9619 841.073 59.1344 837.922 Q58.3069 834.739 56.6518 831.62 L62.1899 831.62 Q63.5267 834.771 64.227 838.081 Q64.9272 841.391 64.9272 844.797 Q64.9272 853.327 59.9619 858.324 Q54.9967 863.289 46.5303 863.289 Q37.7774 863.289 32.6531 858.579 Q27.4968 853.836 27.4968 845.815 Q27.4968 838.622 32.1438 834.453 Q36.7589 830.251 44.7161 830.251 M42.9973 836.108 Q38.1912 836.171 35.3266 838.813 Q32.4621 841.423 32.4621 845.752 Q32.4621 850.653 35.2312 853.613 Q38.0002 856.542 43.0292 856.987 L42.9973 836.108 Z\" fill=\"#000000\" fill-rule=\"evenodd\" fill-opacity=\"1\" /><path clip-path=\"url(#clip690)\" d=\"M29.7248 794.985 L35.1993 794.985 Q33.8307 797.468 33.1623 799.982 Q32.4621 802.465 32.4621 805.011 Q32.4621 810.709 36.0905 813.86 Q39.6872 817.011 46.212 817.011 Q52.7369 817.011 56.3653 813.86 Q59.9619 810.709 59.9619 805.011 Q59.9619 802.465 59.2935 799.982 Q58.5933 797.468 57.2247 794.985 L62.6355 794.985 Q63.7814 797.436 64.3543 800.078 Q64.9272 802.688 64.9272 805.648 Q64.9272 813.7 59.8664 818.443 Q54.8057 823.185 46.212 823.185 Q37.491 823.185 32.4939 818.411 Q27.4968 813.605 27.4968 805.266 Q27.4968 802.56 28.0697 799.982 Q28.6108 797.404 29.7248 794.985 Z\" fill=\"#000000\" fill-rule=\"evenodd\" fill-opacity=\"1\" /><path clip-path=\"url(#clip690)\" d=\"M14.479 785.023 L14.479 779.135 L43.7294 779.135 L28.3562 761.661 L28.3562 754.181 L45.0344 773.087 L64.0042 753.385 L64.0042 761.024 L46.5939 779.135 L64.0042 779.135 L64.0042 785.023 L14.479 785.023 Z\" fill=\"#000000\" fill-rule=\"evenodd\" fill-opacity=\"1\" /><path clip-path=\"url(#clip690)\" d=\"M21.7677 719.647 L58.7206 719.647 L58.7206 711.881 Q58.7206 702.046 54.2646 697.495 Q49.8086 692.911 40.1964 692.911 Q30.6479 692.911 26.2237 697.495 Q21.7677 702.046 21.7677 711.881 L21.7677 719.647 M16.4842 726.077 L16.4842 712.868 Q16.4842 699.054 22.2451 692.593 Q27.9743 686.132 40.1964 686.132 Q52.4822 686.132 58.2432 692.625 Q64.0042 699.118 64.0042 712.868 L64.0042 726.077 L16.4842 726.077 Z\" fill=\"#000000\" fill-rule=\"evenodd\" fill-opacity=\"1\" /><path clip-path=\"url(#clip690)\" d=\"M28.3562 676.138 L28.3562 670.281 L64.0042 670.281 L64.0042 676.138 L28.3562 676.138 M14.479 676.138 L14.479 670.281 L21.895 670.281 L21.895 676.138 L14.479 676.138 Z\" fill=\"#000000\" fill-rule=\"evenodd\" fill-opacity=\"1\" /><path clip-path=\"url(#clip690)\" d=\"M29.4065 635.302 L34.9447 635.302 Q33.6716 637.784 33.035 640.458 Q32.3984 643.131 32.3984 645.996 Q32.3984 650.356 33.7352 652.553 Q35.072 654.717 37.7456 654.717 Q39.7826 654.717 40.9603 653.157 Q42.1061 651.598 43.1565 646.887 L43.6021 644.882 Q44.9389 638.644 47.3897 636.034 Q49.8086 633.392 54.1691 633.392 Q59.1344 633.392 62.0308 637.339 Q64.9272 641.253 64.9272 648.128 Q64.9272 650.993 64.3543 654.112 Q63.8132 657.2 62.6992 660.637 L56.6518 660.637 Q58.3387 657.391 59.198 654.24 Q60.0256 651.089 60.0256 648.001 Q60.0256 643.863 58.6251 641.635 Q57.1929 639.407 54.6147 639.407 Q52.2276 639.407 50.9545 641.031 Q49.6813 642.622 48.5037 648.065 L48.0262 650.102 Q46.8804 655.544 44.5251 657.963 Q42.138 660.382 38.0002 660.382 Q32.9713 660.382 30.2341 656.818 Q27.4968 653.253 27.4968 646.696 Q27.4968 643.45 27.9743 640.585 Q28.4517 637.721 29.4065 635.302 Z\" fill=\"#000000\" fill-rule=\"evenodd\" fill-opacity=\"1\" /><path clip-path=\"url(#clip690)\" d=\"M18.2347 618.273 L28.3562 618.273 L28.3562 606.21 L32.9077 606.21 L32.9077 618.273 L52.2594 618.273 Q56.6199 618.273 57.8613 617.096 Q59.1026 615.886 59.1026 612.226 L59.1026 606.21 L64.0042 606.21 L64.0042 612.226 Q64.0042 619.005 61.4897 621.583 Q58.9434 624.162 52.2594 624.162 L32.9077 624.162 L32.9077 628.458 L28.3562 628.458 L28.3562 624.162 L18.2347 624.162 L18.2347 618.273 Z\" fill=\"#000000\" fill-rule=\"evenodd\" fill-opacity=\"1\" /><path clip-path=\"url(#clip690)\" d=\"M46.0847 582.307 Q46.0847 589.405 47.7079 592.142 Q49.3312 594.879 53.2461 594.879 Q56.3653 594.879 58.2114 592.842 Q60.0256 590.773 60.0256 587.24 Q60.0256 582.371 56.5881 579.442 Q53.1188 576.482 47.3897 576.482 L46.0847 576.482 L46.0847 582.307 M43.6657 570.626 L64.0042 570.626 L64.0042 576.482 L58.5933 576.482 Q61.8398 578.488 63.3994 581.48 Q64.9272 584.471 64.9272 588.8 Q64.9272 594.275 61.8716 597.521 Q58.7843 600.736 53.6281 600.736 Q47.6125 600.736 44.5569 596.725 Q41.5014 592.683 41.5014 584.694 L41.5014 576.482 L40.9285 576.482 Q36.8862 576.482 34.6901 579.156 Q32.4621 581.798 32.4621 586.604 Q32.4621 589.659 33.1941 592.556 Q33.9262 595.452 35.3903 598.126 L29.9795 598.126 Q28.7381 594.911 28.1334 591.887 Q27.4968 588.864 27.4968 585.999 Q27.4968 578.265 31.5072 574.445 Q35.5176 570.626 43.6657 570.626 Z\" fill=\"#000000\" fill-rule=\"evenodd\" fill-opacity=\"1\" /><path clip-path=\"url(#clip690)\" d=\"M42.4881 528.931 L64.0042 528.931 L64.0042 534.787 L42.679 534.787 Q37.6183 534.787 35.1038 536.76 Q32.5894 538.734 32.5894 542.681 Q32.5894 547.423 35.6131 550.16 Q38.6368 552.897 43.8567 552.897 L64.0042 552.897 L64.0042 558.786 L28.3562 558.786 L28.3562 552.897 L33.8944 552.897 Q30.6797 550.797 29.0883 547.964 Q27.4968 545.099 27.4968 541.376 Q27.4968 535.233 31.3163 532.082 Q35.1038 528.931 42.4881 528.931 Z\" fill=\"#000000\" fill-rule=\"evenodd\" fill-opacity=\"1\" /><path clip-path=\"url(#clip690)\" d=\"M29.7248 491.596 L35.1993 491.596 Q33.8307 494.078 33.1623 496.593 Q32.4621 499.075 32.4621 501.622 Q32.4621 507.319 36.0905 510.47 Q39.6872 513.621 46.212 513.621 Q52.7369 513.621 56.3653 510.47 Q59.9619 507.319 59.9619 501.622 Q59.9619 499.075 59.2935 496.593 Q58.5933 494.078 57.2247 491.596 L62.6355 491.596 Q63.7814 494.047 64.3543 496.688 Q64.9272 499.298 64.9272 502.258 Q64.9272 510.311 59.8664 515.053 Q54.8057 519.796 46.212 519.796 Q37.491 519.796 32.4939 515.022 Q27.4968 510.215 27.4968 501.876 Q27.4968 499.171 28.0697 496.593 Q28.6108 494.015 29.7248 491.596 Z\" fill=\"#000000\" fill-rule=\"evenodd\" fill-opacity=\"1\" /><path clip-path=\"url(#clip690)\" d=\"M44.7161 450.919 L47.5806 450.919 L47.5806 477.846 Q53.6281 477.464 56.8109 474.217 Q59.9619 470.939 59.9619 465.114 Q59.9619 461.741 59.1344 458.59 Q58.3069 455.407 56.6518 452.287 L62.1899 452.287 Q63.5267 455.439 64.227 458.749 Q64.9272 462.059 64.9272 465.464 Q64.9272 473.995 59.9619 478.992 Q54.9967 483.957 46.5303 483.957 Q37.7774 483.957 32.6531 479.246 Q27.4968 474.504 27.4968 466.483 Q27.4968 459.29 32.1438 455.12 Q36.7589 450.919 44.7161 450.919 M42.9973 456.775 Q38.1912 456.839 35.3266 459.481 Q32.4621 462.091 32.4621 466.419 Q32.4621 471.321 35.2312 474.281 Q38.0002 477.209 43.0292 477.655 L42.9973 456.775 Z\" fill=\"#000000\" fill-rule=\"evenodd\" fill-opacity=\"1\" /><path clip-path=\"url(#clip690)\" d=\"M1142.7 34.4165 Q1141.2 33.8899 1139.7 33.4848 Q1135.69 32.4315 1131.4 32.4315 Q1123.98 32.4315 1119.85 36.4419 Q1116 40.1688 1115.27 47.0148 L1142.7 47.0148 L1142.7 52.8481 L1115.27 52.8481 Q1116 59.6941 1119.85 63.421 Q1123.98 67.4314 1131.4 67.4314 Q1136.58 67.4314 1139.7 66.3781 L1142.7 65.3654 L1142.7 72.1304 L1139.5 72.8596 Q1135.28 73.7508 1130.95 73.7508 Q1120.09 73.7508 1113.77 67.4314 Q1107.41 61.1119 1107.41 49.9314 Q1107.41 38.7509 1113.77 32.4315 Q1120.09 26.1121 1130.95 26.1121 Q1135.04 26.1121 1139.5 27.0033 Q1141.12 27.3274 1142.7 27.8135 L1142.7 34.4165 Z\" fill=\"#000000\" fill-rule=\"evenodd\" fill-opacity=\"1\" /><path clip-path=\"url(#clip690)\" d=\"M1162.67 34.9026 L1214.6 34.9026 L1214.6 41.7081 L1162.67 41.7081 L1162.67 34.9026 M1162.67 51.4303 L1214.6 51.4303 L1214.6 58.3168 L1162.67 58.3168 L1162.67 51.4303 Z\" fill=\"#000000\" fill-rule=\"evenodd\" fill-opacity=\"1\" /><path clip-path=\"url(#clip690)\" d=\"M1231.21 9.54393 L1238.66 9.54393 L1238.66 72.576 L1231.21 72.576 L1231.21 9.54393 Z\" fill=\"#000000\" fill-rule=\"evenodd\" fill-opacity=\"1\" /><path clip-path=\"url(#clip690)\" d=\"M1271.84 32.4315 Q1265.85 32.4315 1262.36 37.1306 Q1258.88 41.7891 1258.88 49.9314 Q1258.88 58.0738 1262.32 62.7728 Q1265.8 67.4314 1271.84 67.4314 Q1277.8 67.4314 1281.28 62.7323 Q1284.76 58.0333 1284.76 49.9314 Q1284.76 41.8701 1281.28 37.1711 Q1277.8 32.4315 1271.84 32.4315 M1271.84 26.1121 Q1281.56 26.1121 1287.11 32.4315 Q1292.66 38.7509 1292.66 49.9314 Q1292.66 61.0714 1287.11 67.4314 Q1281.56 73.7508 1271.84 73.7508 Q1262.08 73.7508 1256.53 67.4314 Q1251.02 61.0714 1251.02 49.9314 Q1251.02 38.7509 1256.53 32.4315 Q1262.08 26.1121 1271.84 26.1121 Z\" fill=\"#000000\" fill-rule=\"evenodd\" fill-opacity=\"1\" /><path clip-path=\"url(#clip690)\" d=\"M1334.87 49.3643 Q1334.87 41.2625 1331.51 36.8065 Q1328.19 32.3505 1322.15 32.3505 Q1316.16 32.3505 1312.8 36.8065 Q1309.47 41.2625 1309.47 49.3643 Q1309.47 57.4256 1312.8 61.8816 Q1316.16 66.3376 1322.15 66.3376 Q1328.19 66.3376 1331.51 61.8816 Q1334.87 57.4256 1334.87 49.3643 M1342.33 66.9452 Q1342.33 78.5308 1337.18 84.1616 Q1332.04 89.8329 1321.42 89.8329 Q1317.49 89.8329 1314.01 89.2252 Q1310.53 88.6581 1307.25 87.4428 L1307.25 80.1917 Q1310.53 81.9741 1313.73 82.8248 Q1316.93 83.6755 1320.25 83.6755 Q1327.58 83.6755 1331.23 79.8271 Q1334.87 76.0193 1334.87 68.282 L1334.87 64.5957 Q1332.56 68.6061 1328.96 70.5911 Q1325.35 72.576 1320.33 72.576 Q1311.99 72.576 1306.88 66.2161 Q1301.78 59.8562 1301.78 49.3643 Q1301.78 38.832 1306.88 32.472 Q1311.99 26.1121 1320.33 26.1121 Q1325.35 26.1121 1328.96 28.0971 Q1332.56 30.082 1334.87 34.0924 L1334.87 27.2059 L1342.33 27.2059 L1342.33 66.9452 Z\" fill=\"#000000\" fill-rule=\"evenodd\" fill-opacity=\"1\" /><path clip-path=\"url(#clip690)\" d=\"M1354.6 10.2326 L1359.34 10.2326 L1359.34 31.0542 L1373.36 20.1168 L1379.35 20.1168 L1364.16 31.9859 L1379.96 45.516 L1373.84 45.516 L1359.34 33.1202 L1359.34 45.516 L1354.6 45.516 L1354.6 10.2326 Z\" fill=\"#000000\" fill-rule=\"evenodd\" fill-opacity=\"1\" /><path clip-path=\"url(#clip690)\" d=\"M1410.91 9.62495 Q1405.48 18.942 1402.85 28.0566 Q1400.21 37.1711 1400.21 46.5287 Q1400.21 55.8863 1402.85 65.0818 Q1405.52 74.2369 1410.91 83.5134 L1404.43 83.5134 Q1398.35 73.9938 1395.31 64.7983 Q1392.31 55.6027 1392.31 46.5287 Q1392.31 37.4952 1395.31 28.3401 Q1398.31 19.1851 1404.43 9.62495 L1410.91 9.62495 Z\" fill=\"#000000\" fill-rule=\"evenodd\" fill-opacity=\"1\" /><path clip-path=\"url(#clip690)\" d=\"M1463.08 45.1919 L1463.08 72.576 L1455.63 72.576 L1455.63 45.4349 Q1455.63 38.994 1453.12 35.7938 Q1450.61 32.5936 1445.58 32.5936 Q1439.55 32.5936 1436.06 36.4419 Q1432.58 40.2903 1432.58 46.9338 L1432.58 72.576 L1425.09 72.576 L1425.09 27.2059 L1432.58 27.2059 L1432.58 34.2544 Q1435.25 30.163 1438.86 28.1376 Q1442.51 26.1121 1447.24 26.1121 Q1455.06 26.1121 1459.07 30.9732 Q1463.08 35.7938 1463.08 45.1919 Z\" fill=\"#000000\" fill-rule=\"evenodd\" fill-opacity=\"1\" /><path clip-path=\"url(#clip690)\" d=\"M1476.78 9.62495 L1483.26 9.62495 Q1489.33 19.1851 1492.33 28.3401 Q1495.37 37.4952 1495.37 46.5287 Q1495.37 55.6027 1492.33 64.7983 Q1489.33 73.9938 1483.26 83.5134 L1476.78 83.5134 Q1482.16 74.2369 1484.8 65.0818 Q1487.47 55.8863 1487.47 46.5287 Q1487.47 37.1711 1484.8 28.0566 Q1482.16 18.942 1476.78 9.62495 Z\" fill=\"#000000\" fill-rule=\"evenodd\" fill-opacity=\"1\" /><polyline clip-path=\"url(#clip692)\" style=\"stroke:#009af9; stroke-linecap:butt; stroke-linejoin:round; stroke-width:12; stroke-opacity:1; fill:none\" points=\"\n  309.539,160.256 377.943,398.345 514.75,725.263 925.172,1227.7 1267.19,1229.45 1609.21,1141.1 2293.24,1225.48 \n  \"/>\n<polyline clip-path=\"url(#clip692)\" style=\"stroke:#e26f46; stroke-linecap:butt; stroke-linejoin:round; stroke-width:12; stroke-opacity:1; fill:none\" points=\"\n  309.539,575.81 377.943,699.604 514.75,967.28 925.172,1263.88 1267.19,1314.55 1609.21,1221.34 2293.24,1317.89 \n  \"/>\n<polyline clip-path=\"url(#clip692)\" style=\"stroke:#3da44d; stroke-linecap:butt; stroke-linejoin:round; stroke-width:12; stroke-opacity:1; fill:none\" points=\"\n  309.539,821.212 377.943,1160.84 514.75,1263.53 925.172,1324.66 1267.19,1347.18 1609.21,1354.75 2293.24,1386.4 \n  \"/>\n<path clip-path=\"url(#clip690)\" d=\"\nM1913.66 374.156 L2282.66 374.156 L2282.66 166.796 L1913.66 166.796  Z\n  \" fill=\"#ffffff\" fill-rule=\"evenodd\" fill-opacity=\"1\"/>\n<polyline clip-path=\"url(#clip690)\" style=\"stroke:#000000; stroke-linecap:butt; stroke-linejoin:round; stroke-width:4; stroke-opacity:1; fill:none\" points=\"\n  1913.66,374.156 2282.66,374.156 2282.66,166.796 1913.66,166.796 1913.66,374.156 \n  \"/>\n<polyline clip-path=\"url(#clip690)\" style=\"stroke:#009af9; stroke-linecap:butt; stroke-linejoin:round; stroke-width:4; stroke-opacity:1; fill:none\" points=\"\n  1937.02,218.636 2077.2,218.636 \n  \"/>\n<path clip-path=\"url(#clip690)\" d=\"M2100.57 199.897 L2104.85 199.897 L2104.85 221.17 L2117.56 209.99 L2123 209.99 L2109.25 222.119 L2123.58 235.916 L2118.02 235.916 L2104.85 223.254 L2104.85 235.916 L2100.57 235.916 L2100.57 199.897 Z\" fill=\"#000000\" fill-rule=\"evenodd\" fill-opacity=\"1\" /><path clip-path=\"url(#clip690)\" d=\"M2128.74 214.388 L2158.41 214.388 L2158.41 218.277 L2128.74 218.277 L2128.74 214.388 M2128.74 223.832 L2158.41 223.832 L2158.41 227.768 L2128.74 227.768 L2128.74 223.832 Z\" fill=\"#000000\" fill-rule=\"evenodd\" fill-opacity=\"1\" /><path clip-path=\"url(#clip690)\" d=\"M2169.32 231.981 L2176.96 231.981 L2176.96 205.615 L2168.65 207.282 L2168.65 203.022 L2176.91 201.356 L2181.59 201.356 L2181.59 231.981 L2189.22 231.981 L2189.22 235.916 L2169.32 235.916 L2169.32 231.981 Z\" fill=\"#000000\" fill-rule=\"evenodd\" fill-opacity=\"1\" /><path clip-path=\"url(#clip690)\" d=\"M2205.64 201.356 L2209.57 201.356 L2197.54 240.314 L2193.6 240.314 L2205.64 201.356 Z\" fill=\"#000000\" fill-rule=\"evenodd\" fill-opacity=\"1\" /><path clip-path=\"url(#clip690)\" d=\"M2218.67 231.981 L2234.99 231.981 L2234.99 235.916 L2213.04 235.916 L2213.04 231.981 Q2215.71 229.226 2220.29 224.596 Q2224.9 219.944 2226.08 218.601 Q2228.32 216.078 2229.2 214.342 Q2230.1 212.583 2230.1 210.893 Q2230.1 208.138 2228.16 206.402 Q2226.24 204.666 2223.14 204.666 Q2220.94 204.666 2218.48 205.43 Q2216.05 206.194 2213.28 207.745 L2213.28 203.022 Q2216.1 201.888 2218.55 201.309 Q2221.01 200.731 2223.04 200.731 Q2228.41 200.731 2231.61 203.416 Q2234.8 206.101 2234.8 210.592 Q2234.8 212.721 2233.99 214.643 Q2233.21 216.541 2231.1 219.133 Q2230.52 219.805 2227.42 223.022 Q2224.32 226.217 2218.67 231.981 Z\" fill=\"#000000\" fill-rule=\"evenodd\" fill-opacity=\"1\" /><polyline clip-path=\"url(#clip690)\" style=\"stroke:#e26f46; stroke-linecap:butt; stroke-linejoin:round; stroke-width:4; stroke-opacity:1; fill:none\" points=\"\n  1937.02,270.476 2077.2,270.476 \n  \"/>\n<path clip-path=\"url(#clip690)\" d=\"M2100.57 251.737 L2104.85 251.737 L2104.85 273.01 L2117.56 261.83 L2123 261.83 L2109.25 273.959 L2123.58 287.756 L2118.02 287.756 L2104.85 275.094 L2104.85 287.756 L2100.57 287.756 L2100.57 251.737 Z\" fill=\"#000000\" fill-rule=\"evenodd\" fill-opacity=\"1\" /><path clip-path=\"url(#clip690)\" d=\"M2128.74 266.228 L2158.41 266.228 L2158.41 270.117 L2128.74 270.117 L2128.74 266.228 M2128.74 275.672 L2158.41 275.672 L2158.41 279.608 L2128.74 279.608 L2128.74 275.672 Z\" fill=\"#000000\" fill-rule=\"evenodd\" fill-opacity=\"1\" /><path clip-path=\"url(#clip690)\" d=\"M2172.54 283.821 L2188.85 283.821 L2188.85 287.756 L2166.91 287.756 L2166.91 283.821 Q2169.57 281.066 2174.16 276.436 Q2178.76 271.784 2179.94 270.441 Q2182.19 267.918 2183.07 266.182 Q2183.97 264.423 2183.97 262.733 Q2183.97 259.978 2182.03 258.242 Q2180.1 256.506 2177 256.506 Q2174.8 256.506 2172.35 257.27 Q2169.92 258.034 2167.14 259.585 L2167.14 254.862 Q2169.97 253.728 2172.42 253.149 Q2174.87 252.571 2176.91 252.571 Q2182.28 252.571 2185.48 255.256 Q2188.67 257.941 2188.67 262.432 Q2188.67 264.561 2187.86 266.483 Q2187.07 268.381 2184.97 270.973 Q2184.39 271.645 2181.29 274.862 Q2178.18 278.057 2172.54 283.821 Z\" fill=\"#000000\" fill-rule=\"evenodd\" fill-opacity=\"1\" /><path clip-path=\"url(#clip690)\" d=\"M2205.64 253.196 L2209.57 253.196 L2197.54 292.154 L2193.6 292.154 L2205.64 253.196 Z\" fill=\"#000000\" fill-rule=\"evenodd\" fill-opacity=\"1\" /><path clip-path=\"url(#clip690)\" d=\"M2228.81 269.122 Q2232.16 269.839 2234.04 272.108 Q2235.94 274.376 2235.94 277.709 Q2235.94 282.825 2232.42 285.626 Q2228.9 288.427 2222.42 288.427 Q2220.24 288.427 2217.93 287.987 Q2215.64 287.571 2213.18 286.714 L2213.18 282.2 Q2215.13 283.334 2217.44 283.913 Q2219.76 284.492 2222.28 284.492 Q2226.68 284.492 2228.97 282.756 Q2231.28 281.02 2231.28 277.709 Q2231.28 274.654 2229.13 272.941 Q2227 271.205 2223.18 271.205 L2219.16 271.205 L2219.16 267.362 L2223.37 267.362 Q2226.82 267.362 2228.65 265.997 Q2230.47 264.608 2230.47 262.015 Q2230.47 259.353 2228.58 257.941 Q2226.7 256.506 2223.18 256.506 Q2221.26 256.506 2219.06 256.923 Q2216.86 257.339 2214.22 258.219 L2214.22 254.052 Q2216.89 253.311 2219.2 252.941 Q2221.54 252.571 2223.6 252.571 Q2228.92 252.571 2232.03 255.001 Q2235.13 257.409 2235.13 261.529 Q2235.13 264.399 2233.48 266.39 Q2231.84 268.358 2228.81 269.122 Z\" fill=\"#000000\" fill-rule=\"evenodd\" fill-opacity=\"1\" /><polyline clip-path=\"url(#clip690)\" style=\"stroke:#3da44d; stroke-linecap:butt; stroke-linejoin:round; stroke-width:4; stroke-opacity:1; fill:none\" points=\"\n  1937.02,322.316 2077.2,322.316 \n  \"/>\n<path clip-path=\"url(#clip690)\" d=\"M2100.57 303.577 L2104.85 303.577 L2104.85 324.85 L2117.56 313.67 L2123 313.67 L2109.25 325.799 L2123.58 339.596 L2118.02 339.596 L2104.85 326.934 L2104.85 339.596 L2100.57 339.596 L2100.57 303.577 Z\" fill=\"#000000\" fill-rule=\"evenodd\" fill-opacity=\"1\" /><path clip-path=\"url(#clip690)\" d=\"M2128.74 318.068 L2158.41 318.068 L2158.41 321.957 L2128.74 321.957 L2128.74 318.068 M2128.74 327.512 L2158.41 327.512 L2158.41 331.448 L2128.74 331.448 L2128.74 327.512 Z\" fill=\"#000000\" fill-rule=\"evenodd\" fill-opacity=\"1\" /><path clip-path=\"url(#clip690)\" d=\"M2169.32 335.661 L2176.96 335.661 L2176.96 309.295 L2168.65 310.962 L2168.65 306.702 L2176.91 305.036 L2181.59 305.036 L2181.59 335.661 L2189.22 335.661 L2189.22 339.596 L2169.32 339.596 L2169.32 335.661 Z\" fill=\"#000000\" fill-rule=\"evenodd\" fill-opacity=\"1\" /></svg>\n",
      "text/html": [
       "<?xml version=\"1.0\" encoding=\"utf-8\"?>\n",
       "<svg xmlns=\"http://www.w3.org/2000/svg\" xmlns:xlink=\"http://www.w3.org/1999/xlink\" width=\"600\" height=\"400\" viewBox=\"0 0 2400 1600\">\n",
       "<defs>\n",
       "  <clipPath id=\"clip740\">\n",
       "    <rect x=\"0\" y=\"0\" width=\"2400\" height=\"1600\"/>\n",
       "  </clipPath>\n",
       "</defs>\n",
       "<path clip-path=\"url(#clip740)\" d=\"\n",
       "M0 1600 L2400 1600 L2400 0 L0 0  Z\n",
       "  \" fill=\"#ffffff\" fill-rule=\"evenodd\" fill-opacity=\"1\"/>\n",
       "<defs>\n",
       "  <clipPath id=\"clip741\">\n",
       "    <rect x=\"480\" y=\"0\" width=\"1681\" height=\"1600\"/>\n",
       "  </clipPath>\n",
       "</defs>\n",
       "<path clip-path=\"url(#clip740)\" d=\"\n",
       "M250.028 1423.18 L2352.76 1423.18 L2352.76 123.472 L250.028 123.472  Z\n",
       "  \" fill=\"#ffffff\" fill-rule=\"evenodd\" fill-opacity=\"1\"/>\n",
       "<defs>\n",
       "  <clipPath id=\"clip742\">\n",
       "    <rect x=\"250\" y=\"123\" width=\"2104\" height=\"1301\"/>\n",
       "  </clipPath>\n",
       "</defs>\n",
       "<polyline clip-path=\"url(#clip742)\" style=\"stroke:#000000; stroke-linecap:butt; stroke-linejoin:round; stroke-width:2; stroke-opacity:0.1; fill:none\" points=\"\n",
       "  514.75,1423.18 514.75,123.472 \n",
       "  \"/>\n",
       "<polyline clip-path=\"url(#clip742)\" style=\"stroke:#000000; stroke-linecap:butt; stroke-linejoin:round; stroke-width:2; stroke-opacity:0.1; fill:none\" points=\"\n",
       "  788.365,1423.18 788.365,123.472 \n",
       "  \"/>\n",
       "<polyline clip-path=\"url(#clip742)\" style=\"stroke:#000000; stroke-linecap:butt; stroke-linejoin:round; stroke-width:2; stroke-opacity:0.1; fill:none\" points=\"\n",
       "  1061.98,1423.18 1061.98,123.472 \n",
       "  \"/>\n",
       "<polyline clip-path=\"url(#clip742)\" style=\"stroke:#000000; stroke-linecap:butt; stroke-linejoin:round; stroke-width:2; stroke-opacity:0.1; fill:none\" points=\"\n",
       "  1335.59,1423.18 1335.59,123.472 \n",
       "  \"/>\n",
       "<polyline clip-path=\"url(#clip742)\" style=\"stroke:#000000; stroke-linecap:butt; stroke-linejoin:round; stroke-width:2; stroke-opacity:0.1; fill:none\" points=\"\n",
       "  1609.21,1423.18 1609.21,123.472 \n",
       "  \"/>\n",
       "<polyline clip-path=\"url(#clip742)\" style=\"stroke:#000000; stroke-linecap:butt; stroke-linejoin:round; stroke-width:2; stroke-opacity:0.1; fill:none\" points=\"\n",
       "  1882.82,1423.18 1882.82,123.472 \n",
       "  \"/>\n",
       "<polyline clip-path=\"url(#clip742)\" style=\"stroke:#000000; stroke-linecap:butt; stroke-linejoin:round; stroke-width:2; stroke-opacity:0.1; fill:none\" points=\"\n",
       "  2156.44,1423.18 2156.44,123.472 \n",
       "  \"/>\n",
       "<polyline clip-path=\"url(#clip740)\" style=\"stroke:#000000; stroke-linecap:butt; stroke-linejoin:round; stroke-width:4; stroke-opacity:1; fill:none\" points=\"\n",
       "  250.028,1423.18 2352.76,1423.18 \n",
       "  \"/>\n",
       "<polyline clip-path=\"url(#clip740)\" style=\"stroke:#000000; stroke-linecap:butt; stroke-linejoin:round; stroke-width:4; stroke-opacity:1; fill:none\" points=\"\n",
       "  514.75,1423.18 514.75,1404.28 \n",
       "  \"/>\n",
       "<polyline clip-path=\"url(#clip740)\" style=\"stroke:#000000; stroke-linecap:butt; stroke-linejoin:round; stroke-width:4; stroke-opacity:1; fill:none\" points=\"\n",
       "  788.365,1423.18 788.365,1404.28 \n",
       "  \"/>\n",
       "<polyline clip-path=\"url(#clip740)\" style=\"stroke:#000000; stroke-linecap:butt; stroke-linejoin:round; stroke-width:4; stroke-opacity:1; fill:none\" points=\"\n",
       "  1061.98,1423.18 1061.98,1404.28 \n",
       "  \"/>\n",
       "<polyline clip-path=\"url(#clip740)\" style=\"stroke:#000000; stroke-linecap:butt; stroke-linejoin:round; stroke-width:4; stroke-opacity:1; fill:none\" points=\"\n",
       "  1335.59,1423.18 1335.59,1404.28 \n",
       "  \"/>\n",
       "<polyline clip-path=\"url(#clip740)\" style=\"stroke:#000000; stroke-linecap:butt; stroke-linejoin:round; stroke-width:4; stroke-opacity:1; fill:none\" points=\"\n",
       "  1609.21,1423.18 1609.21,1404.28 \n",
       "  \"/>\n",
       "<polyline clip-path=\"url(#clip740)\" style=\"stroke:#000000; stroke-linecap:butt; stroke-linejoin:round; stroke-width:4; stroke-opacity:1; fill:none\" points=\"\n",
       "  1882.82,1423.18 1882.82,1404.28 \n",
       "  \"/>\n",
       "<polyline clip-path=\"url(#clip740)\" style=\"stroke:#000000; stroke-linecap:butt; stroke-linejoin:round; stroke-width:4; stroke-opacity:1; fill:none\" points=\"\n",
       "  2156.44,1423.18 2156.44,1404.28 \n",
       "  \"/>\n",
       "<path clip-path=\"url(#clip740)\" d=\"M478.443 1481.64 L494.762 1481.64 L494.762 1485.58 L472.818 1485.58 L472.818 1481.64 Q475.48 1478.89 480.063 1474.26 Q484.669 1469.61 485.85 1468.27 Q488.095 1465.74 488.975 1464.01 Q489.878 1462.25 489.878 1460.56 Q489.878 1457.8 487.933 1456.07 Q486.012 1454.33 482.91 1454.33 Q480.711 1454.33 478.257 1455.09 Q475.827 1455.86 473.049 1457.41 L473.049 1452.69 Q475.873 1451.55 478.327 1450.97 Q480.78 1450.39 482.818 1450.39 Q488.188 1450.39 491.382 1453.08 Q494.577 1455.77 494.577 1460.26 Q494.577 1462.39 493.767 1464.31 Q492.979 1466.2 490.873 1468.8 Q490.294 1469.47 487.192 1472.69 Q484.091 1475.88 478.443 1481.64 Z\" fill=\"#000000\" fill-rule=\"evenodd\" fill-opacity=\"1\" /><path clip-path=\"url(#clip740)\" d=\"M514.577 1454.1 Q510.966 1454.1 509.137 1457.66 Q507.331 1461.2 507.331 1468.33 Q507.331 1475.44 509.137 1479.01 Q510.966 1482.55 514.577 1482.55 Q518.211 1482.55 520.016 1479.01 Q521.845 1475.44 521.845 1468.33 Q521.845 1461.2 520.016 1457.66 Q518.211 1454.1 514.577 1454.1 M514.577 1450.39 Q520.387 1450.39 523.442 1455 Q526.521 1459.58 526.521 1468.33 Q526.521 1477.06 523.442 1481.67 Q520.387 1486.25 514.577 1486.25 Q508.766 1486.25 505.688 1481.67 Q502.632 1477.06 502.632 1468.33 Q502.632 1459.58 505.688 1455 Q508.766 1450.39 514.577 1450.39 Z\" fill=\"#000000\" fill-rule=\"evenodd\" fill-opacity=\"1\" /><path clip-path=\"url(#clip740)\" d=\"M544.738 1454.1 Q541.127 1454.1 539.299 1457.66 Q537.493 1461.2 537.493 1468.33 Q537.493 1475.44 539.299 1479.01 Q541.127 1482.55 544.738 1482.55 Q548.373 1482.55 550.178 1479.01 Q552.007 1475.44 552.007 1468.33 Q552.007 1461.2 550.178 1457.66 Q548.373 1454.1 544.738 1454.1 M544.738 1450.39 Q550.549 1450.39 553.604 1455 Q556.683 1459.58 556.683 1468.33 Q556.683 1477.06 553.604 1481.67 Q550.549 1486.25 544.738 1486.25 Q538.928 1486.25 535.85 1481.67 Q532.794 1477.06 532.794 1468.33 Q532.794 1459.58 535.85 1455 Q538.928 1450.39 544.738 1450.39 Z\" fill=\"#000000\" fill-rule=\"evenodd\" fill-opacity=\"1\" /><path clip-path=\"url(#clip740)\" d=\"M761.455 1455.09 L749.65 1473.54 L761.455 1473.54 L761.455 1455.09 M760.228 1451.02 L766.108 1451.02 L766.108 1473.54 L771.038 1473.54 L771.038 1477.43 L766.108 1477.43 L766.108 1485.58 L761.455 1485.58 L761.455 1477.43 L745.853 1477.43 L745.853 1472.92 L760.228 1451.02 Z\" fill=\"#000000\" fill-rule=\"evenodd\" fill-opacity=\"1\" /><path clip-path=\"url(#clip740)\" d=\"M788.77 1454.1 Q785.159 1454.1 783.33 1457.66 Q781.525 1461.2 781.525 1468.33 Q781.525 1475.44 783.33 1479.01 Q785.159 1482.55 788.77 1482.55 Q792.404 1482.55 794.21 1479.01 Q796.038 1475.44 796.038 1468.33 Q796.038 1461.2 794.21 1457.66 Q792.404 1454.1 788.77 1454.1 M788.77 1450.39 Q794.58 1450.39 797.636 1455 Q800.714 1459.58 800.714 1468.33 Q800.714 1477.06 797.636 1481.67 Q794.58 1486.25 788.77 1486.25 Q782.96 1486.25 779.881 1481.67 Q776.825 1477.06 776.825 1468.33 Q776.825 1459.58 779.881 1455 Q782.96 1450.39 788.77 1450.39 Z\" fill=\"#000000\" fill-rule=\"evenodd\" fill-opacity=\"1\" /><path clip-path=\"url(#clip740)\" d=\"M818.932 1454.1 Q815.321 1454.1 813.492 1457.66 Q811.686 1461.2 811.686 1468.33 Q811.686 1475.44 813.492 1479.01 Q815.321 1482.55 818.932 1482.55 Q822.566 1482.55 824.372 1479.01 Q826.2 1475.44 826.2 1468.33 Q826.2 1461.2 824.372 1457.66 Q822.566 1454.1 818.932 1454.1 M818.932 1450.39 Q824.742 1450.39 827.797 1455 Q830.876 1459.58 830.876 1468.33 Q830.876 1477.06 827.797 1481.67 Q824.742 1486.25 818.932 1486.25 Q813.122 1486.25 810.043 1481.67 Q806.987 1477.06 806.987 1468.33 Q806.987 1459.58 810.043 1455 Q813.122 1450.39 818.932 1450.39 Z\" fill=\"#000000\" fill-rule=\"evenodd\" fill-opacity=\"1\" /><path clip-path=\"url(#clip740)\" d=\"M1032.3 1466.44 Q1029.16 1466.44 1027.3 1468.59 Q1025.47 1470.74 1025.47 1474.49 Q1025.47 1478.22 1027.3 1480.39 Q1029.16 1482.55 1032.3 1482.55 Q1035.45 1482.55 1037.28 1480.39 Q1039.13 1478.22 1039.13 1474.49 Q1039.13 1470.74 1037.28 1468.59 Q1035.45 1466.44 1032.3 1466.44 M1041.59 1451.78 L1041.59 1456.04 Q1039.83 1455.21 1038.02 1454.77 Q1036.24 1454.33 1034.48 1454.33 Q1029.85 1454.33 1027.4 1457.45 Q1024.97 1460.58 1024.62 1466.9 Q1025.98 1464.89 1028.04 1463.82 Q1030.1 1462.73 1032.58 1462.73 Q1037.79 1462.73 1040.8 1465.9 Q1043.83 1469.05 1043.83 1474.49 Q1043.83 1479.82 1040.68 1483.03 Q1037.53 1486.25 1032.3 1486.25 Q1026.31 1486.25 1023.14 1481.67 Q1019.97 1477.06 1019.97 1468.33 Q1019.97 1460.14 1023.85 1455.28 Q1027.74 1450.39 1034.29 1450.39 Q1036.05 1450.39 1037.84 1450.74 Q1039.64 1451.09 1041.59 1451.78 Z\" fill=\"#000000\" fill-rule=\"evenodd\" fill-opacity=\"1\" /><path clip-path=\"url(#clip740)\" d=\"M1061.89 1454.1 Q1058.28 1454.1 1056.45 1457.66 Q1054.64 1461.2 1054.64 1468.33 Q1054.64 1475.44 1056.45 1479.01 Q1058.28 1482.55 1061.89 1482.55 Q1065.52 1482.55 1067.33 1479.01 Q1069.16 1475.44 1069.16 1468.33 Q1069.16 1461.2 1067.33 1457.66 Q1065.52 1454.1 1061.89 1454.1 M1061.89 1450.39 Q1067.7 1450.39 1070.75 1455 Q1073.83 1459.58 1073.83 1468.33 Q1073.83 1477.06 1070.75 1481.67 Q1067.7 1486.25 1061.89 1486.25 Q1056.08 1486.25 1053 1481.67 Q1049.94 1477.06 1049.94 1468.33 Q1049.94 1459.58 1053 1455 Q1056.08 1450.39 1061.89 1450.39 Z\" fill=\"#000000\" fill-rule=\"evenodd\" fill-opacity=\"1\" /><path clip-path=\"url(#clip740)\" d=\"M1092.05 1454.1 Q1088.44 1454.1 1086.61 1457.66 Q1084.8 1461.2 1084.8 1468.33 Q1084.8 1475.44 1086.61 1479.01 Q1088.44 1482.55 1092.05 1482.55 Q1095.68 1482.55 1097.49 1479.01 Q1099.32 1475.44 1099.32 1468.33 Q1099.32 1461.2 1097.49 1457.66 Q1095.68 1454.1 1092.05 1454.1 M1092.05 1450.39 Q1097.86 1450.39 1100.91 1455 Q1103.99 1459.58 1103.99 1468.33 Q1103.99 1477.06 1100.91 1481.67 Q1097.86 1486.25 1092.05 1486.25 Q1086.24 1486.25 1083.16 1481.67 Q1080.1 1477.06 1080.1 1468.33 Q1080.1 1459.58 1083.16 1455 Q1086.24 1450.39 1092.05 1450.39 Z\" fill=\"#000000\" fill-rule=\"evenodd\" fill-opacity=\"1\" /><path clip-path=\"url(#clip740)\" d=\"M1305.39 1469.17 Q1302.05 1469.17 1300.13 1470.95 Q1298.23 1472.73 1298.23 1475.86 Q1298.23 1478.98 1300.13 1480.77 Q1302.05 1482.55 1305.39 1482.55 Q1308.72 1482.55 1310.64 1480.77 Q1312.56 1478.96 1312.56 1475.86 Q1312.56 1472.73 1310.64 1470.95 Q1308.74 1469.17 1305.39 1469.17 M1300.71 1467.18 Q1297.7 1466.44 1296.01 1464.38 Q1294.34 1462.32 1294.34 1459.35 Q1294.34 1455.21 1297.28 1452.8 Q1300.25 1450.39 1305.39 1450.39 Q1310.55 1450.39 1313.49 1452.8 Q1316.43 1455.21 1316.43 1459.35 Q1316.43 1462.32 1314.74 1464.38 Q1313.07 1466.44 1310.08 1467.18 Q1313.46 1467.96 1315.34 1470.26 Q1317.24 1472.55 1317.24 1475.86 Q1317.24 1480.88 1314.16 1483.57 Q1311.1 1486.25 1305.39 1486.25 Q1299.67 1486.25 1296.59 1483.57 Q1293.53 1480.88 1293.53 1475.86 Q1293.53 1472.55 1295.43 1470.26 Q1297.33 1467.96 1300.71 1467.18 M1299 1459.79 Q1299 1462.48 1300.66 1463.98 Q1302.35 1465.49 1305.39 1465.49 Q1308.39 1465.49 1310.08 1463.98 Q1311.8 1462.48 1311.8 1459.79 Q1311.8 1457.11 1310.08 1455.6 Q1308.39 1454.1 1305.39 1454.1 Q1302.35 1454.1 1300.66 1455.6 Q1299 1457.11 1299 1459.79 Z\" fill=\"#000000\" fill-rule=\"evenodd\" fill-opacity=\"1\" /><path clip-path=\"url(#clip740)\" d=\"M1335.55 1454.1 Q1331.94 1454.1 1330.11 1457.66 Q1328.3 1461.2 1328.3 1468.33 Q1328.3 1475.44 1330.11 1479.01 Q1331.94 1482.55 1335.55 1482.55 Q1339.18 1482.55 1340.99 1479.01 Q1342.82 1475.44 1342.82 1468.33 Q1342.82 1461.2 1340.99 1457.66 Q1339.18 1454.1 1335.55 1454.1 M1335.55 1450.39 Q1341.36 1450.39 1344.41 1455 Q1347.49 1459.58 1347.49 1468.33 Q1347.49 1477.06 1344.41 1481.67 Q1341.36 1486.25 1335.55 1486.25 Q1329.74 1486.25 1326.66 1481.67 Q1323.6 1477.06 1323.6 1468.33 Q1323.6 1459.58 1326.66 1455 Q1329.74 1450.39 1335.55 1450.39 Z\" fill=\"#000000\" fill-rule=\"evenodd\" fill-opacity=\"1\" /><path clip-path=\"url(#clip740)\" d=\"M1365.71 1454.1 Q1362.1 1454.1 1360.27 1457.66 Q1358.46 1461.2 1358.46 1468.33 Q1358.46 1475.44 1360.27 1479.01 Q1362.1 1482.55 1365.71 1482.55 Q1369.34 1482.55 1371.15 1479.01 Q1372.98 1475.44 1372.98 1468.33 Q1372.98 1461.2 1371.15 1457.66 Q1369.34 1454.1 1365.71 1454.1 M1365.71 1450.39 Q1371.52 1450.39 1374.58 1455 Q1377.65 1459.58 1377.65 1468.33 Q1377.65 1477.06 1374.58 1481.67 Q1371.52 1486.25 1365.71 1486.25 Q1359.9 1486.25 1356.82 1481.67 Q1353.77 1477.06 1353.77 1468.33 Q1353.77 1459.58 1356.82 1455 Q1359.9 1450.39 1365.71 1450.39 Z\" fill=\"#000000\" fill-rule=\"evenodd\" fill-opacity=\"1\" /><path clip-path=\"url(#clip740)\" d=\"M1553.73 1481.64 L1561.37 1481.64 L1561.37 1455.28 L1553.06 1456.95 L1553.06 1452.69 L1561.33 1451.02 L1566 1451.02 L1566 1481.64 L1573.64 1481.64 L1573.64 1485.58 L1553.73 1485.58 L1553.73 1481.64 Z\" fill=\"#000000\" fill-rule=\"evenodd\" fill-opacity=\"1\" /><path clip-path=\"url(#clip740)\" d=\"M1593.09 1454.1 Q1589.47 1454.1 1587.65 1457.66 Q1585.84 1461.2 1585.84 1468.33 Q1585.84 1475.44 1587.65 1479.01 Q1589.47 1482.55 1593.09 1482.55 Q1596.72 1482.55 1598.53 1479.01 Q1600.35 1475.44 1600.35 1468.33 Q1600.35 1461.2 1598.53 1457.66 Q1596.72 1454.1 1593.09 1454.1 M1593.09 1450.39 Q1598.9 1450.39 1601.95 1455 Q1605.03 1459.58 1605.03 1468.33 Q1605.03 1477.06 1601.95 1481.67 Q1598.9 1486.25 1593.09 1486.25 Q1587.28 1486.25 1584.2 1481.67 Q1581.14 1477.06 1581.14 1468.33 Q1581.14 1459.58 1584.2 1455 Q1587.28 1450.39 1593.09 1450.39 Z\" fill=\"#000000\" fill-rule=\"evenodd\" fill-opacity=\"1\" /><path clip-path=\"url(#clip740)\" d=\"M1623.25 1454.1 Q1619.64 1454.1 1617.81 1457.66 Q1616 1461.2 1616 1468.33 Q1616 1475.44 1617.81 1479.01 Q1619.64 1482.55 1623.25 1482.55 Q1626.88 1482.55 1628.69 1479.01 Q1630.52 1475.44 1630.52 1468.33 Q1630.52 1461.2 1628.69 1457.66 Q1626.88 1454.1 1623.25 1454.1 M1623.25 1450.39 Q1629.06 1450.39 1632.11 1455 Q1635.19 1459.58 1635.19 1468.33 Q1635.19 1477.06 1632.11 1481.67 Q1629.06 1486.25 1623.25 1486.25 Q1617.44 1486.25 1614.36 1481.67 Q1611.3 1477.06 1611.3 1468.33 Q1611.3 1459.58 1614.36 1455 Q1617.44 1450.39 1623.25 1450.39 Z\" fill=\"#000000\" fill-rule=\"evenodd\" fill-opacity=\"1\" /><path clip-path=\"url(#clip740)\" d=\"M1653.41 1454.1 Q1649.8 1454.1 1647.97 1457.66 Q1646.16 1461.2 1646.16 1468.33 Q1646.16 1475.44 1647.97 1479.01 Q1649.8 1482.55 1653.41 1482.55 Q1657.04 1482.55 1658.85 1479.01 Q1660.68 1475.44 1660.68 1468.33 Q1660.68 1461.2 1658.85 1457.66 Q1657.04 1454.1 1653.41 1454.1 M1653.41 1450.39 Q1659.22 1450.39 1662.28 1455 Q1665.35 1459.58 1665.35 1468.33 Q1665.35 1477.06 1662.28 1481.67 Q1659.22 1486.25 1653.41 1486.25 Q1647.6 1486.25 1644.52 1481.67 Q1641.47 1477.06 1641.47 1468.33 Q1641.47 1459.58 1644.52 1455 Q1647.6 1450.39 1653.41 1450.39 Z\" fill=\"#000000\" fill-rule=\"evenodd\" fill-opacity=\"1\" /><path clip-path=\"url(#clip740)\" d=\"M1827.35 1481.64 L1834.99 1481.64 L1834.99 1455.28 L1826.68 1456.95 L1826.68 1452.69 L1834.94 1451.02 L1839.62 1451.02 L1839.62 1481.64 L1847.26 1481.64 L1847.26 1485.58 L1827.35 1485.58 L1827.35 1481.64 Z\" fill=\"#000000\" fill-rule=\"evenodd\" fill-opacity=\"1\" /><path clip-path=\"url(#clip740)\" d=\"M1860.73 1481.64 L1877.05 1481.64 L1877.05 1485.58 L1855.1 1485.58 L1855.1 1481.64 Q1857.77 1478.89 1862.35 1474.26 Q1866.95 1469.61 1868.14 1468.27 Q1870.38 1465.74 1871.26 1464.01 Q1872.16 1462.25 1872.16 1460.56 Q1872.16 1457.8 1870.22 1456.07 Q1868.3 1454.33 1865.2 1454.33 Q1863 1454.33 1860.54 1455.09 Q1858.11 1455.86 1855.33 1457.41 L1855.33 1452.69 Q1858.16 1451.55 1860.61 1450.97 Q1863.07 1450.39 1865.1 1450.39 Q1870.47 1450.39 1873.67 1453.08 Q1876.86 1455.77 1876.86 1460.26 Q1876.86 1462.39 1876.05 1464.31 Q1875.27 1466.2 1873.16 1468.8 Q1872.58 1469.47 1869.48 1472.69 Q1866.38 1475.88 1860.73 1481.64 Z\" fill=\"#000000\" fill-rule=\"evenodd\" fill-opacity=\"1\" /><path clip-path=\"url(#clip740)\" d=\"M1896.86 1454.1 Q1893.25 1454.1 1891.42 1457.66 Q1889.62 1461.2 1889.62 1468.33 Q1889.62 1475.44 1891.42 1479.01 Q1893.25 1482.55 1896.86 1482.55 Q1900.5 1482.55 1902.3 1479.01 Q1904.13 1475.44 1904.13 1468.33 Q1904.13 1461.2 1902.3 1457.66 Q1900.5 1454.1 1896.86 1454.1 M1896.86 1450.39 Q1902.67 1450.39 1905.73 1455 Q1908.81 1459.58 1908.81 1468.33 Q1908.81 1477.06 1905.73 1481.67 Q1902.67 1486.25 1896.86 1486.25 Q1891.05 1486.25 1887.97 1481.67 Q1884.92 1477.06 1884.92 1468.33 Q1884.92 1459.58 1887.97 1455 Q1891.05 1450.39 1896.86 1450.39 Z\" fill=\"#000000\" fill-rule=\"evenodd\" fill-opacity=\"1\" /><path clip-path=\"url(#clip740)\" d=\"M1927.02 1454.1 Q1923.41 1454.1 1921.58 1457.66 Q1919.78 1461.2 1919.78 1468.33 Q1919.78 1475.44 1921.58 1479.01 Q1923.41 1482.55 1927.02 1482.55 Q1930.66 1482.55 1932.46 1479.01 Q1934.29 1475.44 1934.29 1468.33 Q1934.29 1461.2 1932.46 1457.66 Q1930.66 1454.1 1927.02 1454.1 M1927.02 1450.39 Q1932.83 1450.39 1935.89 1455 Q1938.97 1459.58 1938.97 1468.33 Q1938.97 1477.06 1935.89 1481.67 Q1932.83 1486.25 1927.02 1486.25 Q1921.21 1486.25 1918.14 1481.67 Q1915.08 1477.06 1915.08 1468.33 Q1915.08 1459.58 1918.14 1455 Q1921.21 1450.39 1927.02 1450.39 Z\" fill=\"#000000\" fill-rule=\"evenodd\" fill-opacity=\"1\" /><path clip-path=\"url(#clip740)\" d=\"M2100.96 1481.64 L2108.6 1481.64 L2108.6 1455.28 L2100.29 1456.95 L2100.29 1452.69 L2108.56 1451.02 L2113.23 1451.02 L2113.23 1481.64 L2120.87 1481.64 L2120.87 1485.58 L2100.96 1485.58 L2100.96 1481.64 Z\" fill=\"#000000\" fill-rule=\"evenodd\" fill-opacity=\"1\" /><path clip-path=\"url(#clip740)\" d=\"M2143.16 1455.09 L2131.36 1473.54 L2143.16 1473.54 L2143.16 1455.09 M2141.94 1451.02 L2147.81 1451.02 L2147.81 1473.54 L2152.75 1473.54 L2152.75 1477.43 L2147.81 1477.43 L2147.81 1485.58 L2143.16 1485.58 L2143.16 1477.43 L2127.56 1477.43 L2127.56 1472.92 L2141.94 1451.02 Z\" fill=\"#000000\" fill-rule=\"evenodd\" fill-opacity=\"1\" /><path clip-path=\"url(#clip740)\" d=\"M2170.48 1454.1 Q2166.87 1454.1 2165.04 1457.66 Q2163.23 1461.2 2163.23 1468.33 Q2163.23 1475.44 2165.04 1479.01 Q2166.87 1482.55 2170.48 1482.55 Q2174.11 1482.55 2175.92 1479.01 Q2177.75 1475.44 2177.75 1468.33 Q2177.75 1461.2 2175.92 1457.66 Q2174.11 1454.1 2170.48 1454.1 M2170.48 1450.39 Q2176.29 1450.39 2179.34 1455 Q2182.42 1459.58 2182.42 1468.33 Q2182.42 1477.06 2179.34 1481.67 Q2176.29 1486.25 2170.48 1486.25 Q2164.67 1486.25 2161.59 1481.67 Q2158.53 1477.06 2158.53 1468.33 Q2158.53 1459.58 2161.59 1455 Q2164.67 1450.39 2170.48 1450.39 Z\" fill=\"#000000\" fill-rule=\"evenodd\" fill-opacity=\"1\" /><path clip-path=\"url(#clip740)\" d=\"M2200.64 1454.1 Q2197.03 1454.1 2195.2 1457.66 Q2193.39 1461.2 2193.39 1468.33 Q2193.39 1475.44 2195.2 1479.01 Q2197.03 1482.55 2200.64 1482.55 Q2204.27 1482.55 2206.08 1479.01 Q2207.91 1475.44 2207.91 1468.33 Q2207.91 1461.2 2206.08 1457.66 Q2204.27 1454.1 2200.64 1454.1 M2200.64 1450.39 Q2206.45 1450.39 2209.5 1455 Q2212.58 1459.58 2212.58 1468.33 Q2212.58 1477.06 2209.5 1481.67 Q2206.45 1486.25 2200.64 1486.25 Q2194.83 1486.25 2191.75 1481.67 Q2188.69 1477.06 2188.69 1468.33 Q2188.69 1459.58 2191.75 1455 Q2194.83 1450.39 2200.64 1450.39 Z\" fill=\"#000000\" fill-rule=\"evenodd\" fill-opacity=\"1\" /><path clip-path=\"url(#clip740)\" d=\"M1316.32 1546.53 L1316.32 1568.04 L1310.46 1568.04 L1310.46 1546.72 Q1310.46 1541.66 1308.49 1539.14 Q1306.52 1536.63 1302.57 1536.63 Q1297.83 1536.63 1295.09 1539.65 Q1292.35 1542.68 1292.35 1547.9 L1292.35 1568.04 L1286.46 1568.04 L1286.46 1532.4 L1292.35 1532.4 L1292.35 1537.93 Q1294.45 1534.72 1297.29 1533.13 Q1300.15 1531.54 1303.87 1531.54 Q1310.02 1531.54 1313.17 1535.36 Q1316.32 1539.14 1316.32 1546.53 Z\" fill=\"#000000\" fill-rule=\"evenodd\" fill-opacity=\"1\" /><polyline clip-path=\"url(#clip742)\" style=\"stroke:#000000; stroke-linecap:butt; stroke-linejoin:round; stroke-width:2; stroke-opacity:0.1; fill:none\" points=\"\n",
       "  250.028,1404.44 2352.76,1404.44 \n",
       "  \"/>\n",
       "<polyline clip-path=\"url(#clip742)\" style=\"stroke:#000000; stroke-linecap:butt; stroke-linejoin:round; stroke-width:2; stroke-opacity:0.1; fill:none\" points=\"\n",
       "  250.028,1209.82 2352.76,1209.82 \n",
       "  \"/>\n",
       "<polyline clip-path=\"url(#clip742)\" style=\"stroke:#000000; stroke-linecap:butt; stroke-linejoin:round; stroke-width:2; stroke-opacity:0.1; fill:none\" points=\"\n",
       "  250.028,1015.19 2352.76,1015.19 \n",
       "  \"/>\n",
       "<polyline clip-path=\"url(#clip742)\" style=\"stroke:#000000; stroke-linecap:butt; stroke-linejoin:round; stroke-width:2; stroke-opacity:0.1; fill:none\" points=\"\n",
       "  250.028,820.564 2352.76,820.564 \n",
       "  \"/>\n",
       "<polyline clip-path=\"url(#clip742)\" style=\"stroke:#000000; stroke-linecap:butt; stroke-linejoin:round; stroke-width:2; stroke-opacity:0.1; fill:none\" points=\"\n",
       "  250.028,625.937 2352.76,625.937 \n",
       "  \"/>\n",
       "<polyline clip-path=\"url(#clip742)\" style=\"stroke:#000000; stroke-linecap:butt; stroke-linejoin:round; stroke-width:2; stroke-opacity:0.1; fill:none\" points=\"\n",
       "  250.028,431.31 2352.76,431.31 \n",
       "  \"/>\n",
       "<polyline clip-path=\"url(#clip742)\" style=\"stroke:#000000; stroke-linecap:butt; stroke-linejoin:round; stroke-width:2; stroke-opacity:0.1; fill:none\" points=\"\n",
       "  250.028,236.683 2352.76,236.683 \n",
       "  \"/>\n",
       "<polyline clip-path=\"url(#clip740)\" style=\"stroke:#000000; stroke-linecap:butt; stroke-linejoin:round; stroke-width:4; stroke-opacity:1; fill:none\" points=\"\n",
       "  250.028,1423.18 250.028,123.472 \n",
       "  \"/>\n",
       "<polyline clip-path=\"url(#clip740)\" style=\"stroke:#000000; stroke-linecap:butt; stroke-linejoin:round; stroke-width:4; stroke-opacity:1; fill:none\" points=\"\n",
       "  250.028,1404.44 268.926,1404.44 \n",
       "  \"/>\n",
       "<polyline clip-path=\"url(#clip740)\" style=\"stroke:#000000; stroke-linecap:butt; stroke-linejoin:round; stroke-width:4; stroke-opacity:1; fill:none\" points=\"\n",
       "  250.028,1209.82 268.926,1209.82 \n",
       "  \"/>\n",
       "<polyline clip-path=\"url(#clip740)\" style=\"stroke:#000000; stroke-linecap:butt; stroke-linejoin:round; stroke-width:4; stroke-opacity:1; fill:none\" points=\"\n",
       "  250.028,1015.19 268.926,1015.19 \n",
       "  \"/>\n",
       "<polyline clip-path=\"url(#clip740)\" style=\"stroke:#000000; stroke-linecap:butt; stroke-linejoin:round; stroke-width:4; stroke-opacity:1; fill:none\" points=\"\n",
       "  250.028,820.564 268.926,820.564 \n",
       "  \"/>\n",
       "<polyline clip-path=\"url(#clip740)\" style=\"stroke:#000000; stroke-linecap:butt; stroke-linejoin:round; stroke-width:4; stroke-opacity:1; fill:none\" points=\"\n",
       "  250.028,625.937 268.926,625.937 \n",
       "  \"/>\n",
       "<polyline clip-path=\"url(#clip740)\" style=\"stroke:#000000; stroke-linecap:butt; stroke-linejoin:round; stroke-width:4; stroke-opacity:1; fill:none\" points=\"\n",
       "  250.028,431.31 268.926,431.31 \n",
       "  \"/>\n",
       "<polyline clip-path=\"url(#clip740)\" style=\"stroke:#000000; stroke-linecap:butt; stroke-linejoin:round; stroke-width:4; stroke-opacity:1; fill:none\" points=\"\n",
       "  250.028,236.683 268.926,236.683 \n",
       "  \"/>\n",
       "<path clip-path=\"url(#clip740)\" d=\"M126.691 1390.24 Q123.08 1390.24 121.251 1393.81 Q119.445 1397.35 119.445 1404.48 Q119.445 1411.59 121.251 1415.15 Q123.08 1418.69 126.691 1418.69 Q130.325 1418.69 132.13 1415.15 Q133.959 1411.59 133.959 1404.48 Q133.959 1397.35 132.13 1393.81 Q130.325 1390.24 126.691 1390.24 M126.691 1386.54 Q132.501 1386.54 135.556 1391.15 Q138.635 1395.73 138.635 1404.48 Q138.635 1413.21 135.556 1417.81 Q132.501 1422.4 126.691 1422.4 Q120.88 1422.4 117.802 1417.81 Q114.746 1413.21 114.746 1404.48 Q114.746 1395.73 117.802 1391.15 Q120.88 1386.54 126.691 1386.54 Z\" fill=\"#000000\" fill-rule=\"evenodd\" fill-opacity=\"1\" /><path clip-path=\"url(#clip740)\" d=\"M146.853 1415.84 L151.737 1415.84 L151.737 1421.72 L146.853 1421.72 L146.853 1415.84 Z\" fill=\"#000000\" fill-rule=\"evenodd\" fill-opacity=\"1\" /><path clip-path=\"url(#clip740)\" d=\"M171.922 1390.24 Q168.311 1390.24 166.482 1393.81 Q164.677 1397.35 164.677 1404.48 Q164.677 1411.59 166.482 1415.15 Q168.311 1418.69 171.922 1418.69 Q175.556 1418.69 177.362 1415.15 Q179.19 1411.59 179.19 1404.48 Q179.19 1397.35 177.362 1393.81 Q175.556 1390.24 171.922 1390.24 M171.922 1386.54 Q177.732 1386.54 180.788 1391.15 Q183.866 1395.73 183.866 1404.48 Q183.866 1413.21 180.788 1417.81 Q177.732 1422.4 171.922 1422.4 Q166.112 1422.4 163.033 1417.81 Q159.978 1413.21 159.978 1404.48 Q159.978 1395.73 163.033 1391.15 Q166.112 1386.54 171.922 1386.54 Z\" fill=\"#000000\" fill-rule=\"evenodd\" fill-opacity=\"1\" /><path clip-path=\"url(#clip740)\" d=\"M202.084 1390.24 Q198.473 1390.24 196.644 1393.81 Q194.838 1397.35 194.838 1404.48 Q194.838 1411.59 196.644 1415.15 Q198.473 1418.69 202.084 1418.69 Q205.718 1418.69 207.524 1415.15 Q209.352 1411.59 209.352 1404.48 Q209.352 1397.35 207.524 1393.81 Q205.718 1390.24 202.084 1390.24 M202.084 1386.54 Q207.894 1386.54 210.949 1391.15 Q214.028 1395.73 214.028 1404.48 Q214.028 1413.21 210.949 1417.81 Q207.894 1422.4 202.084 1422.4 Q196.274 1422.4 193.195 1417.81 Q190.139 1413.21 190.139 1404.48 Q190.139 1395.73 193.195 1391.15 Q196.274 1386.54 202.084 1386.54 Z\" fill=\"#000000\" fill-rule=\"evenodd\" fill-opacity=\"1\" /><path clip-path=\"url(#clip740)\" d=\"M127.917 1195.62 Q124.306 1195.62 122.478 1199.18 Q120.672 1202.72 120.672 1209.85 Q120.672 1216.96 122.478 1220.52 Q124.306 1224.07 127.917 1224.07 Q131.552 1224.07 133.357 1220.52 Q135.186 1216.96 135.186 1209.85 Q135.186 1202.72 133.357 1199.18 Q131.552 1195.62 127.917 1195.62 M127.917 1191.91 Q133.728 1191.91 136.783 1196.52 Q139.862 1201.1 139.862 1209.85 Q139.862 1218.58 136.783 1223.19 Q133.728 1227.77 127.917 1227.77 Q122.107 1227.77 119.029 1223.19 Q115.973 1218.58 115.973 1209.85 Q115.973 1201.1 119.029 1196.52 Q122.107 1191.91 127.917 1191.91 Z\" fill=\"#000000\" fill-rule=\"evenodd\" fill-opacity=\"1\" /><path clip-path=\"url(#clip740)\" d=\"M148.079 1221.22 L152.964 1221.22 L152.964 1227.1 L148.079 1227.1 L148.079 1221.22 Z\" fill=\"#000000\" fill-rule=\"evenodd\" fill-opacity=\"1\" /><path clip-path=\"url(#clip740)\" d=\"M173.149 1195.62 Q169.538 1195.62 167.709 1199.18 Q165.903 1202.72 165.903 1209.85 Q165.903 1216.96 167.709 1220.52 Q169.538 1224.07 173.149 1224.07 Q176.783 1224.07 178.589 1220.52 Q180.417 1216.96 180.417 1209.85 Q180.417 1202.72 178.589 1199.18 Q176.783 1195.62 173.149 1195.62 M173.149 1191.91 Q178.959 1191.91 182.014 1196.52 Q185.093 1201.1 185.093 1209.85 Q185.093 1218.58 182.014 1223.19 Q178.959 1227.77 173.149 1227.77 Q167.339 1227.77 164.26 1223.19 Q161.204 1218.58 161.204 1209.85 Q161.204 1201.1 164.26 1196.52 Q167.339 1191.91 173.149 1191.91 Z\" fill=\"#000000\" fill-rule=\"evenodd\" fill-opacity=\"1\" /><path clip-path=\"url(#clip740)\" d=\"M194.121 1223.16 L201.76 1223.16 L201.76 1196.8 L193.45 1198.46 L193.45 1194.2 L201.713 1192.54 L206.389 1192.54 L206.389 1223.16 L214.028 1223.16 L214.028 1227.1 L194.121 1227.1 L194.121 1223.16 Z\" fill=\"#000000\" fill-rule=\"evenodd\" fill-opacity=\"1\" /><path clip-path=\"url(#clip740)\" d=\"M128.288 1000.99 Q124.677 1000.99 122.848 1004.55 Q121.043 1008.1 121.043 1015.23 Q121.043 1022.33 122.848 1025.9 Q124.677 1029.44 128.288 1029.44 Q131.922 1029.44 133.728 1025.9 Q135.556 1022.33 135.556 1015.23 Q135.556 1008.1 133.728 1004.55 Q131.922 1000.99 128.288 1000.99 M128.288 997.286 Q134.098 997.286 137.154 1001.89 Q140.232 1006.48 140.232 1015.23 Q140.232 1023.95 137.154 1028.56 Q134.098 1033.14 128.288 1033.14 Q122.478 1033.14 119.399 1028.56 Q116.343 1023.95 116.343 1015.23 Q116.343 1006.48 119.399 1001.89 Q122.478 997.286 128.288 997.286 Z\" fill=\"#000000\" fill-rule=\"evenodd\" fill-opacity=\"1\" /><path clip-path=\"url(#clip740)\" d=\"M148.45 1026.59 L153.334 1026.59 L153.334 1032.47 L148.45 1032.47 L148.45 1026.59 Z\" fill=\"#000000\" fill-rule=\"evenodd\" fill-opacity=\"1\" /><path clip-path=\"url(#clip740)\" d=\"M173.519 1000.99 Q169.908 1000.99 168.079 1004.55 Q166.274 1008.1 166.274 1015.23 Q166.274 1022.33 168.079 1025.9 Q169.908 1029.44 173.519 1029.44 Q177.153 1029.44 178.959 1025.9 Q180.788 1022.33 180.788 1015.23 Q180.788 1008.1 178.959 1004.55 Q177.153 1000.99 173.519 1000.99 M173.519 997.286 Q179.329 997.286 182.385 1001.89 Q185.463 1006.48 185.463 1015.23 Q185.463 1023.95 182.385 1028.56 Q179.329 1033.14 173.519 1033.14 Q167.709 1033.14 164.63 1028.56 Q161.575 1023.95 161.575 1015.23 Q161.575 1006.48 164.63 1001.89 Q167.709 997.286 173.519 997.286 Z\" fill=\"#000000\" fill-rule=\"evenodd\" fill-opacity=\"1\" /><path clip-path=\"url(#clip740)\" d=\"M197.709 1028.54 L214.028 1028.54 L214.028 1032.47 L192.084 1032.47 L192.084 1028.54 Q194.746 1025.78 199.329 1021.15 Q203.936 1016.5 205.116 1015.16 Q207.362 1012.63 208.241 1010.9 Q209.144 1009.14 209.144 1007.45 Q209.144 1004.69 207.199 1002.96 Q205.278 1001.22 202.176 1001.22 Q199.977 1001.22 197.524 1001.98 Q195.093 1002.75 192.315 1004.3 L192.315 999.577 Q195.139 998.443 197.593 997.864 Q200.047 997.286 202.084 997.286 Q207.454 997.286 210.649 999.971 Q213.843 1002.66 213.843 1007.15 Q213.843 1009.28 213.033 1011.2 Q212.246 1013.1 210.139 1015.69 Q209.561 1016.36 206.459 1019.58 Q203.357 1022.77 197.709 1028.54 Z\" fill=\"#000000\" fill-rule=\"evenodd\" fill-opacity=\"1\" /><path clip-path=\"url(#clip740)\" d=\"M127.339 806.362 Q123.728 806.362 121.899 809.927 Q120.093 813.469 120.093 820.598 Q120.093 827.705 121.899 831.27 Q123.728 834.811 127.339 834.811 Q130.973 834.811 132.779 831.27 Q134.607 827.705 134.607 820.598 Q134.607 813.469 132.779 809.927 Q130.973 806.362 127.339 806.362 M127.339 802.659 Q133.149 802.659 136.204 807.265 Q139.283 811.848 139.283 820.598 Q139.283 829.325 136.204 833.932 Q133.149 838.515 127.339 838.515 Q121.529 838.515 118.45 833.932 Q115.394 829.325 115.394 820.598 Q115.394 811.848 118.45 807.265 Q121.529 802.659 127.339 802.659 Z\" fill=\"#000000\" fill-rule=\"evenodd\" fill-opacity=\"1\" /><path clip-path=\"url(#clip740)\" d=\"M147.501 831.964 L152.385 831.964 L152.385 837.844 L147.501 837.844 L147.501 831.964 Z\" fill=\"#000000\" fill-rule=\"evenodd\" fill-opacity=\"1\" /><path clip-path=\"url(#clip740)\" d=\"M172.57 806.362 Q168.959 806.362 167.13 809.927 Q165.325 813.469 165.325 820.598 Q165.325 827.705 167.13 831.27 Q168.959 834.811 172.57 834.811 Q176.204 834.811 178.01 831.27 Q179.839 827.705 179.839 820.598 Q179.839 813.469 178.01 809.927 Q176.204 806.362 172.57 806.362 M172.57 802.659 Q178.38 802.659 181.436 807.265 Q184.514 811.848 184.514 820.598 Q184.514 829.325 181.436 833.932 Q178.38 838.515 172.57 838.515 Q166.76 838.515 163.681 833.932 Q160.626 829.325 160.626 820.598 Q160.626 811.848 163.681 807.265 Q166.76 802.659 172.57 802.659 Z\" fill=\"#000000\" fill-rule=\"evenodd\" fill-opacity=\"1\" /><path clip-path=\"url(#clip740)\" d=\"M206.899 819.21 Q210.255 819.927 212.13 822.196 Q214.028 824.464 214.028 827.797 Q214.028 832.913 210.51 835.714 Q206.991 838.515 200.51 838.515 Q198.334 838.515 196.019 838.075 Q193.727 837.658 191.274 836.802 L191.274 832.288 Q193.218 833.422 195.533 834.001 Q197.848 834.58 200.371 834.58 Q204.769 834.58 207.061 832.844 Q209.375 831.108 209.375 827.797 Q209.375 824.742 207.223 823.029 Q205.093 821.293 201.274 821.293 L197.246 821.293 L197.246 817.45 L201.459 817.45 Q204.908 817.45 206.737 816.085 Q208.565 814.696 208.565 812.103 Q208.565 809.441 206.667 808.029 Q204.792 806.594 201.274 806.594 Q199.352 806.594 197.153 807.011 Q194.954 807.427 192.315 808.307 L192.315 804.14 Q194.977 803.399 197.292 803.029 Q199.63 802.659 201.69 802.659 Q207.014 802.659 210.116 805.089 Q213.218 807.497 213.218 811.617 Q213.218 814.487 211.574 816.478 Q209.931 818.446 206.899 819.21 Z\" fill=\"#000000\" fill-rule=\"evenodd\" fill-opacity=\"1\" /><path clip-path=\"url(#clip740)\" d=\"M126.205 611.735 Q122.593 611.735 120.765 615.3 Q118.959 618.842 118.959 625.972 Q118.959 633.078 120.765 636.643 Q122.593 640.184 126.205 640.184 Q129.839 640.184 131.644 636.643 Q133.473 633.078 133.473 625.972 Q133.473 618.842 131.644 615.3 Q129.839 611.735 126.205 611.735 M126.205 608.032 Q132.015 608.032 135.07 612.638 Q138.149 617.222 138.149 625.972 Q138.149 634.698 135.07 639.305 Q132.015 643.888 126.205 643.888 Q120.394 643.888 117.316 639.305 Q114.26 634.698 114.26 625.972 Q114.26 617.222 117.316 612.638 Q120.394 608.032 126.205 608.032 Z\" fill=\"#000000\" fill-rule=\"evenodd\" fill-opacity=\"1\" /><path clip-path=\"url(#clip740)\" d=\"M146.366 637.337 L151.251 637.337 L151.251 643.217 L146.366 643.217 L146.366 637.337 Z\" fill=\"#000000\" fill-rule=\"evenodd\" fill-opacity=\"1\" /><path clip-path=\"url(#clip740)\" d=\"M171.436 611.735 Q167.825 611.735 165.996 615.3 Q164.19 618.842 164.19 625.972 Q164.19 633.078 165.996 636.643 Q167.825 640.184 171.436 640.184 Q175.07 640.184 176.876 636.643 Q178.704 633.078 178.704 625.972 Q178.704 618.842 176.876 615.3 Q175.07 611.735 171.436 611.735 M171.436 608.032 Q177.246 608.032 180.301 612.638 Q183.38 617.222 183.38 625.972 Q183.38 634.698 180.301 639.305 Q177.246 643.888 171.436 643.888 Q165.626 643.888 162.547 639.305 Q159.491 634.698 159.491 625.972 Q159.491 617.222 162.547 612.638 Q165.626 608.032 171.436 608.032 Z\" fill=\"#000000\" fill-rule=\"evenodd\" fill-opacity=\"1\" /><path clip-path=\"url(#clip740)\" d=\"M204.445 612.731 L192.639 631.18 L204.445 631.18 L204.445 612.731 M203.218 608.657 L209.098 608.657 L209.098 631.18 L214.028 631.18 L214.028 635.069 L209.098 635.069 L209.098 643.217 L204.445 643.217 L204.445 635.069 L188.843 635.069 L188.843 630.555 L203.218 608.657 Z\" fill=\"#000000\" fill-rule=\"evenodd\" fill-opacity=\"1\" /><path clip-path=\"url(#clip740)\" d=\"M127.686 417.109 Q124.075 417.109 122.246 420.673 Q120.441 424.215 120.441 431.345 Q120.441 438.451 122.246 442.016 Q124.075 445.558 127.686 445.558 Q131.32 445.558 133.126 442.016 Q134.954 438.451 134.954 431.345 Q134.954 424.215 133.126 420.673 Q131.32 417.109 127.686 417.109 M127.686 413.405 Q133.496 413.405 136.552 418.011 Q139.63 422.595 139.63 431.345 Q139.63 440.071 136.552 444.678 Q133.496 449.261 127.686 449.261 Q121.876 449.261 118.797 444.678 Q115.742 440.071 115.742 431.345 Q115.742 422.595 118.797 418.011 Q121.876 413.405 127.686 413.405 Z\" fill=\"#000000\" fill-rule=\"evenodd\" fill-opacity=\"1\" /><path clip-path=\"url(#clip740)\" d=\"M147.848 442.71 L152.732 442.71 L152.732 448.59 L147.848 448.59 L147.848 442.71 Z\" fill=\"#000000\" fill-rule=\"evenodd\" fill-opacity=\"1\" /><path clip-path=\"url(#clip740)\" d=\"M172.917 417.109 Q169.306 417.109 167.477 420.673 Q165.672 424.215 165.672 431.345 Q165.672 438.451 167.477 442.016 Q169.306 445.558 172.917 445.558 Q176.551 445.558 178.357 442.016 Q180.186 438.451 180.186 431.345 Q180.186 424.215 178.357 420.673 Q176.551 417.109 172.917 417.109 M172.917 413.405 Q178.727 413.405 181.783 418.011 Q184.862 422.595 184.862 431.345 Q184.862 440.071 181.783 444.678 Q178.727 449.261 172.917 449.261 Q167.107 449.261 164.028 444.678 Q160.973 440.071 160.973 431.345 Q160.973 422.595 164.028 418.011 Q167.107 413.405 172.917 413.405 Z\" fill=\"#000000\" fill-rule=\"evenodd\" fill-opacity=\"1\" /><path clip-path=\"url(#clip740)\" d=\"M193.125 414.03 L211.482 414.03 L211.482 417.965 L197.408 417.965 L197.408 426.437 Q198.426 426.09 199.445 425.928 Q200.463 425.743 201.482 425.743 Q207.269 425.743 210.649 428.914 Q214.028 432.085 214.028 437.502 Q214.028 443.081 210.556 446.183 Q207.084 449.261 200.764 449.261 Q198.588 449.261 196.32 448.891 Q194.075 448.52 191.667 447.78 L191.667 443.081 Q193.75 444.215 195.973 444.77 Q198.195 445.326 200.672 445.326 Q204.676 445.326 207.014 443.22 Q209.352 441.113 209.352 437.502 Q209.352 433.891 207.014 431.784 Q204.676 429.678 200.672 429.678 Q198.797 429.678 196.922 430.095 Q195.07 430.511 193.125 431.391 L193.125 414.03 Z\" fill=\"#000000\" fill-rule=\"evenodd\" fill-opacity=\"1\" /><path clip-path=\"url(#clip740)\" d=\"M126.529 222.482 Q122.918 222.482 121.089 226.047 Q119.283 229.588 119.283 236.718 Q119.283 243.824 121.089 247.389 Q122.918 250.931 126.529 250.931 Q130.163 250.931 131.968 247.389 Q133.797 243.824 133.797 236.718 Q133.797 229.588 131.968 226.047 Q130.163 222.482 126.529 222.482 M126.529 218.778 Q132.339 218.778 135.394 223.384 Q138.473 227.968 138.473 236.718 Q138.473 245.445 135.394 250.051 Q132.339 254.634 126.529 254.634 Q120.718 254.634 117.64 250.051 Q114.584 245.445 114.584 236.718 Q114.584 227.968 117.64 223.384 Q120.718 218.778 126.529 218.778 Z\" fill=\"#000000\" fill-rule=\"evenodd\" fill-opacity=\"1\" /><path clip-path=\"url(#clip740)\" d=\"M146.691 248.083 L151.575 248.083 L151.575 253.963 L146.691 253.963 L146.691 248.083 Z\" fill=\"#000000\" fill-rule=\"evenodd\" fill-opacity=\"1\" /><path clip-path=\"url(#clip740)\" d=\"M171.76 222.482 Q168.149 222.482 166.32 226.047 Q164.515 229.588 164.515 236.718 Q164.515 243.824 166.32 247.389 Q168.149 250.931 171.76 250.931 Q175.394 250.931 177.2 247.389 Q179.028 243.824 179.028 236.718 Q179.028 229.588 177.2 226.047 Q175.394 222.482 171.76 222.482 M171.76 218.778 Q177.57 218.778 180.626 223.384 Q183.704 227.968 183.704 236.718 Q183.704 245.445 180.626 250.051 Q177.57 254.634 171.76 254.634 Q165.95 254.634 162.871 250.051 Q159.815 245.445 159.815 236.718 Q159.815 227.968 162.871 223.384 Q165.95 218.778 171.76 218.778 Z\" fill=\"#000000\" fill-rule=\"evenodd\" fill-opacity=\"1\" /><path clip-path=\"url(#clip740)\" d=\"M202.5 234.82 Q199.352 234.82 197.5 236.972 Q195.672 239.125 195.672 242.875 Q195.672 246.602 197.5 248.778 Q199.352 250.931 202.5 250.931 Q205.649 250.931 207.477 248.778 Q209.329 246.602 209.329 242.875 Q209.329 239.125 207.477 236.972 Q205.649 234.82 202.5 234.82 M211.783 220.167 L211.783 224.426 Q210.024 223.593 208.218 223.153 Q206.436 222.713 204.676 222.713 Q200.047 222.713 197.593 225.838 Q195.163 228.963 194.815 235.283 Q196.181 233.269 198.241 232.204 Q200.301 231.116 202.778 231.116 Q207.987 231.116 210.996 234.287 Q214.028 237.435 214.028 242.875 Q214.028 248.199 210.88 251.417 Q207.732 254.634 202.5 254.634 Q196.505 254.634 193.334 250.051 Q190.163 245.445 190.163 236.718 Q190.163 228.523 194.051 223.662 Q197.94 218.778 204.491 218.778 Q206.25 218.778 208.033 219.125 Q209.838 219.472 211.783 220.167 Z\" fill=\"#000000\" fill-rule=\"evenodd\" fill-opacity=\"1\" /><path clip-path=\"url(#clip740)\" d=\"M41.3104 1089.3 L58.7206 1089.3 L58.7206 1078.99 Q58.7206 1073.8 56.5881 1071.32 Q54.4238 1068.81 49.9996 1068.81 Q45.5436 1068.81 43.4429 1071.32 Q41.3104 1073.8 41.3104 1078.99 L41.3104 1089.3 M21.7677 1089.3 L36.0905 1089.3 L36.0905 1079.79 Q36.0905 1075.08 34.34 1072.78 Q32.5576 1070.46 28.9291 1070.46 Q25.3325 1070.46 23.5501 1072.78 Q21.7677 1075.08 21.7677 1079.79 L21.7677 1089.3 M16.4842 1095.73 L16.4842 1079.31 Q16.4842 1071.96 19.5397 1067.98 Q22.5952 1064 28.2289 1064 Q32.5894 1064 35.1675 1066.04 Q37.7456 1068.07 38.3822 1072.02 Q39.4007 1067.28 42.6472 1064.67 Q45.8619 1062.03 50.6998 1062.03 Q57.0655 1062.03 60.5348 1066.36 Q64.0042 1070.68 64.0042 1078.67 L64.0042 1095.73 L16.4842 1095.73 Z\" fill=\"#000000\" fill-rule=\"evenodd\" fill-opacity=\"1\" /><path clip-path=\"url(#clip740)\" d=\"M32.4621 1037.46 Q32.4621 1042.17 36.1542 1044.9 Q39.8145 1047.64 46.212 1047.64 Q52.6095 1047.64 56.3017 1044.93 Q59.9619 1042.2 59.9619 1037.46 Q59.9619 1032.78 56.2698 1030.04 Q52.5777 1027.3 46.212 1027.3 Q39.8781 1027.3 36.186 1030.04 Q32.4621 1032.78 32.4621 1037.46 M27.4968 1037.46 Q27.4968 1029.82 32.4621 1025.46 Q37.4273 1021.1 46.212 1021.1 Q54.9649 1021.1 59.9619 1025.46 Q64.9272 1029.82 64.9272 1037.46 Q64.9272 1045.13 59.9619 1049.49 Q54.9649 1053.81 46.212 1053.81 Q37.4273 1053.81 32.4621 1049.49 Q27.4968 1045.13 27.4968 1037.46 Z\" fill=\"#000000\" fill-rule=\"evenodd\" fill-opacity=\"1\" /><path clip-path=\"url(#clip740)\" d=\"M18.2347 1005.59 L28.3562 1005.59 L28.3562 993.532 L32.9077 993.532 L32.9077 1005.59 L52.2594 1005.59 Q56.6199 1005.59 57.8613 1004.42 Q59.1026 1003.21 59.1026 999.547 L59.1026 993.532 L64.0042 993.532 L64.0042 999.547 Q64.0042 1006.33 61.4897 1008.9 Q58.9434 1011.48 52.2594 1011.48 L32.9077 1011.48 L32.9077 1015.78 L28.3562 1015.78 L28.3562 1011.48 L18.2347 1011.48 L18.2347 1005.59 Z\" fill=\"#000000\" fill-rule=\"evenodd\" fill-opacity=\"1\" /><path clip-path=\"url(#clip740)\" d=\"M18.2347 980.036 L28.3562 980.036 L28.3562 967.973 L32.9077 967.973 L32.9077 980.036 L52.2594 980.036 Q56.6199 980.036 57.8613 978.859 Q59.1026 977.649 59.1026 973.989 L59.1026 967.973 L64.0042 967.973 L64.0042 973.989 Q64.0042 980.768 61.4897 983.347 Q58.9434 985.925 52.2594 985.925 L32.9077 985.925 L32.9077 990.222 L28.3562 990.222 L28.3562 985.925 L18.2347 985.925 L18.2347 980.036 Z\" fill=\"#000000\" fill-rule=\"evenodd\" fill-opacity=\"1\" /><path clip-path=\"url(#clip740)\" d=\"M14.479 960.271 L14.479 954.414 L64.0042 954.414 L64.0042 960.271 L14.479 960.271 Z\" fill=\"#000000\" fill-rule=\"evenodd\" fill-opacity=\"1\" /><path clip-path=\"url(#clip740)\" d=\"M44.7161 911.669 L47.5806 911.669 L47.5806 938.596 Q53.6281 938.214 56.8109 934.967 Q59.9619 931.689 59.9619 925.864 Q59.9619 922.49 59.1344 919.339 Q58.3069 916.157 56.6518 913.037 L62.1899 913.037 Q63.5267 916.188 64.227 919.499 Q64.9272 922.809 64.9272 926.214 Q64.9272 934.744 59.9619 939.741 Q54.9967 944.707 46.5303 944.707 Q37.7774 944.707 32.6531 939.996 Q27.4968 935.254 27.4968 927.233 Q27.4968 920.04 32.1438 915.87 Q36.7589 911.669 44.7161 911.669 M42.9973 917.525 Q38.1912 917.589 35.3266 920.231 Q32.4621 922.841 32.4621 927.169 Q32.4621 932.071 35.2312 935.031 Q38.0002 937.959 43.0292 938.405 L42.9973 917.525 Z\" fill=\"#000000\" fill-rule=\"evenodd\" fill-opacity=\"1\" /><path clip-path=\"url(#clip740)\" d=\"M42.4881 872.424 L64.0042 872.424 L64.0042 878.281 L42.679 878.281 Q37.6183 878.281 35.1038 880.254 Q32.5894 882.227 32.5894 886.174 Q32.5894 890.916 35.6131 893.654 Q38.6368 896.391 43.8567 896.391 L64.0042 896.391 L64.0042 902.279 L28.3562 902.279 L28.3562 896.391 L33.8944 896.391 Q30.6797 894.29 29.0883 891.458 Q27.4968 888.593 27.4968 884.869 Q27.4968 878.726 31.3163 875.575 Q35.1038 872.424 42.4881 872.424 Z\" fill=\"#000000\" fill-rule=\"evenodd\" fill-opacity=\"1\" /><path clip-path=\"url(#clip740)\" d=\"M44.7161 830.251 L47.5806 830.251 L47.5806 857.178 Q53.6281 856.796 56.8109 853.55 Q59.9619 850.271 59.9619 844.447 Q59.9619 841.073 59.1344 837.922 Q58.3069 834.739 56.6518 831.62 L62.1899 831.62 Q63.5267 834.771 64.227 838.081 Q64.9272 841.391 64.9272 844.797 Q64.9272 853.327 59.9619 858.324 Q54.9967 863.289 46.5303 863.289 Q37.7774 863.289 32.6531 858.579 Q27.4968 853.836 27.4968 845.815 Q27.4968 838.622 32.1438 834.453 Q36.7589 830.251 44.7161 830.251 M42.9973 836.108 Q38.1912 836.171 35.3266 838.813 Q32.4621 841.423 32.4621 845.752 Q32.4621 850.653 35.2312 853.613 Q38.0002 856.542 43.0292 856.987 L42.9973 836.108 Z\" fill=\"#000000\" fill-rule=\"evenodd\" fill-opacity=\"1\" /><path clip-path=\"url(#clip740)\" d=\"M29.7248 794.985 L35.1993 794.985 Q33.8307 797.468 33.1623 799.982 Q32.4621 802.465 32.4621 805.011 Q32.4621 810.709 36.0905 813.86 Q39.6872 817.011 46.212 817.011 Q52.7369 817.011 56.3653 813.86 Q59.9619 810.709 59.9619 805.011 Q59.9619 802.465 59.2935 799.982 Q58.5933 797.468 57.2247 794.985 L62.6355 794.985 Q63.7814 797.436 64.3543 800.078 Q64.9272 802.688 64.9272 805.648 Q64.9272 813.7 59.8664 818.443 Q54.8057 823.185 46.212 823.185 Q37.491 823.185 32.4939 818.411 Q27.4968 813.605 27.4968 805.266 Q27.4968 802.56 28.0697 799.982 Q28.6108 797.404 29.7248 794.985 Z\" fill=\"#000000\" fill-rule=\"evenodd\" fill-opacity=\"1\" /><path clip-path=\"url(#clip740)\" d=\"M14.479 785.023 L14.479 779.135 L43.7294 779.135 L28.3562 761.661 L28.3562 754.181 L45.0344 773.087 L64.0042 753.385 L64.0042 761.024 L46.5939 779.135 L64.0042 779.135 L64.0042 785.023 L14.479 785.023 Z\" fill=\"#000000\" fill-rule=\"evenodd\" fill-opacity=\"1\" /><path clip-path=\"url(#clip740)\" d=\"M21.7677 719.647 L58.7206 719.647 L58.7206 711.881 Q58.7206 702.046 54.2646 697.495 Q49.8086 692.911 40.1964 692.911 Q30.6479 692.911 26.2237 697.495 Q21.7677 702.046 21.7677 711.881 L21.7677 719.647 M16.4842 726.077 L16.4842 712.868 Q16.4842 699.054 22.2451 692.593 Q27.9743 686.132 40.1964 686.132 Q52.4822 686.132 58.2432 692.625 Q64.0042 699.118 64.0042 712.868 L64.0042 726.077 L16.4842 726.077 Z\" fill=\"#000000\" fill-rule=\"evenodd\" fill-opacity=\"1\" /><path clip-path=\"url(#clip740)\" d=\"M28.3562 676.138 L28.3562 670.281 L64.0042 670.281 L64.0042 676.138 L28.3562 676.138 M14.479 676.138 L14.479 670.281 L21.895 670.281 L21.895 676.138 L14.479 676.138 Z\" fill=\"#000000\" fill-rule=\"evenodd\" fill-opacity=\"1\" /><path clip-path=\"url(#clip740)\" d=\"M29.4065 635.302 L34.9447 635.302 Q33.6716 637.784 33.035 640.458 Q32.3984 643.131 32.3984 645.996 Q32.3984 650.356 33.7352 652.553 Q35.072 654.717 37.7456 654.717 Q39.7826 654.717 40.9603 653.157 Q42.1061 651.598 43.1565 646.887 L43.6021 644.882 Q44.9389 638.644 47.3897 636.034 Q49.8086 633.392 54.1691 633.392 Q59.1344 633.392 62.0308 637.339 Q64.9272 641.253 64.9272 648.128 Q64.9272 650.993 64.3543 654.112 Q63.8132 657.2 62.6992 660.637 L56.6518 660.637 Q58.3387 657.391 59.198 654.24 Q60.0256 651.089 60.0256 648.001 Q60.0256 643.863 58.6251 641.635 Q57.1929 639.407 54.6147 639.407 Q52.2276 639.407 50.9545 641.031 Q49.6813 642.622 48.5037 648.065 L48.0262 650.102 Q46.8804 655.544 44.5251 657.963 Q42.138 660.382 38.0002 660.382 Q32.9713 660.382 30.2341 656.818 Q27.4968 653.253 27.4968 646.696 Q27.4968 643.45 27.9743 640.585 Q28.4517 637.721 29.4065 635.302 Z\" fill=\"#000000\" fill-rule=\"evenodd\" fill-opacity=\"1\" /><path clip-path=\"url(#clip740)\" d=\"M18.2347 618.273 L28.3562 618.273 L28.3562 606.21 L32.9077 606.21 L32.9077 618.273 L52.2594 618.273 Q56.6199 618.273 57.8613 617.096 Q59.1026 615.886 59.1026 612.226 L59.1026 606.21 L64.0042 606.21 L64.0042 612.226 Q64.0042 619.005 61.4897 621.583 Q58.9434 624.162 52.2594 624.162 L32.9077 624.162 L32.9077 628.458 L28.3562 628.458 L28.3562 624.162 L18.2347 624.162 L18.2347 618.273 Z\" fill=\"#000000\" fill-rule=\"evenodd\" fill-opacity=\"1\" /><path clip-path=\"url(#clip740)\" d=\"M46.0847 582.307 Q46.0847 589.405 47.7079 592.142 Q49.3312 594.879 53.2461 594.879 Q56.3653 594.879 58.2114 592.842 Q60.0256 590.773 60.0256 587.24 Q60.0256 582.371 56.5881 579.442 Q53.1188 576.482 47.3897 576.482 L46.0847 576.482 L46.0847 582.307 M43.6657 570.626 L64.0042 570.626 L64.0042 576.482 L58.5933 576.482 Q61.8398 578.488 63.3994 581.48 Q64.9272 584.471 64.9272 588.8 Q64.9272 594.275 61.8716 597.521 Q58.7843 600.736 53.6281 600.736 Q47.6125 600.736 44.5569 596.725 Q41.5014 592.683 41.5014 584.694 L41.5014 576.482 L40.9285 576.482 Q36.8862 576.482 34.6901 579.156 Q32.4621 581.798 32.4621 586.604 Q32.4621 589.659 33.1941 592.556 Q33.9262 595.452 35.3903 598.126 L29.9795 598.126 Q28.7381 594.911 28.1334 591.887 Q27.4968 588.864 27.4968 585.999 Q27.4968 578.265 31.5072 574.445 Q35.5176 570.626 43.6657 570.626 Z\" fill=\"#000000\" fill-rule=\"evenodd\" fill-opacity=\"1\" /><path clip-path=\"url(#clip740)\" d=\"M42.4881 528.931 L64.0042 528.931 L64.0042 534.787 L42.679 534.787 Q37.6183 534.787 35.1038 536.76 Q32.5894 538.734 32.5894 542.681 Q32.5894 547.423 35.6131 550.16 Q38.6368 552.897 43.8567 552.897 L64.0042 552.897 L64.0042 558.786 L28.3562 558.786 L28.3562 552.897 L33.8944 552.897 Q30.6797 550.797 29.0883 547.964 Q27.4968 545.099 27.4968 541.376 Q27.4968 535.233 31.3163 532.082 Q35.1038 528.931 42.4881 528.931 Z\" fill=\"#000000\" fill-rule=\"evenodd\" fill-opacity=\"1\" /><path clip-path=\"url(#clip740)\" d=\"M29.7248 491.596 L35.1993 491.596 Q33.8307 494.078 33.1623 496.593 Q32.4621 499.075 32.4621 501.622 Q32.4621 507.319 36.0905 510.47 Q39.6872 513.621 46.212 513.621 Q52.7369 513.621 56.3653 510.47 Q59.9619 507.319 59.9619 501.622 Q59.9619 499.075 59.2935 496.593 Q58.5933 494.078 57.2247 491.596 L62.6355 491.596 Q63.7814 494.047 64.3543 496.688 Q64.9272 499.298 64.9272 502.258 Q64.9272 510.311 59.8664 515.053 Q54.8057 519.796 46.212 519.796 Q37.491 519.796 32.4939 515.022 Q27.4968 510.215 27.4968 501.876 Q27.4968 499.171 28.0697 496.593 Q28.6108 494.015 29.7248 491.596 Z\" fill=\"#000000\" fill-rule=\"evenodd\" fill-opacity=\"1\" /><path clip-path=\"url(#clip740)\" d=\"M44.7161 450.919 L47.5806 450.919 L47.5806 477.846 Q53.6281 477.464 56.8109 474.217 Q59.9619 470.939 59.9619 465.114 Q59.9619 461.741 59.1344 458.59 Q58.3069 455.407 56.6518 452.287 L62.1899 452.287 Q63.5267 455.439 64.227 458.749 Q64.9272 462.059 64.9272 465.464 Q64.9272 473.995 59.9619 478.992 Q54.9967 483.957 46.5303 483.957 Q37.7774 483.957 32.6531 479.246 Q27.4968 474.504 27.4968 466.483 Q27.4968 459.29 32.1438 455.12 Q36.7589 450.919 44.7161 450.919 M42.9973 456.775 Q38.1912 456.839 35.3266 459.481 Q32.4621 462.091 32.4621 466.419 Q32.4621 471.321 35.2312 474.281 Q38.0002 477.209 43.0292 477.655 L42.9973 456.775 Z\" fill=\"#000000\" fill-rule=\"evenodd\" fill-opacity=\"1\" /><path clip-path=\"url(#clip740)\" d=\"M1142.7 34.4165 Q1141.2 33.8899 1139.7 33.4848 Q1135.69 32.4315 1131.4 32.4315 Q1123.98 32.4315 1119.85 36.4419 Q1116 40.1688 1115.27 47.0148 L1142.7 47.0148 L1142.7 52.8481 L1115.27 52.8481 Q1116 59.6941 1119.85 63.421 Q1123.98 67.4314 1131.4 67.4314 Q1136.58 67.4314 1139.7 66.3781 L1142.7 65.3654 L1142.7 72.1304 L1139.5 72.8596 Q1135.28 73.7508 1130.95 73.7508 Q1120.09 73.7508 1113.77 67.4314 Q1107.41 61.1119 1107.41 49.9314 Q1107.41 38.7509 1113.77 32.4315 Q1120.09 26.1121 1130.95 26.1121 Q1135.04 26.1121 1139.5 27.0033 Q1141.12 27.3274 1142.7 27.8135 L1142.7 34.4165 Z\" fill=\"#000000\" fill-rule=\"evenodd\" fill-opacity=\"1\" /><path clip-path=\"url(#clip740)\" d=\"M1162.67 34.9026 L1214.6 34.9026 L1214.6 41.7081 L1162.67 41.7081 L1162.67 34.9026 M1162.67 51.4303 L1214.6 51.4303 L1214.6 58.3168 L1162.67 58.3168 L1162.67 51.4303 Z\" fill=\"#000000\" fill-rule=\"evenodd\" fill-opacity=\"1\" /><path clip-path=\"url(#clip740)\" d=\"M1231.21 9.54393 L1238.66 9.54393 L1238.66 72.576 L1231.21 72.576 L1231.21 9.54393 Z\" fill=\"#000000\" fill-rule=\"evenodd\" fill-opacity=\"1\" /><path clip-path=\"url(#clip740)\" d=\"M1271.84 32.4315 Q1265.85 32.4315 1262.36 37.1306 Q1258.88 41.7891 1258.88 49.9314 Q1258.88 58.0738 1262.32 62.7728 Q1265.8 67.4314 1271.84 67.4314 Q1277.8 67.4314 1281.28 62.7323 Q1284.76 58.0333 1284.76 49.9314 Q1284.76 41.8701 1281.28 37.1711 Q1277.8 32.4315 1271.84 32.4315 M1271.84 26.1121 Q1281.56 26.1121 1287.11 32.4315 Q1292.66 38.7509 1292.66 49.9314 Q1292.66 61.0714 1287.11 67.4314 Q1281.56 73.7508 1271.84 73.7508 Q1262.08 73.7508 1256.53 67.4314 Q1251.02 61.0714 1251.02 49.9314 Q1251.02 38.7509 1256.53 32.4315 Q1262.08 26.1121 1271.84 26.1121 Z\" fill=\"#000000\" fill-rule=\"evenodd\" fill-opacity=\"1\" /><path clip-path=\"url(#clip740)\" d=\"M1334.87 49.3643 Q1334.87 41.2625 1331.51 36.8065 Q1328.19 32.3505 1322.15 32.3505 Q1316.16 32.3505 1312.8 36.8065 Q1309.47 41.2625 1309.47 49.3643 Q1309.47 57.4256 1312.8 61.8816 Q1316.16 66.3376 1322.15 66.3376 Q1328.19 66.3376 1331.51 61.8816 Q1334.87 57.4256 1334.87 49.3643 M1342.33 66.9452 Q1342.33 78.5308 1337.18 84.1616 Q1332.04 89.8329 1321.42 89.8329 Q1317.49 89.8329 1314.01 89.2252 Q1310.53 88.6581 1307.25 87.4428 L1307.25 80.1917 Q1310.53 81.9741 1313.73 82.8248 Q1316.93 83.6755 1320.25 83.6755 Q1327.58 83.6755 1331.23 79.8271 Q1334.87 76.0193 1334.87 68.282 L1334.87 64.5957 Q1332.56 68.6061 1328.96 70.5911 Q1325.35 72.576 1320.33 72.576 Q1311.99 72.576 1306.88 66.2161 Q1301.78 59.8562 1301.78 49.3643 Q1301.78 38.832 1306.88 32.472 Q1311.99 26.1121 1320.33 26.1121 Q1325.35 26.1121 1328.96 28.0971 Q1332.56 30.082 1334.87 34.0924 L1334.87 27.2059 L1342.33 27.2059 L1342.33 66.9452 Z\" fill=\"#000000\" fill-rule=\"evenodd\" fill-opacity=\"1\" /><path clip-path=\"url(#clip740)\" d=\"M1354.6 10.2326 L1359.34 10.2326 L1359.34 31.0542 L1373.36 20.1168 L1379.35 20.1168 L1364.16 31.9859 L1379.96 45.516 L1373.84 45.516 L1359.34 33.1202 L1359.34 45.516 L1354.6 45.516 L1354.6 10.2326 Z\" fill=\"#000000\" fill-rule=\"evenodd\" fill-opacity=\"1\" /><path clip-path=\"url(#clip740)\" d=\"M1410.91 9.62495 Q1405.48 18.942 1402.85 28.0566 Q1400.21 37.1711 1400.21 46.5287 Q1400.21 55.8863 1402.85 65.0818 Q1405.52 74.2369 1410.91 83.5134 L1404.43 83.5134 Q1398.35 73.9938 1395.31 64.7983 Q1392.31 55.6027 1392.31 46.5287 Q1392.31 37.4952 1395.31 28.3401 Q1398.31 19.1851 1404.43 9.62495 L1410.91 9.62495 Z\" fill=\"#000000\" fill-rule=\"evenodd\" fill-opacity=\"1\" /><path clip-path=\"url(#clip740)\" d=\"M1463.08 45.1919 L1463.08 72.576 L1455.63 72.576 L1455.63 45.4349 Q1455.63 38.994 1453.12 35.7938 Q1450.61 32.5936 1445.58 32.5936 Q1439.55 32.5936 1436.06 36.4419 Q1432.58 40.2903 1432.58 46.9338 L1432.58 72.576 L1425.09 72.576 L1425.09 27.2059 L1432.58 27.2059 L1432.58 34.2544 Q1435.25 30.163 1438.86 28.1376 Q1442.51 26.1121 1447.24 26.1121 Q1455.06 26.1121 1459.07 30.9732 Q1463.08 35.7938 1463.08 45.1919 Z\" fill=\"#000000\" fill-rule=\"evenodd\" fill-opacity=\"1\" /><path clip-path=\"url(#clip740)\" d=\"M1476.78 9.62495 L1483.26 9.62495 Q1489.33 19.1851 1492.33 28.3401 Q1495.37 37.4952 1495.37 46.5287 Q1495.37 55.6027 1492.33 64.7983 Q1489.33 73.9938 1483.26 83.5134 L1476.78 83.5134 Q1482.16 74.2369 1484.8 65.0818 Q1487.47 55.8863 1487.47 46.5287 Q1487.47 37.1711 1484.8 28.0566 Q1482.16 18.942 1476.78 9.62495 Z\" fill=\"#000000\" fill-rule=\"evenodd\" fill-opacity=\"1\" /><polyline clip-path=\"url(#clip742)\" style=\"stroke:#009af9; stroke-linecap:butt; stroke-linejoin:round; stroke-width:12; stroke-opacity:1; fill:none\" points=\"\n",
       "  309.539,160.256 377.943,398.345 514.75,725.263 925.172,1227.7 1267.19,1229.45 1609.21,1141.1 2293.24,1225.48 \n",
       "  \"/>\n",
       "<polyline clip-path=\"url(#clip742)\" style=\"stroke:#e26f46; stroke-linecap:butt; stroke-linejoin:round; stroke-width:12; stroke-opacity:1; fill:none\" points=\"\n",
       "  309.539,575.81 377.943,699.604 514.75,967.28 925.172,1263.88 1267.19,1314.55 1609.21,1221.34 2293.24,1317.89 \n",
       "  \"/>\n",
       "<polyline clip-path=\"url(#clip742)\" style=\"stroke:#3da44d; stroke-linecap:butt; stroke-linejoin:round; stroke-width:12; stroke-opacity:1; fill:none\" points=\"\n",
       "  309.539,821.212 377.943,1160.84 514.75,1263.53 925.172,1324.66 1267.19,1347.18 1609.21,1354.75 2293.24,1386.4 \n",
       "  \"/>\n",
       "<path clip-path=\"url(#clip740)\" d=\"\n",
       "M1913.66 374.156 L2282.66 374.156 L2282.66 166.796 L1913.66 166.796  Z\n",
       "  \" fill=\"#ffffff\" fill-rule=\"evenodd\" fill-opacity=\"1\"/>\n",
       "<polyline clip-path=\"url(#clip740)\" style=\"stroke:#000000; stroke-linecap:butt; stroke-linejoin:round; stroke-width:4; stroke-opacity:1; fill:none\" points=\"\n",
       "  1913.66,374.156 2282.66,374.156 2282.66,166.796 1913.66,166.796 1913.66,374.156 \n",
       "  \"/>\n",
       "<polyline clip-path=\"url(#clip740)\" style=\"stroke:#009af9; stroke-linecap:butt; stroke-linejoin:round; stroke-width:4; stroke-opacity:1; fill:none\" points=\"\n",
       "  1937.02,218.636 2077.2,218.636 \n",
       "  \"/>\n",
       "<path clip-path=\"url(#clip740)\" d=\"M2100.57 199.897 L2104.85 199.897 L2104.85 221.17 L2117.56 209.99 L2123 209.99 L2109.25 222.119 L2123.58 235.916 L2118.02 235.916 L2104.85 223.254 L2104.85 235.916 L2100.57 235.916 L2100.57 199.897 Z\" fill=\"#000000\" fill-rule=\"evenodd\" fill-opacity=\"1\" /><path clip-path=\"url(#clip740)\" d=\"M2128.74 214.388 L2158.41 214.388 L2158.41 218.277 L2128.74 218.277 L2128.74 214.388 M2128.74 223.832 L2158.41 223.832 L2158.41 227.768 L2128.74 227.768 L2128.74 223.832 Z\" fill=\"#000000\" fill-rule=\"evenodd\" fill-opacity=\"1\" /><path clip-path=\"url(#clip740)\" d=\"M2169.32 231.981 L2176.96 231.981 L2176.96 205.615 L2168.65 207.282 L2168.65 203.022 L2176.91 201.356 L2181.59 201.356 L2181.59 231.981 L2189.22 231.981 L2189.22 235.916 L2169.32 235.916 L2169.32 231.981 Z\" fill=\"#000000\" fill-rule=\"evenodd\" fill-opacity=\"1\" /><path clip-path=\"url(#clip740)\" d=\"M2205.64 201.356 L2209.57 201.356 L2197.54 240.314 L2193.6 240.314 L2205.64 201.356 Z\" fill=\"#000000\" fill-rule=\"evenodd\" fill-opacity=\"1\" /><path clip-path=\"url(#clip740)\" d=\"M2218.67 231.981 L2234.99 231.981 L2234.99 235.916 L2213.04 235.916 L2213.04 231.981 Q2215.71 229.226 2220.29 224.596 Q2224.9 219.944 2226.08 218.601 Q2228.32 216.078 2229.2 214.342 Q2230.1 212.583 2230.1 210.893 Q2230.1 208.138 2228.16 206.402 Q2226.24 204.666 2223.14 204.666 Q2220.94 204.666 2218.48 205.43 Q2216.05 206.194 2213.28 207.745 L2213.28 203.022 Q2216.1 201.888 2218.55 201.309 Q2221.01 200.731 2223.04 200.731 Q2228.41 200.731 2231.61 203.416 Q2234.8 206.101 2234.8 210.592 Q2234.8 212.721 2233.99 214.643 Q2233.21 216.541 2231.1 219.133 Q2230.52 219.805 2227.42 223.022 Q2224.32 226.217 2218.67 231.981 Z\" fill=\"#000000\" fill-rule=\"evenodd\" fill-opacity=\"1\" /><polyline clip-path=\"url(#clip740)\" style=\"stroke:#e26f46; stroke-linecap:butt; stroke-linejoin:round; stroke-width:4; stroke-opacity:1; fill:none\" points=\"\n",
       "  1937.02,270.476 2077.2,270.476 \n",
       "  \"/>\n",
       "<path clip-path=\"url(#clip740)\" d=\"M2100.57 251.737 L2104.85 251.737 L2104.85 273.01 L2117.56 261.83 L2123 261.83 L2109.25 273.959 L2123.58 287.756 L2118.02 287.756 L2104.85 275.094 L2104.85 287.756 L2100.57 287.756 L2100.57 251.737 Z\" fill=\"#000000\" fill-rule=\"evenodd\" fill-opacity=\"1\" /><path clip-path=\"url(#clip740)\" d=\"M2128.74 266.228 L2158.41 266.228 L2158.41 270.117 L2128.74 270.117 L2128.74 266.228 M2128.74 275.672 L2158.41 275.672 L2158.41 279.608 L2128.74 279.608 L2128.74 275.672 Z\" fill=\"#000000\" fill-rule=\"evenodd\" fill-opacity=\"1\" /><path clip-path=\"url(#clip740)\" d=\"M2172.54 283.821 L2188.85 283.821 L2188.85 287.756 L2166.91 287.756 L2166.91 283.821 Q2169.57 281.066 2174.16 276.436 Q2178.76 271.784 2179.94 270.441 Q2182.19 267.918 2183.07 266.182 Q2183.97 264.423 2183.97 262.733 Q2183.97 259.978 2182.03 258.242 Q2180.1 256.506 2177 256.506 Q2174.8 256.506 2172.35 257.27 Q2169.92 258.034 2167.14 259.585 L2167.14 254.862 Q2169.97 253.728 2172.42 253.149 Q2174.87 252.571 2176.91 252.571 Q2182.28 252.571 2185.48 255.256 Q2188.67 257.941 2188.67 262.432 Q2188.67 264.561 2187.86 266.483 Q2187.07 268.381 2184.97 270.973 Q2184.39 271.645 2181.29 274.862 Q2178.18 278.057 2172.54 283.821 Z\" fill=\"#000000\" fill-rule=\"evenodd\" fill-opacity=\"1\" /><path clip-path=\"url(#clip740)\" d=\"M2205.64 253.196 L2209.57 253.196 L2197.54 292.154 L2193.6 292.154 L2205.64 253.196 Z\" fill=\"#000000\" fill-rule=\"evenodd\" fill-opacity=\"1\" /><path clip-path=\"url(#clip740)\" d=\"M2228.81 269.122 Q2232.16 269.839 2234.04 272.108 Q2235.94 274.376 2235.94 277.709 Q2235.94 282.825 2232.42 285.626 Q2228.9 288.427 2222.42 288.427 Q2220.24 288.427 2217.93 287.987 Q2215.64 287.571 2213.18 286.714 L2213.18 282.2 Q2215.13 283.334 2217.44 283.913 Q2219.76 284.492 2222.28 284.492 Q2226.68 284.492 2228.97 282.756 Q2231.28 281.02 2231.28 277.709 Q2231.28 274.654 2229.13 272.941 Q2227 271.205 2223.18 271.205 L2219.16 271.205 L2219.16 267.362 L2223.37 267.362 Q2226.82 267.362 2228.65 265.997 Q2230.47 264.608 2230.47 262.015 Q2230.47 259.353 2228.58 257.941 Q2226.7 256.506 2223.18 256.506 Q2221.26 256.506 2219.06 256.923 Q2216.86 257.339 2214.22 258.219 L2214.22 254.052 Q2216.89 253.311 2219.2 252.941 Q2221.54 252.571 2223.6 252.571 Q2228.92 252.571 2232.03 255.001 Q2235.13 257.409 2235.13 261.529 Q2235.13 264.399 2233.48 266.39 Q2231.84 268.358 2228.81 269.122 Z\" fill=\"#000000\" fill-rule=\"evenodd\" fill-opacity=\"1\" /><polyline clip-path=\"url(#clip740)\" style=\"stroke:#3da44d; stroke-linecap:butt; stroke-linejoin:round; stroke-width:4; stroke-opacity:1; fill:none\" points=\"\n",
       "  1937.02,322.316 2077.2,322.316 \n",
       "  \"/>\n",
       "<path clip-path=\"url(#clip740)\" d=\"M2100.57 303.577 L2104.85 303.577 L2104.85 324.85 L2117.56 313.67 L2123 313.67 L2109.25 325.799 L2123.58 339.596 L2118.02 339.596 L2104.85 326.934 L2104.85 339.596 L2100.57 339.596 L2100.57 303.577 Z\" fill=\"#000000\" fill-rule=\"evenodd\" fill-opacity=\"1\" /><path clip-path=\"url(#clip740)\" d=\"M2128.74 318.068 L2158.41 318.068 L2158.41 321.957 L2128.74 321.957 L2128.74 318.068 M2128.74 327.512 L2158.41 327.512 L2158.41 331.448 L2128.74 331.448 L2128.74 327.512 Z\" fill=\"#000000\" fill-rule=\"evenodd\" fill-opacity=\"1\" /><path clip-path=\"url(#clip740)\" d=\"M2169.32 335.661 L2176.96 335.661 L2176.96 309.295 L2168.65 310.962 L2168.65 306.702 L2176.91 305.036 L2181.59 305.036 L2181.59 335.661 L2189.22 335.661 L2189.22 339.596 L2169.32 339.596 L2169.32 335.661 Z\" fill=\"#000000\" fill-rule=\"evenodd\" fill-opacity=\"1\" /></svg>\n"
      ]
     },
     "metadata": {},
     "output_type": "display_data"
    }
   ],
   "source": [
    "plt = plot(title=\"ϵ=logᵏ(n)\", xlabel=\"n\", ylabel=\"Bottleneck Distance\")\n",
    "for k in 1:length(Ks)\n",
    "    plot!(plt, N,\n",
    "        mean(results[k], dims=1)',\n",
    "        # ribbon=std(results[k], dims=1),\n",
    "        ms=:o,\n",
    "        label = \"k=$(Ks_legend[k])\",\n",
    "        lw=3, fillapha=0.01,\n",
    "    )\n",
    "end\n",
    "plt"
   ]
  }
 ],
 "metadata": {
  "kernelspec": {
   "display_name": "Julia 1.7.1",
   "language": "julia",
   "name": "julia-1.7"
  },
  "language_info": {
   "file_extension": ".jl",
   "mimetype": "application/julia",
   "name": "julia",
   "version": "1.7.1"
  },
  "orig_nbformat": 4
 },
 "nbformat": 4,
 "nbformat_minor": 2
}
